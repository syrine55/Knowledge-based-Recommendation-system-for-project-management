{
  "cells": [
    {
      "cell_type": "code",
      "execution_count": 85,
      "id": "377974b1-ce17-454e-b00b-85e8ee824349",
      "metadata": {
        "colab": {
          "base_uri": "https://localhost:8080/"
        },
        "id": "377974b1-ce17-454e-b00b-85e8ee824349",
        "outputId": "dafa48cc-1aab-4d86-ff3d-d0ee0d051d55"
      },
      "outputs": [
        {
          "output_type": "stream",
          "name": "stderr",
          "text": [
            "[nltk_data] Downloading package tagsets to /root/nltk_data...\n",
            "[nltk_data]   Package tagsets is already up-to-date!\n",
            "[nltk_data] Downloading package stopwords to /root/nltk_data...\n",
            "[nltk_data]   Package stopwords is already up-to-date!\n",
            "[nltk_data] Downloading package universal_tagset to /root/nltk_data...\n",
            "[nltk_data]   Package universal_tagset is already up-to-date!\n",
            "[nltk_data] Downloading package rslp to /root/nltk_data...\n",
            "[nltk_data]   Package rslp is already up-to-date!\n",
            "[nltk_data] Downloading package tagsets to /root/nltk_data...\n",
            "[nltk_data]   Package tagsets is already up-to-date!\n",
            "[nltk_data] Downloading package averaged_perceptron_tagger to\n",
            "[nltk_data]     /root/nltk_data...\n",
            "[nltk_data]   Package averaged_perceptron_tagger is already up-to-\n",
            "[nltk_data]       date!\n",
            "[nltk_data] Downloading package punkt to /root/nltk_data...\n",
            "[nltk_data]   Package punkt is already up-to-date!\n"
          ]
        },
        {
          "output_type": "execute_result",
          "data": {
            "text/plain": [
              "True"
            ]
          },
          "metadata": {},
          "execution_count": 85
        }
      ],
      "source": [
        "import pandas as pd\n",
        "import numpy as np\n",
        "from tqdm import tqdm\n",
        "import nltk\n",
        "from nltk.tokenize import word_tokenize\n",
        "from nltk.stem import WordNetLemmatizer\n",
        "import spacy\n",
        "nlp = spacy.load('en_core_web_sm')\n",
        "nltk.download('tagsets')\n",
        "nltk.download('stopwords')\n",
        "nltk.download('universal_tagset')\n",
        "nltk.download('rslp')\n",
        "nltk.download('tagsets')\n",
        "nltk.download('averaged_perceptron_tagger')\n",
        "nltk.download('punkt')"
      ]
    },
    {
      "cell_type": "code",
      "source": [
        "pip install sentence-transformers"
      ],
      "metadata": {
        "colab": {
          "base_uri": "https://localhost:8080/"
        },
        "id": "boBT_ZvAJozu",
        "outputId": "2a0c3c8d-0cc4-4271-e314-6b31fdf4da7f"
      },
      "id": "boBT_ZvAJozu",
      "execution_count": 86,
      "outputs": [
        {
          "output_type": "stream",
          "name": "stdout",
          "text": [
            "Looking in indexes: https://pypi.org/simple, https://us-python.pkg.dev/colab-wheels/public/simple/\n",
            "Requirement already satisfied: sentence-transformers in /usr/local/lib/python3.7/dist-packages (2.2.2)\n",
            "Requirement already satisfied: huggingface-hub>=0.4.0 in /usr/local/lib/python3.7/dist-packages (from sentence-transformers) (0.10.1)\n",
            "Requirement already satisfied: transformers<5.0.0,>=4.6.0 in /usr/local/lib/python3.7/dist-packages (from sentence-transformers) (4.24.0)\n",
            "Requirement already satisfied: sentencepiece in /usr/local/lib/python3.7/dist-packages (from sentence-transformers) (0.1.97)\n",
            "Requirement already satisfied: scipy in /usr/local/lib/python3.7/dist-packages (from sentence-transformers) (1.7.3)\n",
            "Requirement already satisfied: nltk in /usr/local/lib/python3.7/dist-packages (from sentence-transformers) (3.7)\n",
            "Requirement already satisfied: torchvision in /usr/local/lib/python3.7/dist-packages (from sentence-transformers) (0.13.1+cu113)\n",
            "Requirement already satisfied: torch>=1.6.0 in /usr/local/lib/python3.7/dist-packages (from sentence-transformers) (1.12.1+cu113)\n",
            "Requirement already satisfied: numpy in /usr/local/lib/python3.7/dist-packages (from sentence-transformers) (1.21.6)\n",
            "Requirement already satisfied: scikit-learn in /usr/local/lib/python3.7/dist-packages (from sentence-transformers) (1.0.2)\n",
            "Requirement already satisfied: tqdm in /usr/local/lib/python3.7/dist-packages (from sentence-transformers) (4.64.1)\n",
            "Requirement already satisfied: pyyaml>=5.1 in /usr/local/lib/python3.7/dist-packages (from huggingface-hub>=0.4.0->sentence-transformers) (6.0)\n",
            "Requirement already satisfied: packaging>=20.9 in /usr/local/lib/python3.7/dist-packages (from huggingface-hub>=0.4.0->sentence-transformers) (21.3)\n",
            "Requirement already satisfied: typing-extensions>=3.7.4.3 in /usr/local/lib/python3.7/dist-packages (from huggingface-hub>=0.4.0->sentence-transformers) (4.1.1)\n",
            "Requirement already satisfied: importlib-metadata in /usr/local/lib/python3.7/dist-packages (from huggingface-hub>=0.4.0->sentence-transformers) (4.13.0)\n",
            "Requirement already satisfied: requests in /usr/local/lib/python3.7/dist-packages (from huggingface-hub>=0.4.0->sentence-transformers) (2.23.0)\n",
            "Requirement already satisfied: filelock in /usr/local/lib/python3.7/dist-packages (from huggingface-hub>=0.4.0->sentence-transformers) (3.8.0)\n",
            "Requirement already satisfied: pyparsing!=3.0.5,>=2.0.2 in /usr/local/lib/python3.7/dist-packages (from packaging>=20.9->huggingface-hub>=0.4.0->sentence-transformers) (3.0.9)\n",
            "Requirement already satisfied: tokenizers!=0.11.3,<0.14,>=0.11.1 in /usr/local/lib/python3.7/dist-packages (from transformers<5.0.0,>=4.6.0->sentence-transformers) (0.13.1)\n",
            "Requirement already satisfied: regex!=2019.12.17 in /usr/local/lib/python3.7/dist-packages (from transformers<5.0.0,>=4.6.0->sentence-transformers) (2022.6.2)\n",
            "Requirement already satisfied: zipp>=0.5 in /usr/local/lib/python3.7/dist-packages (from importlib-metadata->huggingface-hub>=0.4.0->sentence-transformers) (3.10.0)\n",
            "Requirement already satisfied: click in /usr/local/lib/python3.7/dist-packages (from nltk->sentence-transformers) (7.1.2)\n",
            "Requirement already satisfied: joblib in /usr/local/lib/python3.7/dist-packages (from nltk->sentence-transformers) (1.2.0)\n",
            "Requirement already satisfied: idna<3,>=2.5 in /usr/local/lib/python3.7/dist-packages (from requests->huggingface-hub>=0.4.0->sentence-transformers) (2.10)\n",
            "Requirement already satisfied: certifi>=2017.4.17 in /usr/local/lib/python3.7/dist-packages (from requests->huggingface-hub>=0.4.0->sentence-transformers) (2022.9.24)\n",
            "Requirement already satisfied: urllib3!=1.25.0,!=1.25.1,<1.26,>=1.21.1 in /usr/local/lib/python3.7/dist-packages (from requests->huggingface-hub>=0.4.0->sentence-transformers) (1.24.3)\n",
            "Requirement already satisfied: chardet<4,>=3.0.2 in /usr/local/lib/python3.7/dist-packages (from requests->huggingface-hub>=0.4.0->sentence-transformers) (3.0.4)\n",
            "Requirement already satisfied: threadpoolctl>=2.0.0 in /usr/local/lib/python3.7/dist-packages (from scikit-learn->sentence-transformers) (3.1.0)\n",
            "Requirement already satisfied: pillow!=8.3.*,>=5.3.0 in /usr/local/lib/python3.7/dist-packages (from torchvision->sentence-transformers) (7.1.2)\n"
          ]
        }
      ]
    },
    {
      "cell_type": "code",
      "execution_count": 86,
      "id": "b781b111",
      "metadata": {
        "id": "b781b111"
      },
      "outputs": [],
      "source": []
    },
    {
      "cell_type": "code",
      "execution_count": 87,
      "id": "d3b9bc14-c387-4050-ab3f-bebc52b20fed",
      "metadata": {
        "id": "d3b9bc14-c387-4050-ab3f-bebc52b20fed"
      },
      "outputs": [],
      "source": [
        "df = pd.read_json(\"Final_df_for_nizar.json\")"
      ]
    },
    {
      "cell_type": "code",
      "execution_count": 88,
      "id": "bcbf41f8-6f0b-4a6c-8ece-ced8e37e53dd",
      "metadata": {
        "id": "bcbf41f8-6f0b-4a6c-8ece-ced8e37e53dd"
      },
      "outputs": [],
      "source": [
        "##initialize tokenizer\n",
        "def tokenize_tag(text):\n",
        "    tokens = word_tokenize(text)\n",
        "    tags = nltk.pos_tag(tokens, tagset='universal')\n",
        "    return tokens, tags\n",
        "corpus_tokens = []\n",
        "corpus_tags = []"
      ]
    },
    {
      "cell_type": "code",
      "execution_count": 89,
      "id": "3e973550-b2a0-4d83-b834-900ddae18a9e",
      "metadata": {
        "id": "3e973550-b2a0-4d83-b834-900ddae18a9e"
      },
      "outputs": [],
      "source": [
        "for text in  df[\"Definition\"].values:\n",
        "    tok, tag = tokenize_tag(text)\n",
        "    corpus_tokens.append(tok)\n",
        "    corpus_tags.append(tag)"
      ]
    },
    {
      "cell_type": "code",
      "execution_count": 90,
      "id": "b0bb7f58-186e-4ba5-8dc2-30d91bda4bdf",
      "metadata": {
        "id": "b0bb7f58-186e-4ba5-8dc2-30d91bda4bdf"
      },
      "outputs": [],
      "source": [
        "corpus_tags = list(map(lambda x: [tok[1] for tok in x], corpus_tags))"
      ]
    },
    {
      "cell_type": "code",
      "execution_count": 91,
      "id": "bfe4a456-a6a0-47b1-88e9-6b9260faaa0d",
      "metadata": {
        "colab": {
          "base_uri": "https://localhost:8080/"
        },
        "id": "bfe4a456-a6a0-47b1-88e9-6b9260faaa0d",
        "outputId": "1434944e-4c38-41c4-bf2e-f919d7b0eba8"
      },
      "outputs": [
        {
          "output_type": "execute_result",
          "data": {
            "text/plain": [
              "array(['NOUN', 'VERB', 'DET', 'PRT', 'ADP', 'CONJ', 'ADV', 'PRON', 'ADJ',\n",
              "       'NUM', 'X'], dtype=object)"
            ]
          },
          "metadata": {},
          "execution_count": 91
        }
      ],
      "source": [
        "all_tags = []\n",
        "for i in range(len(corpus_tags)):\n",
        "    tags = pd.Series(corpus_tags[i])\n",
        "    all_tags.extend(tags.unique())\n",
        "pd.Series(all_tags).unique()"
      ]
    },
    {
      "cell_type": "code",
      "execution_count": 92,
      "id": "3a60536f-22e1-483a-b932-25c4c8f2a712",
      "metadata": {
        "colab": {
          "base_uri": "https://localhost:8080/"
        },
        "id": "3a60536f-22e1-483a-b932-25c4c8f2a712",
        "outputId": "76d4dad0-3bb2-47d5-8586-b85633d28bcc"
      },
      "outputs": [
        {
          "output_type": "stream",
          "name": "stdout",
          "text": [
            "Conjuntions: \n",
            "['and', 'and', 'and', 'and', 'and', 'and', 'and', 'and', 'and', 'and', 'and', 'and', 'and', 'and', 'or', 'and', 'and', 'and', 'but', 'and', 'and', 'or', 'but', 'and', 'but', 'and', 'and', 'and', 'or', 'or', 'and', 'and', 'but', 'and', 'and', 'and', 'and', 'and', 'and', 'or', 'or', 'and', 'and', 'but', 'and', 'and', 'and', 'and', 'and', 'and', 'and', 'or', 'and', 'and', 'and', 'but', 'and', 'and', 'and', 'and', 'but', 'and', 'or', 'and', 'and', 'and', 'but', 'and', 'but', 'and', 'and', 'and', 'or', 'or', 'and', 'but', 'and', 'and', 'or', 'and', 'and', 'and', 'but', 'and', 'or', 'and', 'and', 'and', 'and', 'and', 'or', 'and', 'and', 'and', 'or', 'and', 'or', 'and', 'and', 'or', 'but', 'and', 'and', 'but', 'or', 'and', 'or', 'and', 'but', 'and', 'and', 'and', 'and', 'but', 'and', 'and', 'and', 'and', 'but', 'or', 'or', 'and', 'and', 'and', 'and', 'and', 'and', 'or', 'and', 'or', 'or', 'and', 'and', 'and', 'but', 'and', 'and', 'and', 'and', 'and', 'and', 'and', 'and', 'or', 'and', 'or', 'or', 'or', 'and', 'and', 'or', 'and', 'and', 'and', 'and', 'and', 'and', 'and', 'and', 'or', 'and', 'or', 'and', 'or', 'and', 'and', 'and', 'and', 'or', 'and', 'and', 'or', 'or', 'or', 'and', 'but', 'and', 'and', 'and', 'and', 'and', 'and', 'and', 'or', 'and', 'and', 'and', 'and', 'but', 'and', 'but', 'and', 'and', 'and', 'or', 'and', 'or', 'but', 'and', 'but', 'and', 'and', 'or', 'or', 'or', 'but', 'and', 'but', 'and', 'and', 'and', 'and', 'or', 'and', 'and', 'and', 'and', 'or', 'and', 'and', 'or', 'or', 'and', 'but', 'and', 'and', 'and', 'and', 'or', 'or', 'and', 'and', 'either', 'or', 'or', 'and', 'and', 'or', 'or', 'and', 'or', 'and', 'and', 'but', 'or', 'or', 'or', 'and', 'or', 'and', 'and', 'but', 'but', 'and', 'but', 'but', 'and', 'and', 'or', 'or', 'and', 'or', 'and', 'and', 'and', 'and', 'and', 'and', 'and', 'and', 'and', 'and', 'or', 'or', 'and', 'but', 'and', 'and', 'but', 'and', 'and', 'but', 'or', 'and', 'or', 'and', 'and', 'but', 'or', 'but', 'and', 'or', 'and', 'or', 'and', 'or', 'and', 'and', 'and', 'and', 'and', 'but', 'and', 'and', 'or', 'or', 'or', 'and', 'and', 'and', 'and', 'but', 'and', 'or', 'and', 'and', 'and', 'and', 'and', 'but', 'and', 'and', 'or', 'or', 'but', 'or', 'or', 'and', 'and', 'but', 'and', 'and', 'and', 'and', 'but', 'and', 'or', 'or', 'or', 'and', 'and', 'or', 'and', 'and', 'and', 'or', 'and', 'and', 'or', 'and', 'but', 'or', 'or', 'or', 'or', 'but', 'and', 'and', 'or', 'and', 'and', 'and', 'and', 'and', 'and', 'and', 'and', 'and', 'and', 'and', 'or', 'and', 'and', 'but', 'and', 'and', 'but', 'and', 'and', 'and', 'and', 'and', 'and', 'but', 'and', 'and', 'and', 'and', 'and', 'and', 'and', 'or', 'or', 'and', 'or', 'and', 'but', 'or', 'and', 'and', 'and', 'or', 'and', 'and', 'and', 'or', 'or', 'and', 'and', 'and', 'and', 'and', 'or', 'or', 'or', 'and', 'and', 'or', 'and', 'and', 'and', 'and', 'and', 'and', 'and', 'but', 'and', 'and', 'but', 'and', 'and', 'but', 'or', 'and', 'and', 'and', 'or', 'and', 'and', 'and', 'and', 'or', 'and', 'and', 'and', 'or', 'or', 'or', 'or', 'and', 'and', 'or', 'and', 'and', 'and', 'and', 'and', 'or', 'and', 'or', 'or', 'and', 'but', 'or', 'and', 'and', 'and', 'but', 'and', 'and', 'but', 'or', 'or', 'and', 'and', 'and', 'and', 'and', 'and', 'and', 'but', 'or', 'and', 'but', 'and', 'and', 'and', 'and', 'and', 'and', 'and', 'or', 'or', 'and', 'but', 'and', 'or', 'or', 'but', 'or', 'or', 'or', 'or', 'or', 'or', 'or', 'and', 'but', 'and', 'and', 'or', 'and', 'or', 'and', 'and', 'and', 'or', 'and', 'or', 'and', 'and', 'and', 'and', 'or', 'or', 'or', 'and', 'and', 'or', 'but', 'or', 'or', 'and', 'and', 'and', 'and', 'and', 'and', 'and', 'and', 'but', 'and', 'and', 'but', 'or', 'and', 'and', 'and', 'and', 'and', 'and', 'and', 'and', 'and', 'and', 'or', 'or', 'and', 'and', 'but', 'and', 'and', 'but', 'and', 'or', 'or', 'and', 'and', 'or', 'or', 'or', 'or', 'and', 'or', 'and', 'but', 'or', 'and', 'and', 'and', 'or', 'and', 'and', 'and', 'or', 'and', 'or', 'and', 'and', 'or', 'and', 'or', 'or', 'and', 'and', 'but', 'or', 'and', 'or', 'and', 'and', 'or', 'and', 'or', 'and', 'but', 'but', 'or', 'or', 'or', 'and', 'and', 'and', 'and', 'and', 'or', 'and', 'or', 'or', 'and', 'and', 'and', 'but', 'and', 'and', 'and', 'and', 'and', 'and', 'and', 'and', 'and', 'but', 'and', 'and', 'and', 'but', 'and', 'and', 'and', 'and', 'and', 'and', 'or', 'but', 'or', 'and', 'but', 'and', 'and', 'and', 'but', 'or', 'or', 'or', 'and', 'and', 'and', 'and', 'and', 'and', 'and', 'and', 'and', 'and', 'or', 'or', 'or', 'or', 'or', 'and', 'or', 'and', 'or', 'or', 'and', 'or', 'and', 'or', 'and', 'but', 'and', 'or', 'or', 'or', 'or', 'or', 'and', 'and', 'but', 'or', 'or', 'or', 'and', 'and', 'and', 'and', 'or', 'and', 'or', 'and', 'and', 'and', 'or', 'or', 'or', 'or', 'and', 'or', 'and', 'and', 'or', 'or', 'and', 'and', 'and', 'and', 'and', 'or', 'and', 'and', 'and', 'and', 'and', 'and', 'and', 'and', 'and', 'and', 'and', 'and', 'and', 'and', 'and', 'and', 'or', 'or', 'or', 'and', 'and', 'and', 'or', 'and', 'or', 'and', 'but', 'or', 'and', 'and', 'or', 'and', 'and', 'or', 'and', 'and', 'and', 'and', 'and', 'and', 'and', 'but', 'or', 'or', 'or', 'or', 'and', 'and', 'or', 'and', 'or', 'or', 'and', 'or', 'and', 'or', 'but', 'and', 'or', 'but', 'and', 'or', 'and', 'and', 'and', 'or', 'and', 'and', 'and', 'but', 'and', 'or', 'and', 'and', 'or', 'but', 'and', 'and', 'and', 'and', 'and', 'but', 'and', 'and', 'and', 'and', 'but', 'and', 'and', 'and', 'or', 'and', 'and', 'and', 'both', 'and', 'and', 'or', 'or', 'or', 'and', 'and', 'and', 'and', 'or', 'and', 'and', 'and', 'and', 'or', 'and', 'or', 'and', 'or', 'and', 'or', 'but', 'or', 'or', 'or', 'or', 'but', 'and', 'and', 'and', 'and', 'or', 'and', 'and', 'and', 'and', 'and', 'and', 'or', 'and', 'and', 'and', 'or', 'and', 'and', 'but', 'and', 'and', 'and', 'and', 'and', 'and', 'and', 'but', 'and', 'and', 'and', 'and', 'and', 'and', 'but', 'and', 'and', 'and', 'and', 'and', 'and', 'and', 'or', 'or', 'and', 'and', 'and', 'but', 'or', 'or', 'and', 'and', 'and', 'and', 'and', 'or', 'or', 'or', 'or', 'and', 'and', 'and', 'or', 'and', 'and', 'and', 'but', 'and', 'and', 'and', 'but', 'and', 'and', 'and', 'and', 'or', 'and', 'and', 'and', 'and', 'but', 'and', 'and', 'and', 'and', 'and', 'or', 'and', 'and', 'but', 'and', 'and', 'and', 'and', 'or', 'and', 'and', 'and', 'and', 'and', 'and', 'and', 'but', 'and', 'or', 'or', 'and', 'and', 'or', 'and', 'but', 'and', 'or', 'or', 'and', 'and', 'or', 'or', 'or', 'and', 'and', 'or', 'or', 'and', 'and', 'and', 'and', 'and', 'but', 'or', 'and', 'and', 'or', 'or', 'and', 'and', 'and', 'but', 'and', 'and', 'or', 'but', 'and', 'or', 'or', 'and', 'and', 'and', 'but', 'and', 'or', 'and', 'and', 'and', 'or', 'and', 'or', 'and', 'and', 'but', 'and', 'and', 'and', 'and', 'but', 'or', 'or', 'and', 'and', 'but', 'and', 'and', 'or', 'or', 'but', 'and', 'but', 'and', 'and', 'and', 'and', 'or', 'or', 'and', 'and', 'and', 'and', 'but', 'and', 'but', 'and', 'or', 'or', 'and', 'and', 'and', 'and', 'and', 'and', 'and', 'and', 'plus', 'and', 'plus', 'but', 'and', 'and', 'and', 'and', 'but', 'and', 'or', 'or', 'but', 'plus', 'and', 'but', 'and', 'and', 'and', 'and', 'but', 'and', 'but', 'and', 'and', 'and', 'and', 'or', 'but', 'and', 'and', 'and', 'or', 'and', 'and', 'and', 'and', 'and', 'and', 'or', 'and', 'and', 'or', 'but', 'and', 'or', 'minus', 'or', 'and', 'or', 'and', 'minus', 'and', 'or', 'and', 'or', 'and', 'and', 'but', 'and', 'and', 'or', 'and', 'and', 'or', 'and', 'and', 'and', 'and', 'and', 'Either', 'or', 'and', 'and', 'or', 'and', 'but', 'or', 'or', 'or', 'but', 'and', 'and', 'or']\n"
          ]
        }
      ],
      "source": [
        "words = []\n",
        "for i in range(len(corpus_tokens)):\n",
        "    for j in range(len(corpus_tokens[i])):\n",
        "        if corpus_tags[i][j] == \"CONJ\":\n",
        "            # print(corpus_tokens[i][j])\n",
        "            words.append(corpus_tokens[i][j])\n",
        "print(f\"Conjuntions: \\n{words}\")"
      ]
    },
    {
      "cell_type": "code",
      "execution_count": 93,
      "id": "ded15874-dd3d-475d-a349-48eb61e87a7d",
      "metadata": {
        "colab": {
          "base_uri": "https://localhost:8080/"
        },
        "id": "ded15874-dd3d-475d-a349-48eb61e87a7d",
        "outputId": "2e6035e8-3324-4166-c7f4-034d8769cf94"
      },
      "outputs": [
        {
          "output_type": "stream",
          "name": "stdout",
          "text": [
            "Particles: \n",
            "['to', 'to', 'to', 'to', 'to', 'to', 'to', 'to', 'to', 'to', 'to', 'to', 'to', 'to', 'to', 'to', 'to', 'to', 'to', 'to', 'to', 'to', 'to', 'to', 'to', 'to', 'to', 'to', 'to', 'to', 'to', 'to', 'to', 'to', 'to', 'to', 'to', 'to', 'to', 'to', 'to', 'to', 'to', 'to', 'to', 'to', 'to', 'to', 'to', 'to', 'to', 'to', 'down', 'down', 'to', 'to', 'out', 'to', 'to', 'to', 'to', 'to', 'to', 'to', 'to', 'to', 'to', 'to', 'to', 'up', 'to', 'to', 'to', 'out', 'to', 'to', 'to', 'to', 'to', 'to', 'to', 'to', 'to', 'to', 'to', 'to', 'to', 'to', 'to', 'to', 'to', 'to', 'to', 'to', 'to', 'to', 'to', 'to', 'to', 'analysis', 'to', 'to', 'to', 'to', 'to', 'to', 'to', 'to', 'to', 'to', 'to', 'to', 'to', 'to', 'to', 'to', 'to', 'to', 'to', 'out', 'to', 'to', 'to', 'to', 'to', 'to', 'to', 'to', 'to', 'to', 'out', 'to', 'to', 'to', 'to', 'out', 'to', 'to', 'to', 'to', 'to', 'to', 'to', 'to', 'to', 'to', 'to', 'to', 'to', 'to', 'to', 'off', 'to', 'to', 'out', 'to', 'to', 'to', 'to', 'to', 'to', 'to', 'to', 'to', 'to', 'to', 'to', 'to', 'to', 'to', 'to', 'to', 'to', 'to', 'to', 'to', 'to', 'to', 'to', 'to', 'to', 'to', 'to', 'to', 'to', 'to', 'to', 'to', 'to', 'to', 'to', 'to', 'to', 'out', 'to', 'to', 'to', 'to', 'to', 'to', 'to', 'to', 'to', 'to', 'to', 'to', 'to', 'to', 'analysis', 'to', 'to', 'to', 'to', 'to', 'up', 'to', 'to', 'to', 'to', 'to', 'to', 'to', 'to', 'to', 'to', 'to', 'to', 'to', 'to', 'to', 'to', 'to', 'to', 'to', 'to', 'to', 'to', 'to', 'to', 'to', 'to', 'to', 'to', 'to', 'to', 'to', 'to', 'to', 'to', 'to', 'to', 'to', 'to', 'to', 'to', 'to', 'to', 'to', 'to', 'to', 'to', 'to', 'to', 'to', 'to', 'to', 'to', 'to', 'to', 'to', 'to', 'down', 'to', 'to', 'to', 'to', 'to', 'to', 'to', 'to', 'to', 'to', 'to', 'to', 'to', 'to', 'to', 'to', 'to', 'to', 'to', 'to', 'to', 'to', 'to', 'to', 'to', 'out', 'to', 'to', 'to', 'to', 'to', 'to', 'to', 'to', 'to', 'to', 'to', 'to', 'to', 'to', 'to', 'to', 'to', 'to', 'to', 'to', 'to', 'to', 'to', 'to', 'to', 'to', 'to', 'to', 'to', 'to', 'to', 'to', 'to', 'to', 'to', 'to', 'to', 'to', 'to', 'to', 'to', 'up', 'to', 'analysis', 'to', 'to', 'to', 'to', 'to', 'to', 'to', 'to', 'to', 'to', 'to', 'to', 'up', 'to', 'up', 'to', 'up', 'to', 'to', 'to', 'to', 'to', 'to', 'down', 'to', 'to', 'to', 'out', 'to', 'to', 'to', 'to', 'to', 'to', 'to', 'to', 'to', 'to', 'to', 'to', 'to', 'to', 'to', 'to', 'to', 'to', 'to', 'to', 'to', 'to', 'to', 'to', 'to', 'to', 'to', 'to', 'to', 'to', 'to', 'to', 'to', 'to', 'to', 'to', 'to', 'to', 'to', 'to', 'to', 'to', 'to', 'to', 'to', 'to', 'to', 'to', 'to', 'to', 'to', 'to', 'to', 'to', 'to', 'to', 'to', 'to', 'to', 'to', 'to', 'to', 'to', 'overtime', 'to', 'to', 'to', 'to', 'to', 'to', 'to', 'to', 'to', 'to', 'to', 'to', 'to', 'to', 'to', 'to', 'to', 'to', 'to', 'to', 'to', 'to', 'to', 'to', 'to', 'to', 'to', 'to', 'to', 'to', 'to', 'out', 'to', 'to', 'to', 'to', 'to', 'to', 'to', 'to', 'to', 'to', 'to', 'to', 'to', 'to', 'to', 'to', 'to', 'to', 'to', 'to', 'to', 'to', 'to', 'to', 'to', 'to', 'to', 'to', 'to', 'to', 'to', 'to', 'to', 'to', 'to', 'to', 'to', 'to', 'to', 'to', 'to', 'to', 'to', 'to', 'to', 'to', 'to', 'to', 'to', 'to', 'to', 'to', 'to', 'to', 'to', 'to', 'to', 'to', 'out', 'to', 'to', 'to', 'to', 'to', 'to', 'to', 'to', 'to', 'to', 'approved', 'to', 'to', 'to', 'to', 'to', 'to', 'to', 'to', 'to', 'to', 'analysis', 'to', 'to', 'to', 'up', 'Up', 'to', 'to', 'to', 'to', 'to', 'to', 'to', 'up', 'to', 'to', 'to', 'to', 'to', 'to', 'to', 'to', 'to', 'to', 'to', 'to', 'to', 'to', 'to', 'to', 'to', 'to', 'to', 'to', 'up', 'to', 'up', 'to', 'to', 'to', 'analysis', 'to', 'to', 'to', 'to', 'to', 'to', 'to', 'to', 'to', 'to', 'to', 'to', 'to', 'to', 'to', 'to', 'to', 'to', 'to', 'to', 'out', 'to', 'to', 'to', 'to', 'to', 'to', 'to', 'to', 'to', 'to', 'to', 'to', 'to', 'to', 'to', 'to', 'to', 'to', 'to', 'to', 'to', 'to', 'to', 'to', 'to', 'to', 'to', 'out', 'to', 'to', 'to', 'up', 'up', 'to', 'to', 'to', 'to', 'to', 'to', 'o', 'out', 'to', 'to', 'to', 'to', 'to', 'to', 'to', 'to', 'to', 'to', 'to', 'to', 'to', 'to', 'to', 'to', 'to', 'to', 'to', 'to', 'to', 'to', 'to', 'to', 'to', 'to', 'to', 'to', 'to', 'to', 'to', 'to', 'to', 'to', 'to', 'to', 'to', 'to', 'to', 'to', 'to', 'to', 'to', 'to', 'to', 'to', 'to', 'to', 'to', 'to', 'to', 'to', 'to', 'to', 'to', 'to', 'to', 'over', 'to', 'to', 'to', 'to', 'to', 'to', 'to', 'to', 'to', 'to', 'up', 'to', 'to', 'to', 'to', 'to', 'to', 'to', 'to', 'to', 'to', 'to', 'to', 'to', 'to', 'out', 'to', 'to', 'to', 'to', 'to', 'to', 'to', 'to']\n"
          ]
        }
      ],
      "source": [
        "words = []\n",
        "for i in range(len(corpus_tokens)):\n",
        "    for j in range(len(corpus_tokens[i])):\n",
        "        if corpus_tags[i][j] == \"PRT\":\n",
        "            # print(corpus_tokens[i][j])\n",
        "            words.append(corpus_tokens[i][j])\n",
        "print(f\"Particles: \\n{words}\")"
      ]
    },
    {
      "cell_type": "code",
      "execution_count": 94,
      "id": "f092ea97-578b-4a49-8b47-1306fbe2a7ec",
      "metadata": {
        "colab": {
          "base_uri": "https://localhost:8080/"
        },
        "id": "f092ea97-578b-4a49-8b47-1306fbe2a7ec",
        "outputId": "e1af2b8a-759a-4624-d5f8-0ce6580940df"
      },
      "outputs": [
        {
          "output_type": "stream",
          "name": "stdout",
          "text": [
            "Others: \n",
            "['etc', 'etc']\n"
          ]
        }
      ],
      "source": [
        "words = []\n",
        "for i in range(len(corpus_tokens)):\n",
        "    for j in range(len(corpus_tokens[i])):\n",
        "        if corpus_tags[i][j] == \"X\":\n",
        "            # print(corpus_tokens[i][j])\n",
        "            words.append(corpus_tokens[i][j])\n",
        "print(f\"Others: \\n{words}\")"
      ]
    },
    {
      "cell_type": "code",
      "execution_count": 95,
      "id": "dd9bdc9e-98c9-450e-bd16-2c0a1f0f24b0",
      "metadata": {
        "colab": {
          "base_uri": "https://localhost:8080/"
        },
        "id": "dd9bdc9e-98c9-450e-bd16-2c0a1f0f24b0",
        "outputId": "56c4a54c-2953-4a7f-839e-82a08bf5d621"
      },
      "outputs": [
        {
          "output_type": "stream",
          "name": "stdout",
          "text": [
            "Adjectives: \n",
            "['validated', 'project', 'detailed', 'smaller', 'manageable', 'validated', 'key', 'predefined', 'inputs', 'purpose', 'high', 'high', 's', 'iterative', 'adaptive', 'hybrid', 'environmental', 's', 'organizational', 'specialized', 'following', 'Previous', 'similar', 'developed', 'detailed', 'formal', 'formal', 'informal', 'documented', 'tracked', 'such', 'tracked', 'Collect', 'key', 'predefined', 'inputs', 'high', 'high', 'detailed', 'project', 'analyzed', 'documented', 'stakeholder', 'other', 'effective', 'iterative', 'adaptive', 'desired', 'optional', 'environmental', 's', 'organizational', 'previous', 'specialized', 'following', 'previous', 'similar', 'multiple', 'formal', 'informal', 'prepared', 'spontaneous', 'individual', 'multiple', 'other', 'subject', 'desired', 'useful', 'confidential', 'prequalified', 'subject', 'proposed', 'trained', 'interactive', 'conversational', 'large', 'appropriate', 'varied', 'quick', 'statistical', 'appropriate', 'actual', 'comparable', 'best', 'internal', 'external', 'relevant', 'wide', 'relevant', 'such', 'collective', 'multiple', 'expected', 'future', 'single', 'more', 'uneven', 'tie', 'largest', 'Autocratic', 'systematic', 'analytical', 'such', 'many', 'large', 'individual', 'single', 'new', 'interpersonal', 'nominal', 'useful', 'further', 'nominal', 'structured', 'num', 'flip', 'clear', 'understanding', 'lowest', 'highest', 'many', 'highest', 'direct', 'helpful', 'detailed', 'reluctant', 'participant', 'hidden', 'focused', 'key', 'functional', 'reconcile', 'interactive', 'facilitated', 'trust', 'foster', 'individual', 'following', 'subject', 'critical', 'new', 'short', 'textual', 'other', 'early', 'expected', 'small', 'final', 'abstract', 'progressive', 'iterative', 'enough', 'complete', 'such', 'instructional', 'other', 'navigation', 'other', 'user', 'individual', 'high', 'detailed', 'more', 'unambiguous', 'measurable', 'stable', 'traceable', 'complete', 'acceptable', 'simple', 'elaborate', 'Many', 'different', 'such', 'technical', 'former', 'further', 'Business', 'higher', 'whole', 'such', 'describe', 'describe', 'further', 'functional', 'nonfunctional', 'functional', 'functional', 'functional', 'environmental', 'effective', 'reliability', 'describe', 'temporary', 'such', 'current', 'other', 'contractual', 'successful', 'deliverable', 'other', 'detailed', 'key', 'unique', 'textual', 'current', 'such', 'active', 'deferred', 'detailed', 'key', 'high', 'component', 'validated', 'other', 'such', 'environmental', 's', 'organizational', 'previous', 'previous', 'similar', 'systematic', 'analytical', 'such', 'schedule', 'interpersonal', 'facilitation', 'key', 'common', 'other', 'relevant', 'more', 'high', 'meaningful', 'high', 'final', 'major', 'entire', 'common', 'explicit', 'more', 'detailed', 'additional', 'overall', 'detailed', 'other', 'following', 'unique', 'verifiable', 'ancillary', 'such', 'project', 'summary', 'great', 'creep', 'certain', 'different', 'high', 'detailed', 'additional', 'additional', 'requirement', 'additional', 'new', 'smaller', 'manageable', 'key', 'predefined', 'inputs', 'component', 'individual', 'environmental', 'relevant', 'external', 'organizational', 'previous', 'previous', 'similar', 'smaller', 'manageable', 'key', 'predefined', 'inputs', 'approved', 'dictionary', 'formal', 'major', 'hierarchical', 'total', 'required', 'detailed', 'lowest', 'unique', 'hierarchical', 'more', 'single', 'more', 'known', 'detailed', 'dictionary', 'detailed', 'deliverable', 'Most', 'other', 'later', 'dictionary', 'identifier', 'Responsible', 'additional', 'key', 'final', 'inputs', 'formal', 'actual', 'corrective', 'preventive', 'necessary', 'register', 'quality', 'prior', 'actual', 'corrective', 'preventive', 'necessary', 'project', 'such', 'reviews', 'different', 'specific', 'other', 'Formal', 'formal', 'such', 'non', 'defect', 'actual', 'particular', 'actual', 'better', 'key', 'inputs', 'configurable', 'formal', 'such', 'actual', 'corrective', 'preventive', 'necessary', 'actual', 'corrective', 'preventive', 'necessary', 'register', 'agreed', 'validated', 'organizational', 'formal', 'informal', 'related', 'actual', 'threshold', 'corrective', 'preventive', 'appropriate', 'Important', 'corrective', 'preventive', 'future', 'other', 's', 'severe', 'realistic', 'severe', 'revised', 'realistic', 'severe', 'realistic', 'severe', 'realistic', 'efficient', 'effective', 'corrective', 'additional', 'timely', 'specific', 'individual', 'estimated', 'key', 'predefined', 'inputs', 'summary', 'environmental', 'physical', 'standard', 'specific', 'Commercial', 'such', 'standardized', 'organizational', 'formal', 'informal', 'related', 'specialized', 'previous', 'similar', 'predictive', 'adaptive', 'specific', 'various', 'detailed', 'appropriate', 'formal', 'informal', 'detailed', 'appropriate', 'following', 'adaptive', 'boxed', 'specified', 'essential', 'other', 'acceptable', 'realistic', 'such', 'cubic', 'other', 'physical', 'complete', 'formula', 'complete', 'specific', 'such', 'original', 'various', 'specific', 'key', 'inputs', 'necessary', 'environmental', 'commercial', 'commercial', 'organizational', 'historical', 'previous', 'similar', 'standard', 'previous', 'formal', 'informal', 'related', 'such', 'specialized', 'similar', 'past', 'smaller', 'manageable', 'final', 'dictionary', 'dictionary', 'final', 'better', 'accurate', 'iterative', 'near', 'higher', 'progressive', 'applicable', 'various', 'early', 'strategic', 'upcoming', 'near', 'virtual', 'formal', 'informal', 'subject', 'sufficient', 'multiple', 'initial', 'unique', 'logical', 'tags', 'various', 'significant', 'mandatory', 'such', 'optional', 'such', 'historical', 'significant', 'progressive', 's', 'initial', 'other', 'significant', 'key', 'logical', 'greatest', 'inputs', 'other', 'limited', 'necessary', 'logical', 'other', 'individual', 'specific', 'environmental', 'organizational', 'formal', 'informal', 'related', 'such', 'logical', 'additional', 'descriptive', 'useful', 'historical', 'more', 'logical', 'logical', 'dependent', 'dependent', 'logical', 'Finish', 'logical', 'logical', 'pour', 'logical', 'new', 'payable', 'old', 'payable', 'complete', 'logical', 'same', 'same', 'highest', 'logical', 'following', 'mandatory', 'discretionary', 'internal', 'external', 'applicable', 'same', 'following', 'mandatory', 'external', 'mandatory', 'internal', 'discretionary', 'external', 'discretionary', 'internal', 'contractual', 'inherent', 'physical', 'such', 'impossible', 'Mandatory', 'hard', 'hard', 'mandatory', 'mandatory', 'preferred', 'logic', 'preferential', 'soft', 'logic', 'best', 'particular', 'unusual', 'specific', 'other', 'acceptable', 'best', 'electrical', 'mandatory', 'same', 'parallel', 'sequential', 'overall', 'arbitrary', 'total', 'discretionary', 'discretionary', 'dependent', 'external', 'governmental', 'environmental', 'external', 'internal', 'internal', 'new', 'negative', 'technical', 'large', 'plus', 'relative', 'logical', 'tags', 'related', 'logical', 'different', 'graphical', 'logical', 'full', 'more', 'summary', 'summary', 'basic', 'unusual', 'narrative', 'greater', 'multiple', 'multiple', 'more', 'more', 'limited', 'necessary', 'logical', 'sequencing', 'individual', 'scheduled', 'specific', 'individual', 'key', 'inputs', 'other', 'dictionary', 'technical', 'limited', 'defined', 'logical', 'other', 'individual', 'specific', 'appropriate', 'breakdown', 'hierarchical', 'identified', 'due', 'specific', 'specific', 'long', 'available', 'estimated', 'most', 'additional', 'lower', 'due', 'longer', 'environmental', 'other', 'commercial', 'organizational', 'specialized', 'following', 'Analogous', 'historical', 'similar', 'Analogous', 'previous', 'similar', 'such', 'same', 'actual', 'previous', 'similar', 'current', 'gross', 'known', 'limited', 'detailed', 'costly', 'les', 'other', 'les', 'Analogous', 'total', 'other', 'Analogous', 'reliable', 'previous', 'similar', 'historical', 'statistical', 'historical', 'other', 'square', 'such', 'quantitative', 'capable', 'higher', 'total', 'other', 'single', 'approximate', 'likely', 'realistic', 'other', 'best', 'worst', 'assumed', 'expected', 'used', 'triangular', 'insufficient', 'historical', 'assumed', 'expected', 'expected', 'lower', 'reasonable', 'more', 'total', 's', 'estimated', 'various', 'different', 'manual', 'optimal', 'estimated', 'identified', 'unknown', 'fixed', 'individual', 'precise', 'available', 'reduced', 'eliminated', 'specified', 'unforeseen', 'unknown', 'overall', 'closed', 'full', 'fewer', 'more', 'next', 'agile', 'necessary', 'prioritized', 'user', 'upcoming', 'user', 'low', 'achievable', 'first', 'quantitative', 'likely', 'possible', 'least', 'more', 'high', 'additional', 'clear', 'complete', 'known', 'possible', 'final', 'individual', 'limited', 'such', 'register', 'efficient', 'effective', 'key', 'planned', 'inputs', 'dictionary', 'limited', 'individual', 'schedule', 'additional', 'clear', 'complete', 'quantitative', 'likely', 'specific', 'logical', 'contain', 'contractual', 'environmental', 'organizational', 'several', 'other', 'such', 'critical', 'multiple', 'single', 'multiple', 'single', 'critical', 'high', 'long', 'lead', 'critical', 'iterative', 'viable', 'critical', 'logical', 'early', 'early', 'late', 'late', 'longest', 'critical', 'critical', 'longest', 'shortest', 'possible', 'longest', 'least', 'total', 'early', 'late', 'finish', 'logical', 'other', 'critical', 'critical', 'total', 'free', 'logical', 'total', 'early', 'finish', 'critical', 'total', 'critical', 'critical', 'positive', 'negative', 'total', 'total', 'early', 'pas', 'late', 'logic', 'possible', 'accelerated', 'delayed', 'critical', 'Many', 'critical', 'more', 'logical', 'discretionary', 'other', 'necessary', 'positive', 'total', 'total', 'free', 'free', 'early', 'free', 'finish', 'equal', 'due', 'finish', 'available', 'required', 'available', 'certain', 'limited', 'allocated', 'such', 'more', 'same', 'constant', 'original', 'critical', 'leveling', 'critical', 'such', 'certain', 'critical', 'other', 'free', 'total', 'able', 'hrs', 'hrs', 'hrs', 'hrs', 'positive', 'negative', 'different', 'such', 'major', 'specific', 'introducing', 'external', 'such', 'different', 'unexpected', 'combined', 'individual', 'other', 'potential', 'common', 'other', 'possible', 'total', 'multiple', 'different', 'other', 'certain', 'finish', 'more', 'refine', 'viable', 'limited', 'limited', 'set', 'schedule', 'other', 'helpful', 'negative', 'critical', 'least', 'total', 'negative', 'least', 'incremental', 'additional', 'critical', 'critical', 'additional', 's', 'viable', 'alternative', 'least', 'architectural', 'critical', 'finish', 'diagrams', 'high', 'summary', 's', 'much', 'long', 'releasable', 'understood', 'available', 'user', 'approved', 'formal', 'actual', 'appropriate', 'baseline', 'baseline', 'finish', 'approved', 'actual', 'finish', 'planned', 'finish', 'early', 'preliminary', 'finish', 'defined', 'summary', 'tabular', 'more', 'following', 'vertical', 'horizontal', 'horizontal', 'easy', 'broader', 'comprehensive', 'summary', 'multiple', 'summary', 'structured', 'similar', 'scheduled', 'major', 'key', 'external', 'logic', 'logic', 'detailed', 'critical', 'related', 'logic', 'logical', 'same', 'simple', 'schedule', 'summary', 'detailed', 'different', 'minimum', 'additional', 'such', 'best', 'worst', 'such', 'other', 'relevant', 'available', 'scheduled', 'available', 'scheduled', 'available', 'more', 'different', 'other', 'recommended', 'negative', 's', 'severe', 'realistic', 'limited', 'revised', 'other', 'other', 'register', 'efficient', 'effective', 'significant', 'preliminary', 'key', 'inputs', 'actual', 'corrective', 'preventive', 'necessary', 'actual', 'corrective', 'preventive', 'necessary', 'register', 'more', 'different', 'recent', 'indicated', 'physical', 'such', 'actual', 'physical', 'organizational', 'formal', 'informal', 'related', 'such', 'original', 'likely', 'appropriate', 'diagonal', 'ideal', 'daily', 'actual', 'rundown', 'critical', 'critical', 'direct', 'critical', 'planned', 'actual', 'new', 'exterior', 'technical', 'large', 'lag', 'fast', 'finish', 'earned', 'future', 'available', 'past', 'future', 'corrective', 'preventive', 'earned', 'other', 'recommended', 'negative', 's', 'severe', 'realistic', 'productivity', 'register', 'effective', 'corrective', 'updated', 'updated', 'schedule', 'preventive', 'due', 'severe', 'new', 'forecast', 'finish', 'realistic', 'approved', 'controlled', 'monetary', 'individual', 'authorized', 'key', 'predefined', 'inputs', 'preapproved', 'financial', 'detailed', 'environmental', 'available', 'regional', 'global', 'more', 'commercial', 'such', 'available', 'commercial', 'human', 'seller', 'alternative', 'different', 'large', 'organizational', 'eg', 'standard', 'repository', 'formal', 'informal', 'related', 'specialized', 'following', 'Previous', 'similar', 'strategic', 'such', 'such', 'structured', 'associated', 'such', 'cubic', 'acceptable', 'realistic', 'unique', 'Establish', 'weighted', 'formula', 'complete', 'projected', 'various', 'strategic', 'specific', 'key', 'monetary', 'inputs', 'necessary', 'dictionary', 'other', 'financial', 'breakdown', 'various', 'dictionary', 'dictionary', 'detailed', 'register', 'physical', 'active', 'seasonal', 'useful', 'individual', 'detailed', 'environmental', 'process', 'limited', 'available', 'global', 'commercial', 'available', 'commercial', 'human', 'seller', 'large', 'scale', 'multiple', 'multiple', 'understood', 'organizational', 'process', 'Historical', 'specialized', 'following', 'Previous', 'similar', 'Analogous', 'previous', 'similar', 'current', 'same', 'current', 'statistical', 'relevant', 'historical', 'other', 'square', 'higher', 'total', 'other', 'individual', 'greatest', 'specified', 'detailed', 'higher', 'subsequent', 'other', 'individual', 'single', 'approximate', 'realistic', 'required', 'predicted', 'Optimistic', 'best', 'worst', 'assumed', 'expected', 'triangular', 'beta', 'Triangular', 'c', 'c', 'assumed', 'expected', 'process', 'deliverable', 'identified', 'known', 'unknown', 'unknown', 'specific', 'entire', 'fixed', 'quantitative', 'more', 'precise', 'available', 'reduced', 'eliminated', 'overall', 'quality', 'additional', 'short', 'frequent', 'simulation', 'statistical', 'Such', 'rapid', 'process', 'assessment', 'multiple', 'expected', 'future', 'useful', 'quantitative', 'probable', 'identified', 'unplanned', 'summary', 'special', 'such', 'higher', 'additional', 'clear', 'complete', 'known', 'identified', 'possible', 'final', 'new', 'new', 'new', 'register', 'efficient', 'effective', 'appropriate', 'individual', 'authorized', 'key', 'predefined', 'inputs', 'other', 'other', 'necessary', 'overall', 'dictionary', 'basic', 'indirect', 'other', 'planned', 'finish', 'critical', 'financial', 'such', 'net', 'present', 'Applicable', 'environmental', 'process', 'large', 'scale', 'multiple', 'multiple', 'understood', 'organizational', 'formal', 'informal', 'related', 'specialized', 'following', 'Previous', 'similar', 'higher', 'such', 'entire', 'unforeseen', 'unknown', 'overall', 'unforeseen', 'approved', 'historical', 'parametric', 'analogous', 'Historical', 'mathematical', 'total', 'Such', 'simple', 'eg', 'residential', 'certain', 'square', 'complex', 'multiple', 'separate', 'numerous', 'analogous', 'parametric', 'likely', 'reliable', 'accurate', 'quantifiable', 'scalable', 'such', 'large', 'small', 'imposed', 'common', 'long', 'industrial', 'public', 'external', 'certain', 'approved', 'formal', 'actual', 'approved', 'different', 'various', 'various', 'associated', 'phased', 'applicable', 'Total', 'periodic', 'quarterly', 'projected', 'anticipated', 'incremental', 'total', 'additional', 'key', 'inputs', 'actual', 'corrective', 'preventive', 'necessary', 'actual', 'corrective', 'preventive', 'necessary', 'register', 'anticipated', 'such', 'involved', 'organizational', 'formal', 'informal', 'related', 'expert', 'actual', 'key', 'authorized', 'authorized', 'breakdown', 'physical', 'total', 'planned', 'authorized', 'greater', 'authorized', 'incremental', 'current', 'long', 'Actual', 'realized', 'specific', 'total', 'direct', 'indirect', 'upper', 'corrective', 'analyzed', 'formal', 'similar', 'actual', 'actual', 'corrective', 'preventive', 'original', 'important', 'corrective', 'preventive', 'acceptable', 'more', 'accomplished', 'planned', 'equal', 'useful', 'metric', 'equal', 'critical', 'actual', 'equal', 'actual', 'actual', 'critical', 'physical', 'difficult', 'final', 'les', 'greater', 'more', 'critical', 'planned', 'equal', 'budgeted', 'actual', 'critical', 'metric', 'greater', 'equal', 'Graphical', 'valuable', 'future', 'earned', 'actual', 'monthly', 'cumulative', 'specified', 'outstanding', 'calculated', 'specified', 'such', 'obvious', 'viable', 'graphical', 'possible', 'final', 'earned', 'bottom', 'other', 's', 'such', 'relevant', 'severe', 'realistic', 'severe', 'realistic', 'other', 'original', 'actual', 'register', 'effective', 'corrective', 'likely']\n"
          ]
        }
      ],
      "source": [
        "words = []\n",
        "for i in range(len(corpus_tokens)):\n",
        "    for j in range(len(corpus_tokens[i])):\n",
        "        if corpus_tags[i][j] == \"ADJ\":\n",
        "            # print(corpus_tokens[i][j])\n",
        "            words.append(corpus_tokens[i][j])\n",
        "print(f\"Adjectives: \\n{words}\")"
      ]
    },
    {
      "cell_type": "code",
      "execution_count": 96,
      "id": "ea5fbb90-8d1b-476f-ba5a-637a42d2272e",
      "metadata": {
        "id": "ea5fbb90-8d1b-476f-ba5a-637a42d2272e"
      },
      "outputs": [],
      "source": [
        "##initialize tokenizer\n",
        "def tokenize_tag(text):\n",
        "    tokens = word_tokenize(text)\n",
        "    tags = nltk.pos_tag(tokens)\n",
        "    return tokens, tags\n",
        "corpus_tokens = []\n",
        "corpus_tags = []"
      ]
    },
    {
      "cell_type": "code",
      "execution_count": 97,
      "id": "86d8172f-e8ad-4999-905b-9d48ce6647eb",
      "metadata": {
        "id": "86d8172f-e8ad-4999-905b-9d48ce6647eb"
      },
      "outputs": [],
      "source": [
        "for text in  df[\"Definition\"].values:\n",
        "    tok, tag = tokenize_tag(text)\n",
        "    corpus_tokens.append(tok)\n",
        "    corpus_tags.append(tag)"
      ]
    },
    {
      "cell_type": "code",
      "execution_count": 98,
      "id": "23bea28e-0bb5-494e-9936-0fbeaf0387f7",
      "metadata": {
        "id": "23bea28e-0bb5-494e-9936-0fbeaf0387f7"
      },
      "outputs": [],
      "source": [
        "corpus_tags = list(map(lambda x: [tok[1] for tok in x], corpus_tags))"
      ]
    },
    {
      "cell_type": "code",
      "execution_count": 99,
      "id": "0f5178a2-71db-4b6c-9096-e9aeaa0eb80d",
      "metadata": {
        "id": "0f5178a2-71db-4b6c-9096-e9aeaa0eb80d"
      },
      "outputs": [],
      "source": [
        "words = []\n",
        "tags = []\n",
        "list_words = []\n",
        "list_tags = []\n",
        "for i in range(len(corpus_tokens)):\n",
        "    for j in range(len(corpus_tokens[i])):\n",
        "        nouns_cond = corpus_tags[i][j] == \"NN\" or corpus_tags[i][j] == \"NNP\" or corpus_tags[i][j] == \"NNPS\" or corpus_tags[i][j] == \"NNS\"\n",
        "        verbs_cond = corpus_tags[i][j] == \"VB\" or corpus_tags[i][j] == \"VBD\" or corpus_tags[i][j] == \"VBG\" or corpus_tags[i][j] == \"VBN\" or corpus_tags[i][j] == \"VBP\" or corpus_tags[i][j] == \"VBZ\"\n",
        "        if nouns_cond or verbs_cond:\n",
        "            # print(corpus_tokens[i][j])\n",
        "            words.append(corpus_tokens[i][j])\n",
        "            tags.append(corpus_tags[i][j])\n",
        "    list_words.append(words)\n",
        "    list_tags.append(tags)\n",
        "    words = []\n",
        "    tags = []\n",
        "corpus_tokens = list_words\n",
        "corpus_tags = list_tags"
      ]
    },
    {
      "cell_type": "code",
      "execution_count": 100,
      "id": "2e0f7dda-4d10-466d-8a84-b81ac2590518",
      "metadata": {
        "colab": {
          "base_uri": "https://localhost:8080/"
        },
        "id": "2e0f7dda-4d10-466d-8a84-b81ac2590518",
        "outputId": "561e3c3a-29a4-4ad8-80fa-e82b77811ba4"
      },
      "outputs": [
        {
          "output_type": "stream",
          "name": "stderr",
          "text": [
            "100%|██████████| 92/92 [00:00<00:00, 399457.52it/s]\n",
            "100%|██████████| 35/35 [00:00<00:00, 250941.26it/s]\n",
            "100%|██████████| 15/15 [00:00<00:00, 130257.89it/s]\n",
            "100%|██████████| 52/52 [00:00<00:00, 255390.88it/s]\n",
            "100%|██████████| 17/17 [00:00<00:00, 127100.12it/s]\n",
            "100%|██████████| 17/17 [00:00<00:00, 127554.86it/s]\n",
            "100%|██████████| 14/14 [00:00<00:00, 141494.59it/s]\n",
            "100%|██████████| 26/26 [00:00<00:00, 163987.83it/s]\n",
            "100%|██████████| 28/28 [00:00<00:00, 146984.37it/s]\n",
            "100%|██████████| 55/55 [00:00<00:00, 253780.77it/s]\n",
            "100%|██████████| 72/72 [00:00<00:00, 283558.58it/s]\n",
            "100%|██████████| 30/30 [00:00<00:00, 81442.80it/s]\n",
            "100%|██████████| 12/12 [00:00<00:00, 113104.83it/s]\n",
            "100%|██████████| 53/53 [00:00<00:00, 145483.06it/s]\n",
            "100%|██████████| 59/59 [00:00<00:00, 222139.98it/s]\n",
            "100%|██████████| 15/15 [00:00<00:00, 107179.83it/s]\n",
            "100%|██████████| 5/5 [00:00<00:00, 54755.93it/s]\n",
            "100%|██████████| 16/16 [00:00<00:00, 137800.54it/s]\n",
            "100%|██████████| 18/18 [00:00<00:00, 43215.50it/s]\n",
            "100%|██████████| 24/24 [00:00<00:00, 154628.72it/s]\n",
            "100%|██████████| 133/133 [00:00<00:00, 294998.64it/s]\n",
            "100%|██████████| 77/77 [00:00<00:00, 183188.55it/s]\n",
            "100%|██████████| 111/111 [00:00<00:00, 283019.91it/s]\n",
            "100%|██████████| 37/37 [00:00<00:00, 208028.48it/s]\n",
            "100%|██████████| 251/251 [00:00<00:00, 261622.84it/s]\n",
            "100%|██████████| 22/22 [00:00<00:00, 125714.83it/s]\n",
            "100%|██████████| 95/95 [00:00<00:00, 265639.25it/s]\n",
            "100%|██████████| 188/188 [00:00<00:00, 313530.48it/s]\n",
            "100%|██████████| 126/126 [00:00<00:00, 311421.51it/s]\n",
            "100%|██████████| 23/23 [00:00<00:00, 80794.80it/s]\n",
            "100%|██████████| 10/10 [00:00<00:00, 96420.78it/s]\n",
            "100%|██████████| 17/17 [00:00<00:00, 113902.82it/s]\n",
            "100%|██████████| 53/53 [00:00<00:00, 250617.94it/s]\n",
            "100%|██████████| 16/16 [00:00<00:00, 114520.25it/s]\n",
            "100%|██████████| 22/22 [00:00<00:00, 155869.41it/s]\n",
            "100%|██████████| 8/8 [00:00<00:00, 74898.29it/s]\n",
            "100%|██████████| 22/22 [00:00<00:00, 151518.37it/s]\n",
            "100%|██████████| 35/35 [00:00<00:00, 194954.37it/s]\n",
            "100%|██████████| 28/28 [00:00<00:00, 185530.03it/s]\n",
            "100%|██████████| 62/62 [00:00<00:00, 278124.97it/s]\n",
            "100%|██████████| 182/182 [00:00<00:00, 338070.56it/s]\n",
            "100%|██████████| 54/54 [00:00<00:00, 239928.41it/s]\n",
            "100%|██████████| 26/26 [00:00<00:00, 176745.39it/s]\n",
            "100%|██████████| 18/18 [00:00<00:00, 142179.80it/s]\n",
            "100%|██████████| 33/33 [00:00<00:00, 197731.47it/s]\n",
            "100%|██████████| 21/21 [00:00<00:00, 147291.61it/s]\n",
            "100%|██████████| 17/17 [00:00<00:00, 56144.23it/s]\n",
            "100%|██████████| 8/8 [00:00<00:00, 73746.00it/s]\n",
            "100%|██████████| 26/26 [00:00<00:00, 179361.68it/s]\n",
            "100%|██████████| 184/184 [00:00<00:00, 240571.05it/s]\n",
            "100%|██████████| 34/34 [00:00<00:00, 204894.16it/s]\n",
            "100%|██████████| 33/33 [00:00<00:00, 81997.65it/s]\n",
            "100%|██████████| 43/43 [00:00<00:00, 118732.77it/s]\n",
            "100%|██████████| 70/70 [00:00<00:00, 260515.78it/s]\n",
            "100%|██████████| 11/11 [00:00<00:00, 100081.01it/s]\n",
            "100%|██████████| 17/17 [00:00<00:00, 141755.80it/s]\n",
            "100%|██████████| 26/26 [00:00<00:00, 127397.08it/s]\n",
            "100%|██████████| 21/21 [00:00<00:00, 175458.93it/s]\n",
            "100%|██████████| 26/26 [00:00<00:00, 198276.19it/s]\n",
            "100%|██████████| 22/22 [00:00<00:00, 186790.87it/s]\n",
            "100%|██████████| 29/29 [00:00<00:00, 217205.03it/s]\n",
            "100%|██████████| 59/59 [00:00<00:00, 234119.14it/s]\n",
            "100%|██████████| 29/29 [00:00<00:00, 189757.90it/s]\n",
            "100%|██████████| 88/88 [00:00<00:00, 265921.29it/s]\n",
            "100%|██████████| 52/52 [00:00<00:00, 183898.66it/s]\n",
            "100%|██████████| 15/15 [00:00<00:00, 119837.26it/s]\n",
            "100%|██████████| 21/21 [00:00<00:00, 149288.79it/s]\n",
            "100%|██████████| 56/56 [00:00<00:00, 250139.54it/s]\n",
            "100%|██████████| 29/29 [00:00<00:00, 187708.05it/s]\n",
            "100%|██████████| 25/25 [00:00<00:00, 177724.75it/s]\n",
            "100%|██████████| 147/147 [00:00<00:00, 154915.25it/s]\n",
            "100%|██████████| 47/47 [00:00<00:00, 210386.65it/s]\n",
            "100%|██████████| 92/92 [00:00<00:00, 299825.93it/s]\n",
            "100%|██████████| 36/36 [00:00<00:00, 222706.41it/s]\n",
            "100%|██████████| 9/9 [00:00<00:00, 88197.98it/s]\n",
            "100%|██████████| 39/39 [00:00<00:00, 207060.58it/s]\n",
            "100%|██████████| 35/35 [00:00<00:00, 206180.67it/s]\n",
            "100%|██████████| 28/28 [00:00<00:00, 192841.56it/s]\n",
            "100%|██████████| 23/23 [00:00<00:00, 161319.38it/s]\n",
            "100%|██████████| 48/48 [00:00<00:00, 224945.91it/s]\n",
            "100%|██████████| 29/29 [00:00<00:00, 175266.31it/s]\n",
            "100%|██████████| 239/239 [00:00<00:00, 318234.49it/s]\n",
            "100%|██████████| 37/37 [00:00<00:00, 179409.54it/s]\n",
            "100%|██████████| 38/38 [00:00<00:00, 206723.15it/s]\n",
            "100%|██████████| 19/19 [00:00<00:00, 154441.43it/s]\n",
            "100%|██████████| 42/42 [00:00<00:00, 225847.14it/s]\n",
            "100%|██████████| 10/10 [00:00<00:00, 84054.19it/s]\n",
            "100%|██████████| 54/54 [00:00<00:00, 228318.97it/s]\n",
            "100%|██████████| 61/61 [00:00<00:00, 262144.00it/s]\n",
            "100%|██████████| 16/16 [00:00<00:00, 130055.94it/s]\n",
            "100%|██████████| 40/40 [00:00<00:00, 201891.89it/s]\n",
            "100%|██████████| 70/70 [00:00<00:00, 272357.40it/s]\n",
            "100%|██████████| 25/25 [00:00<00:00, 62303.98it/s]\n",
            "100%|██████████| 27/27 [00:00<00:00, 171845.54it/s]\n",
            "100%|██████████| 58/58 [00:00<00:00, 266159.33it/s]\n",
            "100%|██████████| 28/28 [00:00<00:00, 170450.67it/s]\n",
            "100%|██████████| 35/35 [00:00<00:00, 170897.14it/s]\n",
            "100%|██████████| 79/79 [00:00<00:00, 252168.96it/s]\n",
            "100%|██████████| 22/22 [00:00<00:00, 172799.04it/s]\n",
            "100%|██████████| 53/53 [00:00<00:00, 223639.95it/s]\n",
            "100%|██████████| 214/214 [00:00<00:00, 343374.54it/s]\n",
            "100%|██████████| 217/217 [00:00<00:00, 61722.77it/s]\n",
            "100%|██████████| 139/139 [00:00<00:00, 280562.20it/s]\n",
            "100%|██████████| 23/23 [00:00<00:00, 147280.90it/s]\n",
            "100%|██████████| 90/90 [00:00<00:00, 271378.40it/s]\n",
            "100%|██████████| 71/71 [00:00<00:00, 264707.19it/s]\n",
            "100%|██████████| 31/31 [00:00<00:00, 174060.81it/s]\n",
            "100%|██████████| 34/34 [00:00<00:00, 164293.01it/s]\n",
            "100%|██████████| 190/190 [00:00<00:00, 304748.67it/s]\n",
            "100%|██████████| 22/22 [00:00<00:00, 163898.20it/s]\n",
            "100%|██████████| 22/22 [00:00<00:00, 163029.48it/s]\n",
            "100%|██████████| 17/17 [00:00<00:00, 118640.88it/s]\n",
            "100%|██████████| 91/91 [00:00<00:00, 222425.21it/s]\n",
            "100%|██████████| 104/104 [00:00<00:00, 294337.12it/s]\n",
            "100%|██████████| 82/82 [00:00<00:00, 271454.56it/s]\n",
            "100%|██████████| 51/51 [00:00<00:00, 227080.15it/s]\n",
            "100%|██████████| 172/172 [00:00<00:00, 191714.13it/s]\n",
            "100%|██████████| 65/65 [00:00<00:00, 229486.33it/s]\n",
            "100%|██████████| 65/65 [00:00<00:00, 244511.00it/s]\n",
            "100%|██████████| 49/49 [00:00<00:00, 239814.35it/s]\n",
            "100%|██████████| 56/56 [00:00<00:00, 247243.18it/s]\n",
            "100%|██████████| 58/58 [00:00<00:00, 218767.65it/s]\n",
            "100%|██████████| 37/37 [00:00<00:00, 195698.93it/s]\n",
            "100%|██████████| 37/37 [00:00<00:00, 202861.76it/s]\n",
            "100%|██████████| 182/182 [00:00<00:00, 329177.80it/s]\n",
            "100%|██████████| 12/12 [00:00<00:00, 87685.80it/s]\n",
            "100%|██████████| 14/14 [00:00<00:00, 113359.57it/s]\n",
            "100%|██████████| 21/21 [00:00<00:00, 161912.47it/s]\n",
            "100%|██████████| 81/81 [00:00<00:00, 275761.87it/s]\n",
            "100%|██████████| 246/246 [00:00<00:00, 347524.01it/s]\n",
            "100%|██████████| 181/181 [00:00<00:00, 313447.16it/s]\n",
            "100%|██████████| 165/165 [00:00<00:00, 312724.88it/s]\n",
            "100%|██████████| 37/37 [00:00<00:00, 175355.08it/s]\n",
            "100%|██████████| 145/145 [00:00<00:00, 334529.20it/s]\n",
            "100%|██████████| 22/22 [00:00<00:00, 151518.37it/s]\n",
            "100%|██████████| 156/156 [00:00<00:00, 302082.84it/s]\n",
            "100%|██████████| 44/44 [00:00<00:00, 206893.92it/s]\n",
            "100%|██████████| 393/393 [00:00<00:00, 290972.90it/s]\n",
            "100%|██████████| 69/69 [00:00<00:00, 291740.90it/s]\n",
            "100%|██████████| 38/38 [00:00<00:00, 191107.38it/s]\n",
            "100%|██████████| 35/35 [00:00<00:00, 187245.71it/s]\n",
            "100%|██████████| 64/64 [00:00<00:00, 288950.98it/s]\n",
            "100%|██████████| 110/110 [00:00<00:00, 285150.46it/s]\n",
            "100%|██████████| 29/29 [00:00<00:00, 158792.19it/s]\n",
            "100%|██████████| 68/68 [00:00<00:00, 251954.66it/s]\n",
            "100%|██████████| 67/67 [00:00<00:00, 249572.26it/s]\n",
            "100%|██████████| 19/19 [00:00<00:00, 145688.80it/s]\n",
            "100%|██████████| 23/23 [00:00<00:00, 145944.01it/s]\n",
            "100%|██████████| 97/97 [00:00<00:00, 292906.76it/s]\n",
            "100%|██████████| 21/21 [00:00<00:00, 158133.54it/s]\n",
            "100%|██████████| 25/25 [00:00<00:00, 169398.38it/s]\n",
            "100%|██████████| 15/15 [00:00<00:00, 126081.28it/s]\n",
            "100%|██████████| 45/45 [00:00<00:00, 223101.28it/s]\n",
            "100%|██████████| 20/20 [00:00<00:00, 158574.82it/s]\n",
            "100%|██████████| 38/38 [00:00<00:00, 194133.44it/s]\n",
            "100%|██████████| 47/47 [00:00<00:00, 247965.14it/s]\n",
            "100%|██████████| 46/46 [00:00<00:00, 218009.02it/s]\n",
            "100%|██████████| 113/113 [00:00<00:00, 305975.70it/s]\n",
            "100%|██████████| 137/137 [00:00<00:00, 308107.05it/s]\n",
            "100%|██████████| 69/69 [00:00<00:00, 255885.92it/s]\n",
            "100%|██████████| 33/33 [00:00<00:00, 198014.35it/s]\n",
            "100%|██████████| 18/18 [00:00<00:00, 139037.70it/s]\n",
            "100%|██████████| 52/52 [00:00<00:00, 233766.14it/s]\n",
            "100%|██████████| 71/71 [00:00<00:00, 243297.05it/s]\n",
            "100%|██████████| 36/36 [00:00<00:00, 196864.33it/s]\n",
            "100%|██████████| 20/20 [00:00<00:00, 151967.54it/s]\n",
            "100%|██████████| 32/32 [00:00<00:00, 195652.66it/s]\n",
            "100%|██████████| 27/27 [00:00<00:00, 167276.53it/s]\n",
            "100%|██████████| 242/242 [00:00<00:00, 358285.06it/s]\n",
            "100%|██████████| 28/28 [00:00<00:00, 184076.04it/s]\n",
            "100%|██████████| 85/85 [00:00<00:00, 299090.47it/s]\n",
            "100%|██████████| 99/99 [00:00<00:00, 274264.26it/s]\n",
            "100%|██████████| 64/64 [00:00<00:00, 236298.82it/s]\n",
            "100%|██████████| 18/18 [00:00<00:00, 145187.45it/s]\n",
            "100%|██████████| 17/17 [00:00<00:00, 202565.82it/s]\n",
            "100%|██████████| 33/33 [00:00<00:00, 212288.39it/s]\n",
            "100%|██████████| 35/35 [00:00<00:00, 193158.74it/s]\n",
            "100%|██████████| 35/35 [00:00<00:00, 206180.67it/s]\n",
            "100%|██████████| 79/79 [00:00<00:00, 273391.10it/s]\n",
            "100%|██████████| 156/156 [00:00<00:00, 313217.53it/s]\n",
            "100%|██████████| 23/23 [00:00<00:00, 161589.60it/s]\n",
            "100%|██████████| 30/30 [00:00<00:00, 189501.69it/s]\n",
            "100%|██████████| 66/66 [00:00<00:00, 287758.90it/s]\n",
            "100%|██████████| 58/58 [00:00<00:00, 239203.18it/s]\n",
            "100%|██████████| 58/58 [00:00<00:00, 247476.74it/s]\n",
            "100%|██████████| 33/33 [00:00<00:00, 191972.31it/s]\n",
            "100%|██████████| 52/52 [00:00<00:00, 270264.94it/s]\n",
            "100%|██████████| 89/89 [00:00<00:00, 306228.92it/s]\n",
            "100%|██████████| 37/37 [00:00<00:00, 198198.27it/s]\n",
            "100%|██████████| 15/15 [00:00<00:00, 110183.12it/s]\n",
            "100%|██████████| 22/22 [00:00<00:00, 159369.06it/s]\n",
            "100%|██████████| 25/25 [00:00<00:00, 121644.55it/s]\n",
            "100%|██████████| 19/19 [00:00<00:00, 204863.18it/s]\n",
            "100%|██████████| 18/18 [00:00<00:00, 114217.05it/s]\n",
            "100%|██████████| 72/72 [00:00<00:00, 284627.60it/s]\n",
            "100%|██████████| 58/58 [00:00<00:00, 231685.36it/s]\n",
            "100%|██████████| 28/28 [00:00<00:00, 213140.68it/s]\n",
            "100%|██████████| 24/24 [00:00<00:00, 131930.93it/s]\n",
            "100%|██████████| 154/154 [00:00<00:00, 326223.64it/s]\n",
            "100%|██████████| 36/36 [00:00<00:00, 216635.50it/s]\n",
            "100%|██████████| 43/43 [00:00<00:00, 203102.56it/s]\n",
            "100%|██████████| 30/30 [00:00<00:00, 178228.22it/s]\n",
            "100%|██████████| 49/49 [00:00<00:00, 230404.59it/s]\n",
            "100%|██████████| 22/22 [00:00<00:00, 171833.68it/s]\n",
            "100%|██████████| 7/7 [00:00<00:00, 77467.36it/s]\n",
            "100%|██████████| 13/13 [00:00<00:00, 119052.30it/s]\n",
            "100%|██████████| 23/23 [00:00<00:00, 147506.10it/s]\n",
            "100%|██████████| 16/16 [00:00<00:00, 150806.44it/s]\n",
            "100%|██████████| 618/618 [00:00<00:00, 352663.93it/s]\n",
            "100%|██████████| 57/57 [00:00<00:00, 243457.56it/s]\n",
            "100%|██████████| 18/18 [00:00<00:00, 143804.71it/s]\n",
            "100%|██████████| 38/38 [00:00<00:00, 239314.64it/s]\n",
            "100%|██████████| 8/8 [00:00<00:00, 95869.81it/s]\n",
            "100%|██████████| 25/25 [00:00<00:00, 196362.55it/s]\n",
            "100%|██████████| 104/104 [00:00<00:00, 288115.99it/s]\n",
            "100%|██████████| 81/81 [00:00<00:00, 270708.07it/s]\n"
          ]
        }
      ],
      "source": [
        "entities = []\n",
        "ent_liste = []\n",
        "idx_list = []\n",
        "idxs_ent = []\n",
        "\n",
        "for i in range(len(corpus_tokens)):\n",
        "    for j in tqdm(range(len(corpus_tokens[i]))):\n",
        "        if corpus_tags[i][j] == \"NN\" or corpus_tags[i][j] == \"NNP\" or corpus_tags[i][j] == \"NNPS\" or corpus_tags[i][j] == \"NNS\":\n",
        "            idx_list.append(j)\n",
        "        else:\n",
        "            if idx_list != []:\n",
        "                # print(idx_list)\n",
        "                entity = [corpus_tokens[i][idx] for idx in idx_list]\n",
        "                entity = tuple(nltk.ngrams(entity, len(entity)))\n",
        "                ent_liste.append(entity)\n",
        "                idxs_ent.append(idx_list)\n",
        "                idx_list = []\n",
        "    entities.append(ent_liste)\n",
        "    ent_liste = []\n",
        "    idxs_ent.append(idx_list)\n",
        "    idx_list = []"
      ]
    },
    {
      "cell_type": "code",
      "execution_count": 101,
      "id": "350cd6b9-5f8c-4aea-a9e9-fb9b349e6239",
      "metadata": {
        "colab": {
          "base_uri": "https://localhost:8080/"
        },
        "id": "350cd6b9-5f8c-4aea-a9e9-fb9b349e6239",
        "outputId": "d87260cc-8a84-4d43-b981-ef3be6b361a0"
      },
      "outputs": [
        {
          "output_type": "stream",
          "name": "stderr",
          "text": [
            "100%|██████████| 92/92 [00:00<00:00, 278008.62it/s]\n",
            "100%|██████████| 35/35 [00:00<00:00, 211833.54it/s]\n",
            "100%|██████████| 15/15 [00:00<00:00, 136770.78it/s]\n",
            "100%|██████████| 52/52 [00:00<00:00, 239411.42it/s]\n",
            "100%|██████████| 17/17 [00:00<00:00, 152683.44it/s]\n",
            "100%|██████████| 17/17 [00:00<00:00, 102742.32it/s]\n",
            "100%|██████████| 14/14 [00:00<00:00, 125739.31it/s]\n",
            "100%|██████████| 26/26 [00:00<00:00, 162279.62it/s]\n",
            "100%|██████████| 28/28 [00:00<00:00, 189726.19it/s]\n",
            "100%|██████████| 55/55 [00:00<00:00, 249931.44it/s]\n",
            "100%|██████████| 72/72 [00:00<00:00, 271329.64it/s]\n",
            "100%|██████████| 30/30 [00:00<00:00, 183157.38it/s]\n",
            "100%|██████████| 12/12 [00:00<00:00, 116239.37it/s]\n",
            "100%|██████████| 53/53 [00:00<00:00, 235485.29it/s]\n",
            "100%|██████████| 59/59 [00:00<00:00, 262144.00it/s]\n",
            "100%|██████████| 15/15 [00:00<00:00, 112952.53it/s]\n",
            "100%|██████████| 5/5 [00:00<00:00, 58254.22it/s]\n",
            "100%|██████████| 16/16 [00:00<00:00, 155344.59it/s]\n",
            "100%|██████████| 18/18 [00:00<00:00, 140853.49it/s]\n",
            "100%|██████████| 24/24 [00:00<00:00, 169752.61it/s]\n",
            "100%|██████████| 133/133 [00:00<00:00, 302353.62it/s]\n",
            "100%|██████████| 77/77 [00:00<00:00, 307582.29it/s]\n",
            "100%|██████████| 111/111 [00:00<00:00, 305691.23it/s]\n",
            "100%|██████████| 37/37 [00:00<00:00, 180033.93it/s]\n",
            "100%|██████████| 251/251 [00:00<00:00, 323929.32it/s]\n",
            "100%|██████████| 22/22 [00:00<00:00, 153791.15it/s]\n",
            "100%|██████████| 95/95 [00:00<00:00, 314490.04it/s]\n",
            "100%|██████████| 188/188 [00:00<00:00, 177836.98it/s]\n",
            "100%|██████████| 126/126 [00:00<00:00, 341176.44it/s]\n",
            "100%|██████████| 23/23 [00:00<00:00, 212486.77it/s]\n",
            "100%|██████████| 10/10 [00:00<00:00, 107271.20it/s]\n",
            "100%|██████████| 17/17 [00:00<00:00, 158451.48it/s]\n",
            "100%|██████████| 53/53 [00:00<00:00, 252324.76it/s]\n",
            "100%|██████████| 16/16 [00:00<00:00, 116306.52it/s]\n",
            "100%|██████████| 22/22 [00:00<00:00, 143954.27it/s]\n",
            "100%|██████████| 8/8 [00:00<00:00, 71089.90it/s]\n",
            "100%|██████████| 22/22 [00:00<00:00, 143730.04it/s]\n",
            "100%|██████████| 35/35 [00:00<00:00, 191395.88it/s]\n",
            "100%|██████████| 28/28 [00:00<00:00, 181515.47it/s]\n",
            "100%|██████████| 62/62 [00:00<00:00, 251010.47it/s]\n",
            "100%|██████████| 182/182 [00:00<00:00, 321958.38it/s]\n",
            "100%|██████████| 54/54 [00:00<00:00, 224917.99it/s]\n",
            "100%|██████████| 26/26 [00:00<00:00, 95996.39it/s]\n",
            "100%|██████████| 18/18 [00:00<00:00, 171196.08it/s]\n",
            "100%|██████████| 33/33 [00:00<00:00, 198298.04it/s]\n",
            "100%|██████████| 21/21 [00:00<00:00, 151862.73it/s]\n",
            "100%|██████████| 17/17 [00:00<00:00, 137385.68it/s]\n",
            "100%|██████████| 8/8 [00:00<00:00, 76087.15it/s]\n",
            "100%|██████████| 26/26 [00:00<00:00, 166491.46it/s]\n",
            "100%|██████████| 184/184 [00:00<00:00, 384721.80it/s]\n",
            "100%|██████████| 34/34 [00:00<00:00, 200571.50it/s]\n",
            "100%|██████████| 33/33 [00:00<00:00, 196608.00it/s]\n",
            "100%|██████████| 43/43 [00:00<00:00, 234227.37it/s]\n",
            "100%|██████████| 70/70 [00:00<00:00, 267884.38it/s]\n",
            "100%|██████████| 11/11 [00:00<00:00, 81227.72it/s]\n",
            "100%|██████████| 17/17 [00:00<00:00, 184723.23it/s]\n",
            "100%|██████████| 26/26 [00:00<00:00, 200095.24it/s]\n",
            "100%|██████████| 21/21 [00:00<00:00, 148533.53it/s]\n",
            "100%|██████████| 26/26 [00:00<00:00, 174204.32it/s]\n",
            "100%|██████████| 22/22 [00:00<00:00, 163607.60it/s]\n",
            "100%|██████████| 29/29 [00:00<00:00, 188581.11it/s]\n",
            "100%|██████████| 59/59 [00:00<00:00, 235455.70it/s]\n",
            "100%|██████████| 29/29 [00:00<00:00, 186270.77it/s]\n",
            "100%|██████████| 88/88 [00:00<00:00, 297180.96it/s]\n",
            "100%|██████████| 52/52 [00:00<00:00, 222554.91it/s]\n",
            "100%|██████████| 15/15 [00:00<00:00, 131620.42it/s]\n",
            "100%|██████████| 21/21 [00:00<00:00, 150307.82it/s]\n",
            "100%|██████████| 56/56 [00:00<00:00, 221795.11it/s]\n",
            "100%|██████████| 29/29 [00:00<00:00, 202387.38it/s]\n",
            "100%|██████████| 25/25 [00:00<00:00, 197100.75it/s]\n",
            "100%|██████████| 147/147 [00:00<00:00, 345413.27it/s]\n",
            "100%|██████████| 47/47 [00:00<00:00, 213577.78it/s]\n",
            "100%|██████████| 92/92 [00:00<00:00, 290569.25it/s]\n",
            "100%|██████████| 36/36 [00:00<00:00, 209424.33it/s]\n",
            "100%|██████████| 9/9 [00:00<00:00, 89664.46it/s]\n",
            "100%|██████████| 39/39 [00:00<00:00, 200217.69it/s]\n",
            "100%|██████████| 35/35 [00:00<00:00, 230095.05it/s]\n",
            "100%|██████████| 28/28 [00:00<00:00, 198379.24it/s]\n",
            "100%|██████████| 23/23 [00:00<00:00, 171044.31it/s]\n",
            "100%|██████████| 48/48 [00:00<00:00, 182.84it/s]\n",
            "100%|██████████| 29/29 [00:00<00:00, 170835.42it/s]\n",
            "100%|██████████| 239/239 [00:00<00:00, 358141.71it/s]\n",
            "100%|██████████| 37/37 [00:00<00:00, 188108.18it/s]\n",
            "100%|██████████| 38/38 [00:00<00:00, 218633.13it/s]\n",
            "100%|██████████| 19/19 [00:00<00:00, 149235.54it/s]\n",
            "100%|██████████| 42/42 [00:00<00:00, 229675.06it/s]\n",
            "100%|██████████| 10/10 [00:00<00:00, 90589.72it/s]\n",
            "100%|██████████| 54/54 [00:00<00:00, 224917.99it/s]\n",
            "100%|██████████| 61/61 [00:00<00:00, 237560.39it/s]\n",
            "100%|██████████| 16/16 [00:00<00:00, 127583.39it/s]\n",
            "100%|██████████| 40/40 [00:00<00:00, 183558.16it/s]\n",
            "100%|██████████| 70/70 [00:00<00:00, 234505.81it/s]\n",
            "100%|██████████| 25/25 [00:00<00:00, 169947.49it/s]\n",
            "100%|██████████| 27/27 [00:00<00:00, 180328.36it/s]\n",
            "100%|██████████| 58/58 [00:00<00:00, 248741.96it/s]\n",
            "100%|██████████| 28/28 [00:00<00:00, 219514.98it/s]\n",
            "100%|██████████| 35/35 [00:00<00:00, 191645.74it/s]\n",
            "100%|██████████| 79/79 [00:00<00:00, 123915.49it/s]\n",
            "100%|██████████| 22/22 [00:00<00:00, 193854.39it/s]\n",
            "100%|██████████| 53/53 [00:00<00:00, 257886.44it/s]\n",
            "100%|██████████| 214/214 [00:00<00:00, 353796.24it/s]\n",
            "100%|██████████| 217/217 [00:00<00:00, 350197.76it/s]\n",
            "100%|██████████| 139/139 [00:00<00:00, 300674.71it/s]\n",
            "100%|██████████| 23/23 [00:00<00:00, 154845.89it/s]\n",
            "100%|██████████| 90/90 [00:00<00:00, 283186.32it/s]\n",
            "100%|██████████| 71/71 [00:00<00:00, 246112.05it/s]\n",
            "100%|██████████| 31/31 [00:00<00:00, 180087.84it/s]\n",
            "100%|██████████| 34/34 [00:00<00:00, 189888.60it/s]\n",
            "100%|██████████| 190/190 [00:00<00:00, 331496.57it/s]\n",
            "100%|██████████| 22/22 [00:00<00:00, 173448.66it/s]\n",
            "100%|██████████| 22/22 [00:00<00:00, 160477.72it/s]\n",
            "100%|██████████| 17/17 [00:00<00:00, 168964.85it/s]\n",
            "100%|██████████| 91/91 [00:00<00:00, 263956.89it/s]\n",
            "100%|██████████| 104/104 [00:00<00:00, 276957.22it/s]\n",
            "100%|██████████| 82/82 [00:00<00:00, 291963.44it/s]\n",
            "100%|██████████| 51/51 [00:00<00:00, 233525.66it/s]\n",
            "100%|██████████| 172/172 [00:00<00:00, 331382.77it/s]\n",
            "100%|██████████| 65/65 [00:00<00:00, 226813.44it/s]\n",
            "100%|██████████| 65/65 [00:00<00:00, 270197.98it/s]\n",
            "100%|██████████| 49/49 [00:00<00:00, 152237.70it/s]\n",
            "100%|██████████| 56/56 [00:00<00:00, 262730.45it/s]\n",
            "100%|██████████| 58/58 [00:00<00:00, 233688.41it/s]\n",
            "100%|██████████| 37/37 [00:00<00:00, 215840.40it/s]\n",
            "100%|██████████| 37/37 [00:00<00:00, 209715.20it/s]\n",
            "100%|██████████| 182/182 [00:00<00:00, 320471.59it/s]\n",
            "100%|██████████| 12/12 [00:00<00:00, 102508.45it/s]\n",
            "100%|██████████| 14/14 [00:00<00:00, 124936.71it/s]\n",
            "100%|██████████| 21/21 [00:00<00:00, 157567.77it/s]\n",
            "100%|██████████| 81/81 [00:00<00:00, 272663.42it/s]\n",
            "100%|██████████| 246/246 [00:00<00:00, 320733.22it/s]\n",
            "100%|██████████| 181/181 [00:00<00:00, 335173.96it/s]\n",
            "100%|██████████| 165/165 [00:00<00:00, 255655.77it/s]\n",
            "100%|██████████| 37/37 [00:00<00:00, 253577.20it/s]\n",
            "100%|██████████| 145/145 [00:00<00:00, 296381.13it/s]\n",
            "100%|██████████| 22/22 [00:00<00:00, 159369.06it/s]\n",
            "100%|██████████| 156/156 [00:00<00:00, 354448.23it/s]\n",
            "100%|██████████| 44/44 [00:00<00:00, 226163.45it/s]\n",
            "100%|██████████| 393/393 [00:00<00:00, 417729.72it/s]\n",
            "100%|██████████| 69/69 [00:00<00:00, 289117.86it/s]\n",
            "100%|██████████| 38/38 [00:00<00:00, 186850.59it/s]\n",
            "100%|██████████| 35/35 [00:00<00:00, 214935.05it/s]\n",
            "100%|██████████| 64/64 [00:00<00:00, 250172.84it/s]\n",
            "100%|██████████| 110/110 [00:00<00:00, 284974.33it/s]\n",
            "100%|██████████| 29/29 [00:00<00:00, 183184.96it/s]\n",
            "100%|██████████| 68/68 [00:00<00:00, 261903.28it/s]\n",
            "100%|██████████| 67/67 [00:00<00:00, 242257.21it/s]\n",
            "100%|██████████| 19/19 [00:00<00:00, 116508.44it/s]\n",
            "100%|██████████| 23/23 [00:00<00:00, 157371.93it/s]\n",
            "100%|██████████| 97/97 [00:00<00:00, 242459.77it/s]\n",
            "100%|██████████| 21/21 [00:00<00:00, 151601.35it/s]\n",
            "100%|██████████| 25/25 [00:00<00:00, 126182.43it/s]\n",
            "100%|██████████| 15/15 [00:00<00:00, 123120.47it/s]\n",
            "100%|██████████| 45/45 [00:00<00:00, 190842.95it/s]\n",
            "100%|██████████| 20/20 [00:00<00:00, 121398.09it/s]\n",
            "100%|██████████| 38/38 [00:00<00:00, 182779.30it/s]\n",
            "100%|██████████| 47/47 [00:00<00:00, 220013.71it/s]\n",
            "100%|██████████| 46/46 [00:00<00:00, 249596.36it/s]\n",
            "100%|██████████| 113/113 [00:00<00:00, 336139.26it/s]\n",
            "100%|██████████| 137/137 [00:00<00:00, 307119.00it/s]\n",
            "100%|██████████| 69/69 [00:00<00:00, 280705.12it/s]\n",
            "100%|██████████| 33/33 [00:00<00:00, 196051.04it/s]\n",
            "100%|██████████| 18/18 [00:00<00:00, 139037.70it/s]\n",
            "100%|██████████| 52/52 [00:00<00:00, 255390.88it/s]\n",
            "100%|██████████| 71/71 [00:00<00:00, 31737.78it/s]\n",
            "100%|██████████| 36/36 [00:00<00:00, 206277.25it/s]\n",
            "100%|██████████| 20/20 [00:00<00:00, 165455.78it/s]\n",
            "100%|██████████| 32/32 [00:00<00:00, 191739.61it/s]\n",
            "100%|██████████| 27/27 [00:00<00:00, 188429.63it/s]\n",
            "100%|██████████| 242/242 [00:00<00:00, 289344.80it/s]\n",
            "100%|██████████| 28/28 [00:00<00:00, 184365.01it/s]\n",
            "100%|██████████| 85/85 [00:00<00:00, 301365.88it/s]\n",
            "100%|██████████| 99/99 [00:00<00:00, 300677.84it/s]\n",
            "100%|██████████| 64/64 [00:00<00:00, 238821.58it/s]\n",
            "100%|██████████| 18/18 [00:00<00:00, 130392.87it/s]\n",
            "100%|██████████| 17/17 [00:00<00:00, 149482.53it/s]\n",
            "100%|██████████| 33/33 [00:00<00:00, 178826.91it/s]\n",
            "100%|██████████| 35/35 [00:00<00:00, 81239.98it/s]\n",
            "100%|██████████| 35/35 [00:00<00:00, 144631.17it/s]\n",
            "100%|██████████| 79/79 [00:00<00:00, 162346.90it/s]\n",
            "100%|██████████| 156/156 [00:00<00:00, 232354.91it/s]\n",
            "100%|██████████| 23/23 [00:00<00:00, 171044.31it/s]\n",
            "100%|██████████| 30/30 [00:00<00:00, 76538.39it/s]\n",
            "100%|██████████| 66/66 [00:00<00:00, 221992.03it/s]\n",
            "100%|██████████| 58/58 [00:00<00:00, 235955.03it/s]\n",
            "100%|██████████| 58/58 [00:00<00:00, 220953.34it/s]\n",
            "100%|██████████| 33/33 [00:00<00:00, 182361.04it/s]\n",
            "100%|██████████| 52/52 [00:00<00:00, 262144.00it/s]\n",
            "100%|██████████| 89/89 [00:00<00:00, 289374.46it/s]\n",
            "100%|██████████| 37/37 [00:00<00:00, 102774.34it/s]\n",
            "100%|██████████| 15/15 [00:00<00:00, 123847.56it/s]\n",
            "100%|██████████| 22/22 [00:00<00:00, 134707.57it/s]\n",
            "100%|██████████| 25/25 [00:00<00:00, 178937.88it/s]\n",
            "100%|██████████| 19/19 [00:00<00:00, 140798.19it/s]\n",
            "100%|██████████| 18/18 [00:00<00:00, 148325.09it/s]\n",
            "100%|██████████| 72/72 [00:00<00:00, 168803.74it/s]\n",
            "100%|██████████| 58/58 [00:00<00:00, 244492.09it/s]\n",
            "100%|██████████| 28/28 [00:00<00:00, 166111.05it/s]\n",
            "100%|██████████| 24/24 [00:00<00:00, 122610.59it/s]\n",
            "100%|██████████| 154/154 [00:00<00:00, 353156.27it/s]\n",
            "100%|██████████| 36/36 [00:00<00:00, 207695.93it/s]\n",
            "100%|██████████| 43/43 [00:00<00:00, 106404.17it/s]\n",
            "100%|██████████| 30/30 [00:00<00:00, 179755.89it/s]\n",
            "100%|██████████| 49/49 [00:00<00:00, 125777.78it/s]\n",
            "100%|██████████| 22/22 [00:00<00:00, 156929.74it/s]\n",
            "100%|██████████| 7/7 [00:00<00:00, 69409.29it/s]\n",
            "100%|██████████| 13/13 [00:00<00:00, 143489.35it/s]\n",
            "100%|██████████| 23/23 [00:00<00:00, 172574.23it/s]\n",
            "100%|██████████| 16/16 [00:00<00:00, 142179.80it/s]\n",
            "100%|██████████| 618/618 [00:00<00:00, 410398.97it/s]\n",
            "100%|██████████| 57/57 [00:00<00:00, 218733.15it/s]\n",
            "100%|██████████| 18/18 [00:00<00:00, 143531.32it/s]\n",
            "100%|██████████| 38/38 [00:00<00:00, 190650.18it/s]\n",
            "100%|██████████| 8/8 [00:00<00:00, 70492.50it/s]\n",
            "100%|██████████| 25/25 [00:00<00:00, 171616.37it/s]\n",
            "100%|██████████| 104/104 [00:00<00:00, 283804.56it/s]\n",
            "100%|██████████| 81/81 [00:00<00:00, 150793.89it/s]\n"
          ]
        }
      ],
      "source": [
        "verbs = []\n",
        "vbs_liste = []\n",
        "idx_list = []\n",
        "idxs_vbs = []\n",
        "\n",
        "for i in range(len(corpus_tokens)):\n",
        "    for j in tqdm(range(len(corpus_tokens[i]))):\n",
        "        if corpus_tags[i][j] == \"VB\" or corpus_tags[i][j] == \"VBD\" or corpus_tags[i][j] == \"VBG\" or corpus_tags[i][j] == \"VBN\" or corpus_tags[i][j] == \"VBP\" or corpus_tags[i][j] == \"VBZ\":\n",
        "            idx_list.append(j)\n",
        "        else:\n",
        "            if idx_list != []:\n",
        "                # print(idx_list)\n",
        "                verb = [corpus_tokens[i][idx] for idx in idx_list]\n",
        "                verb = tuple(nltk.ngrams(verb, len(verb)))\n",
        "                vbs_liste.append(verb)\n",
        "                idxs_vbs.append(idx_list)\n",
        "                idx_list = []\n",
        "    verbs.append(vbs_liste)\n",
        "    vbs_liste = []\n",
        "    idxs_vbs.append(idx_list)\n",
        "    idx_list = []"
      ]
    },
    {
      "cell_type": "code",
      "execution_count": 102,
      "id": "a33edc7f-1325-423c-9998-cb593b7a643d",
      "metadata": {
        "colab": {
          "base_uri": "https://localhost:8080/"
        },
        "id": "a33edc7f-1325-423c-9998-cb593b7a643d",
        "outputId": "ee9ac0d6-7ec8-4a1f-d74e-9c42e733444e"
      },
      "outputs": [
        {
          "output_type": "execute_result",
          "data": {
            "text/plain": [
              "8"
            ]
          },
          "metadata": {},
          "execution_count": 102
        }
      ],
      "source": [
        "len(entities[3])"
      ]
    },
    {
      "cell_type": "code",
      "execution_count": 103,
      "id": "e2369a54-7ec5-44cb-9757-027631c29ba9",
      "metadata": {
        "colab": {
          "base_uri": "https://localhost:8080/"
        },
        "id": "e2369a54-7ec5-44cb-9757-027631c29ba9",
        "outputId": "dd5dd57b-120f-4ae0-9813-02a10ba675ef"
      },
      "outputs": [
        {
          "output_type": "execute_result",
          "data": {
            "text/plain": [
              "7"
            ]
          },
          "metadata": {},
          "execution_count": 103
        }
      ],
      "source": [
        "len(verbs[3])"
      ]
    },
    {
      "cell_type": "code",
      "execution_count": 104,
      "id": "8bc2b8cc-047a-4ab0-9d74-67b5128436e9",
      "metadata": {
        "id": "8bc2b8cc-047a-4ab0-9d74-67b5128436e9"
      },
      "outputs": [],
      "source": [
        "idxs_ent = [ent for ent in idxs_ent if ent != []]\n",
        "idxs_vbs = [vbs for vbs in idxs_vbs if vbs != []]"
      ]
    },
    {
      "cell_type": "code",
      "execution_count": 105,
      "id": "f50c71cd-ebd5-4f58-adf0-6d283f7faef5",
      "metadata": {
        "colab": {
          "base_uri": "https://localhost:8080/"
        },
        "id": "f50c71cd-ebd5-4f58-adf0-6d283f7faef5",
        "outputId": "9886b43c-9913-443e-94e9-2e37feb42d83"
      },
      "outputs": [
        {
          "output_type": "execute_result",
          "data": {
            "text/plain": [
              "[(('Project', 'management', 'plan', 'commons'),),\n",
              " (('Quality', 'management', 'plan', 'way', 'project', 'product', 'scope'),),\n",
              " (('organization', 'quality', 'policy', 'methodologies', 'standards'),),\n",
              " (('project',\n",
              "   'Project',\n",
              "   'life',\n",
              "   'cycle',\n",
              "   'description',\n",
              "   'project',\n",
              "   'life',\n",
              "   'cycle'),),\n",
              " (('series', 'phases', 'project'),),\n",
              " (('inception', 'end', 'project', 'Development'),),\n",
              " (('development', 'approach'),),\n",
              " (('waterfall', 'agile', 'development', 'approach'),)]"
            ]
          },
          "metadata": {},
          "execution_count": 105
        }
      ],
      "source": [
        "entities[3]"
      ]
    },
    {
      "cell_type": "code",
      "execution_count": 106,
      "id": "5b345e84-b8f1-4ed5-9de0-133c7c7efe9a",
      "metadata": {
        "colab": {
          "base_uri": "https://localhost:8080/"
        },
        "id": "5b345e84-b8f1-4ed5-9de0-133c7c7efe9a",
        "outputId": "b329901e-f1db-4867-d00a-83f0ef4b229c"
      },
      "outputs": [
        {
          "output_type": "execute_result",
          "data": {
            "text/plain": [
              "[(('include', 'are', 'limited'),),\n",
              " (('be', 'managed', 'be', 'influenced'),),\n",
              " (('are', 'implemented'),),\n",
              " (('determines',),),\n",
              " (('pages',),),\n",
              " (('approach',),),\n",
              " (('defines',),)]"
            ]
          },
          "metadata": {},
          "execution_count": 106
        }
      ],
      "source": [
        "verbs[3]"
      ]
    },
    {
      "cell_type": "markdown",
      "id": "d842e119-0cce-4a3a-b92c-514d066524df",
      "metadata": {
        "id": "d842e119-0cce-4a3a-b92c-514d066524df"
      },
      "source": [
        "#### Univeral tagset:"
      ]
    },
    {
      "cell_type": "code",
      "execution_count": 107,
      "id": "dc42cd4a-5fe4-41c8-b452-c3afcf61ff36",
      "metadata": {
        "id": "dc42cd4a-5fe4-41c8-b452-c3afcf61ff36"
      },
      "outputs": [],
      "source": [
        "##initialize tokenizer\n",
        "def tokenize_tag(text):\n",
        "    tokens = word_tokenize(text)\n",
        "    tags = nltk.pos_tag(tokens, tagset='universal')\n",
        "    return tokens, tags\n",
        "corpus_tokens = []\n",
        "corpus_tags = []"
      ]
    },
    {
      "cell_type": "code",
      "execution_count": 108,
      "id": "34f935fa-5f13-4c35-9505-dee60010d51d",
      "metadata": {
        "id": "34f935fa-5f13-4c35-9505-dee60010d51d"
      },
      "outputs": [],
      "source": [
        "for text in  df[\"Definition\"].values:\n",
        "    tok, tag = tokenize_tag(text)\n",
        "    corpus_tokens.append(tok)\n",
        "    corpus_tags.append(tag)"
      ]
    },
    {
      "cell_type": "code",
      "execution_count": 109,
      "id": "ebbcda3e-9977-4476-901a-dfe59a718d84",
      "metadata": {
        "id": "ebbcda3e-9977-4476-901a-dfe59a718d84"
      },
      "outputs": [],
      "source": [
        "corpus_tags = list(map(lambda x: [tok[1] for tok in x], corpus_tags))"
      ]
    },
    {
      "cell_type": "code",
      "execution_count": 110,
      "id": "27d7ab1d-b1e5-4e66-a80e-f1474db051e4",
      "metadata": {
        "id": "27d7ab1d-b1e5-4e66-a80e-f1474db051e4"
      },
      "outputs": [],
      "source": [
        "words = []\n",
        "tags = []\n",
        "list_words = []\n",
        "list_tags = []\n",
        "for i in range(len(corpus_tokens)):\n",
        "    for j in range(len(corpus_tokens[i])):\n",
        "        nouns_cond = corpus_tags[i][j] == \"NOUN\"\n",
        "        verbs_cond = corpus_tags[i][j] == \"VERB\"\n",
        "        if nouns_cond or verbs_cond:\n",
        "            # print(corpus_tokens[i][j])\n",
        "            words.append(corpus_tokens[i][j])\n",
        "            tags.append(corpus_tags[i][j])\n",
        "    list_words.append(words)\n",
        "    list_tags.append(tags)\n",
        "    words = []\n",
        "    tags = []\n",
        "corpus_tokens = list_words\n",
        "corpus_tags = list_tags"
      ]
    },
    {
      "cell_type": "code",
      "execution_count": 111,
      "id": "6d124cd9-fd00-4a6d-ad12-47cba0843004",
      "metadata": {
        "colab": {
          "base_uri": "https://localhost:8080/"
        },
        "id": "6d124cd9-fd00-4a6d-ad12-47cba0843004",
        "outputId": "2cc506ff-0b84-454a-f23b-28c2a9d97da9"
      },
      "outputs": [
        {
          "output_type": "stream",
          "name": "stderr",
          "text": [
            "100%|██████████| 93/93 [00:00<00:00, 238867.28it/s]\n",
            "100%|██████████| 37/37 [00:00<00:00, 255245.47it/s]\n",
            "100%|██████████| 15/15 [00:00<00:00, 116508.44it/s]\n",
            "100%|██████████| 55/55 [00:00<00:00, 233725.15it/s]\n",
            "100%|██████████| 18/18 [00:00<00:00, 78479.70it/s]\n",
            "100%|██████████| 18/18 [00:00<00:00, 128615.80it/s]\n",
            "100%|██████████| 15/15 [00:00<00:00, 134432.82it/s]\n",
            "100%|██████████| 27/27 [00:00<00:00, 197637.36it/s]\n",
            "100%|██████████| 30/30 [00:00<00:00, 210769.05it/s]\n",
            "100%|██████████| 59/59 [00:00<00:00, 30706.53it/s]\n",
            "100%|██████████| 79/79 [00:00<00:00, 310252.82it/s]\n",
            "100%|██████████| 30/30 [00:00<00:00, 92115.02it/s]\n",
            "100%|██████████| 13/13 [00:00<00:00, 17543.74it/s]\n",
            "100%|██████████| 55/55 [00:00<00:00, 263341.00it/s]\n",
            "100%|██████████| 62/62 [00:00<00:00, 246256.48it/s]\n",
            "100%|██████████| 17/17 [00:00<00:00, 111585.55it/s]\n",
            "100%|██████████| 6/6 [00:00<00:00, 12128.11it/s]\n",
            "100%|██████████| 17/17 [00:00<00:00, 115190.90it/s]\n",
            "100%|██████████| 19/19 [00:00<00:00, 64632.42it/s]\n",
            "100%|██████████| 25/25 [00:00<00:00, 82565.04it/s]\n",
            "100%|██████████| 138/138 [00:00<00:00, 293963.41it/s]\n",
            "100%|██████████| 80/80 [00:00<00:00, 51212.50it/s]\n",
            "100%|██████████| 115/115 [00:00<00:00, 215621.35it/s]\n",
            "100%|██████████| 38/38 [00:00<00:00, 148401.82it/s]\n",
            "100%|██████████| 258/258 [00:00<00:00, 386337.18it/s]\n",
            "100%|██████████| 22/22 [00:00<00:00, 150529.67it/s]\n",
            "100%|██████████| 95/95 [00:00<00:00, 302320.85it/s]\n",
            "100%|██████████| 194/194 [00:00<00:00, 293540.76it/s]\n",
            "100%|██████████| 129/129 [00:00<00:00, 324185.27it/s]\n",
            "100%|██████████| 23/23 [00:00<00:00, 177987.07it/s]\n",
            "100%|██████████| 10/10 [00:00<00:00, 103819.41it/s]\n",
            "100%|██████████| 18/18 [00:00<00:00, 141116.77it/s]\n",
            "100%|██████████| 57/57 [00:00<00:00, 269228.97it/s]\n",
            "100%|██████████| 17/17 [00:00<00:00, 57317.66it/s]\n",
            "100%|██████████| 23/23 [00:00<00:00, 164622.85it/s]\n",
            "100%|██████████| 9/9 [00:00<00:00, 41943.04it/s]\n",
            "100%|██████████| 24/24 [00:00<00:00, 154391.56it/s]\n",
            "100%|██████████| 36/36 [00:00<00:00, 201326.59it/s]\n",
            "100%|██████████| 28/28 [00:00<00:00, 100376.51it/s]\n",
            "100%|██████████| 63/63 [00:00<00:00, 257544.98it/s]\n",
            "100%|██████████| 189/189 [00:00<00:00, 347076.82it/s]\n",
            "100%|██████████| 57/57 [00:00<00:00, 252455.47it/s]\n",
            "100%|██████████| 26/26 [00:00<00:00, 180848.93it/s]\n",
            "100%|██████████| 19/19 [00:00<00:00, 153845.13it/s]\n",
            "100%|██████████| 35/35 [00:00<00:00, 205891.50it/s]\n",
            "100%|██████████| 23/23 [00:00<00:00, 150263.23it/s]\n",
            "100%|██████████| 18/18 [00:00<00:00, 129720.74it/s]\n",
            "100%|██████████| 9/9 [00:00<00:00, 74017.13it/s]\n",
            "100%|██████████| 26/26 [00:00<00:00, 158967.79it/s]\n",
            "100%|██████████| 187/187 [00:00<00:00, 327762.16it/s]\n",
            "100%|██████████| 36/36 [00:00<00:00, 111107.39it/s]\n",
            "100%|██████████| 33/33 [00:00<00:00, 192238.93it/s]\n",
            "100%|██████████| 44/44 [00:00<00:00, 131445.42it/s]\n",
            "100%|██████████| 74/74 [00:00<00:00, 259296.99it/s]\n",
            "100%|██████████| 11/11 [00:00<00:00, 87216.15it/s]\n",
            "100%|██████████| 18/18 [00:00<00:00, 112514.86it/s]\n",
            "100%|██████████| 26/26 [00:00<00:00, 84733.41it/s]\n",
            "100%|██████████| 22/22 [00:00<00:00, 169311.35it/s]\n",
            "100%|██████████| 26/26 [00:00<00:00, 206929.61it/s]\n",
            "100%|██████████| 22/22 [00:00<00:00, 175761.31it/s]\n",
            "100%|██████████| 30/30 [00:00<00:00, 189216.72it/s]\n",
            "100%|██████████| 62/62 [00:00<00:00, 134739.30it/s]\n",
            "100%|██████████| 29/29 [00:00<00:00, 185418.93it/s]\n",
            "100%|██████████| 90/90 [00:00<00:00, 194983.14it/s]\n",
            "100%|██████████| 55/55 [00:00<00:00, 247517.94it/s]\n",
            "100%|██████████| 16/16 [00:00<00:00, 60567.57it/s]\n",
            "100%|██████████| 22/22 [00:00<00:00, 157465.34it/s]\n",
            "100%|██████████| 57/57 [00:00<00:00, 259582.33it/s]\n",
            "100%|██████████| 30/30 [00:00<00:00, 197844.53it/s]\n",
            "100%|██████████| 26/26 [00:00<00:00, 190650.18it/s]\n",
            "100%|██████████| 153/153 [00:00<00:00, 331129.26it/s]\n",
            "100%|██████████| 51/51 [00:00<00:00, 259914.34it/s]\n",
            "100%|██████████| 92/92 [00:00<00:00, 317332.21it/s]\n",
            "100%|██████████| 37/37 [00:00<00:00, 185190.03it/s]\n",
            "100%|██████████| 10/10 [00:00<00:00, 97541.95it/s]\n",
            "100%|██████████| 43/43 [00:00<00:00, 219143.47it/s]\n",
            "100%|██████████| 36/36 [00:00<00:00, 113359.57it/s]\n",
            "100%|██████████| 29/29 [00:00<00:00, 202387.38it/s]\n",
            "100%|██████████| 24/24 [00:00<00:00, 85525.32it/s]\n",
            "100%|██████████| 52/52 [00:00<00:00, 242877.29it/s]\n",
            "100%|██████████| 31/31 [00:00<00:00, 158372.01it/s]\n",
            "100%|██████████| 244/244 [00:00<00:00, 219568.80it/s]\n",
            "100%|██████████| 37/37 [00:00<00:00, 189950.12it/s]\n",
            "100%|██████████| 38/38 [00:00<00:00, 181530.24it/s]\n",
            "100%|██████████| 19/19 [00:00<00:00, 146223.44it/s]\n",
            "100%|██████████| 43/43 [00:00<00:00, 123615.54it/s]\n",
            "100%|██████████| 11/11 [00:00<00:00, 82388.11it/s]\n",
            "100%|██████████| 56/56 [00:00<00:00, 159241.37it/s]\n",
            "100%|██████████| 64/64 [00:00<00:00, 229432.01it/s]\n",
            "100%|██████████| 18/18 [00:00<00:00, 62394.60it/s]\n",
            "100%|██████████| 41/41 [00:00<00:00, 184513.37it/s]\n",
            "100%|██████████| 72/72 [00:00<00:00, 276801.00it/s]\n",
            "100%|██████████| 25/25 [00:00<00:00, 164611.62it/s]\n",
            "100%|██████████| 29/29 [00:00<00:00, 113359.57it/s]\n",
            "100%|██████████| 60/60 [00:00<00:00, 285650.67it/s]\n",
            "100%|██████████| 28/28 [00:00<00:00, 168494.28it/s]\n",
            "100%|██████████| 35/35 [00:00<00:00, 196257.54it/s]\n",
            "100%|██████████| 87/87 [00:00<00:00, 253054.40it/s]\n",
            "100%|██████████| 23/23 [00:00<00:00, 179310.39it/s]\n",
            "100%|██████████| 57/57 [00:00<00:00, 242224.24it/s]\n",
            "100%|██████████| 223/223 [00:00<00:00, 356451.90it/s]\n",
            "100%|██████████| 233/233 [00:00<00:00, 304067.46it/s]\n",
            "100%|██████████| 149/149 [00:00<00:00, 250581.91it/s]\n",
            "100%|██████████| 23/23 [00:00<00:00, 150029.54it/s]\n",
            "100%|██████████| 94/94 [00:00<00:00, 200643.55it/s]\n",
            "100%|██████████| 78/78 [00:00<00:00, 278430.39it/s]\n",
            "100%|██████████| 32/32 [00:00<00:00, 67513.95it/s]\n",
            "100%|██████████| 35/35 [00:00<00:00, 200547.32it/s]\n",
            "100%|██████████| 204/204 [00:00<00:00, 267554.10it/s]\n",
            "100%|██████████| 23/23 [00:00<00:00, 174131.75it/s]\n",
            "100%|██████████| 23/23 [00:00<00:00, 138010.00it/s]\n",
            "100%|██████████| 18/18 [00:00<00:00, 141912.54it/s]\n",
            "100%|██████████| 93/93 [00:00<00:00, 259700.58it/s]\n",
            "100%|██████████| 107/107 [00:00<00:00, 203072.64it/s]\n",
            "100%|██████████| 84/84 [00:00<00:00, 293601.28it/s]\n",
            "100%|██████████| 55/55 [00:00<00:00, 159204.09it/s]\n",
            "100%|██████████| 182/182 [00:00<00:00, 268600.75it/s]\n",
            "100%|██████████| 66/66 [00:00<00:00, 245194.03it/s]\n",
            "100%|██████████| 67/67 [00:00<00:00, 309151.12it/s]\n",
            "100%|██████████| 52/52 [00:00<00:00, 262459.46it/s]\n",
            "100%|██████████| 58/58 [00:00<00:00, 159416.53it/s]\n",
            "100%|██████████| 60/60 [00:00<00:00, 304.03it/s]\n",
            "100%|██████████| 37/37 [00:00<00:00, 164395.39it/s]\n",
            "100%|██████████| 37/37 [00:00<00:00, 188108.18it/s]\n",
            "100%|██████████| 191/191 [00:00<00:00, 260270.33it/s]\n",
            "100%|██████████| 14/14 [00:00<00:00, 103017.99it/s]\n",
            "100%|██████████| 15/15 [00:00<00:00, 121456.68it/s]\n",
            "100%|██████████| 22/22 [00:00<00:00, 133925.53it/s]\n",
            "100%|██████████| 82/82 [00:00<00:00, 243924.06it/s]\n",
            "100%|██████████| 253/253 [00:00<00:00, 310916.76it/s]\n",
            "100%|██████████| 188/188 [00:00<00:00, 281316.14it/s]\n",
            "100%|██████████| 168/168 [00:00<00:00, 298830.82it/s]\n",
            "100%|██████████| 37/37 [00:00<00:00, 183222.25it/s]\n",
            "100%|██████████| 151/151 [00:00<00:00, 314781.26it/s]\n",
            "100%|██████████| 22/22 [00:00<00:00, 65957.60it/s]\n",
            "100%|██████████| 158/158 [00:00<00:00, 275665.57it/s]\n",
            "100%|██████████| 45/45 [00:00<00:00, 193782.01it/s]\n",
            "100%|██████████| 398/398 [00:00<00:00, 287617.68it/s]\n",
            "100%|██████████| 70/70 [00:00<00:00, 261443.70it/s]\n",
            "100%|██████████| 40/40 [00:00<00:00, 179243.76it/s]\n",
            "100%|██████████| 37/37 [00:00<00:00, 184969.31it/s]\n",
            "100%|██████████| 68/68 [00:00<00:00, 265067.54it/s]\n",
            "100%|██████████| 117/117 [00:00<00:00, 301248.35it/s]\n",
            "100%|██████████| 29/29 [00:00<00:00, 186843.04it/s]\n",
            "100%|██████████| 71/71 [00:00<00:00, 262838.11it/s]\n",
            "100%|██████████| 71/71 [00:00<00:00, 248369.96it/s]\n",
            "100%|██████████| 19/19 [00:00<00:00, 114499.68it/s]\n",
            "100%|██████████| 24/24 [00:00<00:00, 153684.42it/s]\n",
            "100%|██████████| 99/99 [00:00<00:00, 275721.18it/s]\n",
            "100%|██████████| 24/24 [00:00<00:00, 144839.27it/s]\n",
            "100%|██████████| 25/25 [00:00<00:00, 144631.17it/s]\n",
            "100%|██████████| 15/15 [00:00<00:00, 108848.72it/s]\n",
            "100%|██████████| 47/47 [00:00<00:00, 201773.07it/s]\n",
            "100%|██████████| 20/20 [00:00<00:00, 117159.33it/s]\n",
            "100%|██████████| 39/39 [00:00<00:00, 201450.56it/s]\n",
            "100%|██████████| 49/49 [00:00<00:00, 218175.05it/s]\n",
            "100%|██████████| 48/48 [00:00<00:00, 217885.92it/s]\n",
            "100%|██████████| 117/117 [00:00<00:00, 302921.96it/s]\n",
            "100%|██████████| 146/146 [00:00<00:00, 301659.30it/s]\n",
            "100%|██████████| 71/71 [00:00<00:00, 268042.83it/s]\n",
            "100%|██████████| 35/35 [00:00<00:00, 207932.92it/s]\n",
            "100%|██████████| 19/19 [00:00<00:00, 126695.99it/s]\n",
            "100%|██████████| 54/54 [00:00<00:00, 233256.87it/s]\n",
            "100%|██████████| 74/74 [00:00<00:00, 264151.91it/s]\n",
            "100%|██████████| 37/37 [00:00<00:00, 212879.63it/s]\n",
            "100%|██████████| 21/21 [00:00<00:00, 141154.46it/s]\n",
            "100%|██████████| 35/35 [00:00<00:00, 170500.16it/s]\n",
            "100%|██████████| 29/29 [00:00<00:00, 151853.70it/s]\n",
            "100%|██████████| 249/249 [00:00<00:00, 323738.90it/s]\n",
            "100%|██████████| 28/28 [00:00<00:00, 163111.82it/s]\n",
            "100%|██████████| 86/86 [00:00<00:00, 254918.83it/s]\n",
            "100%|██████████| 104/104 [00:00<00:00, 280699.88it/s]\n",
            "100%|██████████| 65/65 [00:00<00:00, 255750.24it/s]\n",
            "100%|██████████| 19/19 [00:00<00:00, 129160.09it/s]\n",
            "100%|██████████| 18/18 [00:00<00:00, 160291.87it/s]\n",
            "100%|██████████| 34/34 [00:00<00:00, 170377.94it/s]\n",
            "100%|██████████| 37/37 [00:00<00:00, 191591.66it/s]\n",
            "100%|██████████| 35/35 [00:00<00:00, 176868.24it/s]\n",
            "100%|██████████| 81/81 [00:00<00:00, 244592.24it/s]\n",
            "100%|██████████| 169/169 [00:00<00:00, 321906.17it/s]\n",
            "100%|██████████| 24/24 [00:00<00:00, 153919.41it/s]\n",
            "100%|██████████| 31/31 [00:00<00:00, 165214.01it/s]\n",
            "100%|██████████| 68/68 [00:00<00:00, 262868.82it/s]\n",
            "100%|██████████| 60/60 [00:00<00:00, 233665.96it/s]\n",
            "100%|██████████| 65/65 [00:00<00:00, 256955.48it/s]\n",
            "100%|██████████| 34/34 [00:00<00:00, 165436.58it/s]\n",
            "100%|██████████| 53/53 [00:00<00:00, 221633.21it/s]\n",
            "100%|██████████| 93/93 [00:00<00:00, 274118.25it/s]\n",
            "100%|██████████| 38/38 [00:00<00:00, 174571.25it/s]\n",
            "100%|██████████| 16/16 [00:00<00:00, 157532.54it/s]\n",
            "100%|██████████| 23/23 [00:00<00:00, 191406.73it/s]\n",
            "100%|██████████| 26/26 [00:00<00:00, 208911.69it/s]\n",
            "100%|██████████| 20/20 [00:00<00:00, 210240.80it/s]\n",
            "100%|██████████| 18/18 [00:00<00:00, 144079.15it/s]\n",
            "100%|██████████| 75/75 [00:00<00:00, 308404.71it/s]\n",
            "100%|██████████| 62/62 [00:00<00:00, 254947.89it/s]\n",
            "100%|██████████| 30/30 [00:00<00:00, 210416.59it/s]\n",
            "100%|██████████| 25/25 [00:00<00:00, 177724.75it/s]\n",
            "100%|██████████| 156/156 [00:00<00:00, 310984.52it/s]\n",
            "100%|██████████| 39/39 [00:00<00:00, 219273.27it/s]\n",
            "100%|██████████| 45/45 [00:00<00:00, 232157.05it/s]\n",
            "100%|██████████| 30/30 [00:00<00:00, 190074.20it/s]\n",
            "100%|██████████| 50/50 [00:00<00:00, 231473.73it/s]\n",
            "100%|██████████| 24/24 [00:00<00:00, 160803.99it/s]\n",
            "100%|██████████| 7/7 [00:00<00:00, 68120.95it/s]\n",
            "100%|██████████| 13/13 [00:00<00:00, 104057.16it/s]\n",
            "100%|██████████| 24/24 [00:00<00:00, 146100.57it/s]\n",
            "100%|██████████| 16/16 [00:00<00:00, 147168.56it/s]\n",
            "100%|██████████| 633/633 [00:00<00:00, 251944.81it/s]\n",
            "100%|██████████| 59/59 [00:00<00:00, 229558.38it/s]\n",
            "100%|██████████| 18/18 [00:00<00:00, 141381.03it/s]\n",
            "100%|██████████| 38/38 [00:00<00:00, 234387.58it/s]\n",
            "100%|██████████| 8/8 [00:00<00:00, 82646.38it/s]\n",
            "100%|██████████| 26/26 [00:00<00:00, 179361.68it/s]\n",
            "100%|██████████| 107/107 [00:00<00:00, 307601.46it/s]\n",
            "100%|██████████| 87/87 [00:00<00:00, 301573.92it/s]\n"
          ]
        }
      ],
      "source": [
        "entities_ts = []\n",
        "ent_liste = []\n",
        "idx_list = []\n",
        "idxs_ent_ts = []\n",
        "\n",
        "for i in range(len(corpus_tokens)):\n",
        "    for j in tqdm(range(len(corpus_tokens[i]))):\n",
        "        if corpus_tags[i][j] == \"NOUN\":\n",
        "            idx_list.append(j)\n",
        "        else:\n",
        "            if idx_list != []:\n",
        "                # print(idx_list)\n",
        "                entity = [corpus_tokens[i][idx] for idx in idx_list]\n",
        "                entity = tuple(nltk.ngrams(entity, len(entity)))\n",
        "                ent_liste.append(' '.join(ent for ent in entity[0]))\n",
        "                idxs_ent.append(idx_list)\n",
        "                idx_list = []\n",
        "    entities_ts.append(ent_liste)\n",
        "    ent_liste = []\n",
        "    idxs_ent_ts.append(idx_list)\n",
        "    idx_list = []"
      ]
    },
    {
      "cell_type": "code",
      "execution_count": 112,
      "id": "7697d7ac-2dcb-43df-9cae-ff132703ffc8",
      "metadata": {
        "colab": {
          "base_uri": "https://localhost:8080/"
        },
        "id": "7697d7ac-2dcb-43df-9cae-ff132703ffc8",
        "outputId": "2167fa32-f878-427b-fe58-ca7f5a66e734"
      },
      "outputs": [
        {
          "output_type": "stream",
          "name": "stderr",
          "text": [
            "100%|██████████| 93/93 [00:00<00:00, 344585.05it/s]\n",
            "100%|██████████| 37/37 [00:00<00:00, 207195.26it/s]\n",
            "100%|██████████| 15/15 [00:00<00:00, 178228.22it/s]\n",
            "100%|██████████| 55/55 [00:00<00:00, 298816.99it/s]\n",
            "100%|██████████| 18/18 [00:00<00:00, 157614.76it/s]\n",
            "100%|██████████| 18/18 [00:00<00:00, 143531.32it/s]\n",
            "100%|██████████| 15/15 [00:00<00:00, 162569.92it/s]\n",
            "100%|██████████| 27/27 [00:00<00:00, 215296.97it/s]\n",
            "100%|██████████| 30/30 [00:00<00:00, 83607.39it/s]\n",
            "100%|██████████| 59/59 [00:00<00:00, 256971.90it/s]\n",
            "100%|██████████| 79/79 [00:00<00:00, 336054.78it/s]\n",
            "100%|██████████| 30/30 [00:00<00:00, 185588.67it/s]\n",
            "100%|██████████| 13/13 [00:00<00:00, 151882.87it/s]\n",
            "100%|██████████| 55/55 [00:00<00:00, 275941.05it/s]\n",
            "100%|██████████| 62/62 [00:00<00:00, 299938.69it/s]\n",
            "100%|██████████| 17/17 [00:00<00:00, 138452.75it/s]\n",
            "100%|██████████| 6/6 [00:00<00:00, 63872.65it/s]\n",
            "100%|██████████| 17/17 [00:00<00:00, 149482.53it/s]\n",
            "100%|██████████| 19/19 [00:00<00:00, 162968.87it/s]\n",
            "100%|██████████| 25/25 [00:00<00:00, 157207.80it/s]\n",
            "100%|██████████| 138/138 [00:00<00:00, 304158.67it/s]\n",
            "100%|██████████| 80/80 [00:00<00:00, 329287.85it/s]\n",
            "100%|██████████| 115/115 [00:00<00:00, 324811.42it/s]\n",
            "100%|██████████| 38/38 [00:00<00:00, 204076.25it/s]\n",
            "100%|██████████| 258/258 [00:00<00:00, 395082.30it/s]\n",
            "100%|██████████| 22/22 [00:00<00:00, 127627.51it/s]\n",
            "100%|██████████| 95/95 [00:00<00:00, 356084.79it/s]\n",
            "100%|██████████| 194/194 [00:00<00:00, 393089.36it/s]\n",
            "100%|██████████| 129/129 [00:00<00:00, 379428.62it/s]\n",
            "100%|██████████| 23/23 [00:00<00:00, 181674.18it/s]\n",
            "100%|██████████| 10/10 [00:00<00:00, 104857.60it/s]\n",
            "100%|██████████| 18/18 [00:00<00:00, 136523.46it/s]\n",
            "100%|██████████| 57/57 [00:00<00:00, 244203.60it/s]\n",
            "100%|██████████| 17/17 [00:00<00:00, 149796.57it/s]\n",
            "100%|██████████| 23/23 [00:00<00:00, 154597.74it/s]\n",
            "100%|██████████| 9/9 [00:00<00:00, 88197.98it/s]\n",
            "100%|██████████| 24/24 [00:00<00:00, 173557.41it/s]\n",
            "100%|██████████| 36/36 [00:00<00:00, 241591.91it/s]\n",
            "100%|██████████| 28/28 [00:00<00:00, 152917.33it/s]\n",
            "100%|██████████| 63/63 [00:00<00:00, 283825.08it/s]\n",
            "100%|██████████| 189/189 [00:00<00:00, 386129.30it/s]\n",
            "100%|██████████| 57/57 [00:00<00:00, 251129.55it/s]\n",
            "100%|██████████| 26/26 [00:00<00:00, 174762.67it/s]\n",
            "100%|██████████| 19/19 [00:00<00:00, 145955.63it/s]\n",
            "100%|██████████| 35/35 [00:00<00:00, 195995.51it/s]\n",
            "100%|██████████| 23/23 [00:00<00:00, 186593.79it/s]\n",
            "100%|██████████| 18/18 [00:00<00:00, 159614.11it/s]\n",
            "100%|██████████| 9/9 [00:00<00:00, 80145.94it/s]\n",
            "100%|██████████| 26/26 [00:00<00:00, 183589.06it/s]\n",
            "100%|██████████| 187/187 [00:00<00:00, 464378.24it/s]\n",
            "100%|██████████| 36/36 [00:00<00:00, 207982.02it/s]\n",
            "100%|██████████| 33/33 [00:00<00:00, 211963.30it/s]\n",
            "100%|██████████| 44/44 [00:00<00:00, 247717.28it/s]\n",
            "100%|██████████| 74/74 [00:00<00:00, 285012.39it/s]\n",
            "100%|██████████| 11/11 [00:00<00:00, 95325.09it/s]\n",
            "100%|██████████| 18/18 [00:00<00:00, 162011.74it/s]\n",
            "100%|██████████| 26/26 [00:00<00:00, 176174.32it/s]\n",
            "100%|██████████| 22/22 [00:00<00:00, 157734.51it/s]\n",
            "100%|██████████| 26/26 [00:00<00:00, 204217.05it/s]\n",
            "100%|██████████| 22/22 [00:00<00:00, 62305.66it/s]\n",
            "100%|██████████| 30/30 [00:00<00:00, 220752.84it/s]\n",
            "100%|██████████| 62/62 [00:00<00:00, 246723.76it/s]\n",
            "100%|██████████| 29/29 [00:00<00:00, 208636.05it/s]\n",
            "100%|██████████| 90/90 [00:00<00:00, 328821.74it/s]\n",
            "100%|██████████| 55/55 [00:00<00:00, 269493.83it/s]\n",
            "100%|██████████| 16/16 [00:00<00:00, 116508.44it/s]\n",
            "100%|██████████| 22/22 [00:00<00:00, 157465.34it/s]\n",
            "100%|██████████| 57/57 [00:00<00:00, 245709.48it/s]\n",
            "100%|██████████| 30/30 [00:00<00:00, 217321.45it/s]\n",
            "100%|██████████| 26/26 [00:00<00:00, 195433.52it/s]\n",
            "100%|██████████| 153/153 [00:00<00:00, 410837.72it/s]\n",
            "100%|██████████| 51/51 [00:00<00:00, 256794.12it/s]\n",
            "100%|██████████| 92/92 [00:00<00:00, 361645.71it/s]\n",
            "100%|██████████| 37/37 [00:00<00:00, 227884.36it/s]\n",
            "100%|██████████| 10/10 [00:00<00:00, 105120.40it/s]\n",
            "100%|██████████| 43/43 [00:00<00:00, 161898.63it/s]\n",
            "100%|██████████| 36/36 [00:00<00:00, 222378.42it/s]\n",
            "100%|██████████| 29/29 [00:00<00:00, 228207.91it/s]\n",
            "100%|██████████| 24/24 [00:00<00:00, 201326.59it/s]\n",
            "100%|██████████| 52/52 [00:00<00:00, 232768.20it/s]\n",
            "100%|██████████| 31/31 [00:00<00:00, 215985.75it/s]\n",
            "100%|██████████| 244/244 [00:00<00:00, 443995.74it/s]\n",
            "100%|██████████| 37/37 [00:00<00:00, 200762.29it/s]\n",
            "100%|██████████| 38/38 [00:00<00:00, 192958.30it/s]\n",
            "100%|██████████| 19/19 [00:00<00:00, 202263.39it/s]\n",
            "100%|██████████| 43/43 [00:00<00:00, 242738.99it/s]\n",
            "100%|██████████| 11/11 [00:00<00:00, 123692.61it/s]\n",
            "100%|██████████| 56/56 [00:00<00:00, 258964.75it/s]\n",
            "100%|██████████| 64/64 [00:00<00:00, 266305.02it/s]\n",
            "100%|██████████| 18/18 [00:00<00:00, 118334.60it/s]\n",
            "100%|██████████| 41/41 [00:00<00:00, 242890.49it/s]\n",
            "100%|██████████| 72/72 [00:00<00:00, 296941.88it/s]\n",
            "100%|██████████| 25/25 [00:00<00:00, 173318.35it/s]\n",
            "100%|██████████| 29/29 [00:00<00:00, 184855.34it/s]\n",
            "100%|██████████| 60/60 [00:00<00:00, 384211.05it/s]\n",
            "100%|██████████| 28/28 [00:00<00:00, 171446.00it/s]\n",
            "100%|██████████| 35/35 [00:00<00:00, 221753.23it/s]\n",
            "100%|██████████| 87/87 [00:00<00:00, 306384.93it/s]\n",
            "100%|██████████| 23/23 [00:00<00:00, 201396.64it/s]\n",
            "100%|██████████| 57/57 [00:00<00:00, 246723.76it/s]\n",
            "100%|██████████| 223/223 [00:00<00:00, 400569.50it/s]\n",
            "100%|██████████| 233/233 [00:00<00:00, 339448.71it/s]\n",
            "100%|██████████| 149/149 [00:00<00:00, 417469.14it/s]\n",
            "100%|██████████| 23/23 [00:00<00:00, 164904.26it/s]\n",
            "100%|██████████| 94/94 [00:00<00:00, 334122.52it/s]\n",
            "100%|██████████| 78/78 [00:00<00:00, 282274.13it/s]\n",
            "100%|██████████| 32/32 [00:00<00:00, 197089.17it/s]\n",
            "100%|██████████| 35/35 [00:00<00:00, 232647.61it/s]\n",
            "100%|██████████| 204/204 [00:00<00:00, 420254.43it/s]\n",
            "100%|██████████| 23/23 [00:00<00:00, 184806.50it/s]\n",
            "100%|██████████| 23/23 [00:00<00:00, 194886.85it/s]\n",
            "100%|██████████| 18/18 [00:00<00:00, 136277.03it/s]\n",
            "100%|██████████| 93/93 [00:00<00:00, 291968.77it/s]\n",
            "100%|██████████| 107/107 [00:00<00:00, 331945.66it/s]\n",
            "100%|██████████| 84/84 [00:00<00:00, 312618.93it/s]\n",
            "100%|██████████| 55/55 [00:00<00:00, 267928.83it/s]\n",
            "100%|██████████| 182/182 [00:00<00:00, 387494.08it/s]\n",
            "100%|██████████| 66/66 [00:00<00:00, 261895.99it/s]\n",
            "100%|██████████| 67/67 [00:00<00:00, 326386.03it/s]\n",
            "100%|██████████| 52/52 [00:00<00:00, 258416.83it/s]\n",
            "100%|██████████| 58/58 [00:00<00:00, 264136.41it/s]\n",
            "100%|██████████| 60/60 [00:00<00:00, 259709.23it/s]\n",
            "100%|██████████| 37/37 [00:00<00:00, 232667.54it/s]\n",
            "100%|██████████| 37/37 [00:00<00:00, 200244.19it/s]\n",
            "100%|██████████| 191/191 [00:00<00:00, 404602.05it/s]\n",
            "100%|██████████| 14/14 [00:00<00:00, 125470.63it/s]\n",
            "100%|██████████| 15/15 [00:00<00:00, 142340.63it/s]\n",
            "100%|██████████| 22/22 [00:00<00:00, 183084.70it/s]\n",
            "100%|██████████| 82/82 [00:00<00:00, 344277.21it/s]\n",
            "100%|██████████| 253/253 [00:00<00:00, 410665.21it/s]\n",
            "100%|██████████| 188/188 [00:00<00:00, 371597.15it/s]\n",
            "100%|██████████| 168/168 [00:00<00:00, 415964.03it/s]\n",
            "100%|██████████| 37/37 [00:00<00:00, 203127.29it/s]\n",
            "100%|██████████| 151/151 [00:00<00:00, 362530.00it/s]\n",
            "100%|██████████| 22/22 [00:00<00:00, 167164.29it/s]\n",
            "100%|██████████| 158/158 [00:00<00:00, 466690.16it/s]\n",
            "100%|██████████| 45/45 [00:00<00:00, 238012.21it/s]\n",
            "100%|██████████| 398/398 [00:00<00:00, 525443.18it/s]\n",
            "100%|██████████| 70/70 [00:00<00:00, 362918.76it/s]\n",
            "100%|██████████| 40/40 [00:00<00:00, 223994.87it/s]\n",
            "100%|██████████| 37/37 [00:00<00:00, 235849.92it/s]\n",
            "100%|██████████| 68/68 [00:00<00:00, 305040.29it/s]\n",
            "100%|██████████| 117/117 [00:00<00:00, 317011.35it/s]\n",
            "100%|██████████| 29/29 [00:00<00:00, 198749.70it/s]\n",
            "100%|██████████| 71/71 [00:00<00:00, 293684.01it/s]\n",
            "100%|██████████| 71/71 [00:00<00:00, 296314.01it/s]\n",
            "100%|██████████| 19/19 [00:00<00:00, 171012.39it/s]\n",
            "100%|██████████| 24/24 [00:00<00:00, 197766.79it/s]\n",
            "100%|██████████| 99/99 [00:00<00:00, 324149.96it/s]\n",
            "100%|██████████| 24/24 [00:00<00:00, 167214.78it/s]\n",
            "100%|██████████| 25/25 [00:00<00:00, 179243.76it/s]\n",
            "100%|██████████| 15/15 [00:00<00:00, 136178.70it/s]\n",
            "100%|██████████| 47/47 [00:00<00:00, 156578.47it/s]\n",
            "100%|██████████| 20/20 [00:00<00:00, 132312.43it/s]\n",
            "100%|██████████| 39/39 [00:00<00:00, 241265.27it/s]\n",
            "100%|██████████| 49/49 [00:00<00:00, 237596.41it/s]\n",
            "100%|██████████| 48/48 [00:00<00:00, 321095.04it/s]\n",
            "100%|██████████| 117/117 [00:00<00:00, 382489.14it/s]\n",
            "100%|██████████| 146/146 [00:00<00:00, 329053.40it/s]\n",
            "100%|██████████| 71/71 [00:00<00:00, 293105.89it/s]\n",
            "100%|██████████| 35/35 [00:00<00:00, 197578.25it/s]\n",
            "100%|██████████| 19/19 [00:00<00:00, 150931.39it/s]\n",
            "100%|██████████| 54/54 [00:00<00:00, 271248.40it/s]\n",
            "100%|██████████| 74/74 [00:00<00:00, 335907.46it/s]\n",
            "100%|██████████| 37/37 [00:00<00:00, 236568.98it/s]\n",
            "100%|██████████| 21/21 [00:00<00:00, 181984.26it/s]\n",
            "100%|██████████| 35/35 [00:00<00:00, 195473.56it/s]\n",
            "100%|██████████| 29/29 [00:00<00:00, 177828.68it/s]\n",
            "100%|██████████| 249/249 [00:00<00:00, 438631.54it/s]\n",
            "100%|██████████| 28/28 [00:00<00:00, 151146.09it/s]\n",
            "100%|██████████| 86/86 [00:00<00:00, 340613.92it/s]\n",
            "100%|██████████| 104/104 [00:00<00:00, 257958.38it/s]\n",
            "100%|██████████| 65/65 [00:00<00:00, 312290.68it/s]\n",
            "100%|██████████| 19/19 [00:00<00:00, 127506.84it/s]\n",
            "100%|██████████| 18/18 [00:00<00:00, 165202.35it/s]\n",
            "100%|██████████| 34/34 [00:00<00:00, 212211.81it/s]\n",
            "100%|██████████| 37/37 [00:00<00:00, 242104.91it/s]\n",
            "100%|██████████| 35/35 [00:00<00:00, 253104.55it/s]\n",
            "100%|██████████| 81/81 [00:00<00:00, 324178.08it/s]\n",
            "100%|██████████| 169/169 [00:00<00:00, 351780.34it/s]\n",
            "100%|██████████| 24/24 [00:00<00:00, 174459.79it/s]\n",
            "100%|██████████| 31/31 [00:00<00:00, 182105.64it/s]\n",
            "100%|██████████| 68/68 [00:00<00:00, 276101.33it/s]\n",
            "100%|██████████| 60/60 [00:00<00:00, 307275.02it/s]\n",
            "100%|██████████| 65/65 [00:00<00:00, 260889.72it/s]\n",
            "100%|██████████| 34/34 [00:00<00:00, 211896.49it/s]\n",
            "100%|██████████| 53/53 [00:00<00:00, 288698.85it/s]\n",
            "100%|██████████| 93/93 [00:00<00:00, 290015.07it/s]\n",
            "100%|██████████| 38/38 [00:00<00:00, 233358.06it/s]\n",
            "100%|██████████| 16/16 [00:00<00:00, 132364.62it/s]\n",
            "100%|██████████| 23/23 [00:00<00:00, 167480.89it/s]\n",
            "100%|██████████| 26/26 [00:00<00:00, 206537.70it/s]\n",
            "100%|██████████| 20/20 [00:00<00:00, 170154.32it/s]\n",
            "100%|██████████| 18/18 [00:00<00:00, 159952.27it/s]\n",
            "100%|██████████| 75/75 [00:00<00:00, 295651.13it/s]\n",
            "100%|██████████| 62/62 [00:00<00:00, 261091.21it/s]\n",
            "100%|██████████| 30/30 [00:00<00:00, 207982.02it/s]\n",
            "100%|██████████| 25/25 [00:00<00:00, 171897.70it/s]\n",
            "100%|██████████| 156/156 [00:00<00:00, 393926.20it/s]\n",
            "100%|██████████| 39/39 [00:00<00:00, 227824.31it/s]\n",
            "100%|██████████| 45/45 [00:00<00:00, 206052.05it/s]\n",
            "100%|██████████| 30/30 [00:00<00:00, 179755.89it/s]\n",
            "100%|██████████| 50/50 [00:00<00:00, 234318.66it/s]\n",
            "100%|██████████| 24/24 [00:00<00:00, 164214.19it/s]\n",
            "100%|██████████| 7/7 [00:00<00:00, 74707.70it/s]\n",
            "100%|██████████| 13/13 [00:00<00:00, 140169.54it/s]\n",
            "100%|██████████| 24/24 [00:00<00:00, 168898.15it/s]\n",
            "100%|██████████| 16/16 [00:00<00:00, 157163.62it/s]\n",
            "100%|██████████| 633/633 [00:00<00:00, 434817.30it/s]\n",
            "100%|██████████| 59/59 [00:00<00:00, 279304.67it/s]\n",
            "100%|██████████| 18/18 [00:00<00:00, 175984.78it/s]\n",
            "100%|██████████| 38/38 [00:00<00:00, 240035.47it/s]\n",
            "100%|██████████| 8/8 [00:00<00:00, 80466.26it/s]\n",
            "100%|██████████| 26/26 [00:00<00:00, 220752.84it/s]\n",
            "100%|██████████| 107/107 [00:00<00:00, 353100.34it/s]\n",
            "100%|██████████| 87/87 [00:00<00:00, 293095.94it/s]\n"
          ]
        }
      ],
      "source": [
        "verbs_ts = []\n",
        "vbs_liste = []\n",
        "idx_list = []\n",
        "idxs_vbs_ts = []\n",
        "\n",
        "for i in range(len(corpus_tokens)):\n",
        "    for j in tqdm(range(len(corpus_tokens[i]))):\n",
        "        if corpus_tags[i][j] == \"VERB\":\n",
        "            idx_list.append(j)\n",
        "        else:\n",
        "            if idx_list != []:\n",
        "                # print(idx_list)\n",
        "                verb = [corpus_tokens[i][idx] for idx in idx_list]\n",
        "                verb = tuple(nltk.ngrams(verb, len(verb)))\n",
        "                vbs_liste.append(' '.join(vb for vb in verb[0]))\n",
        "                idxs_vbs.append(idx_list)\n",
        "                idx_list = []\n",
        "    verbs_ts.append(vbs_liste)\n",
        "    vbs_liste = []\n",
        "    idxs_vbs_ts.append(idx_list)\n",
        "    idx_list = []"
      ]
    },
    {
      "cell_type": "code",
      "execution_count": 113,
      "id": "4a863f1a-1d71-4b17-9db5-415abac88e47",
      "metadata": {
        "colab": {
          "base_uri": "https://localhost:8080/"
        },
        "id": "4a863f1a-1d71-4b17-9db5-415abac88e47",
        "outputId": "4d166dac-8ca2-4acf-d51f-07a629f65b13"
      },
      "outputs": [
        {
          "output_type": "execute_result",
          "data": {
            "text/plain": [
              "8"
            ]
          },
          "metadata": {},
          "execution_count": 113
        }
      ],
      "source": [
        "len(entities[3])"
      ]
    },
    {
      "cell_type": "code",
      "execution_count": 114,
      "id": "4ba4af86-cc7e-45fa-bc54-e140b3abcba9",
      "metadata": {
        "colab": {
          "base_uri": "https://localhost:8080/"
        },
        "id": "4ba4af86-cc7e-45fa-bc54-e140b3abcba9",
        "outputId": "d66f624f-5db6-4b60-f62d-d7ffa911c554"
      },
      "outputs": [
        {
          "output_type": "execute_result",
          "data": {
            "text/plain": [
              "7"
            ]
          },
          "metadata": {},
          "execution_count": 114
        }
      ],
      "source": [
        "len(verbs[3])"
      ]
    },
    {
      "cell_type": "code",
      "execution_count": 115,
      "id": "fdc2bb6d-7f39-408d-99c8-bdb9cfa7042a",
      "metadata": {
        "id": "fdc2bb6d-7f39-408d-99c8-bdb9cfa7042a"
      },
      "outputs": [],
      "source": [
        "idxs_ent_ts = [ent for ent in idxs_ent_ts if ent != []]\n",
        "idxs_vbs_ts = [vbs for vbs in idxs_vbs_ts if vbs != []]"
      ]
    },
    {
      "cell_type": "code",
      "execution_count": 116,
      "id": "461a079c-1a79-47a4-9cbf-231464da9be3",
      "metadata": {
        "colab": {
          "base_uri": "https://localhost:8080/"
        },
        "id": "461a079c-1a79-47a4-9cbf-231464da9be3",
        "outputId": "b99c4b30-5b1c-4855-cd6d-92a5d1b2bc5b"
      },
      "outputs": [
        {
          "output_type": "execute_result",
          "data": {
            "text/plain": [
              "['Project Scope Management',\n",
              " 'process',\n",
              " 'project',\n",
              " 'work',\n",
              " 'work',\n",
              " 'project',\n",
              " 'project scope',\n",
              " 'defining',\n",
              " 'project Project Scope Management process',\n",
              " 'Plan Scope Management process',\n",
              " 'scope management plan Document project product scope',\n",
              " 'Collect Requirements process',\n",
              " 'documenting',\n",
              " 'stakeholder needs Requirements',\n",
              " 'objectives Define Scope process',\n",
              " 'description project product Create process',\n",
              " 'project deliverables project work commons Validate Scope process',\n",
              " 'acceptance',\n",
              " 'project deliverables Control Scope process']"
            ]
          },
          "metadata": {},
          "execution_count": 116
        }
      ],
      "source": [
        "entities_ts[0]"
      ]
    },
    {
      "cell_type": "code",
      "execution_count": 117,
      "id": "85f23276-c401-494b-92a1-8636bbdf38a8",
      "metadata": {
        "colab": {
          "base_uri": "https://localhost:8080/"
        },
        "id": "85f23276-c401-494b-92a1-8636bbdf38a8",
        "outputId": "11d37d35-eb72-410a-985d-b7f8a508a195"
      },
      "outputs": [
        {
          "output_type": "execute_result",
          "data": {
            "text/plain": [
              "['includes',\n",
              " 'required ensure',\n",
              " 'includes',\n",
              " 'required',\n",
              " 'required complete',\n",
              " 'Managing',\n",
              " 'is concerned',\n",
              " 'controlling is is included',\n",
              " 'are',\n",
              " 'creating',\n",
              " 'will be defined controlled',\n",
              " 'determining',\n",
              " 'managing',\n",
              " 'meet',\n",
              " 'developing',\n",
              " 'subdividing',\n",
              " 'formalizing',\n",
              " 'completed',\n",
              " 'monitoring']"
            ]
          },
          "metadata": {},
          "execution_count": 117
        }
      ],
      "source": [
        "verbs_ts[0]"
      ]
    },
    {
      "cell_type": "code",
      "execution_count": 118,
      "id": "f69db055-fce8-4efc-a91a-b8f0496b9895",
      "metadata": {
        "colab": {
          "base_uri": "https://localhost:8080/",
          "height": 936
        },
        "id": "f69db055-fce8-4efc-a91a-b8f0496b9895",
        "outputId": "e1c69552-500c-47ed-b742-683ebb58e525"
      },
      "outputs": [
        {
          "output_type": "execute_result",
          "data": {
            "text/plain": [
              "     Section                             Title Relation_type  \\\n",
              "0    1.0.0.0          Project scope management                 \n",
              "1    1.1.0.0             Plan scope management                 \n",
              "2    1.1.1.1                   Project charter        Inputs   \n",
              "3    1.1.1.2           Project management plan        Inputs   \n",
              "4    1.1.1.3  Enterprise environmental factors        Inputs   \n",
              "..       ...                               ...           ...   \n",
              "211  3.4.3.1      Work performance information       Outputs   \n",
              "212  3.4.3.2                    Cost forecasts       Outputs   \n",
              "213  3.4.3.3                   Change requests       Outputs   \n",
              "214  3.4.3.4   Project management plan updates       Outputs   \n",
              "215  3.4.3.5         Project documents updates       Outputs   \n",
              "\n",
              "                                                Corpus  \\\n",
              "0    Project Scope Management includes the process ...   \n",
              "1    Plan Scope Management is the process of creati...   \n",
              "2    Described in Section The project charter Docum...   \n",
              "3    Described in Section Project management plan c...   \n",
              "4    The enterprise environmental factors that can ...   \n",
              "..                                                 ...   \n",
              "211  Described in Section Work performance informat...   \n",
              "212  Either a calculated A value or a bottom up A v...   \n",
              "213  Described in Section Analysis of project perfo...   \n",
              "214  Any change to the project management plan goes...   \n",
              "215  Project Document that may be updated as a resu...   \n",
              "\n",
              "                                            Similarity  \\\n",
              "0    [[scope, 0.4459], [objectives, 0.3474000000000...   \n",
              "1    [[planning, 0.4174], [management, 0.3726000000...   \n",
              "2    [[requirements, 0.5642], [charter, 0.4068], [p...   \n",
              "3    [[scope, 0.5049], [scheduling, 0.3523], [devel...   \n",
              "4    [[enterprise, 0.3937], [requirements, 0.3749],...   \n",
              "..                                                 ...   \n",
              "211  [[duration, 0.376], [performance, 0.3265], [sp...   \n",
              "212  [[estimating, 0.5118], [estimates, 0.450800000...   \n",
              "213  [[scope, 0.3556], [section, 0.322], [managemen...   \n",
              "214  [[changes, 0.3584], [management, 0.2652], [sch...   \n",
              "215  [[scheduling, 0.4611], [utilization, 0.4096], ...   \n",
              "\n",
              "                                              Keywords  \\\n",
              "0    [[scope, 0.48860000000000003], [management, 0....   \n",
              "1    [[scope, 0.48], [management, 0.313200000000000...   \n",
              "2    [[requirements, 0.5116], [constraints, 0.37260...   \n",
              "3    [[agile, 0.4672], [development, 0.409000000000...   \n",
              "4    [[scope, 0.4032], [enterprise, 0.3999000000000...   \n",
              "..                                                 ...   \n",
              "211  [[performance, 0.3573], [evaluated, 0.323], [r...   \n",
              "212  [[stakeholders, 0.5412], [value, 0.4718], [cal...   \n",
              "213  [[management, 0.3029], [section, 0.28700000000...   \n",
              "214  [[changes, 0.3351], [scope, 0.2891], [performa...   \n",
              "215  [[budget, 0.3386], [estimates, 0.3142000000000...   \n",
              "\n",
              "                                              Entities  \\\n",
              "0    [[[Project, Scope, Management]], [[process]], ...   \n",
              "1    [[[Plan, Scope, Management]], [[process]], [[s...   \n",
              "2    [[[Section]], [[project, charter, Document]], ...   \n",
              "3    [[[Section, Project, management, plan, commons...   \n",
              "4    [[[enterprise]], [[factors]], [[Plan, Scope, M...   \n",
              "..                                                 ...   \n",
              "211  [[[Section, Work, performance, information]], ...   \n",
              "212                          [[[A, value]], [[value]]]   \n",
              "213  [[[Section, Analysis]], [[project, performance...   \n",
              "214  [[[change]], [[project, management, plan]], [[...   \n",
              "215  [[[Project, Document]], [[result]], [[process]...   \n",
              "\n",
              "                                                   Ref  \\\n",
              "0               [[[[['Figure 5-1'], []], []], []], []]   \n",
              "1    [[[[['Figure 5-3', 'Figure 5-2'], []], ['Secti...   \n",
              "2    [[[[[], []], ['Section 4.1.3.1']], ['Section 4...   \n",
              "3    [[[[[], []], ['Section 8.1.3.1', 'Section 4.2....   \n",
              "4                           [[[[[], []], []], []], []]   \n",
              "..                                                 ...   \n",
              "211  [[[[[], []], ['Section 4.5.1.3', 'Section 4.5....   \n",
              "212                         [[[[[], []], []], []], []]   \n",
              "213  [[[[[], []], ['Section 4.3.3.4', 'Section 4.6'...   \n",
              "214  [[[[[], []], ['Section 7.3.3.1', 'Section 7.1....   \n",
              "215  [[[[[], []], ['Section 4.1.3.2', 'Section 4.4....   \n",
              "\n",
              "                                            Definition  \n",
              "0    Project Scope Management includes the process ...  \n",
              "1    Plan Scope Management is the process of creati...  \n",
              "2    The project charter Document the project purpo...  \n",
              "3    Project management plan commons include but ar...  \n",
              "4    The enterprise environmental factors that can ...  \n",
              "..                                                 ...  \n",
              "211  Work performance information includes informat...  \n",
              "212  Either a calculated A value or a bottom up A v...  \n",
              "213  Analysis of project performance may result in ...  \n",
              "214  Any change to the project management plan goes...  \n",
              "215  Project Document that may be updated as a resu...  \n",
              "\n",
              "[216 rows x 9 columns]"
            ],
            "text/html": [
              "\n",
              "  <div id=\"df-19676a3a-e835-4156-94ef-a22ca44cb17b\">\n",
              "    <div class=\"colab-df-container\">\n",
              "      <div>\n",
              "<style scoped>\n",
              "    .dataframe tbody tr th:only-of-type {\n",
              "        vertical-align: middle;\n",
              "    }\n",
              "\n",
              "    .dataframe tbody tr th {\n",
              "        vertical-align: top;\n",
              "    }\n",
              "\n",
              "    .dataframe thead th {\n",
              "        text-align: right;\n",
              "    }\n",
              "</style>\n",
              "<table border=\"1\" class=\"dataframe\">\n",
              "  <thead>\n",
              "    <tr style=\"text-align: right;\">\n",
              "      <th></th>\n",
              "      <th>Section</th>\n",
              "      <th>Title</th>\n",
              "      <th>Relation_type</th>\n",
              "      <th>Corpus</th>\n",
              "      <th>Similarity</th>\n",
              "      <th>Keywords</th>\n",
              "      <th>Entities</th>\n",
              "      <th>Ref</th>\n",
              "      <th>Definition</th>\n",
              "    </tr>\n",
              "  </thead>\n",
              "  <tbody>\n",
              "    <tr>\n",
              "      <th>0</th>\n",
              "      <td>1.0.0.0</td>\n",
              "      <td>Project scope management</td>\n",
              "      <td></td>\n",
              "      <td>Project Scope Management includes the process ...</td>\n",
              "      <td>[[scope, 0.4459], [objectives, 0.3474000000000...</td>\n",
              "      <td>[[scope, 0.48860000000000003], [management, 0....</td>\n",
              "      <td>[[[Project, Scope, Management]], [[process]], ...</td>\n",
              "      <td>[[[[['Figure 5-1'], []], []], []], []]</td>\n",
              "      <td>Project Scope Management includes the process ...</td>\n",
              "    </tr>\n",
              "    <tr>\n",
              "      <th>1</th>\n",
              "      <td>1.1.0.0</td>\n",
              "      <td>Plan scope management</td>\n",
              "      <td></td>\n",
              "      <td>Plan Scope Management is the process of creati...</td>\n",
              "      <td>[[planning, 0.4174], [management, 0.3726000000...</td>\n",
              "      <td>[[scope, 0.48], [management, 0.313200000000000...</td>\n",
              "      <td>[[[Plan, Scope, Management]], [[process]], [[s...</td>\n",
              "      <td>[[[[['Figure 5-3', 'Figure 5-2'], []], ['Secti...</td>\n",
              "      <td>Plan Scope Management is the process of creati...</td>\n",
              "    </tr>\n",
              "    <tr>\n",
              "      <th>2</th>\n",
              "      <td>1.1.1.1</td>\n",
              "      <td>Project charter</td>\n",
              "      <td>Inputs</td>\n",
              "      <td>Described in Section The project charter Docum...</td>\n",
              "      <td>[[requirements, 0.5642], [charter, 0.4068], [p...</td>\n",
              "      <td>[[requirements, 0.5116], [constraints, 0.37260...</td>\n",
              "      <td>[[[Section]], [[project, charter, Document]], ...</td>\n",
              "      <td>[[[[[], []], ['Section 4.1.3.1']], ['Section 4...</td>\n",
              "      <td>The project charter Document the project purpo...</td>\n",
              "    </tr>\n",
              "    <tr>\n",
              "      <th>3</th>\n",
              "      <td>1.1.1.2</td>\n",
              "      <td>Project management plan</td>\n",
              "      <td>Inputs</td>\n",
              "      <td>Described in Section Project management plan c...</td>\n",
              "      <td>[[scope, 0.5049], [scheduling, 0.3523], [devel...</td>\n",
              "      <td>[[agile, 0.4672], [development, 0.409000000000...</td>\n",
              "      <td>[[[Section, Project, management, plan, commons...</td>\n",
              "      <td>[[[[[], []], ['Section 8.1.3.1', 'Section 4.2....</td>\n",
              "      <td>Project management plan commons include but ar...</td>\n",
              "    </tr>\n",
              "    <tr>\n",
              "      <th>4</th>\n",
              "      <td>1.1.1.3</td>\n",
              "      <td>Enterprise environmental factors</td>\n",
              "      <td>Inputs</td>\n",
              "      <td>The enterprise environmental factors that can ...</td>\n",
              "      <td>[[enterprise, 0.3937], [requirements, 0.3749],...</td>\n",
              "      <td>[[scope, 0.4032], [enterprise, 0.3999000000000...</td>\n",
              "      <td>[[[enterprise]], [[factors]], [[Plan, Scope, M...</td>\n",
              "      <td>[[[[[], []], []], []], []]</td>\n",
              "      <td>The enterprise environmental factors that can ...</td>\n",
              "    </tr>\n",
              "    <tr>\n",
              "      <th>...</th>\n",
              "      <td>...</td>\n",
              "      <td>...</td>\n",
              "      <td>...</td>\n",
              "      <td>...</td>\n",
              "      <td>...</td>\n",
              "      <td>...</td>\n",
              "      <td>...</td>\n",
              "      <td>...</td>\n",
              "      <td>...</td>\n",
              "    </tr>\n",
              "    <tr>\n",
              "      <th>211</th>\n",
              "      <td>3.4.3.1</td>\n",
              "      <td>Work performance information</td>\n",
              "      <td>Outputs</td>\n",
              "      <td>Described in Section Work performance informat...</td>\n",
              "      <td>[[duration, 0.376], [performance, 0.3265], [sp...</td>\n",
              "      <td>[[performance, 0.3573], [evaluated, 0.323], [r...</td>\n",
              "      <td>[[[Section, Work, performance, information]], ...</td>\n",
              "      <td>[[[[[], []], ['Section 4.5.1.3', 'Section 4.5....</td>\n",
              "      <td>Work performance information includes informat...</td>\n",
              "    </tr>\n",
              "    <tr>\n",
              "      <th>212</th>\n",
              "      <td>3.4.3.2</td>\n",
              "      <td>Cost forecasts</td>\n",
              "      <td>Outputs</td>\n",
              "      <td>Either a calculated A value or a bottom up A v...</td>\n",
              "      <td>[[estimating, 0.5118], [estimates, 0.450800000...</td>\n",
              "      <td>[[stakeholders, 0.5412], [value, 0.4718], [cal...</td>\n",
              "      <td>[[[A, value]], [[value]]]</td>\n",
              "      <td>[[[[[], []], []], []], []]</td>\n",
              "      <td>Either a calculated A value or a bottom up A v...</td>\n",
              "    </tr>\n",
              "    <tr>\n",
              "      <th>213</th>\n",
              "      <td>3.4.3.3</td>\n",
              "      <td>Change requests</td>\n",
              "      <td>Outputs</td>\n",
              "      <td>Described in Section Analysis of project perfo...</td>\n",
              "      <td>[[scope, 0.3556], [section, 0.322], [managemen...</td>\n",
              "      <td>[[management, 0.3029], [section, 0.28700000000...</td>\n",
              "      <td>[[[Section, Analysis]], [[project, performance...</td>\n",
              "      <td>[[[[[], []], ['Section 4.3.3.4', 'Section 4.6'...</td>\n",
              "      <td>Analysis of project performance may result in ...</td>\n",
              "    </tr>\n",
              "    <tr>\n",
              "      <th>214</th>\n",
              "      <td>3.4.3.4</td>\n",
              "      <td>Project management plan updates</td>\n",
              "      <td>Outputs</td>\n",
              "      <td>Any change to the project management plan goes...</td>\n",
              "      <td>[[changes, 0.3584], [management, 0.2652], [sch...</td>\n",
              "      <td>[[changes, 0.3351], [scope, 0.2891], [performa...</td>\n",
              "      <td>[[[change]], [[project, management, plan]], [[...</td>\n",
              "      <td>[[[[[], []], ['Section 7.3.3.1', 'Section 7.1....</td>\n",
              "      <td>Any change to the project management plan goes...</td>\n",
              "    </tr>\n",
              "    <tr>\n",
              "      <th>215</th>\n",
              "      <td>3.4.3.5</td>\n",
              "      <td>Project documents updates</td>\n",
              "      <td>Outputs</td>\n",
              "      <td>Project Document that may be updated as a resu...</td>\n",
              "      <td>[[scheduling, 0.4611], [utilization, 0.4096], ...</td>\n",
              "      <td>[[budget, 0.3386], [estimates, 0.3142000000000...</td>\n",
              "      <td>[[[Project, Document]], [[result]], [[process]...</td>\n",
              "      <td>[[[[[], []], ['Section 4.1.3.2', 'Section 4.4....</td>\n",
              "      <td>Project Document that may be updated as a resu...</td>\n",
              "    </tr>\n",
              "  </tbody>\n",
              "</table>\n",
              "<p>216 rows × 9 columns</p>\n",
              "</div>\n",
              "      <button class=\"colab-df-convert\" onclick=\"convertToInteractive('df-19676a3a-e835-4156-94ef-a22ca44cb17b')\"\n",
              "              title=\"Convert this dataframe to an interactive table.\"\n",
              "              style=\"display:none;\">\n",
              "        \n",
              "  <svg xmlns=\"http://www.w3.org/2000/svg\" height=\"24px\"viewBox=\"0 0 24 24\"\n",
              "       width=\"24px\">\n",
              "    <path d=\"M0 0h24v24H0V0z\" fill=\"none\"/>\n",
              "    <path d=\"M18.56 5.44l.94 2.06.94-2.06 2.06-.94-2.06-.94-.94-2.06-.94 2.06-2.06.94zm-11 1L8.5 8.5l.94-2.06 2.06-.94-2.06-.94L8.5 2.5l-.94 2.06-2.06.94zm10 10l.94 2.06.94-2.06 2.06-.94-2.06-.94-.94-2.06-.94 2.06-2.06.94z\"/><path d=\"M17.41 7.96l-1.37-1.37c-.4-.4-.92-.59-1.43-.59-.52 0-1.04.2-1.43.59L10.3 9.45l-7.72 7.72c-.78.78-.78 2.05 0 2.83L4 21.41c.39.39.9.59 1.41.59.51 0 1.02-.2 1.41-.59l7.78-7.78 2.81-2.81c.8-.78.8-2.07 0-2.86zM5.41 20L4 18.59l7.72-7.72 1.47 1.35L5.41 20z\"/>\n",
              "  </svg>\n",
              "      </button>\n",
              "      \n",
              "  <style>\n",
              "    .colab-df-container {\n",
              "      display:flex;\n",
              "      flex-wrap:wrap;\n",
              "      gap: 12px;\n",
              "    }\n",
              "\n",
              "    .colab-df-convert {\n",
              "      background-color: #E8F0FE;\n",
              "      border: none;\n",
              "      border-radius: 50%;\n",
              "      cursor: pointer;\n",
              "      display: none;\n",
              "      fill: #1967D2;\n",
              "      height: 32px;\n",
              "      padding: 0 0 0 0;\n",
              "      width: 32px;\n",
              "    }\n",
              "\n",
              "    .colab-df-convert:hover {\n",
              "      background-color: #E2EBFA;\n",
              "      box-shadow: 0px 1px 2px rgba(60, 64, 67, 0.3), 0px 1px 3px 1px rgba(60, 64, 67, 0.15);\n",
              "      fill: #174EA6;\n",
              "    }\n",
              "\n",
              "    [theme=dark] .colab-df-convert {\n",
              "      background-color: #3B4455;\n",
              "      fill: #D2E3FC;\n",
              "    }\n",
              "\n",
              "    [theme=dark] .colab-df-convert:hover {\n",
              "      background-color: #434B5C;\n",
              "      box-shadow: 0px 1px 3px 1px rgba(0, 0, 0, 0.15);\n",
              "      filter: drop-shadow(0px 1px 2px rgba(0, 0, 0, 0.3));\n",
              "      fill: #FFFFFF;\n",
              "    }\n",
              "  </style>\n",
              "\n",
              "      <script>\n",
              "        const buttonEl =\n",
              "          document.querySelector('#df-19676a3a-e835-4156-94ef-a22ca44cb17b button.colab-df-convert');\n",
              "        buttonEl.style.display =\n",
              "          google.colab.kernel.accessAllowed ? 'block' : 'none';\n",
              "\n",
              "        async function convertToInteractive(key) {\n",
              "          const element = document.querySelector('#df-19676a3a-e835-4156-94ef-a22ca44cb17b');\n",
              "          const dataTable =\n",
              "            await google.colab.kernel.invokeFunction('convertToInteractive',\n",
              "                                                     [key], {});\n",
              "          if (!dataTable) return;\n",
              "\n",
              "          const docLinkHtml = 'Like what you see? Visit the ' +\n",
              "            '<a target=\"_blank\" href=https://colab.research.google.com/notebooks/data_table.ipynb>data table notebook</a>'\n",
              "            + ' to learn more about interactive tables.';\n",
              "          element.innerHTML = '';\n",
              "          dataTable['output_type'] = 'display_data';\n",
              "          await google.colab.output.renderOutput(dataTable, element);\n",
              "          const docLink = document.createElement('div');\n",
              "          docLink.innerHTML = docLinkHtml;\n",
              "          element.appendChild(docLink);\n",
              "        }\n",
              "      </script>\n",
              "    </div>\n",
              "  </div>\n",
              "  "
            ]
          },
          "metadata": {},
          "execution_count": 118
        }
      ],
      "source": [
        "df"
      ]
    },
    {
      "cell_type": "code",
      "execution_count": 119,
      "id": "0b54f615",
      "metadata": {
        "id": "0b54f615"
      },
      "outputs": [],
      "source": [
        "from sklearn.metrics.pairwise import cosine_similarity\n",
        "from sentence_transformers import SentenceTransformer"
      ]
    },
    {
      "cell_type": "code",
      "execution_count": 119,
      "id": "4e54509a",
      "metadata": {
        "id": "4e54509a"
      },
      "outputs": [],
      "source": []
    },
    {
      "cell_type": "code",
      "execution_count": 120,
      "id": "30bce15a",
      "metadata": {
        "scrolled": true,
        "id": "30bce15a"
      },
      "outputs": [],
      "source": [
        "model_sentence = SentenceTransformer('bert-base-nli-mean-tokens')"
      ]
    },
    {
      "cell_type": "code",
      "execution_count": 121,
      "id": "df1c0736",
      "metadata": {
        "id": "df1c0736"
      },
      "outputs": [],
      "source": [
        "Concept_range = [] \n",
        "Synonyms = []"
      ]
    },
    {
      "cell_type": "code",
      "execution_count": 122,
      "id": "d7cdfec0",
      "metadata": {
        "scrolled": false,
        "colab": {
          "base_uri": "https://localhost:8080/"
        },
        "id": "d7cdfec0",
        "outputId": "2dbe099b-084d-48b4-f156-edbf0599205a"
      },
      "outputs": [
        {
          "output_type": "stream",
          "name": "stdout",
          "text": [
            "Project Scope Management\n",
            "process\n",
            "[[0.6868473]]\n",
            "process\n",
            "project\n",
            "[[0.9164057]]\n",
            "project\n",
            "work\n",
            "[[0.8709829]]\n",
            "work\n",
            "work\n",
            "[[0.99999976]]\n",
            "work\n",
            "project\n",
            "[[0.8709829]]\n",
            "project\n",
            "project scope\n",
            "[[0.908872]]\n",
            "project scope\n",
            "defining\n",
            "[[0.85338724]]\n",
            "defining\n",
            "project Project Scope Management process\n",
            "[[0.74292743]]\n",
            "project Project Scope Management process\n",
            "Plan Scope Management process\n",
            "[[0.8705368]]\n",
            "Plan Scope Management process\n",
            "scope management plan Document project product scope\n",
            "[[0.87569904]]\n",
            "scope management plan Document project product scope\n",
            "Collect Requirements process\n",
            "[[0.8199494]]\n",
            "Collect Requirements process\n",
            "documenting\n",
            "[[0.787915]]\n",
            "documenting\n",
            "stakeholder needs Requirements\n",
            "[[0.67194724]]\n",
            "stakeholder needs Requirements\n",
            "objectives Define Scope process\n",
            "[[0.7698223]]\n",
            "objectives Define Scope process\n",
            "description project product Create process\n",
            "[[0.7653943]]\n",
            "description project product Create process\n",
            "project deliverables project work commons Validate Scope process\n",
            "[[0.83834976]]\n",
            "project deliverables project work commons Validate Scope process\n",
            "acceptance\n",
            "[[0.5042614]]\n",
            "acceptance\n",
            "project deliverables Control Scope process\n",
            "[[0.4174763]]\n"
          ]
        }
      ],
      "source": [
        "for i in range(len(entities_ts[0])-1):\n",
        "    sim = cosine_similarity(model_sentence.encode([entities_ts[0][i]]), model_sentence.encode([entities_ts[0][i+1]]))\n",
        "    if sim > 0.8:\n",
        "            Synonyms.append(entities_ts[0][i+1])\n",
        "    else:\n",
        "            Concept_range.append(entities_ts[0][i])\n",
        "    print(entities_ts[0][i])\n",
        "    print(entities_ts[0][i+1])\n",
        "    print (sim)"
      ]
    },
    {
      "cell_type": "code",
      "execution_count": 122,
      "id": "d97c79e0",
      "metadata": {
        "id": "d97c79e0"
      },
      "outputs": [],
      "source": []
    },
    {
      "cell_type": "code",
      "source": [
        "entities_ts[3]"
      ],
      "metadata": {
        "colab": {
          "base_uri": "https://localhost:8080/"
        },
        "id": "i6YnKRiPLQ_S",
        "outputId": "a7aaefbc-72af-47a6-b3dd-81f9d530e9fc"
      },
      "id": "i6YnKRiPLQ_S",
      "execution_count": 123,
      "outputs": [
        {
          "output_type": "execute_result",
          "data": {
            "text/plain": [
              "['Project management plan commons',\n",
              " 'Quality management plan way project product scope',\n",
              " 'organization quality policy methodologies standards',\n",
              " 'project Project life cycle description project life cycle',\n",
              " 'series phases project',\n",
              " 'inception end project Development',\n",
              " 'development approach',\n",
              " 'waterfall agile development approach']"
            ]
          },
          "metadata": {},
          "execution_count": 123
        }
      ]
    },
    {
      "cell_type": "code",
      "source": [
        "a = [[0.32081562]]"
      ],
      "metadata": {
        "id": "oqrl6FxCRcPY"
      },
      "id": "oqrl6FxCRcPY",
      "execution_count": 124,
      "outputs": []
    },
    {
      "cell_type": "code",
      "source": [
        "len(entities_ts[0])"
      ],
      "metadata": {
        "colab": {
          "base_uri": "https://localhost:8080/"
        },
        "id": "31C4WniHRdSZ",
        "outputId": "6d547b04-eb8b-476f-a216-9d778ca41e7e"
      },
      "id": "31C4WniHRdSZ",
      "execution_count": 125,
      "outputs": [
        {
          "output_type": "execute_result",
          "data": {
            "text/plain": [
              "19"
            ]
          },
          "metadata": {},
          "execution_count": 125
        }
      ]
    },
    {
      "cell_type": "code",
      "execution_count": 126,
      "id": "17b9bf8e",
      "metadata": {
        "id": "17b9bf8e"
      },
      "outputs": [],
      "source": [
        "def cr_syn(entities_ts):\n",
        "  Synonyms = []\n",
        "  Concept_range = []\n",
        "  for j in tqdm(range(len(entities_ts))):\n",
        "      print(f\"row number {j}\")\n",
        "      syn_temp = []\n",
        "      cr_temp = []\n",
        "      for i in tqdm(range(len(entities_ts[j])-1)):\n",
        "          print (f\"entity number {i}\")\n",
        "          sim = cosine_similarity(model_sentence.encode([entities_ts[j][i]]),\n",
        "                                  model_sentence.encode([entities_ts[j][i+1]]))\n",
        "          print(sim[0][0])\n",
        "          if sim > 0.8:\n",
        "            print(entities_ts[j][i+1])\n",
        "            syn_temp.append(entities_ts[j][i+1])\n",
        "          else:\n",
        "            print(entities_ts[j][i])\n",
        "            cr_temp.append(entities_ts[j][i])\n",
        "      Synonyms.append(syn_temp)\n",
        "      Concept_range.append(cr_temp)\n",
        "      print(f\"this is the size of the synonyms list {len(Synonyms)}\")\n",
        "      print(f\"this is the size of the concept_range list {len(Concept_range)}\")\n",
        "      syn_temp = []\n",
        "      cr_temp = []\n",
        "  return Synonyms,Concept_range"
      ]
    },
    {
      "cell_type": "code",
      "source": [
        "Synonyms,Concept_range = cr_syn(entities_ts)"
      ],
      "metadata": {
        "colab": {
          "base_uri": "https://localhost:8080/"
        },
        "id": "F0FAuI8x8hLT",
        "outputId": "7b7dcc0f-a7cf-476d-e439-174ba4defaf7"
      },
      "id": "F0FAuI8x8hLT",
      "execution_count": 127,
      "outputs": [
        {
          "output_type": "stream",
          "name": "stderr",
          "text": [
            "\r  0%|          | 0/216 [00:00<?, ?it/s]"
          ]
        },
        {
          "output_type": "stream",
          "name": "stdout",
          "text": [
            "row number 0\n"
          ]
        },
        {
          "output_type": "stream",
          "name": "stderr",
          "text": [
            "\n",
            "  0%|          | 0/18 [00:00<?, ?it/s]\u001b[A"
          ]
        },
        {
          "output_type": "stream",
          "name": "stdout",
          "text": [
            "entity number 0\n",
            "0.6868473\n",
            "Project Scope Management\n",
            "entity number 1\n",
            "0.9164057\n",
            "project\n",
            "entity number 2\n",
            "0.8709829\n",
            "work\n",
            "entity number 3\n"
          ]
        },
        {
          "output_type": "stream",
          "name": "stderr",
          "text": [
            "\n",
            " 22%|██▏       | 4/18 [00:00<00:00, 32.81it/s]\u001b[A"
          ]
        },
        {
          "output_type": "stream",
          "name": "stdout",
          "text": [
            "0.99999976\n",
            "work\n",
            "entity number 4\n",
            "0.8709829\n",
            "project\n",
            "entity number 5\n",
            "0.908872\n",
            "project scope\n",
            "entity number 6\n"
          ]
        },
        {
          "output_type": "stream",
          "name": "stderr",
          "text": [
            "\n",
            " 44%|████▍     | 8/18 [00:00<00:00, 33.14it/s]\u001b[A"
          ]
        },
        {
          "output_type": "stream",
          "name": "stdout",
          "text": [
            "0.85338724\n",
            "defining\n",
            "entity number 7\n",
            "0.74292743\n",
            "defining\n",
            "entity number 8\n",
            "0.8705368\n",
            "Plan Scope Management process\n",
            "entity number 9\n",
            "0.87569904\n",
            "scope management plan Document project product scope\n",
            "entity number 10\n"
          ]
        },
        {
          "output_type": "stream",
          "name": "stderr",
          "text": [
            "\n",
            " 67%|██████▋   | 12/18 [00:00<00:00, 33.26it/s]\u001b[A"
          ]
        },
        {
          "output_type": "stream",
          "name": "stdout",
          "text": [
            "0.8199494\n",
            "Collect Requirements process\n",
            "entity number 11\n",
            "0.787915\n",
            "Collect Requirements process\n",
            "entity number 12\n",
            "0.67194724\n",
            "documenting\n",
            "entity number 13\n"
          ]
        },
        {
          "output_type": "stream",
          "name": "stderr",
          "text": [
            "\n",
            "100%|██████████| 18/18 [00:00<00:00, 33.68it/s]\n",
            "  0%|          | 1/216 [00:00<01:56,  1.84it/s]"
          ]
        },
        {
          "output_type": "stream",
          "name": "stdout",
          "text": [
            "0.7698223\n",
            "stakeholder needs Requirements\n",
            "entity number 14\n",
            "0.7653943\n",
            "objectives Define Scope process\n",
            "entity number 15\n",
            "0.83834976\n",
            "project deliverables project work commons Validate Scope process\n",
            "entity number 16\n",
            "0.5042614\n",
            "project deliverables project work commons Validate Scope process\n",
            "entity number 17\n",
            "0.4174763\n",
            "acceptance\n",
            "this is the size of the synonyms list 1\n",
            "this is the size of the concept_range list 1\n",
            "row number 1\n"
          ]
        },
        {
          "output_type": "stream",
          "name": "stderr",
          "text": [
            "\n",
            "  0%|          | 0/5 [00:00<?, ?it/s]\u001b[A"
          ]
        },
        {
          "output_type": "stream",
          "name": "stdout",
          "text": [
            "entity number 0\n",
            "0.71572065\n",
            "Plan Scope Management\n",
            "entity number 1\n",
            "0.59874856\n",
            "process\n",
            "entity number 2\n"
          ]
        },
        {
          "output_type": "stream",
          "name": "stderr",
          "text": [
            "\n",
            "100%|██████████| 5/5 [00:00<00:00, 32.11it/s]\n",
            "  1%|          | 2/216 [00:00<01:09,  3.09it/s]"
          ]
        },
        {
          "output_type": "stream",
          "name": "stdout",
          "text": [
            "0.630003\n",
            "scope management plan Document project product scope\n",
            "entity number 3\n",
            "0.6822549\n",
            "benefit process\n",
            "entity number 4\n",
            "0.71511215\n",
            "guidance direction scope\n",
            "this is the size of the synonyms list 2\n",
            "this is the size of the concept_range list 2\n",
            "row number 2\n"
          ]
        },
        {
          "output_type": "stream",
          "name": "stderr",
          "text": [
            "\n",
            "0it [00:00, ?it/s]\n"
          ]
        },
        {
          "output_type": "stream",
          "name": "stdout",
          "text": [
            "this is the size of the synonyms list 3\n",
            "this is the size of the concept_range list 3\n",
            "row number 3\n"
          ]
        },
        {
          "output_type": "stream",
          "name": "stderr",
          "text": [
            "\n",
            "  0%|          | 0/7 [00:00<?, ?it/s]\u001b[A"
          ]
        },
        {
          "output_type": "stream",
          "name": "stdout",
          "text": [
            "entity number 0\n"
          ]
        },
        {
          "output_type": "stream",
          "name": "stderr",
          "text": [
            "\n"
          ]
        },
        {
          "output_type": "stream",
          "name": "stdout",
          "text": [
            "0.76185083\n",
            "Project management plan commons\n",
            "entity number 1\n",
            "0.87667453\n",
            "organization quality policy methodologies standards\n",
            "entity number 2\n",
            "0.7184479\n",
            "organization quality policy methodologies standards\n"
          ]
        },
        {
          "output_type": "stream",
          "name": "stderr",
          "text": [
            "\r 43%|████▎     | 3/7 [00:00<00:00, 26.66it/s]\u001b[A"
          ]
        },
        {
          "output_type": "stream",
          "name": "stdout",
          "text": [
            "entity number 3\n",
            "0.70764005\n",
            "project Project life cycle description project life cycle\n",
            "entity number 4\n",
            "0.7276964\n",
            "series phases project\n",
            "entity number 5\n"
          ]
        },
        {
          "output_type": "stream",
          "name": "stderr",
          "text": [
            "\n",
            " 86%|████████▌ | 6/7 [00:00<00:00, 26.89it/s]\u001b[A"
          ]
        },
        {
          "output_type": "stream",
          "name": "stdout",
          "text": [
            "0.65879935\n",
            "inception end project Development\n",
            "entity number 6\n"
          ]
        },
        {
          "output_type": "stream",
          "name": "stderr",
          "text": [
            "100%|██████████| 7/7 [00:00<00:00, 26.45it/s]\n",
            "  2%|▏         | 4/216 [00:01<00:45,  4.70it/s]"
          ]
        },
        {
          "output_type": "stream",
          "name": "stdout",
          "text": [
            "0.6623244\n",
            "development approach\n",
            "this is the size of the synonyms list 4\n",
            "this is the size of the concept_range list 4\n",
            "row number 4\n"
          ]
        },
        {
          "output_type": "stream",
          "name": "stderr",
          "text": [
            "\n",
            "100%|██████████| 1/1 [00:00<00:00, 25.73it/s]\n"
          ]
        },
        {
          "output_type": "stream",
          "name": "stdout",
          "text": [
            "entity number 0\n",
            "0.62277037\n",
            "enterprise factors\n",
            "this is the size of the synonyms list 5\n",
            "this is the size of the concept_range list 5\n",
            "row number 5\n"
          ]
        },
        {
          "output_type": "stream",
          "name": "stderr",
          "text": [
            "\n",
            "100%|██████████| 2/2 [00:00<00:00, 30.80it/s]\n",
            "  3%|▎         | 6/216 [00:01<00:29,  7.01it/s]"
          ]
        },
        {
          "output_type": "stream",
          "name": "stdout",
          "text": [
            "entity number 0\n",
            "0.69807816\n",
            "process sets\n",
            "entity number 1\n",
            "0.6752866\n",
            "Plan Scope Management process include\n",
            "this is the size of the synonyms list 6\n",
            "this is the size of the concept_range list 6\n",
            "row number 6\n"
          ]
        },
        {
          "output_type": "stream",
          "name": "stderr",
          "text": [
            "\n",
            "0it [00:00, ?it/s]\n"
          ]
        },
        {
          "output_type": "stream",
          "name": "stdout",
          "text": [
            "this is the size of the synonyms list 7\n",
            "this is the size of the concept_range list 7\n",
            "row number 7\n"
          ]
        },
        {
          "output_type": "stream",
          "name": "stderr",
          "text": [
            "\n",
            "  0%|          | 0/5 [00:00<?, ?it/s]\u001b[A"
          ]
        },
        {
          "output_type": "stream",
          "name": "stdout",
          "text": [
            "entity number 0\n",
            "0.697045\n",
            "data analysis technique\n",
            "entity number 1\n"
          ]
        },
        {
          "output_type": "stream",
          "name": "stderr",
          "text": [
            "\n",
            " 60%|██████    | 3/5 [00:00<00:00, 27.00it/s]\u001b[A"
          ]
        },
        {
          "output_type": "stream",
          "name": "stdout",
          "text": [
            "0.68610287\n",
            "process\n",
            "entity number 2\n",
            "0.59774333\n",
            "alternatives Various ways\n",
            "entity number 3\n"
          ]
        },
        {
          "output_type": "stream",
          "name": "stderr",
          "text": [
            "100%|██████████| 5/5 [00:00<00:00, 28.79it/s]\n",
            "  4%|▎         | 8/216 [00:01<00:25,  8.08it/s]"
          ]
        },
        {
          "output_type": "stream",
          "name": "stdout",
          "text": [
            "0.88558054\n",
            "product validation scope\n",
            "entity number 4\n",
            "0.62845445\n",
            "product validation scope\n",
            "this is the size of the synonyms list 8\n",
            "this is the size of the concept_range list 8\n",
            "row number 8\n"
          ]
        },
        {
          "output_type": "stream",
          "name": "stderr",
          "text": [
            "\n",
            "  0%|          | 0/5 [00:00<?, ?it/s]\u001b[A"
          ]
        },
        {
          "output_type": "stream",
          "name": "stdout",
          "text": [
            "entity number 0\n",
            "0.74469554\n",
            "Project teams\n",
            "entity number 1\n",
            "0.74175817\n",
            "project meetings\n",
            "entity number 2\n",
            "0.73478293\n",
            "scope management plan Attendees\n",
            "entity number 3\n"
          ]
        },
        {
          "output_type": "stream",
          "name": "stderr",
          "text": [
            "\n",
            " 80%|████████  | 4/5 [00:00<00:00, 30.59it/s]\u001b[A"
          ]
        },
        {
          "output_type": "stream",
          "name": "stdout",
          "text": [
            "0.8775692\n",
            "project team members\n",
            "entity number 4\n"
          ]
        },
        {
          "output_type": "stream",
          "name": "stderr",
          "text": [
            "100%|██████████| 5/5 [00:00<00:00, 29.35it/s]\n",
            "  4%|▍         | 9/216 [00:01<00:28,  7.33it/s]"
          ]
        },
        {
          "output_type": "stream",
          "name": "stdout",
          "text": [
            "0.69656014\n",
            "project team members\n",
            "this is the size of the synonyms list 9\n",
            "this is the size of the concept_range list 9\n",
            "row number 9\n"
          ]
        },
        {
          "output_type": "stream",
          "name": "stderr",
          "text": [
            "\n",
            "  0%|          | 0/11 [00:00<?, ?it/s]\u001b[A"
          ]
        },
        {
          "output_type": "stream",
          "name": "stdout",
          "text": [
            "entity number 0\n",
            "0.88850003\n",
            "component project management plan\n",
            "entity number 1\n",
            "0.6763308\n",
            "component project management plan\n",
            "entity number 2\n",
            "0.6372668\n",
            "scope\n",
            "entity number 3\n"
          ]
        },
        {
          "output_type": "stream",
          "name": "stderr",
          "text": [
            "\n",
            " 36%|███▋      | 4/11 [00:00<00:00, 33.10it/s]\u001b[A"
          ]
        },
        {
          "output_type": "stream",
          "name": "stdout",
          "text": [
            "0.6247189\n",
            "commons scope management plan\n",
            "entity number 4\n",
            "0.7024216\n",
            "Process\n",
            "entity number 5\n",
            "0.9267884\n",
            "creation project scope statement Process\n",
            "entity number 6\n",
            "0.7013035\n",
            "creation project scope statement Process\n",
            "entity number 7\n"
          ]
        },
        {
          "output_type": "stream",
          "name": "stderr",
          "text": [
            "\n",
            " 73%|███████▎  | 8/11 [00:00<00:00, 31.68it/s]\u001b[A"
          ]
        },
        {
          "output_type": "stream",
          "name": "stdout",
          "text": [
            "0.72403914\n",
            "scope baseline\n",
            "entity number 8\n",
            "0.70005417\n",
            "Process\n",
            "entity number 9\n",
            "0.52832025\n",
            "acceptance\n",
            "entity number 10\n"
          ]
        },
        {
          "output_type": "stream",
          "name": "stderr",
          "text": [
            "100%|██████████| 11/11 [00:00<00:00, 31.53it/s]\n",
            "  5%|▍         | 10/216 [00:01<00:39,  5.22it/s]"
          ]
        },
        {
          "output_type": "stream",
          "name": "stdout",
          "text": [
            "0.79103667\n",
            "project deliverables\n",
            "this is the size of the synonyms list 10\n",
            "this is the size of the concept_range list 10\n",
            "row number 10\n"
          ]
        },
        {
          "output_type": "stream",
          "name": "stderr",
          "text": [
            "\n",
            "  0%|          | 0/12 [00:00<?, ?it/s]\u001b[A"
          ]
        },
        {
          "output_type": "stream",
          "name": "stdout",
          "text": [
            "entity number 0\n",
            "0.93544304\n",
            "component project management plan\n",
            "entity number 1\n",
            "0.8904378\n",
            "project product Requirements\n",
            "entity number 2\n"
          ]
        },
        {
          "output_type": "stream",
          "name": "stderr",
          "text": [
            "\n",
            " 25%|██▌       | 3/12 [00:00<00:00, 29.58it/s]\u001b[A"
          ]
        },
        {
          "output_type": "stream",
          "name": "stdout",
          "text": [
            "0.583024\n",
            "project product Requirements\n",
            "entity number 3\n",
            "0.88584644\n",
            "business analysis plan Components Requirements management plan\n",
            "entity number 4\n",
            "0.69620025\n",
            "business analysis plan Components Requirements management plan\n",
            "entity number 5\n"
          ]
        },
        {
          "output_type": "stream",
          "name": "stderr",
          "text": [
            "\n",
            " 50%|█████     | 6/12 [00:00<00:00, 29.54it/s]\u001b[A"
          ]
        },
        {
          "output_type": "stream",
          "name": "stdout",
          "text": [
            "0.7475965\n",
            "How Requirements activities\n",
            "entity number 6\n",
            "0.7593259\n",
            "configuration management activities changes\n",
            "entity number 7\n",
            "0.72409284\n",
            "impacts\n",
            "entity number 8\n",
            "0.74404347\n",
            "authorization levels\n",
            "entity number 9\n"
          ]
        },
        {
          "output_type": "stream",
          "name": "stderr",
          "text": [
            "\n",
            " 83%|████████▎ | 10/12 [00:00<00:00, 30.26it/s]\u001b[A"
          ]
        },
        {
          "output_type": "stream",
          "name": "stdout",
          "text": [
            "0.65550363\n",
            "changes Requirements prioritization process Metrics\n",
            "entity number 10\n",
            "0.7550273\n",
            "rationale\n",
            "entity number 11\n"
          ]
        },
        {
          "output_type": "stream",
          "name": "stderr",
          "text": [
            "100%|██████████| 12/12 [00:00<00:00, 30.45it/s]\n",
            "  5%|▌         | 11/216 [00:02<00:50,  4.05it/s]"
          ]
        },
        {
          "output_type": "stream",
          "name": "stdout",
          "text": [
            "0.7791985\n",
            "Traceability structure\n",
            "this is the size of the synonyms list 11\n",
            "this is the size of the concept_range list 11\n",
            "row number 11\n"
          ]
        },
        {
          "output_type": "stream",
          "name": "stderr",
          "text": [
            "\n",
            "  0%|          | 0/6 [00:00<?, ?it/s]\u001b[A"
          ]
        },
        {
          "output_type": "stream",
          "name": "stdout",
          "text": [
            "entity number 0\n",
            "0.85955215\n",
            "process\n",
            "entity number 1\n",
            "0.8661587\n",
            "documenting\n",
            "entity number 2\n"
          ]
        },
        {
          "output_type": "stream",
          "name": "stderr",
          "text": [
            "\n",
            " 67%|██████▋   | 4/6 [00:00<00:00, 34.95it/s]"
          ]
        },
        {
          "output_type": "stream",
          "name": "stdout",
          "text": [
            "0.67194724\n",
            "documenting\n",
            "entity number 3\n",
            "0.6403793\n",
            "stakeholder needs Requirements\n"
          ]
        },
        {
          "output_type": "stream",
          "name": "stderr",
          "text": [
            "\u001b[A"
          ]
        },
        {
          "output_type": "stream",
          "name": "stdout",
          "text": [
            "entity number 4\n",
            "0.6637799\n",
            "objectives benefit process\n",
            "entity number 5\n"
          ]
        },
        {
          "output_type": "stream",
          "name": "stderr",
          "text": [
            "100%|██████████| 6/6 [00:00<00:00, 32.60it/s]\n",
            "  6%|▌         | 12/216 [00:02<00:48,  4.25it/s]"
          ]
        },
        {
          "output_type": "stream",
          "name": "stdout",
          "text": [
            "0.6711778\n",
            "basis\n",
            "this is the size of the synonyms list 12\n",
            "this is the size of the concept_range list 12\n",
            "row number 12\n"
          ]
        },
        {
          "output_type": "stream",
          "name": "stderr",
          "text": [
            "\n",
            "0it [00:00, ?it/s]\n"
          ]
        },
        {
          "output_type": "stream",
          "name": "stdout",
          "text": [
            "this is the size of the synonyms list 13\n",
            "this is the size of the concept_range list 13\n",
            "row number 13\n"
          ]
        },
        {
          "output_type": "stream",
          "name": "stderr",
          "text": [
            "\n",
            "  0%|          | 0/5 [00:00<?, ?it/s]\u001b[A"
          ]
        },
        {
          "output_type": "stream",
          "name": "stdout",
          "text": [
            "entity number 0\n",
            "0.7716286\n",
            "Project management plan commons\n",
            "entity number 1\n",
            "0.86145055\n",
            "information project scope\n",
            "entity number 2\n"
          ]
        },
        {
          "output_type": "stream",
          "name": "stderr",
          "text": [
            "\n",
            " 60%|██████    | 3/5 [00:00<00:00, 26.81it/s]\u001b[A"
          ]
        },
        {
          "output_type": "stream",
          "name": "stdout",
          "text": [
            "0.84467435\n",
            "Requirements management plan Requirements management plan\n",
            "entity number 3\n",
            "0.85851276\n",
            "information Requirements\n",
            "entity number 4\n"
          ]
        },
        {
          "output_type": "stream",
          "name": "stderr",
          "text": [
            "100%|██████████| 5/5 [00:00<00:00, 27.58it/s]\n",
            "  6%|▋         | 14/216 [00:02<00:35,  5.62it/s]"
          ]
        },
        {
          "output_type": "stream",
          "name": "stdout",
          "text": [
            "0.7255976\n",
            "information Requirements\n",
            "this is the size of the synonyms list 14\n",
            "this is the size of the concept_range list 14\n",
            "row number 14\n"
          ]
        },
        {
          "output_type": "stream",
          "name": "stderr",
          "text": [
            "\n",
            "  0%|          | 0/11 [00:00<?, ?it/s]\u001b[A"
          ]
        },
        {
          "output_type": "stream",
          "name": "stdout",
          "text": [
            "entity number 0\n",
            "0.7392939\n",
            "Examples project Document\n",
            "entity number 1\n",
            "0.70916986\n",
            "inputs process\n",
            "entity number 2\n",
            "0.65090024\n",
            "Assumption Log assumption log\n",
            "entity number 3\n"
          ]
        },
        {
          "output_type": "stream",
          "name": "stderr",
          "text": [
            "\n",
            " 36%|███▋      | 4/11 [00:00<00:00, 31.96it/s]\u001b[A"
          ]
        },
        {
          "output_type": "stream",
          "name": "stdout",
          "text": [
            "0.71170604\n",
            "assumptions product project environment stakeholders factors\n",
            "entity number 4\n",
            "0.87783885\n",
            "lessons\n",
            "entity number 5\n",
            "0.7040371\n",
            "lessons\n",
            "entity number 6\n",
            "0.69931567\n",
            "register\n",
            "entity number 7\n"
          ]
        },
        {
          "output_type": "stream",
          "name": "stderr",
          "text": [
            "\n",
            " 73%|███████▎  | 8/11 [00:00<00:00, 31.44it/s]\u001b[A"
          ]
        },
        {
          "output_type": "stream",
          "name": "stdout",
          "text": [
            "0.79527557\n",
            "information Requirements collection techniques projects\n",
            "entity number 8\n",
            "0.68000907\n",
            "product development methodology Stakeholder Register stakeholder register\n",
            "entity number 9\n",
            "0.81658053\n",
            "information Requirements\n",
            "entity number 10\n"
          ]
        },
        {
          "output_type": "stream",
          "name": "stderr",
          "text": [
            "100%|██████████| 11/11 [00:00<00:00, 31.20it/s]\n",
            "  7%|▋         | 15/216 [00:03<00:44,  4.47it/s]"
          ]
        },
        {
          "output_type": "stream",
          "name": "stdout",
          "text": [
            "0.8675577\n",
            "Requirements expectations stakeholders\n",
            "this is the size of the synonyms list 15\n",
            "this is the size of the concept_range list 15\n",
            "row number 15\n"
          ]
        },
        {
          "output_type": "stream",
          "name": "stderr",
          "text": [
            "\n",
            "  0%|          | 0/3 [00:00<?, ?it/s]\u001b[A"
          ]
        },
        {
          "output_type": "stream",
          "name": "stdout",
          "text": [
            "entity number 0\n",
            "0.5586287\n",
            "business document\n",
            "entity number 1\n",
            "0.5575814\n",
            "Collect Requirements process\n",
            "entity number 2\n"
          ]
        },
        {
          "output_type": "stream",
          "name": "stderr",
          "text": [
            "100%|██████████| 3/3 [00:00<00:00, 31.93it/s]\n",
            "  7%|▋         | 16/216 [00:03<00:39,  5.09it/s]"
          ]
        },
        {
          "output_type": "stream",
          "name": "stdout",
          "text": [
            "0.4012277\n",
            "business case\n",
            "this is the size of the synonyms list 16\n",
            "this is the size of the concept_range list 16\n",
            "row number 16\n"
          ]
        },
        {
          "output_type": "stream",
          "name": "stderr",
          "text": [
            "\n",
            "0it [00:00, ?it/s]\n"
          ]
        },
        {
          "output_type": "stream",
          "name": "stdout",
          "text": [
            "this is the size of the synonyms list 17\n",
            "this is the size of the concept_range list 17\n",
            "row number 17\n"
          ]
        },
        {
          "output_type": "stream",
          "name": "stderr",
          "text": [
            "\n",
            "  0%|          | 0/1 [00:00<?, ?it/s]\u001b[A"
          ]
        },
        {
          "output_type": "stream",
          "name": "stdout",
          "text": [
            "entity number 0\n"
          ]
        },
        {
          "output_type": "stream",
          "name": "stderr",
          "text": [
            "\r100%|██████████| 1/1 [00:00<00:00, 24.44it/s]\n"
          ]
        },
        {
          "output_type": "stream",
          "name": "stdout",
          "text": [
            "0.6619866\n",
            "enterprise factors\n",
            "this is the size of the synonyms list 18\n",
            "this is the size of the concept_range list 18\n",
            "row number 18\n"
          ]
        },
        {
          "output_type": "stream",
          "name": "stderr",
          "text": [
            "\n",
            "  0%|          | 0/2 [00:00<?, ?it/s]\u001b[A"
          ]
        },
        {
          "output_type": "stream",
          "name": "stdout",
          "text": [
            "entity number 0\n",
            "0.85470366\n",
            "Collect Requirements process\n",
            "entity number 1\n"
          ]
        },
        {
          "output_type": "stream",
          "name": "stderr",
          "text": [
            "100%|██████████| 2/2 [00:00<00:00, 28.28it/s]\n",
            "  9%|▉         | 19/216 [00:03<00:23,  8.28it/s]"
          ]
        },
        {
          "output_type": "stream",
          "name": "stdout",
          "text": [
            "0.70072114\n",
            "Collect Requirements process\n",
            "this is the size of the synonyms list 19\n",
            "this is the size of the concept_range list 19\n",
            "row number 19\n"
          ]
        },
        {
          "output_type": "stream",
          "name": "stderr",
          "text": [
            "\n",
            "  0%|          | 0/1 [00:00<?, ?it/s]\u001b[A"
          ]
        },
        {
          "output_type": "stream",
          "name": "stdout",
          "text": [
            "entity number 0\n"
          ]
        },
        {
          "output_type": "stream",
          "name": "stderr",
          "text": [
            "\r100%|██████████| 1/1 [00:00<00:00, 30.94it/s]\n"
          ]
        },
        {
          "output_type": "stream",
          "name": "stdout",
          "text": [
            "0.31055376\n",
            "Expertise\n",
            "this is the size of the synonyms list 20\n",
            "this is the size of the concept_range list 20\n",
            "row number 20\n"
          ]
        },
        {
          "output_type": "stream",
          "name": "stderr",
          "text": [
            "\n",
            "  0%|          | 0/32 [00:00<?, ?it/s]\u001b[A"
          ]
        },
        {
          "output_type": "stream",
          "name": "stdout",
          "text": [
            "entity number 0\n",
            "0.6613262\n",
            "Data gathering techniques\n",
            "entity number 1\n",
            "0.5040893\n",
            "process\n",
            "entity number 2\n",
            "0.48973998\n",
            "Brainstorming Brainstorming\n",
            "entity number 3\n"
          ]
        },
        {
          "output_type": "stream",
          "name": "stderr",
          "text": [
            "\n",
            " 12%|█▎        | 4/32 [00:00<00:00, 32.34it/s]\u001b[A"
          ]
        },
        {
          "output_type": "stream",
          "name": "stdout",
          "text": [
            "0.7760474\n",
            "technique\n",
            "entity number 4\n",
            "0.4418714\n",
            "ideas\n",
            "entity number 5\n",
            "0.42777097\n",
            "project product Requirements Interviews interview\n",
            "entity number 6\n",
            "0.7248684\n",
            "approach\n",
            "entity number 7\n"
          ]
        },
        {
          "output_type": "stream",
          "name": "stderr",
          "text": [
            "\n",
            " 25%|██▌       | 8/32 [00:00<00:00, 30.37it/s]"
          ]
        },
        {
          "output_type": "stream",
          "name": "stdout",
          "text": [
            "0.68240684\n",
            "information stakeholders\n"
          ]
        },
        {
          "output_type": "stream",
          "name": "stderr",
          "text": [
            "\u001b[A"
          ]
        },
        {
          "output_type": "stream",
          "name": "stdout",
          "text": [
            "entity number 8\n",
            "0.74225116\n",
            "questions\n",
            "entity number 9\n",
            "0.8850176\n",
            "basis interviewer\n",
            "entity number 10\n",
            "0.7753581\n",
            "basis interviewer\n",
            "entity number 11\n"
          ]
        },
        {
          "output_type": "stream",
          "name": "stderr",
          "text": [
            "\n",
            " 38%|███▊      | 12/32 [00:00<00:00, 30.99it/s]\u001b[A"
          ]
        },
        {
          "output_type": "stream",
          "name": "stdout",
          "text": [
            "0.48976964\n",
            "multiple interviewer interviews\n",
            "entity number 12\n",
            "0.54877293\n",
            "project participants\n",
            "entity number 13\n",
            "0.5489005\n",
            "executives matter experts\n",
            "entity number 14\n"
          ]
        },
        {
          "output_type": "stream",
          "name": "stderr",
          "text": [
            "\n",
            " 50%|█████     | 16/32 [00:00<00:00, 31.49it/s]\u001b[A"
          ]
        },
        {
          "output_type": "stream",
          "name": "stdout",
          "text": [
            "0.6611327\n",
            "features functions product deliverables Interviews\n",
            "entity number 15\n",
            "0.6799374\n",
            "information Focus groups Focus groups\n",
            "entity number 16\n",
            "0.6511823\n",
            "stakeholders matter experts\n",
            "entity number 17\n",
            "0.5580885\n",
            "expectations attitudes product service\n",
            "entity number 18\n",
            "0.6859951\n",
            "moderator\n",
            "entity number 19\n"
          ]
        },
        {
          "output_type": "stream",
          "name": "stderr",
          "text": [
            "\n"
          ]
        },
        {
          "output_type": "stream",
          "name": "stdout",
          "text": [
            "0.4523291\n",
            "group discussion\n"
          ]
        },
        {
          "output_type": "stream",
          "name": "stderr",
          "text": [
            "\r 62%|██████▎   | 20/32 [00:00<00:00, 30.62it/s]\u001b[A"
          ]
        },
        {
          "output_type": "stream",
          "name": "stdout",
          "text": [
            "entity number 20\n",
            "0.5977304\n",
            "one interview Questionnaire surveys Questionnaire surveys\n",
            "entity number 21\n",
            "0.6945337\n",
            "sets questions\n",
            "entity number 22\n",
            "0.4523096\n",
            "information number responds Questionnaire surveys\n",
            "entity number 23\n"
          ]
        },
        {
          "output_type": "stream",
          "name": "stderr",
          "text": [
            "\n",
            " 75%|███████▌  | 24/32 [00:00<00:00, 30.66it/s]\u001b[A"
          ]
        },
        {
          "output_type": "stream",
          "name": "stdout",
          "text": [
            "0.66805744\n",
            "audiences turnaround\n",
            "entity number 24\n",
            "0.8830638\n",
            "analysis\n",
            "entity number 25\n",
            "0.71942866\n",
            "analysis\n",
            "entity number 26\n",
            "0.59100306\n",
            "Benchmarking Benchmarking\n",
            "entity number 27\n"
          ]
        },
        {
          "output_type": "stream",
          "name": "stderr",
          "text": [
            "\n",
            " 88%|████████▊ | 28/32 [00:00<00:00, 30.48it/s]\u001b[A"
          ]
        },
        {
          "output_type": "stream",
          "name": "stdout",
          "text": [
            "0.6124962\n",
            "products process practices organizations\n",
            "entity number 28\n",
            "0.6944697\n",
            "practices\n",
            "entity number 29\n",
            "0.63855356\n",
            "ideas improvement\n",
            "entity number 30\n"
          ]
        },
        {
          "output_type": "stream",
          "name": "stderr",
          "text": [
            "\n",
            "100%|██████████| 32/32 [00:01<00:00, 30.86it/s]\n",
            " 10%|▉         | 21/216 [00:04<00:51,  3.80it/s]"
          ]
        },
        {
          "output_type": "stream",
          "name": "stdout",
          "text": [
            "0.74230707\n",
            "basis\n",
            "entity number 31\n",
            "0.7148411\n",
            "performance organizations\n",
            "this is the size of the synonyms list 21\n",
            "this is the size of the concept_range list 21\n",
            "row number 21\n"
          ]
        },
        {
          "output_type": "stream",
          "name": "stderr",
          "text": [
            "\n",
            "  0%|          | 0/10 [00:00<?, ?it/s]\u001b[A"
          ]
        },
        {
          "output_type": "stream",
          "name": "stdout",
          "text": [
            "entity number 0\n",
            "0.68383145\n",
            "Data analysis techniques\n",
            "entity number 1\n"
          ]
        },
        {
          "output_type": "stream",
          "name": "stderr",
          "text": [
            "\n",
            " 40%|████      | 4/10 [00:00<00:00, 32.57it/s]\u001b[A"
          ]
        },
        {
          "output_type": "stream",
          "name": "stdout",
          "text": [
            "0.6902653\n",
            "process\n",
            "entity number 2\n",
            "0.9456216\n",
            "information process document analysis\n",
            "entity number 3\n",
            "0.7421019\n",
            "information process document analysis\n",
            "entity number 4\n",
            "0.87886083\n",
            "documentation\n",
            "entity number 5\n",
            "0.83022684\n",
            "information relevant Requirements\n",
            "entity number 6\n",
            "0.70376384\n",
            "information relevant Requirements\n",
            "entity number 7\n"
          ]
        },
        {
          "output_type": "stream",
          "name": "stderr",
          "text": [
            "\n",
            " 80%|████████  | 8/10 [00:00<00:00, 32.29it/s]\u001b[A"
          ]
        },
        {
          "output_type": "stream",
          "name": "stdout",
          "text": [
            "0.74467385\n",
            "range Document\n",
            "entity number 8\n"
          ]
        },
        {
          "output_type": "stream",
          "name": "stderr",
          "text": [
            "100%|██████████| 10/10 [00:00<00:00, 31.92it/s]\n",
            " 10%|█         | 22/216 [00:04<00:53,  3.62it/s]"
          ]
        },
        {
          "output_type": "stream",
          "name": "stdout",
          "text": [
            "0.68202394\n",
            "Requirements Examples Document\n",
            "entity number 9\n",
            "0.587492\n",
            "Agreements Business\n",
            "this is the size of the synonyms list 22\n",
            "this is the size of the concept_range list 22\n",
            "row number 22\n"
          ]
        },
        {
          "output_type": "stream",
          "name": "stderr",
          "text": [
            "\n",
            "  0%|          | 0/26 [00:00<?, ?it/s]\u001b[A"
          ]
        },
        {
          "output_type": "stream",
          "name": "stdout",
          "text": [
            "entity number 0\n",
            "0.8218279\n",
            "techniques\n",
            "entity number 1\n",
            "0.76108074\n",
            "techniques\n",
            "entity number 2\n",
            "0.54718\n",
            "Collect Requirements process\n",
            "entity number 3\n"
          ]
        },
        {
          "output_type": "stream",
          "name": "stderr",
          "text": [
            "\n",
            " 15%|█▌        | 4/26 [00:00<00:00, 36.58it/s]\u001b[A"
          ]
        },
        {
          "output_type": "stream",
          "name": "stdout",
          "text": [
            "0.5362254\n",
            "Voting Voting\n",
            "entity number 4\n",
            "0.8628043\n",
            "alternatives outcome form actions techniques\n",
            "entity number 5\n",
            "0.714883\n",
            "alternatives outcome form actions techniques\n",
            "entity number 6\n",
            "0.6168715\n",
            "clarify\n",
            "entity number 7\n"
          ]
        },
        {
          "output_type": "stream",
          "name": "stderr",
          "text": [
            "\n",
            " 31%|███       | 8/26 [00:00<00:00, 32.06it/s]\u001b[A"
          ]
        },
        {
          "output_type": "stream",
          "name": "stdout",
          "text": [
            "0.6906063\n",
            "product Requirements Examples\n",
            "entity number 8\n",
            "0.64112157\n",
            "techniques\n",
            "entity number 9\n",
            "0.414357\n",
            "Unanimity A decision\n",
            "entity number 10\n",
            "0.49723095\n",
            "everyone\n",
            "entity number 11\n"
          ]
        },
        {
          "output_type": "stream",
          "name": "stderr",
          "text": [
            "\n",
            " 46%|████▌     | 12/26 [00:00<00:00, 32.56it/s]\u001b[A"
          ]
        },
        {
          "output_type": "stream",
          "name": "stdout",
          "text": [
            "0.54159826\n",
            "course action Majority A decision\n",
            "entity number 12\n",
            "0.72191674\n",
            "support\n",
            "entity number 13\n",
            "0.7958995\n",
            "members group\n",
            "entity number 14\n"
          ]
        },
        {
          "output_type": "stream",
          "name": "stderr",
          "text": [
            "\n",
            " 62%|██████▏   | 16/26 [00:00<00:00, 31.94it/s]\u001b[A"
          ]
        },
        {
          "output_type": "stream",
          "name": "stdout",
          "text": [
            "0.5120643\n",
            "group size number participants\n",
            "entity number 15\n",
            "0.7528599\n",
            "decision\n",
            "entity number 16\n",
            "0.60640174\n",
            "Plurality A decision\n",
            "entity number 17\n",
            "0.5865632\n",
            "block group\n",
            "entity number 18\n",
            "0.68087375\n",
            "majority\n",
            "entity number 19\n"
          ]
        },
        {
          "output_type": "stream",
          "name": "stderr",
          "text": [
            "\n",
            " 77%|███████▋  | 20/26 [00:00<00:00, 32.08it/s]\u001b[A"
          ]
        },
        {
          "output_type": "stream",
          "name": "stdout",
          "text": [
            "0.7173691\n",
            "method\n",
            "entity number 20\n",
            "0.68424386\n",
            "number options\n",
            "entity number 21\n"
          ]
        },
        {
          "output_type": "stream",
          "name": "stderr",
          "text": [
            "\n",
            " 92%|█████████▏| 24/26 [00:00<00:00, 32.08it/s]\u001b[A"
          ]
        },
        {
          "output_type": "stream",
          "name": "stdout",
          "text": [
            "0.7240437\n",
            "decision making method individual\n",
            "entity number 22\n",
            "0.6119143\n",
            "responsibility\n",
            "entity number 23\n",
            "0.83344126\n",
            "decision matrix\n",
            "entity number 24\n",
            "0.74171984\n",
            "decision matrix\n",
            "entity number 25\n"
          ]
        },
        {
          "output_type": "stream",
          "name": "stderr",
          "text": [
            "100%|██████████| 26/26 [00:00<00:00, 31.98it/s]\n",
            " 11%|█         | 23/216 [00:05<01:16,  2.53it/s]"
          ]
        },
        {
          "output_type": "stream",
          "name": "stdout",
          "text": [
            "0.6751673\n",
            "approach\n",
            "this is the size of the synonyms list 23\n",
            "this is the size of the concept_range list 23\n",
            "row number 23\n"
          ]
        },
        {
          "output_type": "stream",
          "name": "stderr",
          "text": [
            "\n",
            "  0%|          | 0/7 [00:00<?, ?it/s]\u001b[A"
          ]
        },
        {
          "output_type": "stream",
          "name": "stdout",
          "text": [
            "entity number 0\n",
            "0.65638673\n",
            "Data representation techniques\n",
            "entity number 1\n"
          ]
        },
        {
          "output_type": "stream",
          "name": "stderr",
          "text": [
            "\n",
            " 43%|████▎     | 3/7 [00:00<00:00, 29.68it/s]\u001b[A"
          ]
        },
        {
          "output_type": "stream",
          "name": "stdout",
          "text": [
            "0.5379051\n",
            "process\n",
            "entity number 2\n",
            "0.47138524\n",
            "Affinity diagrams Affinity\n",
            "entity number 3\n",
            "0.41216964\n",
            "numbers ideas\n",
            "entity number 4\n",
            "0.43066108\n",
            "groups review analysis Mind mapping Mind mapping\n",
            "entity number 5\n"
          ]
        },
        {
          "output_type": "stream",
          "name": "stderr",
          "text": [
            "\n",
            " 86%|████████▌ | 6/7 [00:00<00:00, 29.55it/s]"
          ]
        },
        {
          "output_type": "stream",
          "name": "stdout",
          "text": [
            "0.61826533\n",
            "ideas\n"
          ]
        },
        {
          "output_type": "stream",
          "name": "stderr",
          "text": [
            "\u001b[A"
          ]
        },
        {
          "output_type": "stream",
          "name": "stdout",
          "text": [
            "entity number 6\n"
          ]
        },
        {
          "output_type": "stream",
          "name": "stderr",
          "text": [
            "100%|██████████| 7/7 [00:00<00:00, 28.08it/s]\n",
            " 11%|█         | 24/216 [00:05<01:10,  2.73it/s]"
          ]
        },
        {
          "output_type": "stream",
          "name": "stdout",
          "text": [
            "0.4057119\n",
            "brainstorming sessions map\n",
            "this is the size of the synonyms list 24\n",
            "this is the size of the concept_range list 24\n",
            "row number 24\n"
          ]
        },
        {
          "output_type": "stream",
          "name": "stderr",
          "text": [
            "\n",
            "  0%|          | 0/60 [00:00<?, ?it/s]\u001b[A"
          ]
        },
        {
          "output_type": "stream",
          "name": "stdout",
          "text": [
            "entity number 0\n",
            "0.64039254\n",
            "team skills\n",
            "entity number 1\n",
            "0.70094144\n",
            "process\n",
            "entity number 2\n",
            "0.676098\n",
            "Nominal group\n",
            "entity number 3\n"
          ]
        },
        {
          "output_type": "stream",
          "name": "stderr",
          "text": [
            "\n",
            "  7%|▋         | 4/60 [00:00<00:01, 35.13it/s]\u001b[A"
          ]
        },
        {
          "output_type": "stream",
          "name": "stdout",
          "text": [
            "0.49164882\n",
            "group technique\n",
            "entity number 4\n",
            "0.4875874\n",
            "voting process\n",
            "entity number 5\n",
            "0.40447083\n",
            "ideas brainstorming prioritization group technique\n",
            "entity number 6\n",
            "0.5734881\n",
            "form\n",
            "entity number 7\n"
          ]
        },
        {
          "output_type": "stream",
          "name": "stderr",
          "text": [
            "\n",
            " 13%|█▎        | 8/60 [00:00<00:01, 32.08it/s]\u001b[A"
          ]
        },
        {
          "output_type": "stream",
          "name": "stdout",
          "text": [
            "0.54711246\n",
            "steps question problem\n",
            "entity number 8\n",
            "0.61279845\n",
            "group person\n",
            "entity number 9\n",
            "0.8115627\n",
            "ideas chart ideas\n",
            "entity number 10\n",
            "0.74445844\n",
            "ideas chart ideas\n",
            "entity number 11\n"
          ]
        },
        {
          "output_type": "stream",
          "name": "stderr",
          "text": [
            "\n",
            " 20%|██        | 12/60 [00:00<00:01, 31.96it/s]\u001b[A"
          ]
        },
        {
          "output_type": "stream",
          "name": "stdout",
          "text": [
            "0.62094045\n",
            "idea\n",
            "entity number 12\n",
            "0.832702\n",
            "Individuals\n",
            "entity number 13\n"
          ]
        },
        {
          "output_type": "stream",
          "name": "stderr",
          "text": [
            "\n",
            " 27%|██▋       | 16/60 [00:00<00:01, 31.46it/s]\u001b[A"
          ]
        },
        {
          "output_type": "stream",
          "name": "stdout",
          "text": [
            "0.6774374\n",
            "Individuals\n",
            "entity number 14\n",
            "0.6815282\n",
            "ideas\n",
            "entity number 15\n",
            "0.567309\n",
            "scale\n",
            "entity number 16\n",
            "0.6680577\n",
            "Voting\n",
            "entity number 17\n",
            "0.7255845\n",
            "place rounds\n",
            "entity number 18\n",
            "0.68887377\n",
            "ideas round votes\n",
            "entity number 19\n"
          ]
        },
        {
          "output_type": "stream",
          "name": "stderr",
          "text": [
            "\n",
            " 33%|███▎      | 20/60 [00:00<00:01, 32.12it/s]\u001b[A"
          ]
        },
        {
          "output_type": "stream",
          "name": "stdout",
          "text": [
            "0.5478089\n",
            "scoring ideas\n",
            "entity number 20\n"
          ]
        },
        {
          "output_type": "stream",
          "name": "stderr",
          "text": [
            "\n",
            " 40%|████      | 24/60 [00:00<00:01, 32.60it/s]\u001b[A"
          ]
        },
        {
          "output_type": "stream",
          "name": "stdout",
          "text": [
            "0.48146978\n",
            "Observation conversation Observation conversation\n",
            "entity number 21\n",
            "0.6133877\n",
            "way\n",
            "entity number 22\n",
            "0.6733557\n",
            "individuals environment\n",
            "entity number 23\n",
            "0.6014538\n",
            "jobs tasks\n",
            "entity number 24\n",
            "0.7644436\n",
            "process\n",
            "entity number 25\n",
            "0.7689291\n",
            "process people\n",
            "entity number 26\n",
            "0.5771244\n",
            "product\n",
            "entity number 27\n"
          ]
        },
        {
          "output_type": "stream",
          "name": "stderr",
          "text": [
            "\n",
            " 47%|████▋     | 28/60 [00:00<00:01, 31.80it/s]\u001b[A"
          ]
        },
        {
          "output_type": "stream",
          "name": "stdout",
          "text": [
            "0.6739359\n",
            "difficulty\n",
            "entity number 28\n",
            "0.6983397\n",
            "Requirements Observation\n",
            "entity number 29\n",
            "0.63599455\n",
            "job\n",
            "entity number 30\n",
            "0.4183122\n",
            "observer\n",
            "entity number 31\n"
          ]
        },
        {
          "output_type": "stream",
          "name": "stderr",
          "text": [
            "\n",
            " 53%|█████▎    | 32/60 [00:00<00:00, 32.61it/s]\u001b[A"
          ]
        },
        {
          "output_type": "stream",
          "name": "stdout",
          "text": [
            "0.49629885\n",
            "business expert\n",
            "entity number 32\n",
            "0.63599455\n",
            "job\n",
            "entity number 33\n",
            "0.77405596\n",
            "observer\n",
            "entity number 34\n"
          ]
        },
        {
          "output_type": "stream",
          "name": "stderr",
          "text": [
            "\n",
            " 60%|██████    | 36/60 [00:01<00:00, 32.04it/s]\u001b[A"
          ]
        },
        {
          "output_type": "stream",
          "name": "stdout",
          "text": [
            "0.812686\n",
            "Requirements Facilitation Facilitation\n",
            "entity number 35\n",
            "0.7249953\n",
            "Requirements Facilitation Facilitation\n",
            "entity number 36\n",
            "0.76531893\n",
            "sessions\n",
            "entity number 37\n",
            "0.7923095\n",
            "stakeholders\n",
            "entity number 38\n"
          ]
        },
        {
          "output_type": "stream",
          "name": "stderr",
          "text": [
            "\n",
            " 67%|██████▋   | 40/60 [00:01<00:00, 32.87it/s]"
          ]
        },
        {
          "output_type": "stream",
          "name": "stdout",
          "text": [
            "0.64656276\n",
            "product Requirements\n",
            "entity number 39\n",
            "0.5056179\n",
            "cross Requirements stakeholder differences group nature sessions\n"
          ]
        },
        {
          "output_type": "stream",
          "name": "stderr",
          "text": [
            "\u001b[A"
          ]
        },
        {
          "output_type": "stream",
          "name": "stdout",
          "text": [
            "entity number 40\n",
            "0.6600683\n",
            "relationships\n",
            "entity number 41\n"
          ]
        },
        {
          "output_type": "stream",
          "name": "stderr",
          "text": [
            "\n",
            " 73%|███████▎  | 44/60 [00:01<00:00, 32.76it/s]\u001b[A"
          ]
        },
        {
          "output_type": "stream",
          "name": "stdout",
          "text": [
            "0.68044794\n",
            "communication participants\n",
            "entity number 42\n",
            "0.69780254\n",
            "stakeholder consensus addition issues\n",
            "entity number 43\n",
            "0.73975646\n",
            "sessions Facilitation skills\n",
            "entity number 44\n",
            "0.5158647\n",
            "situations\n",
            "entity number 45\n",
            "0.6376225\n",
            "Joint application design development A A sessions\n",
            "entity number 46\n",
            "0.47053546\n",
            "software development industry\n",
            "entity number 47\n"
          ]
        },
        {
          "output_type": "stream",
          "name": "stderr",
          "text": [
            "\n",
            " 80%|████████  | 48/60 [00:01<00:00, 32.39it/s]\u001b[A"
          ]
        },
        {
          "output_type": "stream",
          "name": "stdout",
          "text": [
            "0.3661758\n",
            "sessions\n",
            "entity number 48\n"
          ]
        },
        {
          "output_type": "stream",
          "name": "stderr",
          "text": [
            "\n",
            " 87%|████████▋ | 52/60 [00:01<00:00, 32.41it/s]\u001b[A"
          ]
        },
        {
          "output_type": "stream",
          "name": "stdout",
          "text": [
            "0.46396714\n",
            "business matter experts development team\n",
            "entity number 49\n",
            "0.51008946\n",
            "Requirements\n",
            "entity number 50\n",
            "0.5188092\n",
            "software development process Quality function deployment F manufacturing industry F\n",
            "entity number 51\n",
            "0.6926272\n",
            "facilitation technique\n",
            "entity number 52\n",
            "0.5625381\n",
            "characteristics product development F starts\n",
            "entity number 53\n",
            "0.8065449\n",
            "voice customer OC needs\n",
            "entity number 54\n",
            "0.47428423\n",
            "voice customer OC needs\n",
            "entity number 55\n"
          ]
        },
        {
          "output_type": "stream",
          "name": "stderr",
          "text": [
            "\n",
            " 93%|█████████▎| 56/60 [00:01<00:00, 30.79it/s]\u001b[A"
          ]
        },
        {
          "output_type": "stream",
          "name": "stdout",
          "text": [
            "0.48587263\n",
            "goals\n",
            "entity number 56\n",
            "0.61743456\n",
            "User stories User stories\n",
            "entity number 57\n",
            "0.77058077\n",
            "descriptions\n",
            "entity number 58\n",
            "0.49969703\n",
            "functionality\n",
            "entity number 59\n"
          ]
        },
        {
          "output_type": "stream",
          "name": "stderr",
          "text": [
            "\n",
            "100%|██████████| 60/60 [00:01<00:00, 31.93it/s]"
          ]
        },
        {
          "output_type": "stream",
          "name": "stdout",
          "text": [
            "0.62054074\n",
            "Requirements workshop User stories\n"
          ]
        },
        {
          "output_type": "stream",
          "name": "stderr",
          "text": [
            "\n",
            "\r 12%|█▏        | 25/216 [00:07<02:23,  1.33it/s]"
          ]
        },
        {
          "output_type": "stream",
          "name": "stdout",
          "text": [
            "this is the size of the synonyms list 25\n",
            "this is the size of the concept_range list 25\n",
            "row number 25\n"
          ]
        },
        {
          "output_type": "stream",
          "name": "stderr",
          "text": [
            "\n",
            "  0%|          | 0/3 [00:00<?, ?it/s]\u001b[A"
          ]
        },
        {
          "output_type": "stream",
          "name": "stdout",
          "text": [
            "entity number 0\n",
            "0.89677626\n",
            "example scope model Context\n",
            "entity number 1\n"
          ]
        },
        {
          "output_type": "stream",
          "name": "stderr",
          "text": [
            "100%|██████████| 3/3 [00:00<00:00, 30.96it/s]\n",
            " 12%|█▏        | 26/216 [00:07<01:50,  1.72it/s]"
          ]
        },
        {
          "output_type": "stream",
          "name": "stdout",
          "text": [
            "0.8334006\n",
            "product scope\n",
            "entity number 2\n",
            "0.5449066\n",
            "product scope\n",
            "this is the size of the synonyms list 26\n",
            "this is the size of the concept_range list 26\n",
            "row number 26\n"
          ]
        },
        {
          "output_type": "stream",
          "name": "stderr",
          "text": [
            "\n",
            "  0%|          | 0/17 [00:00<?, ?it/s]\u001b[A"
          ]
        },
        {
          "output_type": "stream",
          "name": "stdout",
          "text": [
            "entity number 0\n",
            "0.72366804\n",
            "method\n",
            "entity number 1\n",
            "0.76385194\n",
            "feedback Requirements\n",
            "entity number 2\n",
            "0.83139527\n",
            "Examples prototypes\n",
            "entity number 3\n"
          ]
        },
        {
          "output_type": "stream",
          "name": "stderr",
          "text": [
            "\n",
            " 24%|██▎       | 4/17 [00:00<00:00, 35.48it/s]\u001b[A"
          ]
        },
        {
          "output_type": "stream",
          "name": "stdout",
          "text": [
            "0.5946472\n",
            "Examples prototypes\n",
            "entity number 4\n",
            "0.46437693\n",
            "scale products computer\n",
            "entity number 5\n",
            "0.5351715\n",
            "D D models\n",
            "entity number 6\n"
          ]
        },
        {
          "output_type": "stream",
          "name": "stderr",
          "text": [
            "\n",
            " 47%|████▋     | 8/17 [00:00<00:00, 32.22it/s]\u001b[A"
          ]
        },
        {
          "output_type": "stream",
          "name": "stdout",
          "text": [
            "0.60889983\n",
            "ups simulations Prototypes\n",
            "entity number 7\n",
            "0.7723272\n",
            "stakeholders\n",
            "entity number 8\n",
            "0.8460255\n",
            "representations Requirements Prototypes\n",
            "entity number 9\n",
            "0.6833737\n",
            "representations Requirements Prototypes\n",
            "entity number 10\n",
            "0.47130543\n",
            "concept elaboration cycles mock creation experimentation feedback generation prototype revision feedback cycles\n",
            "entity number 11\n"
          ]
        },
        {
          "output_type": "stream",
          "name": "stderr",
          "text": [
            "\n",
            " 71%|███████   | 12/17 [00:00<00:00, 32.80it/s]\u001b[A"
          ]
        },
        {
          "output_type": "stream",
          "name": "stdout",
          "text": [
            "0.7351182\n",
            "Requirements\n",
            "entity number 12\n",
            "0.78225285\n",
            "prototype\n",
            "entity number 13\n"
          ]
        },
        {
          "output_type": "stream",
          "name": "stderr",
          "text": [
            "\n",
            " 94%|█████████▍| 16/17 [00:00<00:00, 33.29it/s]\u001b[A"
          ]
        },
        {
          "output_type": "stream",
          "name": "stdout",
          "text": [
            "0.61809576\n",
            "design\n",
            "entity number 14\n",
            "0.6681499\n",
            "phase Storyboarding\n",
            "entity number 15\n",
            "0.66224754\n",
            "prototyping technique\n",
            "entity number 16\n"
          ]
        },
        {
          "output_type": "stream",
          "name": "stderr",
          "text": [
            "100%|██████████| 17/17 [00:00<00:00, 32.53it/s]\n",
            " 12%|█▎        | 27/216 [00:08<01:48,  1.75it/s]"
          ]
        },
        {
          "output_type": "stream",
          "name": "stdout",
          "text": [
            "0.55705726\n",
            "sequence navigation series images illustrations Storyboard\n",
            "this is the size of the synonyms list 27\n",
            "this is the size of the concept_range list 27\n",
            "row number 27\n"
          ]
        },
        {
          "output_type": "stream",
          "name": "stderr",
          "text": [
            "\n",
            "  0%|          | 0/38 [00:00<?, ?it/s]\u001b[A"
          ]
        },
        {
          "output_type": "stream",
          "name": "stdout",
          "text": [
            "entity number 0\n",
            "0.93682504\n",
            "Requirements\n",
            "entity number 1\n",
            "0.6026219\n",
            "Requirements\n",
            "entity number 2\n",
            "0.17689908\n",
            "business need project Requirements\n",
            "entity number 3\n"
          ]
        },
        {
          "output_type": "stream",
          "name": "stderr",
          "text": [
            "\n",
            " 11%|█         | 4/38 [00:00<00:00, 36.21it/s]\u001b[A"
          ]
        },
        {
          "output_type": "stream",
          "name": "stdout",
          "text": [
            "0.56053364\n",
            "level\n",
            "entity number 4\n",
            "0.8240036\n",
            "baseline Requirements\n",
            "entity number 5\n",
            "0.6831212\n",
            "baseline Requirements\n",
            "entity number 6\n",
            "0.47184253\n",
            "consistent\n",
            "entity number 7\n"
          ]
        },
        {
          "output_type": "stream",
          "name": "stderr",
          "text": [
            "\n",
            " 21%|██        | 8/38 [00:00<00:00, 32.91it/s]\u001b[A"
          ]
        },
        {
          "output_type": "stream",
          "name": "stdout",
          "text": [
            "0.7801024\n",
            "stakeholders format Requirements document\n",
            "entity number 8\n",
            "0.85399556\n",
            "Requirements\n",
            "entity number 9\n"
          ]
        },
        {
          "output_type": "stream",
          "name": "stderr",
          "text": [
            "\n",
            " 32%|███▏      | 12/38 [00:00<00:00, 30.89it/s]\u001b[A"
          ]
        },
        {
          "output_type": "stream",
          "name": "stdout",
          "text": [
            "0.8100121\n",
            "stakeholder priority forms\n",
            "entity number 10\n",
            "0.728511\n",
            "stakeholder priority forms\n",
            "entity number 11\n",
            "0.69648784\n",
            "executive summary\n",
            "entity number 12\n",
            "0.72769785\n",
            "descriptions attaches organizations\n",
            "entity number 13\n"
          ]
        },
        {
          "output_type": "stream",
          "name": "stderr",
          "text": [
            "\n",
            " 42%|████▏     | 16/38 [00:00<00:00, 32.33it/s]\u001b[A"
          ]
        },
        {
          "output_type": "stream",
          "name": "stdout",
          "text": [
            "0.45104948\n",
            "Requirements types business solutions referring\n",
            "entity number 14\n",
            "0.79828036\n",
            "needs latter needs\n",
            "entity number 15\n",
            "0.85379857\n",
            "classifications\n",
            "entity number 16\n"
          ]
        },
        {
          "output_type": "stream",
          "name": "stderr",
          "text": [
            "\n",
            " 53%|█████▎    | 20/38 [00:00<00:00, 32.99it/s]"
          ]
        },
        {
          "output_type": "stream",
          "name": "stdout",
          "text": [
            "0.75343853\n",
            "classifications\n",
            "entity number 17\n",
            "0.75343853\n",
            "refinement detail Requirements\n",
            "entity number 18\n",
            "0.85379857\n",
            "Requirements\n",
            "entity number 19\n",
            "0.61764956\n",
            "Requirements\n"
          ]
        },
        {
          "output_type": "stream",
          "name": "stderr",
          "text": [
            "\u001b[A"
          ]
        },
        {
          "output_type": "stream",
          "name": "stdout",
          "text": [
            "entity number 20\n",
            "0.83410317\n",
            "Stakeholder Requirements needs stakeholder stakeholder group Solution Requirements features functions characteristics product service result\n",
            "entity number 21\n",
            "0.8447522\n",
            "business stakeholder Requirements Solution Requirements\n",
            "entity number 22\n",
            "0.6376859\n",
            "business stakeholder Requirements Solution Requirements\n",
            "entity number 23\n"
          ]
        },
        {
          "output_type": "stream",
          "name": "stderr",
          "text": [
            "\n",
            " 63%|██████▎   | 24/38 [00:00<00:00, 32.20it/s]\u001b[A"
          ]
        },
        {
          "output_type": "stream",
          "name": "stdout",
          "text": [
            "0.76232827\n",
            "Requirements Functional Requirements Functional Requirements\n",
            "entity number 24\n",
            "0.88767195\n",
            "actions process data interactions product\n",
            "entity number 25\n",
            "0.4246318\n",
            "actions process data interactions product\n",
            "entity number 26\n",
            "0.51190555\n",
            "Non Requirements Non Requirements supplement Requirements\n",
            "entity number 27\n"
          ]
        },
        {
          "output_type": "stream",
          "name": "stderr",
          "text": [
            "\n",
            " 74%|███████▎  | 28/38 [00:00<00:00, 32.35it/s]\u001b[A"
          ]
        },
        {
          "output_type": "stream",
          "name": "stdout",
          "text": [
            "0.7393669\n",
            "conditions qualities\n",
            "entity number 28\n",
            "0.7953242\n",
            "product\n",
            "entity number 29\n",
            "0.48056114\n",
            "Examples\n",
            "entity number 30\n"
          ]
        },
        {
          "output_type": "stream",
          "name": "stderr",
          "text": [
            "\n",
            " 84%|████████▍ | 32/38 [00:00<00:00, 31.52it/s]\u001b[A"
          ]
        },
        {
          "output_type": "stream",
          "name": "stdout",
          "text": [
            "0.46045476\n",
            "security performance safety level service supportability retention purge Transition readings Requirements capabilities data conversion training Requirements\n",
            "entity number 31\n",
            "0.82430905\n",
            "state\n",
            "entity number 32\n",
            "0.6090678\n",
            "state\n",
            "entity number 33\n"
          ]
        },
        {
          "output_type": "stream",
          "name": "stderr",
          "text": [
            "\n",
            " 95%|█████████▍| 36/38 [00:01<00:00, 32.10it/s]\u001b[A"
          ]
        },
        {
          "output_type": "stream",
          "name": "stdout",
          "text": [
            "0.7469157\n",
            "future state Project Requirements\n",
            "entity number 34\n",
            "0.7417035\n",
            "actions process conditions project\n",
            "entity number 35\n",
            "0.6298001\n",
            "Examples\n",
            "entity number 36\n",
            "0.6871265\n",
            "milestone dates obligations constraints\n",
            "entity number 37\n"
          ]
        },
        {
          "output_type": "stream",
          "name": "stderr",
          "text": [
            "100%|██████████| 38/38 [00:01<00:00, 32.04it/s]\n",
            " 13%|█▎        | 28/216 [00:09<02:21,  1.33it/s]"
          ]
        },
        {
          "output_type": "stream",
          "name": "stdout",
          "text": [
            "0.7151331\n",
            "Quality Requirements capture condition criteria\n",
            "this is the size of the synonyms list 28\n",
            "this is the size of the concept_range list 28\n",
            "row number 28\n"
          ]
        },
        {
          "output_type": "stream",
          "name": "stderr",
          "text": [
            "\n",
            "  0%|          | 0/23 [00:00<?, ?it/s]\u001b[A"
          ]
        },
        {
          "output_type": "stream",
          "name": "stdout",
          "text": [
            "entity number 0\n",
            "0.70016694\n",
            "Requirements traceability matrix\n",
            "entity number 1\n",
            "0.6328273\n",
            "grid\n",
            "entity number 2\n"
          ]
        },
        {
          "output_type": "stream",
          "name": "stderr",
          "text": [
            "\n",
            " 17%|█▋        | 4/23 [00:00<00:00, 34.20it/s]\u001b[A"
          ]
        },
        {
          "output_type": "stream",
          "name": "stdout",
          "text": [
            "0.8791836\n",
            "implementation Requirements traceability matrix\n",
            "entity number 3\n",
            "0.79593396\n",
            "implementation Requirements traceability matrix\n",
            "entity number 4\n",
            "0.5019918\n",
            "requirement\n",
            "entity number 5\n",
            "0.8500345\n",
            "business project objectives\n",
            "entity number 6\n"
          ]
        },
        {
          "output_type": "stream",
          "name": "stderr",
          "text": [
            "\n",
            " 35%|███▍      | 8/23 [00:00<00:00, 33.44it/s]\u001b[A"
          ]
        },
        {
          "output_type": "stream",
          "name": "stdout",
          "text": [
            "0.3208156\n",
            "business project objectives\n",
            "entity number 7\n",
            "0.6036217\n",
            "means\n",
            "entity number 8\n",
            "0.8319657\n",
            "Requirements\n",
            "entity number 9\n"
          ]
        },
        {
          "output_type": "stream",
          "name": "stderr",
          "text": [
            "\n",
            " 52%|█████▏    | 12/23 [00:00<00:00, 33.52it/s]\u001b[A"
          ]
        },
        {
          "output_type": "stream",
          "name": "stdout",
          "text": [
            "0.93682504\n",
            "Requirements documentation\n",
            "entity number 10\n",
            "0.53454053\n",
            "Requirements documentation\n",
            "entity number 11\n",
            "0.5173339\n",
            "end project Finally\n",
            "entity number 12\n",
            "0.61388326\n",
            "structure\n",
            "entity number 13\n"
          ]
        },
        {
          "output_type": "stream",
          "name": "stderr",
          "text": [
            "\n",
            " 70%|██████▉   | 16/23 [00:00<00:00, 33.12it/s]\u001b[A"
          ]
        },
        {
          "output_type": "stream",
          "name": "stdout",
          "text": [
            "0.6742439\n",
            "changes product scope Tracing Requirements\n",
            "entity number 14\n",
            "0.6632907\n",
            "Business needs opportunities goals objectives Project\n",
            "entity number 15\n",
            "0.54975295\n",
            "Project scope deliverables Product design Product development Test strategy test scenarios High level Requirements Requirements Attributes\n",
            "entity number 16\n",
            "0.8018067\n",
            "Requirements traceability matrix attributes\n",
            "entity number 17\n",
            "0.7805941\n",
            "Requirements traceability matrix attributes\n",
            "entity number 18\n",
            "0.79178727\n",
            "information requirement Typical\n",
            "entity number 19\n"
          ]
        },
        {
          "output_type": "stream",
          "name": "stderr",
          "text": [
            "\n",
            " 87%|████████▋ | 20/23 [00:00<00:00, 32.77it/s]\u001b[A"
          ]
        },
        {
          "output_type": "stream",
          "name": "stdout",
          "text": [
            "0.7755647\n",
            "Requirements traceability matrix\n",
            "entity number 20\n"
          ]
        },
        {
          "output_type": "stream",
          "name": "stderr",
          "text": [
            "100%|██████████| 23/23 [00:00<00:00, 32.64it/s]\n",
            " 13%|█▎        | 29/216 [00:10<02:19,  1.34it/s]"
          ]
        },
        {
          "output_type": "stream",
          "name": "stdout",
          "text": [
            "0.66295\n",
            "identifier description requirement rationale inclusion owner source priority version status\n",
            "entity number 21\n",
            "0.7486024\n",
            "status date Additional\n",
            "entity number 22\n",
            "0.5748763\n",
            "requirement\n",
            "this is the size of the synonyms list 29\n",
            "this is the size of the concept_range list 29\n",
            "row number 29\n"
          ]
        },
        {
          "output_type": "stream",
          "name": "stderr",
          "text": [
            "\n",
            "  0%|          | 0/2 [00:00<?, ?it/s]\u001b[A"
          ]
        },
        {
          "output_type": "stream",
          "name": "stdout",
          "text": [
            "entity number 0\n"
          ]
        },
        {
          "output_type": "stream",
          "name": "stderr",
          "text": [
            "\r100%|██████████| 2/2 [00:00<00:00, 27.92it/s]\n"
          ]
        },
        {
          "output_type": "stream",
          "name": "stdout",
          "text": [
            "0.82883465\n",
            "process\n",
            "entity number 1\n",
            "0.59809977\n",
            "process\n",
            "this is the size of the synonyms list 30\n",
            "this is the size of the concept_range list 30\n",
            "row number 30\n"
          ]
        },
        {
          "output_type": "stream",
          "name": "stderr",
          "text": [
            "\n",
            "0it [00:00, ?it/s]\n",
            " 14%|█▍        | 31/216 [00:10<01:19,  2.31it/s]"
          ]
        },
        {
          "output_type": "stream",
          "name": "stdout",
          "text": [
            "this is the size of the synonyms list 31\n",
            "this is the size of the concept_range list 31\n",
            "row number 31\n"
          ]
        },
        {
          "output_type": "stream",
          "name": "stderr",
          "text": [
            "\n",
            "  0%|          | 0/2 [00:00<?, ?it/s]\u001b[A"
          ]
        },
        {
          "output_type": "stream",
          "name": "stdout",
          "text": [
            "entity number 0\n"
          ]
        },
        {
          "output_type": "stream",
          "name": "stderr",
          "text": [
            "\r100%|██████████| 2/2 [00:00<00:00, 22.39it/s]\n"
          ]
        },
        {
          "output_type": "stream",
          "name": "stdout",
          "text": [
            "0.8656124\n",
            "scope management plan\n",
            "entity number 1\n",
            "0.8295145\n",
            "Section Document project scope\n",
            "this is the size of the synonyms list 32\n",
            "this is the size of the concept_range list 32\n",
            "row number 32\n"
          ]
        },
        {
          "output_type": "stream",
          "name": "stderr",
          "text": [
            "\n",
            "  0%|          | 0/9 [00:00<?, ?it/s]\u001b[A"
          ]
        },
        {
          "output_type": "stream",
          "name": "stdout",
          "text": [
            "entity number 0\n",
            "0.7392939\n",
            "Examples project Document\n",
            "entity number 1\n",
            "0.82296103\n",
            "Assumption\n",
            "entity number 2\n",
            "0.6073308\n",
            "Assumption\n",
            "entity number 3\n"
          ]
        },
        {
          "output_type": "stream",
          "name": "stderr",
          "text": [
            "\n",
            " 44%|████▍     | 4/9 [00:00<00:00, 34.28it/s]\u001b[A"
          ]
        },
        {
          "output_type": "stream",
          "name": "stdout",
          "text": [
            "0.8173733\n",
            "project product scope Requirements documentation Requirements documentation identifies\n",
            "entity number 4\n",
            "0.5887446\n",
            "project product scope Requirements documentation Requirements documentation identifies\n",
            "entity number 5\n",
            "0.92743886\n",
            "risk register\n",
            "entity number 6\n",
            "0.7560099\n",
            "risk register\n",
            "entity number 7\n"
          ]
        },
        {
          "output_type": "stream",
          "name": "stderr",
          "text": [
            "\n",
            " 89%|████████▉ | 8/9 [00:00<00:00, 31.35it/s]\u001b[A"
          ]
        },
        {
          "output_type": "stream",
          "name": "stdout",
          "text": [
            "0.79401934\n",
            "response strategies\n"
          ]
        },
        {
          "output_type": "stream",
          "name": "stderr",
          "text": [
            "100%|██████████| 9/9 [00:00<00:00, 30.69it/s]\n",
            " 15%|█▌        | 33/216 [00:10<01:02,  2.92it/s]"
          ]
        },
        {
          "output_type": "stream",
          "name": "stdout",
          "text": [
            "entity number 8\n",
            "0.953943\n",
            "project product scope\n",
            "this is the size of the synonyms list 33\n",
            "this is the size of the concept_range list 33\n",
            "row number 33\n"
          ]
        },
        {
          "output_type": "stream",
          "name": "stderr",
          "text": [
            "\n",
            "  0%|          | 0/1 [00:00<?, ?it/s]\u001b[A"
          ]
        },
        {
          "output_type": "stream",
          "name": "stdout",
          "text": [
            "entity number 0\n"
          ]
        },
        {
          "output_type": "stream",
          "name": "stderr",
          "text": [
            "\r100%|██████████| 1/1 [00:00<00:00, 25.82it/s]\n"
          ]
        },
        {
          "output_type": "stream",
          "name": "stdout",
          "text": [
            "0.6240754\n",
            "enterprise factors\n",
            "this is the size of the synonyms list 34\n",
            "this is the size of the concept_range list 34\n",
            "row number 34\n"
          ]
        },
        {
          "output_type": "stream",
          "name": "stderr",
          "text": [
            "\n",
            "  0%|          | 0/3 [00:00<?, ?it/s]\u001b[A"
          ]
        },
        {
          "output_type": "stream",
          "name": "stdout",
          "text": [
            "entity number 0\n",
            "0.8199197\n",
            "Define Scope process\n",
            "entity number 1\n",
            "0.8294826\n",
            "Policies procedures templates project scope statement Project\n",
            "entity number 2\n"
          ]
        },
        {
          "output_type": "stream",
          "name": "stderr",
          "text": [
            "100%|██████████| 3/3 [00:00<00:00, 32.59it/s]\n",
            " 16%|█▌        | 35/216 [00:11<00:45,  4.02it/s]"
          ]
        },
        {
          "output_type": "stream",
          "name": "stdout",
          "text": [
            "0.7313859\n",
            "Policies procedures templates project scope statement Project\n",
            "this is the size of the synonyms list 35\n",
            "this is the size of the concept_range list 35\n",
            "row number 35\n"
          ]
        },
        {
          "output_type": "stream",
          "name": "stderr",
          "text": [
            "\n",
            "  0%|          | 0/1 [00:00<?, ?it/s]\u001b[A"
          ]
        },
        {
          "output_type": "stream",
          "name": "stdout",
          "text": [
            "entity number 0\n"
          ]
        },
        {
          "output_type": "stream",
          "name": "stderr",
          "text": [
            "\r100%|██████████| 1/1 [00:00<00:00, 24.98it/s]\n"
          ]
        },
        {
          "output_type": "stream",
          "name": "stdout",
          "text": [
            "0.78022814\n",
            "Expertise\n",
            "this is the size of the synonyms list 36\n",
            "this is the size of the concept_range list 36\n",
            "row number 36\n"
          ]
        },
        {
          "output_type": "stream",
          "name": "stderr",
          "text": [
            "\n",
            "  0%|          | 0/4 [00:00<?, ?it/s]\u001b[A"
          ]
        },
        {
          "output_type": "stream",
          "name": "stdout",
          "text": [
            "entity number 0\n",
            "0.67290545\n",
            "example data analysis technique\n",
            "entity number 1\n",
            "0.69880754\n",
            "process\n",
            "entity number 2\n"
          ]
        },
        {
          "output_type": "stream",
          "name": "stderr",
          "text": [
            "\n",
            "100%|██████████| 4/4 [00:00<00:00, 31.30it/s]"
          ]
        },
        {
          "output_type": "stream",
          "name": "stdout",
          "text": [
            "0.74175376\n",
            "alternatives Alternatives analysis\n",
            "entity number 3\n",
            "0.76512676\n",
            "ways\n"
          ]
        },
        {
          "output_type": "stream",
          "name": "stderr",
          "text": [
            "\n",
            "\r 17%|█▋        | 37/216 [00:11<00:35,  5.03it/s]"
          ]
        },
        {
          "output_type": "stream",
          "name": "stdout",
          "text": [
            "this is the size of the synonyms list 37\n",
            "this is the size of the concept_range list 37\n",
            "row number 37\n"
          ]
        },
        {
          "output_type": "stream",
          "name": "stderr",
          "text": [
            "\n",
            "  0%|          | 0/6 [00:00<?, ?it/s]\u001b[A"
          ]
        },
        {
          "output_type": "stream",
          "name": "stdout",
          "text": [
            "entity number 0\n",
            "0.6906528\n",
            "decision making technique\n",
            "entity number 1\n",
            "0.6098943\n",
            "process\n",
            "entity number 2\n",
            "0.58885217\n",
            "criteria decision analysis multi criteria decision analysis\n",
            "entity number 3\n"
          ]
        },
        {
          "output_type": "stream",
          "name": "stderr",
          "text": [
            "\n",
            " 67%|██████▋   | 4/6 [00:00<00:00, 31.01it/s]\u001b[A"
          ]
        },
        {
          "output_type": "stream",
          "name": "stdout",
          "text": [
            "0.66645885\n",
            "technique\n",
            "entity number 4\n",
            "0.74171984\n",
            "decision matrix\n",
            "entity number 5\n"
          ]
        },
        {
          "output_type": "stream",
          "name": "stderr",
          "text": [
            "100%|██████████| 6/6 [00:00<00:00, 30.22it/s]\n",
            " 18%|█▊        | 38/216 [00:11<00:35,  4.97it/s]"
          ]
        },
        {
          "output_type": "stream",
          "name": "stdout",
          "text": [
            "0.66039574\n",
            "approach\n",
            "this is the size of the synonyms list 38\n",
            "this is the size of the concept_range list 38\n",
            "row number 38\n"
          ]
        },
        {
          "output_type": "stream",
          "name": "stderr",
          "text": [
            "\n",
            "  0%|          | 0/4 [00:00<?, ?it/s]\u001b[A"
          ]
        },
        {
          "output_type": "stream",
          "name": "stdout",
          "text": [
            "entity number 0\n",
            "0.66624576\n",
            "example team skills technique\n",
            "entity number 1\n",
            "0.7492891\n",
            "Facilitation\n",
            "entity number 2\n",
            "0.8373791\n",
            "sessions stakeholders\n",
            "entity number 3\n"
          ]
        },
        {
          "output_type": "stream",
          "name": "stderr",
          "text": [
            "\n",
            "100%|██████████| 4/4 [00:00<00:00, 30.58it/s]\n",
            " 18%|█▊        | 39/216 [00:11<00:33,  5.30it/s]"
          ]
        },
        {
          "output_type": "stream",
          "name": "stdout",
          "text": [
            "0.6732396\n",
            "sessions stakeholders\n",
            "this is the size of the synonyms list 39\n",
            "this is the size of the concept_range list 39\n",
            "row number 39\n"
          ]
        },
        {
          "output_type": "stream",
          "name": "stderr",
          "text": [
            "\n",
            "  0%|          | 0/10 [00:00<?, ?it/s]\u001b[A"
          ]
        },
        {
          "output_type": "stream",
          "name": "stdout",
          "text": [
            "entity number 0\n",
            "0.89458287\n",
            "products services\n",
            "entity number 1\n",
            "0.800444\n",
            "questions product service\n",
            "entity number 2\n",
            "0.7107345\n",
            "questions product service\n",
            "entity number 3\n"
          ]
        },
        {
          "output_type": "stream",
          "name": "stderr",
          "text": [
            "\n",
            " 40%|████      | 4/10 [00:00<00:00, 31.41it/s]\u001b[A"
          ]
        },
        {
          "output_type": "stream",
          "name": "stdout",
          "text": [
            "0.7497158\n",
            "answers\n",
            "entity number 4\n",
            "0.90046114\n",
            "application area\n",
            "entity number 5\n",
            "0.85674554\n",
            "methods\n",
            "entity number 6\n",
            "0.66718054\n",
            "methods\n",
            "entity number 7\n"
          ]
        },
        {
          "output_type": "stream",
          "name": "stderr",
          "text": [
            "\n",
            " 80%|████████  | 8/10 [00:00<00:00, 29.71it/s]\u001b[A"
          ]
        },
        {
          "output_type": "stream",
          "name": "stdout",
          "text": [
            "0.5468707\n",
            "level product service descriptions deliverables Requirements\n",
            "entity number 8\n",
            "0.88861763\n",
            "level detail\n",
            "entity number 9\n"
          ]
        },
        {
          "output_type": "stream",
          "name": "stderr",
          "text": [
            "100%|██████████| 10/10 [00:00<00:00, 29.59it/s]\n",
            " 19%|█▊        | 40/216 [00:11<00:39,  4.42it/s]"
          ]
        },
        {
          "output_type": "stream",
          "name": "stdout",
          "text": [
            "0.43085507\n",
            "level detail\n",
            "this is the size of the synonyms list 40\n",
            "this is the size of the concept_range list 40\n",
            "row number 40\n"
          ]
        },
        {
          "output_type": "stream",
          "name": "stderr",
          "text": [
            "\n",
            "  0%|          | 0/37 [00:00<?, ?it/s]\u001b[A"
          ]
        },
        {
          "output_type": "stream",
          "name": "stdout",
          "text": [
            "entity number 0\n",
            "0.83726\n",
            "description project scope deliverables assumptions constraints project scope statement Document scope\n",
            "entity number 1\n",
            "0.8275113\n",
            "project product scope\n",
            "entity number 2\n"
          ]
        },
        {
          "output_type": "stream",
          "name": "stderr",
          "text": [
            "\n",
            "  8%|▊         | 3/37 [00:00<00:01, 29.78it/s]\u001b[A"
          ]
        },
        {
          "output_type": "stream",
          "name": "stdout",
          "text": [
            "0.9286761\n",
            "project s deliverables detail\n",
            "entity number 3\n",
            "0.8087183\n",
            "understanding project scope project stakeholders\n",
            "entity number 4\n",
            "0.3674027\n",
            "understanding project scope project stakeholders\n",
            "entity number 5\n"
          ]
        },
        {
          "output_type": "stream",
          "name": "stderr",
          "text": [
            "\n",
            " 16%|█▌        | 6/37 [00:00<00:01, 29.17it/s]"
          ]
        },
        {
          "output_type": "stream",
          "name": "stdout",
          "text": [
            "0.54920965\n",
            "scope exclusion\n"
          ]
        },
        {
          "output_type": "stream",
          "name": "stderr",
          "text": [
            "\u001b[A"
          ]
        },
        {
          "output_type": "stream",
          "name": "stdout",
          "text": [
            "entity number 6\n",
            "0.74151695\n",
            "stakeholder expectations\n",
            "entity number 7\n",
            "0.814674\n",
            "planning\n",
            "entity number 8\n",
            "0.70248294\n",
            "planning\n",
            "entity number 9\n"
          ]
        },
        {
          "output_type": "stream",
          "name": "stderr",
          "text": [
            "\n",
            " 27%|██▋       | 10/37 [00:00<00:00, 30.04it/s]\u001b[A"
          ]
        },
        {
          "output_type": "stream",
          "name": "stdout",
          "text": [
            "0.5464231\n",
            "project team s work execution\n",
            "entity number 10\n",
            "0.48597354\n",
            "baseline\n",
            "entity number 11\n",
            "0.586462\n",
            "requests changes work\n",
            "entity number 12\n"
          ]
        },
        {
          "output_type": "stream",
          "name": "stderr",
          "text": [
            "\n",
            " 38%|███▊      | 14/37 [00:00<00:00, 30.75it/s]\u001b[A"
          ]
        },
        {
          "output_type": "stream",
          "name": "stdout",
          "text": [
            "0.73995614\n",
            "project s\n",
            "entity number 13\n",
            "0.67972237\n",
            "degree level detail project scope statement\n",
            "entity number 14\n",
            "0.99999976\n",
            "work\n",
            "entity number 15\n",
            "0.7148833\n",
            "work\n",
            "entity number 16\n",
            "0.83893883\n",
            "project scope project scope statement reference Document\n",
            "entity number 17\n"
          ]
        },
        {
          "output_type": "stream",
          "name": "stderr",
          "text": [
            "\n",
            " 49%|████▊     | 18/37 [00:00<00:00, 31.62it/s]\u001b[A"
          ]
        },
        {
          "output_type": "stream",
          "name": "stdout",
          "text": [
            "0.8138092\n",
            "Product scope description\n",
            "entity number 18\n",
            "0.8850923\n",
            "characteristics product service result\n",
            "entity number 19\n"
          ]
        },
        {
          "output_type": "stream",
          "name": "stderr",
          "text": [
            "\n",
            " 59%|█████▉    | 22/37 [00:00<00:00, 31.31it/s]\u001b[A"
          ]
        },
        {
          "output_type": "stream",
          "name": "stdout",
          "text": [
            "0.7280338\n",
            "characteristics product service result\n",
            "entity number 20\n",
            "0.5204422\n",
            "project charter Requirements documentation Deliverables Any product result capability\n",
            "entity number 21\n",
            "0.7132703\n",
            "service\n",
            "entity number 22\n",
            "0.8710131\n",
            "results management reports documentation deliverables\n",
            "entity number 23\n",
            "0.5973012\n",
            "results management reports documentation deliverables\n",
            "entity number 24\n",
            "0.72926337\n",
            "level detail Acceptance\n",
            "entity number 25\n"
          ]
        },
        {
          "output_type": "stream",
          "name": "stderr",
          "text": [
            "\n",
            " 70%|███████   | 26/37 [00:00<00:00, 30.82it/s]\u001b[A"
          ]
        },
        {
          "output_type": "stream",
          "name": "stdout",
          "text": [
            "0.8217796\n",
            "deliverables\n",
            "entity number 26\n",
            "0.61899257\n",
            "deliverables\n",
            "entity number 27\n",
            "0.68910533\n",
            "Project exclusion Identifies\n",
            "entity number 28\n",
            "0.88585925\n",
            "scope project\n",
            "entity number 29\n"
          ]
        },
        {
          "output_type": "stream",
          "name": "stderr",
          "text": [
            "\n",
            " 81%|████████  | 30/37 [00:00<00:00, 31.01it/s]\u001b[A"
          ]
        },
        {
          "output_type": "stream",
          "name": "stdout",
          "text": [
            "0.7966018\n",
            "scope project\n",
            "entity number 30\n",
            "0.74134684\n",
            "stakeholders expectations\n",
            "entity number 31\n",
            "0.56426644\n",
            "project charter project scope statement\n",
            "entity number 32\n",
            "0.5812668\n",
            "degree redundancy\n",
            "entity number 33\n"
          ]
        },
        {
          "output_type": "stream",
          "name": "stderr",
          "text": [
            "\n",
            " 92%|█████████▏| 34/37 [00:01<00:00, 30.75it/s]\u001b[A"
          ]
        },
        {
          "output_type": "stream",
          "name": "stdout",
          "text": [
            "0.48547083\n",
            "level detail\n",
            "entity number 34\n",
            "0.823658\n",
            "level information project scope statement\n",
            "entity number 35\n",
            "0.88782686\n",
            "description scope\n",
            "entity number 36\n"
          ]
        },
        {
          "output_type": "stream",
          "name": "stderr",
          "text": [
            "100%|██████████| 37/37 [00:01<00:00, 30.77it/s]\n",
            " 19%|█▉        | 41/216 [00:13<01:23,  2.10it/s]"
          ]
        },
        {
          "output_type": "stream",
          "name": "stdout",
          "text": [
            "0.7303422\n",
            "description scope\n",
            "this is the size of the synonyms list 41\n",
            "this is the size of the concept_range list 41\n",
            "row number 41\n"
          ]
        },
        {
          "output_type": "stream",
          "name": "stderr",
          "text": [
            "\n",
            "  0%|          | 0/11 [00:00<?, ?it/s]\u001b[A"
          ]
        },
        {
          "output_type": "stream",
          "name": "stdout",
          "text": [
            "entity number 0\n",
            "0.6835313\n",
            "Project Document\n",
            "entity number 1\n",
            "0.8931931\n",
            "process\n",
            "entity number 2\n",
            "0.90189636\n",
            "Assumption\n",
            "entity number 3\n"
          ]
        },
        {
          "output_type": "stream",
          "name": "stderr",
          "text": [
            "\n",
            " 36%|███▋      | 4/11 [00:00<00:00, 35.57it/s]\u001b[A"
          ]
        },
        {
          "output_type": "stream",
          "name": "stdout",
          "text": [
            "0.8311972\n",
            "assumption log\n",
            "entity number 4\n",
            "0.70504665\n",
            "assumption log\n",
            "entity number 5\n",
            "0.71841294\n",
            "assumptions constraints\n",
            "entity number 6\n"
          ]
        },
        {
          "output_type": "stream",
          "name": "stderr",
          "text": [
            "\n",
            " 73%|███████▎  | 8/11 [00:00<00:00, 33.79it/s]"
          ]
        },
        {
          "output_type": "stream",
          "name": "stdout",
          "text": [
            "0.91801476\n",
            "Requirements Requirements traceability\n",
            "entity number 7\n",
            "0.9579153\n",
            "Requirements traceability matrix\n"
          ]
        },
        {
          "output_type": "stream",
          "name": "stderr",
          "text": [
            "\u001b[A"
          ]
        },
        {
          "output_type": "stream",
          "name": "stdout",
          "text": [
            "entity number 8\n",
            "0.7381444\n",
            "Requirements traceability matrix\n",
            "entity number 9\n",
            "0.67473716\n",
            "updates documentation Stakeholder register Where information\n",
            "entity number 10\n"
          ]
        },
        {
          "output_type": "stream",
          "name": "stderr",
          "text": [
            "100%|██████████| 11/11 [00:00<00:00, 33.40it/s]\n",
            " 19%|█▉        | 42/216 [00:13<01:16,  2.26it/s]"
          ]
        },
        {
          "output_type": "stream",
          "name": "stdout",
          "text": [
            "0.8307689\n",
            "result process\n",
            "this is the size of the synonyms list 42\n",
            "this is the size of the concept_range list 42\n",
            "row number 42\n"
          ]
        },
        {
          "output_type": "stream",
          "name": "stderr",
          "text": [
            "\n",
            "  0%|          | 0/4 [00:00<?, ?it/s]\u001b[A"
          ]
        },
        {
          "output_type": "stream",
          "name": "stdout",
          "text": [
            "entity number 0\n",
            "0.87604034\n",
            "process\n",
            "entity number 1\n",
            "0.52389395\n",
            "process\n",
            "entity number 2\n"
          ]
        },
        {
          "output_type": "stream",
          "name": "stderr",
          "text": [
            "\n",
            "100%|██████████| 4/4 [00:00<00:00, 28.95it/s]\n",
            " 20%|█▉        | 43/216 [00:13<01:02,  2.75it/s]"
          ]
        },
        {
          "output_type": "stream",
          "name": "stdout",
          "text": [
            "0.65275794\n",
            "project deliverables project work commons benefit process\n",
            "entity number 3\n",
            "0.87086594\n",
            "process\n",
            "this is the size of the synonyms list 43\n",
            "this is the size of the concept_range list 43\n",
            "row number 43\n"
          ]
        },
        {
          "output_type": "stream",
          "name": "stderr",
          "text": [
            "\n",
            "  0%|          | 0/1 [00:00<?, ?it/s]\u001b[A"
          ]
        },
        {
          "output_type": "stream",
          "name": "stdout",
          "text": [
            "entity number 0\n"
          ]
        },
        {
          "output_type": "stream",
          "name": "stderr",
          "text": [
            "\r100%|██████████| 1/1 [00:00<00:00, 24.99it/s]\n"
          ]
        },
        {
          "output_type": "stream",
          "name": "stdout",
          "text": [
            "0.8633446\n",
            "scope management plan scope management plan Document\n",
            "this is the size of the synonyms list 44\n",
            "this is the size of the concept_range list 44\n",
            "row number 44\n"
          ]
        },
        {
          "output_type": "stream",
          "name": "stderr",
          "text": [
            "\n",
            "  0%|          | 0/7 [00:00<?, ?it/s]\u001b[A"
          ]
        },
        {
          "output_type": "stream",
          "name": "stdout",
          "text": [
            "entity number 0\n",
            "0.7392939\n",
            "Examples project Document\n",
            "entity number 1\n",
            "0.7268749\n",
            "inputs process\n",
            "entity number 2\n"
          ]
        },
        {
          "output_type": "stream",
          "name": "stderr",
          "text": [
            "\n",
            " 57%|█████▋    | 4/7 [00:00<00:00, 30.53it/s]\u001b[A"
          ]
        },
        {
          "output_type": "stream",
          "name": "stdout",
          "text": [
            "0.7142563\n",
            "Project scope statement project scope statement\n",
            "entity number 3\n",
            "0.99999976\n",
            "work\n",
            "entity number 4\n",
            "0.7824526\n",
            "work\n",
            "entity number 5\n",
            "0.93682504\n",
            "Requirements\n",
            "entity number 6\n"
          ]
        },
        {
          "output_type": "stream",
          "name": "stderr",
          "text": [
            "100%|██████████| 7/7 [00:00<00:00, 30.50it/s]\n",
            " 21%|██        | 45/216 [00:13<00:46,  3.70it/s]"
          ]
        },
        {
          "output_type": "stream",
          "name": "stdout",
          "text": [
            "0.9999999\n",
            "Requirements\n",
            "this is the size of the synonyms list 45\n",
            "this is the size of the concept_range list 45\n",
            "row number 45\n"
          ]
        },
        {
          "output_type": "stream",
          "name": "stderr",
          "text": [
            "\n",
            "  0%|          | 0/4 [00:00<?, ?it/s]\u001b[A"
          ]
        },
        {
          "output_type": "stream",
          "name": "stdout",
          "text": [
            "entity number 0\n",
            "0.69490343\n",
            "enterprise factors\n",
            "entity number 1\n"
          ]
        },
        {
          "output_type": "stream",
          "name": "stderr",
          "text": [
            "\n",
            "100%|██████████| 4/4 [00:00<00:00, 31.46it/s]\n",
            " 21%|██▏       | 46/216 [00:14<00:40,  4.19it/s]"
          ]
        },
        {
          "output_type": "stream",
          "name": "stdout",
          "text": [
            "0.72576547\n",
            "Create process include\n",
            "entity number 2\n",
            "0.7149154\n",
            "industry specific standards\n",
            "entity number 3\n",
            "0.53071845\n",
            "nature project industry specific standards\n",
            "this is the size of the synonyms list 46\n",
            "this is the size of the concept_range list 46\n",
            "row number 46\n"
          ]
        },
        {
          "output_type": "stream",
          "name": "stderr",
          "text": [
            "\n",
            "  0%|          | 0/2 [00:00<?, ?it/s]\u001b[A"
          ]
        },
        {
          "output_type": "stream",
          "name": "stdout",
          "text": [
            "entity number 0\n",
            "0.83808315\n",
            "Create process include\n",
            "entity number 1\n"
          ]
        },
        {
          "output_type": "stream",
          "name": "stderr",
          "text": [
            "\r100%|██████████| 2/2 [00:00<00:00, 23.54it/s]\n"
          ]
        },
        {
          "output_type": "stream",
          "name": "stdout",
          "text": [
            "0.64024305\n",
            "Create process include\n",
            "this is the size of the synonyms list 47\n",
            "this is the size of the concept_range list 47\n",
            "row number 47\n"
          ]
        },
        {
          "output_type": "stream",
          "name": "stderr",
          "text": [
            "\n",
            "  0%|          | 0/1 [00:00<?, ?it/s]\u001b[A"
          ]
        },
        {
          "output_type": "stream",
          "name": "stdout",
          "text": [
            "entity number 0\n"
          ]
        },
        {
          "output_type": "stream",
          "name": "stderr",
          "text": [
            "100%|██████████| 1/1 [00:00<00:00, 24.41it/s]\n",
            " 22%|██▏       | 48/216 [00:14<00:29,  5.79it/s]"
          ]
        },
        {
          "output_type": "stream",
          "name": "stdout",
          "text": [
            "0.78022814\n",
            "Expertise\n",
            "this is the size of the synonyms list 48\n",
            "this is the size of the concept_range list 48\n",
            "row number 48\n"
          ]
        },
        {
          "output_type": "stream",
          "name": "stderr",
          "text": [
            "\n",
            "  0%|          | 0/4 [00:00<?, ?it/s]\u001b[A"
          ]
        },
        {
          "output_type": "stream",
          "name": "stdout",
          "text": [
            "entity number 0\n",
            "0.87604034\n",
            "process\n",
            "entity number 1\n",
            "0.52389395\n",
            "process\n",
            "entity number 2\n"
          ]
        },
        {
          "output_type": "stream",
          "name": "stderr",
          "text": [
            "\n",
            " 75%|███████▌  | 3/4 [00:00<00:00, 28.73it/s]\u001b[A"
          ]
        },
        {
          "output_type": "stream",
          "name": "stdout",
          "text": [
            "0.65275794\n",
            "project deliverables project work commons benefit process\n",
            "entity number 3\n"
          ]
        },
        {
          "output_type": "stream",
          "name": "stderr",
          "text": [
            "100%|██████████| 4/4 [00:00<00:00, 25.08it/s]\n",
            " 23%|██▎       | 49/216 [00:14<00:28,  5.81it/s]"
          ]
        },
        {
          "output_type": "stream",
          "name": "stdout",
          "text": [
            "0.87086594\n",
            "process\n",
            "this is the size of the synonyms list 49\n",
            "this is the size of the concept_range list 49\n",
            "row number 49\n"
          ]
        },
        {
          "output_type": "stream",
          "name": "stderr",
          "text": [
            "\n",
            "  0%|          | 0/31 [00:00<?, ?it/s]\u001b[A"
          ]
        },
        {
          "output_type": "stream",
          "name": "stdout",
          "text": [
            "entity number 0\n",
            "0.75603545\n",
            "scope baseline\n",
            "entity number 1\n",
            "0.65164495\n",
            "version scope statement\n",
            "entity number 2\n"
          ]
        },
        {
          "output_type": "stream",
          "name": "stderr",
          "text": [
            "\n",
            " 10%|▉         | 3/31 [00:00<00:01, 27.05it/s]\u001b[A"
          ]
        },
        {
          "output_type": "stream",
          "name": "stdout",
          "text": [
            "0.65935874\n",
            "change control procedures\n",
            "entity number 3\n",
            "0.7824622\n",
            "basis comparison\n",
            "entity number 4\n",
            "0.90414363\n",
            "Project scope statement project scope statement\n",
            "entity number 5\n"
          ]
        },
        {
          "output_type": "stream",
          "name": "stderr",
          "text": [
            "\n",
            " 19%|█▉        | 6/31 [00:00<00:00, 26.54it/s]\u001b[A"
          ]
        },
        {
          "output_type": "stream",
          "name": "stdout",
          "text": [
            "0.8328945\n",
            "description project scope deliverables assumptions constraints Section\n",
            "entity number 6\n",
            "0.6857257\n",
            "description project scope deliverables assumptions constraints Section\n",
            "entity number 7\n",
            "0.6658192\n",
            "decomposition scope work\n",
            "entity number 8\n"
          ]
        },
        {
          "output_type": "stream",
          "name": "stderr",
          "text": [
            "\n",
            " 29%|██▉       | 9/31 [00:00<00:00, 27.55it/s]\u001b[A"
          ]
        },
        {
          "output_type": "stream",
          "name": "stdout",
          "text": [
            "0.9135369\n",
            "project objectives\n",
            "entity number 9\n",
            "0.80105674\n",
            "deliverables\n",
            "entity number 10\n",
            "0.66263145\n",
            "deliverables\n",
            "entity number 11\n"
          ]
        },
        {
          "output_type": "stream",
          "name": "stderr",
          "text": [
            "\n",
            " 39%|███▊      | 12/31 [00:00<00:00, 27.89it/s]\u001b[A"
          ]
        },
        {
          "output_type": "stream",
          "name": "stdout",
          "text": [
            "0.77094996\n",
            "level meters definition project work Work package level\n",
            "entity number 12\n",
            "0.75757253\n",
            "work package identifier identifiers\n",
            "entity number 13\n",
            "0.6801674\n",
            "structure summation costs schedule resource information\n",
            "entity number 14\n",
            "0.6376862\n",
            "code accounts work package\n",
            "entity number 15\n"
          ]
        },
        {
          "output_type": "stream",
          "name": "stderr",
          "text": [
            "\n",
            " 52%|█████▏    | 16/31 [00:00<00:00, 29.45it/s]\u001b[A"
          ]
        },
        {
          "output_type": "stream",
          "name": "stdout",
          "text": [
            "0.69489765\n",
            "part control account A control account\n",
            "entity number 16\n",
            "0.7337903\n",
            "management control point scope budget schedule\n",
            "entity number 17\n",
            "0.59635574\n",
            "value performance measurement A control account\n",
            "entity number 18\n"
          ]
        },
        {
          "output_type": "stream",
          "name": "stderr",
          "text": [
            "\n",
            " 61%|██████▏   | 19/31 [00:00<00:00, 29.44it/s]\u001b[A"
          ]
        },
        {
          "output_type": "stream",
          "name": "stdout",
          "text": [
            "0.6255872\n",
            "work packages work package\n",
            "entity number 19\n",
            "0.7032641\n",
            "control account Planning package A control account\n",
            "entity number 20\n",
            "0.8922919\n",
            "A planning package\n",
            "entity number 21\n",
            "0.4744178\n",
            "A planning package\n",
            "entity number 22\n"
          ]
        },
        {
          "output_type": "stream",
          "name": "stderr",
          "text": [
            "\n",
            " 74%|███████▍  | 23/31 [00:00<00:00, 30.47it/s]\u001b[A"
          ]
        },
        {
          "output_type": "stream",
          "name": "stdout",
          "text": [
            "0.4696678\n",
            "work breakdown structure component control account work package work content schedule activities dictionary\n",
            "entity number 23\n",
            "0.73223805\n",
            "document\n",
            "entity number 24\n",
            "0.39711058\n",
            "activity\n",
            "entity number 25\n",
            "0.6145502\n",
            "information component dictionary\n",
            "entity number 26\n"
          ]
        },
        {
          "output_type": "stream",
          "name": "stderr",
          "text": [
            "\n",
            " 87%|████████▋ | 27/31 [00:00<00:00, 31.29it/s]\u001b[A"
          ]
        },
        {
          "output_type": "stream",
          "name": "stdout",
          "text": [
            "0.84792256\n",
            "information\n",
            "entity number 27\n",
            "0.6215439\n",
            "information\n",
            "entity number 28\n",
            "0.6611666\n",
            "dictionary\n",
            "entity number 29\n",
            "0.7481318\n",
            "process\n",
            "entity number 30\n"
          ]
        },
        {
          "output_type": "stream",
          "name": "stderr",
          "text": [
            "\n",
            "100%|██████████| 31/31 [00:01<00:00, 29.57it/s]\n",
            " 23%|██▎       | 50/216 [00:15<01:04,  2.57it/s]"
          ]
        },
        {
          "output_type": "stream",
          "name": "stdout",
          "text": [
            "0.6957271\n",
            "document stage Information\n",
            "this is the size of the synonyms list 50\n",
            "this is the size of the concept_range list 50\n",
            "row number 50\n"
          ]
        },
        {
          "output_type": "stream",
          "name": "stderr",
          "text": [
            "\n",
            "  0%|          | 0/7 [00:00<?, ?it/s]\u001b[A"
          ]
        },
        {
          "output_type": "stream",
          "name": "stdout",
          "text": [
            "entity number 0\n",
            "0.6835313\n",
            "Project Document\n",
            "entity number 1\n"
          ]
        },
        {
          "output_type": "stream",
          "name": "stderr",
          "text": [
            "\n",
            " 43%|████▎     | 3/7 [00:00<00:00, 28.78it/s]\u001b[A"
          ]
        },
        {
          "output_type": "stream",
          "name": "stdout",
          "text": [
            "0.8931931\n",
            "process\n",
            "entity number 2\n",
            "0.90189636\n",
            "Assumption\n",
            "entity number 3\n",
            "0.8311972\n",
            "assumption log\n",
            "entity number 4\n",
            "0.70504665\n",
            "assumption log\n",
            "entity number 5\n"
          ]
        },
        {
          "output_type": "stream",
          "name": "stderr",
          "text": [
            "\n",
            " 86%|████████▌ | 6/7 [00:00<00:00, 28.11it/s]\u001b[A"
          ]
        },
        {
          "output_type": "stream",
          "name": "stdout",
          "text": [
            "0.65535533\n",
            "assumptions constraints\n",
            "entity number 6\n"
          ]
        },
        {
          "output_type": "stream",
          "name": "stderr",
          "text": [
            "100%|██████████| 7/7 [00:00<00:00, 27.29it/s]\n",
            " 24%|██▎       | 51/216 [00:15<00:58,  2.80it/s]"
          ]
        },
        {
          "output_type": "stream",
          "name": "stdout",
          "text": [
            "0.59095365\n",
            "Create process Requirements documentation Requirements documentation\n",
            "this is the size of the synonyms list 51\n",
            "this is the size of the concept_range list 51\n",
            "row number 51\n"
          ]
        },
        {
          "output_type": "stream",
          "name": "stderr",
          "text": [
            "\n",
            "  0%|          | 0/7 [00:00<?, ?it/s]\u001b[A"
          ]
        },
        {
          "output_type": "stream",
          "name": "stdout",
          "text": [
            "entity number 0\n"
          ]
        },
        {
          "output_type": "stream",
          "name": "stderr",
          "text": [
            "\n",
            " 43%|████▎     | 3/7 [00:00<00:00, 29.70it/s]"
          ]
        },
        {
          "output_type": "stream",
          "name": "stdout",
          "text": [
            "0.7825789\n",
            "Validate Scope\n",
            "entity number 1\n",
            "0.70005417\n",
            "process\n",
            "entity number 2\n",
            "0.64156276\n",
            "acceptance\n"
          ]
        },
        {
          "output_type": "stream",
          "name": "stderr",
          "text": [
            "\u001b[A"
          ]
        },
        {
          "output_type": "stream",
          "name": "stdout",
          "text": [
            "entity number 3\n",
            "0.6873194\n",
            "project\n",
            "entity number 4\n",
            "0.7736974\n",
            "benefit process\n",
            "entity number 5\n"
          ]
        },
        {
          "output_type": "stream",
          "name": "stderr",
          "text": [
            "\n",
            " 86%|████████▌ | 6/7 [00:00<00:00, 27.41it/s]\u001b[A"
          ]
        },
        {
          "output_type": "stream",
          "name": "stdout",
          "text": [
            "0.8492089\n",
            "probability product service result acceptance validation deliverable process\n",
            "entity number 6\n"
          ]
        },
        {
          "output_type": "stream",
          "name": "stderr",
          "text": [
            "100%|██████████| 7/7 [00:00<00:00, 26.46it/s]\n",
            " 24%|██▍       | 52/216 [00:16<00:55,  2.97it/s]"
          ]
        },
        {
          "output_type": "stream",
          "name": "stdout",
          "text": [
            "0.60691637\n",
            "probability product service result acceptance validation deliverable process\n",
            "this is the size of the synonyms list 52\n",
            "this is the size of the concept_range list 52\n",
            "row number 52\n"
          ]
        },
        {
          "output_type": "stream",
          "name": "stderr",
          "text": [
            "\n",
            "  0%|          | 0/9 [00:00<?, ?it/s]\u001b[A"
          ]
        },
        {
          "output_type": "stream",
          "name": "stdout",
          "text": [
            "entity number 0\n",
            "0.8243662\n",
            "management plan project management plan\n",
            "entity number 1\n"
          ]
        },
        {
          "output_type": "stream",
          "name": "stderr",
          "text": [
            "\n",
            " 44%|████▍     | 4/9 [00:00<00:00, 32.32it/s]"
          ]
        },
        {
          "output_type": "stream",
          "name": "stdout",
          "text": [
            "0.48244888\n",
            "management plan project management plan\n",
            "entity number 2\n",
            "0.52832025\n",
            "acceptance\n",
            "entity number 3\n",
            "0.84273124\n",
            "Requirements management plan Requirements management plan\n"
          ]
        },
        {
          "output_type": "stream",
          "name": "stderr",
          "text": [
            "\u001b[A"
          ]
        },
        {
          "output_type": "stream",
          "name": "stdout",
          "text": [
            "entity number 4\n",
            "0.8647702\n",
            "project Requirements\n",
            "entity number 5\n",
            "0.64364314\n",
            "project Requirements\n",
            "entity number 6\n"
          ]
        },
        {
          "output_type": "stream",
          "name": "stderr",
          "text": [
            "\n"
          ]
        },
        {
          "output_type": "stream",
          "name": "stdout",
          "text": [
            "0.88229823\n",
            "scope baseline\n",
            "entity number 7\n",
            "0.68045324\n",
            "scope baseline\n"
          ]
        },
        {
          "output_type": "stream",
          "name": "stderr",
          "text": [
            "\r 89%|████████▉ | 8/9 [00:00<00:00, 31.88it/s]\u001b[A"
          ]
        },
        {
          "output_type": "stream",
          "name": "stdout",
          "text": [
            "entity number 8\n"
          ]
        },
        {
          "output_type": "stream",
          "name": "stderr",
          "text": [
            "100%|██████████| 9/9 [00:00<00:00, 30.36it/s]\n",
            " 25%|██▍       | 53/216 [00:16<00:54,  3.00it/s]"
          ]
        },
        {
          "output_type": "stream",
          "name": "stdout",
          "text": [
            "0.6571133\n",
            "results\n",
            "this is the size of the synonyms list 53\n",
            "this is the size of the concept_range list 53\n",
            "row number 53\n"
          ]
        },
        {
          "output_type": "stream",
          "name": "stderr",
          "text": [
            "\n",
            "  0%|          | 0/16 [00:00<?, ?it/s]\u001b[A"
          ]
        },
        {
          "output_type": "stream",
          "name": "stdout",
          "text": [
            "entity number 0\n",
            "0.75378215\n",
            "Project Document\n",
            "entity number 1\n",
            "0.6976648\n",
            "inputs process\n",
            "entity number 2\n",
            "1.0\n",
            "Lessons\n",
            "entity number 3\n"
          ]
        },
        {
          "output_type": "stream",
          "name": "stderr",
          "text": [
            "\n",
            " 25%|██▌       | 4/16 [00:00<00:00, 31.73it/s]\u001b[A"
          ]
        },
        {
          "output_type": "stream",
          "name": "stdout",
          "text": [
            "0.7448306\n",
            "Lessons\n",
            "entity number 4\n",
            "0.90221786\n",
            "phases project\n",
            "entity number 5\n",
            "0.50730336\n",
            "phases project\n",
            "entity number 6\n"
          ]
        },
        {
          "output_type": "stream",
          "name": "stderr",
          "text": [
            "\n",
            " 50%|█████     | 8/16 [00:00<00:00, 28.89it/s]\u001b[A"
          ]
        },
        {
          "output_type": "stream",
          "name": "stdout",
          "text": [
            "0.57563174\n",
            "efficiency effectiveness validation deliverables Quality\n",
            "entity number 7\n",
            "0.74822986\n",
            "information\n",
            "entity number 8\n",
            "0.8765698\n",
            "assurance issues\n",
            "entity number 9\n"
          ]
        },
        {
          "output_type": "stream",
          "name": "stderr",
          "text": [
            "\n"
          ]
        },
        {
          "output_type": "stream",
          "name": "stdout",
          "text": [
            "0.7269285\n",
            "assurance issues\n",
            "entity number 10\n",
            "0.7575908\n",
            "team recommendations improvement summary findings Control Quality process information\n"
          ]
        },
        {
          "output_type": "stream",
          "name": "stderr",
          "text": [
            "\r 69%|██████▉   | 11/16 [00:00<00:00, 29.03it/s]\u001b[A"
          ]
        },
        {
          "output_type": "stream",
          "name": "stdout",
          "text": [
            "entity number 11\n",
            "0.5442215\n",
            "product acceptance Requirements documentation Requirements\n",
            "entity number 12\n",
            "0.6571133\n",
            "results\n",
            "entity number 13\n"
          ]
        },
        {
          "output_type": "stream",
          "name": "stderr",
          "text": [
            "\n",
            " 94%|█████████▍| 15/16 [00:00<00:00, 30.30it/s]\u001b[A"
          ]
        },
        {
          "output_type": "stream",
          "name": "stdout",
          "text": [
            "0.664715\n",
            "change action action\n",
            "entity number 14\n",
            "0.95611244\n",
            "Requirements traceability matrix\n",
            "entity number 15\n"
          ]
        },
        {
          "output_type": "stream",
          "name": "stderr",
          "text": [
            "100%|██████████| 16/16 [00:00<00:00, 28.79it/s]\n",
            " 25%|██▌       | 54/216 [00:16<01:04,  2.49it/s]"
          ]
        },
        {
          "output_type": "stream",
          "name": "stdout",
          "text": [
            "0.88000524\n",
            "information Requirements\n",
            "this is the size of the synonyms list 54\n",
            "this is the size of the concept_range list 54\n",
            "row number 54\n"
          ]
        },
        {
          "output_type": "stream",
          "name": "stderr",
          "text": [
            "\n",
            "  0%|          | 0/1 [00:00<?, ?it/s]\u001b[A"
          ]
        },
        {
          "output_type": "stream",
          "name": "stdout",
          "text": [
            "entity number 0\n"
          ]
        },
        {
          "output_type": "stream",
          "name": "stderr",
          "text": [
            "\r100%|██████████| 1/1 [00:00<00:00, 21.48it/s]\n"
          ]
        },
        {
          "output_type": "stream",
          "name": "stdout",
          "text": [
            "1.0\n",
            "deliverables\n",
            "this is the size of the synonyms list 55\n",
            "this is the size of the concept_range list 55\n",
            "row number 55\n"
          ]
        },
        {
          "output_type": "stream",
          "name": "stderr",
          "text": [
            "\n",
            "  0%|          | 0/1 [00:00<?, ?it/s]\u001b[A"
          ]
        },
        {
          "output_type": "stream",
          "name": "stdout",
          "text": [
            "entity number 0\n"
          ]
        },
        {
          "output_type": "stream",
          "name": "stderr",
          "text": [
            "\r100%|██████████| 1/1 [00:00<00:00, 23.30it/s]"
          ]
        },
        {
          "output_type": "stream",
          "name": "stdout",
          "text": [
            "0.49510932\n",
            "Work performance data\n"
          ]
        },
        {
          "output_type": "stream",
          "name": "stderr",
          "text": [
            "\n",
            "\r 26%|██▌       | 56/216 [00:17<00:39,  4.03it/s]"
          ]
        },
        {
          "output_type": "stream",
          "name": "stdout",
          "text": [
            "this is the size of the synonyms list 56\n",
            "this is the size of the concept_range list 56\n",
            "row number 56\n"
          ]
        },
        {
          "output_type": "stream",
          "name": "stderr",
          "text": [
            "\n",
            "  0%|          | 0/4 [00:00<?, ?it/s]\u001b[A"
          ]
        },
        {
          "output_type": "stream",
          "name": "stdout",
          "text": [
            "entity number 0\n",
            "0.754112\n",
            "Inspection\n",
            "entity number 1\n",
            "0.7314103\n",
            "activities\n",
            "entity number 2\n"
          ]
        },
        {
          "output_type": "stream",
          "name": "stderr",
          "text": [
            "\n"
          ]
        },
        {
          "output_type": "stream",
          "name": "stdout",
          "text": [
            "0.6322204\n",
            "validation\n",
            "entity number 3\n",
            "0.6708189\n",
            "work deliverables meet Requirements product acceptance criteria Inspection\n"
          ]
        },
        {
          "output_type": "stream",
          "name": "stderr",
          "text": [
            "100%|██████████| 4/4 [00:00<00:00, 30.48it/s]\n",
            " 26%|██▋       | 57/216 [00:17<00:35,  4.48it/s]"
          ]
        },
        {
          "output_type": "stream",
          "name": "stdout",
          "text": [
            "this is the size of the synonyms list 57\n",
            "this is the size of the concept_range list 57\n",
            "row number 57\n"
          ]
        },
        {
          "output_type": "stream",
          "name": "stderr",
          "text": [
            "\n",
            "  0%|          | 0/3 [00:00<?, ?it/s]\u001b[A"
          ]
        },
        {
          "output_type": "stream",
          "name": "stdout",
          "text": [
            "entity number 0\n",
            "0.7524345\n",
            "example decision making\n",
            "entity number 1\n"
          ]
        },
        {
          "output_type": "stream",
          "name": "stderr",
          "text": [
            "\n",
            "100%|██████████| 3/3 [00:00<00:00, 23.24it/s]\n",
            " 27%|██▋       | 58/216 [00:17<00:31,  4.97it/s]"
          ]
        },
        {
          "output_type": "stream",
          "name": "stdout",
          "text": [
            "0.69266945\n",
            "process\n",
            "entity number 2\n",
            "0.56433034\n",
            "Voting\n",
            "this is the size of the synonyms list 58\n",
            "this is the size of the concept_range list 58\n",
            "row number 58\n"
          ]
        },
        {
          "output_type": "stream",
          "name": "stderr",
          "text": [
            "\n",
            "  0%|          | 0/4 [00:00<?, ?it/s]\u001b[A"
          ]
        },
        {
          "output_type": "stream",
          "name": "stdout",
          "text": [
            "entity number 0\n",
            "0.84260917\n",
            "acceptance criteria\n",
            "entity number 1\n"
          ]
        },
        {
          "output_type": "stream",
          "name": "stderr",
          "text": [
            "\n",
            " 75%|███████▌  | 3/4 [00:00<00:00, 29.83it/s]\u001b[A"
          ]
        },
        {
          "output_type": "stream",
          "name": "stdout",
          "text": [
            "0.71039003\n",
            "acceptance criteria\n",
            "entity number 2\n",
            "0.917009\n",
            "customer sponsor\n",
            "entity number 3\n"
          ]
        },
        {
          "output_type": "stream",
          "name": "stderr",
          "text": [
            "100%|██████████| 4/4 [00:00<00:00, 28.04it/s]\n",
            " 27%|██▋       | 59/216 [00:17<00:29,  5.26it/s]"
          ]
        },
        {
          "output_type": "stream",
          "name": "stdout",
          "text": [
            "0.71264124\n",
            "customer sponsor\n",
            "this is the size of the synonyms list 59\n",
            "this is the size of the concept_range list 59\n",
            "row number 59\n"
          ]
        },
        {
          "output_type": "stream",
          "name": "stderr",
          "text": [
            "\n",
            "  0%|          | 0/3 [00:00<?, ?it/s]\u001b[A"
          ]
        },
        {
          "output_type": "stream",
          "name": "stdout",
          "text": [
            "entity number 0\n",
            "0.8437032\n",
            "information project progress deliverables\n",
            "entity number 1\n",
            "0.773607\n",
            "information project progress deliverables\n",
            "entity number 2\n"
          ]
        },
        {
          "output_type": "stream",
          "name": "stderr",
          "text": [
            "\n",
            "100%|██████████| 3/3 [00:00<00:00, 26.99it/s]\n",
            " 28%|██▊       | 60/216 [00:17<00:26,  5.82it/s]"
          ]
        },
        {
          "output_type": "stream",
          "name": "stdout",
          "text": [
            "0.70688784\n",
            "reasons information\n",
            "this is the size of the synonyms list 60\n",
            "this is the size of the concept_range list 60\n",
            "row number 60\n"
          ]
        },
        {
          "output_type": "stream",
          "name": "stderr",
          "text": [
            "\n",
            "  0%|          | 0/3 [00:00<?, ?it/s]\u001b[A"
          ]
        },
        {
          "output_type": "stream",
          "name": "stdout",
          "text": [
            "entity number 0\n",
            "0.84788394\n",
            "reasons acceptance deliverables deliverables\n",
            "entity number 1\n",
            "0.6223011\n",
            "reasons acceptance deliverables deliverables\n",
            "entity number 2\n"
          ]
        },
        {
          "output_type": "stream",
          "name": "stderr",
          "text": [
            "\n",
            "100%|██████████| 3/3 [00:00<00:00, 26.65it/s]\n",
            " 28%|██▊       | 61/216 [00:17<00:24,  6.28it/s]"
          ]
        },
        {
          "output_type": "stream",
          "name": "stdout",
          "text": [
            "0.5709217\n",
            "change request repair change\n",
            "this is the size of the synonyms list 61\n",
            "this is the size of the concept_range list 61\n",
            "row number 61\n"
          ]
        },
        {
          "output_type": "stream",
          "name": "stderr",
          "text": [
            "\n",
            "  0%|          | 0/15 [00:00<?, ?it/s]\u001b[A"
          ]
        },
        {
          "output_type": "stream",
          "name": "stdout",
          "text": [
            "entity number 0\n",
            "0.6835313\n",
            "Project Document\n",
            "entity number 1\n"
          ]
        },
        {
          "output_type": "stream",
          "name": "stderr",
          "text": [
            "\n",
            " 20%|██        | 3/15 [00:00<00:00, 28.23it/s]\u001b[A"
          ]
        },
        {
          "output_type": "stream",
          "name": "stdout",
          "text": [
            "0.8931931\n",
            "process\n",
            "entity number 2\n",
            "0.7438161\n",
            "process\n",
            "entity number 3\n",
            "1.0\n",
            "lessons\n",
            "entity number 4\n",
            "0.7040371\n",
            "lessons\n",
            "entity number 5\n"
          ]
        },
        {
          "output_type": "stream",
          "name": "stderr",
          "text": [
            "\n",
            " 40%|████      | 6/15 [00:00<00:00, 27.38it/s]\u001b[A"
          ]
        },
        {
          "output_type": "stream",
          "name": "stdout",
          "text": [
            "0.6877159\n",
            "register\n",
            "entity number 6\n",
            "0.7120583\n",
            "information challenges\n",
            "entity number 7\n",
            "0.65232575\n",
            "approaches\n",
            "entity number 8\n"
          ]
        },
        {
          "output_type": "stream",
          "name": "stderr",
          "text": [
            "\n",
            " 67%|██████▋   | 10/15 [00:00<00:00, 29.57it/s]\u001b[A"
          ]
        },
        {
          "output_type": "stream",
          "name": "stdout",
          "text": [
            "0.81998754\n",
            "results validation activity interest\n",
            "entity number 9\n",
            "0.750309\n",
            "results validation activity interest\n",
            "entity number 10\n",
            "0.71155226\n",
            "results\n",
            "entity number 11\n",
            "0.90321785\n",
            "Requirements traceability\n",
            "entity number 12\n"
          ]
        },
        {
          "output_type": "stream",
          "name": "stderr",
          "text": [
            "\n",
            " 87%|████████▋ | 13/15 [00:00<00:00, 29.37it/s]\u001b[A"
          ]
        },
        {
          "output_type": "stream",
          "name": "stdout",
          "text": [
            "0.95611244\n",
            "Requirements traceability matrix\n",
            "entity number 13\n",
            "0.79201657\n",
            "Requirements traceability matrix\n",
            "entity number 14\n"
          ]
        },
        {
          "output_type": "stream",
          "name": "stderr",
          "text": [
            "100%|██████████| 15/15 [00:00<00:00, 28.73it/s]\n",
            " 29%|██▊       | 62/216 [00:18<00:41,  3.72it/s]"
          ]
        },
        {
          "output_type": "stream",
          "name": "stdout",
          "text": [
            "0.7608886\n",
            "results validation\n",
            "this is the size of the synonyms list 62\n",
            "this is the size of the concept_range list 62\n",
            "row number 62\n"
          ]
        },
        {
          "output_type": "stream",
          "name": "stderr",
          "text": [
            "\n",
            "  0%|          | 0/5 [00:00<?, ?it/s]\u001b[A"
          ]
        },
        {
          "output_type": "stream",
          "name": "stdout",
          "text": [
            "entity number 0\n",
            "0.7959739\n",
            "Control Scope\n",
            "entity number 1\n"
          ]
        },
        {
          "output_type": "stream",
          "name": "stderr",
          "text": [
            "\n",
            " 60%|██████    | 3/5 [00:00<00:00, 27.78it/s]\u001b[A"
          ]
        },
        {
          "output_type": "stream",
          "name": "stdout",
          "text": [
            "0.6091057\n",
            "process\n",
            "entity number 2\n",
            "0.61727226\n",
            "status project product scope managing changes scope\n",
            "entity number 3\n",
            "0.61995757\n",
            "benefit process\n",
            "entity number 4\n"
          ]
        },
        {
          "output_type": "stream",
          "name": "stderr",
          "text": [
            "100%|██████████| 5/5 [00:00<00:00, 26.77it/s]\n",
            " 29%|██▉       | 63/216 [00:18<00:37,  4.04it/s]"
          ]
        },
        {
          "output_type": "stream",
          "name": "stdout",
          "text": [
            "0.6501957\n",
            "scope baseline\n",
            "this is the size of the synonyms list 63\n",
            "this is the size of the concept_range list 63\n",
            "row number 63\n"
          ]
        },
        {
          "output_type": "stream",
          "name": "stderr",
          "text": [
            "\n",
            "  0%|          | 0/17 [00:00<?, ?it/s]\u001b[A"
          ]
        },
        {
          "output_type": "stream",
          "name": "stdout",
          "text": [
            "entity number 0\n",
            "0.7974328\n",
            "Project management plan commons\n",
            "entity number 1\n",
            "0.8860781\n",
            "Requirements management plan Requirements management plan\n",
            "entity number 2\n"
          ]
        },
        {
          "output_type": "stream",
          "name": "stderr",
          "text": [
            "\n",
            " 24%|██▎       | 4/17 [00:00<00:00, 32.03it/s]\u001b[A"
          ]
        },
        {
          "output_type": "stream",
          "name": "stdout",
          "text": [
            "0.8647702\n",
            "project Requirements\n",
            "entity number 3\n",
            "0.6915945\n",
            "project Requirements\n",
            "entity number 4\n",
            "0.646611\n",
            "Change management plan change management plan\n",
            "entity number 5\n",
            "0.6210093\n",
            "process\n",
            "entity number 6\n",
            "0.56022024\n",
            "change project Configuration management plan configuration management plan\n",
            "entity number 7\n"
          ]
        },
        {
          "output_type": "stream",
          "name": "stderr",
          "text": [
            "\n",
            " 47%|████▋     | 8/17 [00:00<00:00, 30.45it/s]\u001b[A"
          ]
        },
        {
          "output_type": "stream",
          "name": "stdout",
          "text": [
            "1.0\n",
            "items\n",
            "entity number 8\n",
            "0.6446562\n",
            "items\n",
            "entity number 9\n",
            "0.8321284\n",
            "changes items Scope\n",
            "entity number 10\n",
            "0.602844\n",
            "changes items Scope\n",
            "entity number 11\n"
          ]
        },
        {
          "output_type": "stream",
          "name": "stderr",
          "text": [
            "\n",
            " 71%|███████   | 12/17 [00:00<00:00, 31.56it/s]\u001b[A"
          ]
        },
        {
          "output_type": "stream",
          "name": "stdout",
          "text": [
            "0.68045324\n",
            "scope baseline\n",
            "entity number 12\n",
            "0.6571133\n",
            "results\n",
            "entity number 13\n",
            "0.59817624\n",
            "change action action\n",
            "entity number 14\n",
            "0.9457331\n",
            "value analysis performance measurement baseline\n",
            "entity number 15\n"
          ]
        },
        {
          "output_type": "stream",
          "name": "stderr",
          "text": [
            "\n",
            "100%|██████████| 17/17 [00:00<00:00, 29.48it/s]\n",
            " 30%|██▉       | 64/216 [00:19<00:53,  2.86it/s]"
          ]
        },
        {
          "output_type": "stream",
          "name": "stdout",
          "text": [
            "0.63439906\n",
            "value analysis performance measurement baseline\n",
            "entity number 16\n",
            "0.6571133\n",
            "results\n",
            "this is the size of the synonyms list 64\n",
            "this is the size of the concept_range list 64\n",
            "row number 64\n"
          ]
        },
        {
          "output_type": "stream",
          "name": "stderr",
          "text": [
            "\n",
            "  0%|          | 0/10 [00:00<?, ?it/s]\u001b[A"
          ]
        },
        {
          "output_type": "stream",
          "name": "stdout",
          "text": [
            "entity number 0\n",
            "0.75378215\n",
            "Project Document\n",
            "entity number 1\n",
            "0.6976648\n",
            "inputs process\n",
            "entity number 2\n"
          ]
        },
        {
          "output_type": "stream",
          "name": "stderr",
          "text": [
            "\n",
            " 40%|████      | 4/10 [00:00<00:00, 32.09it/s]\u001b[A"
          ]
        },
        {
          "output_type": "stream",
          "name": "stdout",
          "text": [
            "1.0\n",
            "Lessons\n",
            "entity number 3\n",
            "0.7448306\n",
            "Lessons\n",
            "entity number 4\n",
            "0.90221786\n",
            "phases project\n",
            "entity number 5\n",
            "0.73388743\n",
            "phases project\n",
            "entity number 6\n",
            "0.86051613\n",
            "deviation scope project product Requirements traceability\n",
            "entity number 7\n"
          ]
        },
        {
          "output_type": "stream",
          "name": "stderr",
          "text": [
            "\n",
            " 80%|████████  | 8/10 [00:00<00:00, 29.82it/s]\u001b[A"
          ]
        },
        {
          "output_type": "stream",
          "name": "stdout",
          "text": [
            "0.8548137\n",
            "Requirements traceability matrix\n",
            "entity number 8\n"
          ]
        },
        {
          "output_type": "stream",
          "name": "stderr",
          "text": [
            "100%|██████████| 10/10 [00:00<00:00, 29.95it/s]\n",
            " 30%|███       | 65/216 [00:19<00:52,  2.87it/s]"
          ]
        },
        {
          "output_type": "stream",
          "name": "stdout",
          "text": [
            "0.7676603\n",
            "Requirements traceability matrix\n",
            "entity number 9\n",
            "0.74631685\n",
            "impact change deviation scope baseline project\n",
            "this is the size of the synonyms list 65\n",
            "this is the size of the concept_range list 65\n",
            "row number 65\n"
          ]
        },
        {
          "output_type": "stream",
          "name": "stderr",
          "text": [
            "\n",
            "  0%|          | 0/3 [00:00<?, ?it/s]\u001b[A"
          ]
        },
        {
          "output_type": "stream",
          "name": "stdout",
          "text": [
            "entity number 0\n",
            "0.56053114\n",
            "Work performance data\n",
            "entity number 1\n",
            "0.91439056\n",
            "number requests\n",
            "entity number 2\n"
          ]
        },
        {
          "output_type": "stream",
          "name": "stderr",
          "text": [
            "\n",
            "100%|██████████| 3/3 [00:00<00:00, 26.96it/s]\n",
            " 31%|███       | 66/216 [00:19<00:42,  3.55it/s]"
          ]
        },
        {
          "output_type": "stream",
          "name": "stdout",
          "text": [
            "0.9156523\n",
            "number deliverables\n",
            "this is the size of the synonyms list 66\n",
            "this is the size of the concept_range list 66\n",
            "row number 66\n"
          ]
        },
        {
          "output_type": "stream",
          "name": "stderr",
          "text": [
            "\n",
            "  0%|          | 0/3 [00:00<?, ?it/s]\u001b[A"
          ]
        },
        {
          "output_type": "stream",
          "name": "stdout",
          "text": [
            "entity number 0\n",
            "0.796541\n",
            "process sets\n",
            "entity number 1\n",
            "0.80184674\n",
            "Existing scope control policies procedures guidelines Monitoring\n",
            "entity number 2\n"
          ]
        },
        {
          "output_type": "stream",
          "name": "stderr",
          "text": [
            "\n",
            "100%|██████████| 3/3 [00:00<00:00, 26.06it/s]"
          ]
        },
        {
          "output_type": "stream",
          "name": "stdout",
          "text": [
            "0.67724025\n",
            "Existing scope control policies procedures guidelines Monitoring\n"
          ]
        },
        {
          "output_type": "stream",
          "name": "stderr",
          "text": [
            "100%|██████████| 3/3 [00:00<00:00, 24.11it/s]\n",
            " 31%|███       | 67/216 [00:19<00:35,  4.19it/s]"
          ]
        },
        {
          "output_type": "stream",
          "name": "stdout",
          "text": [
            "this is the size of the synonyms list 67\n",
            "this is the size of the concept_range list 67\n",
            "row number 67\n"
          ]
        },
        {
          "output_type": "stream",
          "name": "stderr",
          "text": [
            "\n",
            "  0%|          | 0/10 [00:00<?, ?it/s]\u001b[A"
          ]
        },
        {
          "output_type": "stream",
          "name": "stdout",
          "text": [
            "entity number 0\n",
            "0.75197124\n",
            "Data analysis techniques\n",
            "entity number 1\n"
          ]
        },
        {
          "output_type": "stream",
          "name": "stderr",
          "text": [
            "\n",
            " 30%|███       | 3/10 [00:00<00:00, 25.53it/s]"
          ]
        },
        {
          "output_type": "stream",
          "name": "stdout",
          "text": [
            "0.6341671\n",
            "Control Scope process\n",
            "entity number 2\n",
            "0.63755107\n",
            "Variance analysis Variance analysis\n"
          ]
        },
        {
          "output_type": "stream",
          "name": "stderr",
          "text": [
            "\u001b[A"
          ]
        },
        {
          "output_type": "stream",
          "name": "stdout",
          "text": [
            "entity number 3\n",
            "0.7108402\n",
            "baseline results\n",
            "entity number 4\n",
            "0.6938673\n",
            "variance\n",
            "entity number 5\n"
          ]
        },
        {
          "output_type": "stream",
          "name": "stderr",
          "text": [
            "\n",
            " 60%|██████    | 6/10 [00:00<00:00, 27.60it/s]\u001b[A"
          ]
        },
        {
          "output_type": "stream",
          "name": "stdout",
          "text": [
            "0.53634524\n",
            "amount action\n",
            "entity number 6\n",
            "0.5418091\n",
            "Trend analysis Trend analysis examines project performance time\n",
            "entity number 7\n",
            "0.6950754\n",
            "performance\n",
            "entity number 8\n"
          ]
        },
        {
          "output_type": "stream",
          "name": "stderr",
          "text": [
            "\n",
            " 90%|█████████ | 9/10 [00:00<00:00, 28.33it/s]\u001b[A"
          ]
        },
        {
          "output_type": "stream",
          "name": "stdout",
          "text": [
            "0.6914675\n",
            "aspects project scope control\n",
            "entity number 9\n"
          ]
        },
        {
          "output_type": "stream",
          "name": "stderr",
          "text": [
            "100%|██████████| 10/10 [00:00<00:00, 27.36it/s]\n",
            " 31%|███▏      | 68/216 [00:20<00:41,  3.59it/s]"
          ]
        },
        {
          "output_type": "stream",
          "name": "stdout",
          "text": [
            "0.48940802\n",
            "cause degree variance relative scope baseline Section\n",
            "this is the size of the synonyms list 68\n",
            "this is the size of the concept_range list 68\n",
            "row number 68\n"
          ]
        },
        {
          "output_type": "stream",
          "name": "stderr",
          "text": [
            "\n",
            "  0%|          | 0/4 [00:00<?, ?it/s]\u001b[A"
          ]
        },
        {
          "output_type": "stream",
          "name": "stdout",
          "text": [
            "entity number 0\n",
            "0.8215151\n",
            "information project product scope\n",
            "entity number 1\n",
            "0.6777695\n",
            "information project product scope\n",
            "entity number 2\n"
          ]
        },
        {
          "output_type": "stream",
          "name": "stderr",
          "text": [
            "\n",
            "100%|██████████| 4/4 [00:00<00:00, 32.14it/s]\n",
            " 32%|███▏      | 69/216 [00:20<00:34,  4.21it/s]"
          ]
        },
        {
          "output_type": "stream",
          "name": "stdout",
          "text": [
            "0.64998996\n",
            "scope\n",
            "entity number 3\n",
            "0.7404425\n",
            "categories changes\n",
            "this is the size of the synonyms list 69\n",
            "this is the size of the concept_range list 69\n",
            "row number 69\n"
          ]
        },
        {
          "output_type": "stream",
          "name": "stderr",
          "text": [
            "\n",
            "  0%|          | 0/1 [00:00<?, ?it/s]\u001b[A"
          ]
        },
        {
          "output_type": "stream",
          "name": "stdout",
          "text": [
            "entity number 0\n"
          ]
        },
        {
          "output_type": "stream",
          "name": "stderr",
          "text": [
            "\r100%|██████████| 1/1 [00:00<00:00, 17.34it/s]\n"
          ]
        },
        {
          "output_type": "stream",
          "name": "stdout",
          "text": [
            "0.7402053\n",
            "Analysis project performance\n",
            "this is the size of the synonyms list 70\n",
            "this is the size of the concept_range list 70\n",
            "row number 70\n"
          ]
        },
        {
          "output_type": "stream",
          "name": "stderr",
          "text": [
            "\n",
            "  0%|          | 0/24 [00:00<?, ?it/s]\u001b[A"
          ]
        },
        {
          "output_type": "stream",
          "name": "stdout",
          "text": [
            "entity number 0\n",
            "0.8970264\n",
            "organization change control process change request Components\n",
            "entity number 1\n",
            "0.9287173\n",
            "change request project management plan\n",
            "entity number 2\n"
          ]
        },
        {
          "output_type": "stream",
          "name": "stderr",
          "text": [
            "\n",
            " 12%|█▎        | 3/24 [00:00<00:00, 28.51it/s]\u001b[A"
          ]
        },
        {
          "output_type": "stream",
          "name": "stdout",
          "text": [
            "0.7921458\n",
            "change request project management plan\n",
            "entity number 3\n",
            "0.7069812\n",
            "management plan scope management plan\n",
            "entity number 4\n",
            "0.8885739\n",
            "Scope baseline Changes scope baseline\n",
            "entity number 5\n"
          ]
        },
        {
          "output_type": "stream",
          "name": "stderr",
          "text": [
            "\n",
            " 25%|██▌       | 6/24 [00:00<00:00, 28.13it/s]\u001b[A"
          ]
        },
        {
          "output_type": "stream",
          "name": "stdout",
          "text": [
            "0.6995732\n",
            "Scope baseline Changes scope baseline\n",
            "entity number 6\n",
            "0.54423106\n",
            "response\n",
            "entity number 7\n",
            "0.504034\n",
            "changes scope scope statement dictionary cases\n",
            "entity number 8\n"
          ]
        },
        {
          "output_type": "stream",
          "name": "stderr",
          "text": [
            "\n",
            " 42%|████▏     | 10/24 [00:00<00:00, 30.47it/s]\u001b[A"
          ]
        },
        {
          "output_type": "stream",
          "name": "stdout",
          "text": [
            "0.59919685\n",
            "variance\n",
            "entity number 9\n",
            "0.67735624\n",
            "scope baseline\n",
            "entity number 10\n",
            "0.66783273\n",
            "basis performance measurement Schedule baseline Changes schedule baseline\n",
            "entity number 11\n",
            "0.6390146\n",
            "response\n",
            "entity number 12\n"
          ]
        },
        {
          "output_type": "stream",
          "name": "stderr",
          "text": [
            "\n",
            " 58%|█████▊    | 14/24 [00:00<00:00, 30.59it/s]\u001b[A"
          ]
        },
        {
          "output_type": "stream",
          "name": "stdout",
          "text": [
            "0.5702275\n",
            "changes scope resources schedule estimates cases\n",
            "entity number 13\n",
            "0.6048065\n",
            "variance\n",
            "entity number 14\n",
            "0.8056453\n",
            "basis performance measurement Cost baseline Changes cost baseline\n",
            "entity number 15\n",
            "0.66832626\n",
            "basis performance measurement Cost baseline Changes cost baseline\n",
            "entity number 16\n",
            "0.6420039\n",
            "response\n",
            "entity number 17\n"
          ]
        },
        {
          "output_type": "stream",
          "name": "stderr",
          "text": [
            "\n",
            " 75%|███████▌  | 18/24 [00:00<00:00, 31.06it/s]\u001b[A"
          ]
        },
        {
          "output_type": "stream",
          "name": "stdout",
          "text": [
            "0.6161796\n",
            "changes scope resources cost estimates cases\n",
            "entity number 18\n",
            "0.7093835\n",
            "variance\n",
            "entity number 19\n",
            "0.75960433\n",
            "cost baseline\n",
            "entity number 20\n",
            "0.66599345\n",
            "basis performance measurement Performance measurement baseline Changes performance measurement baseline\n",
            "entity number 21\n"
          ]
        },
        {
          "output_type": "stream",
          "name": "stderr",
          "text": [
            "\n",
            " 92%|█████████▏| 22/24 [00:00<00:00, 31.32it/s]\u001b[A"
          ]
        },
        {
          "output_type": "stream",
          "name": "stdout",
          "text": [
            "0.5712273\n",
            "response\n",
            "entity number 22\n",
            "0.7041882\n",
            "changes scope schedule performance cost estimates cases performance variance\n",
            "entity number 23\n"
          ]
        },
        {
          "output_type": "stream",
          "name": "stderr",
          "text": [
            "100%|██████████| 24/24 [00:00<00:00, 30.06it/s]\n",
            " 33%|███▎      | 71/216 [00:21<00:47,  3.03it/s]"
          ]
        },
        {
          "output_type": "stream",
          "name": "stdout",
          "text": [
            "0.56478554\n",
            "change request\n",
            "this is the size of the synonyms list 71\n",
            "this is the size of the concept_range list 71\n",
            "row number 71\n"
          ]
        },
        {
          "output_type": "stream",
          "name": "stderr",
          "text": [
            "\n",
            "  0%|          | 0/11 [00:00<?, ?it/s]\u001b[A"
          ]
        },
        {
          "output_type": "stream",
          "name": "stdout",
          "text": [
            "entity number 0\n",
            "0.6835313\n",
            "Project Document\n",
            "entity number 1\n",
            "0.8931931\n",
            "process\n",
            "entity number 2\n"
          ]
        },
        {
          "output_type": "stream",
          "name": "stderr",
          "text": [
            "\n",
            " 27%|██▋       | 3/11 [00:00<00:00, 28.08it/s]\u001b[A"
          ]
        },
        {
          "output_type": "stream",
          "name": "stdout",
          "text": [
            "0.7438161\n",
            "process\n",
            "entity number 3\n",
            "1.0\n",
            "lessons\n",
            "entity number 4\n",
            "0.7040371\n",
            "lessons\n",
            "entity number 5\n",
            "0.8007765\n",
            "techniques\n",
            "entity number 6\n"
          ]
        },
        {
          "output_type": "stream",
          "name": "stderr",
          "text": [
            "\n",
            " 64%|██████▎   | 7/11 [00:00<00:00, 30.03it/s]\u001b[A"
          ]
        },
        {
          "output_type": "stream",
          "name": "stdout",
          "text": [
            "0.8203325\n",
            "scope\n",
            "entity number 7\n",
            "0.6047557\n",
            "scope\n",
            "entity number 8\n"
          ]
        },
        {
          "output_type": "stream",
          "name": "stderr",
          "text": [
            "\n",
            " 91%|█████████ | 10/11 [00:00<00:00, 29.29it/s]\u001b[A"
          ]
        },
        {
          "output_type": "stream",
          "name": "stdout",
          "text": [
            "0.6330008\n",
            "causes variance actions\n",
            "entity number 9\n",
            "0.940909\n",
            "Requirements Requirements traceability\n",
            "entity number 10\n"
          ]
        },
        {
          "output_type": "stream",
          "name": "stderr",
          "text": [
            "100%|██████████| 11/11 [00:00<00:00, 28.44it/s]\n",
            " 33%|███▎      | 72/216 [00:21<00:50,  2.85it/s]"
          ]
        },
        {
          "output_type": "stream",
          "name": "stdout",
          "text": [
            "0.9579153\n",
            "Requirements traceability matrix\n",
            "this is the size of the synonyms list 72\n",
            "this is the size of the concept_range list 72\n",
            "row number 72\n"
          ]
        },
        {
          "output_type": "stream",
          "name": "stderr",
          "text": [
            "\n",
            "  0%|          | 0/16 [00:00<?, ?it/s]\u001b[A"
          ]
        },
        {
          "output_type": "stream",
          "name": "stdout",
          "text": [
            "entity number 0\n",
            "0.63741326\n",
            "Project Schedule Management\n",
            "entity number 1\n",
            "0.55971634\n",
            "process\n",
            "entity number 2\n",
            "0.818812\n",
            "Plan Schedule Management process\n",
            "entity number 3\n"
          ]
        },
        {
          "output_type": "stream",
          "name": "stderr",
          "text": [
            "\n",
            " 25%|██▌       | 4/16 [00:00<00:00, 30.89it/s]\u001b[A"
          ]
        },
        {
          "output_type": "stream",
          "name": "stdout",
          "text": [
            "0.82614374\n",
            "policies procedures documentation\n",
            "entity number 4\n",
            "0.7928148\n",
            "policies procedures documentation\n",
            "entity number 5\n",
            "0.64662915\n",
            "project schedule Define\n",
            "entity number 6\n",
            "0.8677484\n",
            "actions\n",
            "entity number 7\n"
          ]
        },
        {
          "output_type": "stream",
          "name": "stderr",
          "text": [
            "\n",
            " 50%|█████     | 8/16 [00:00<00:00, 31.59it/s]\u001b[A"
          ]
        },
        {
          "output_type": "stream",
          "name": "stdout",
          "text": [
            "0.83445257\n",
            "project\n",
            "entity number 8\n",
            "0.76385677\n",
            "project\n",
            "entity number 9\n",
            "0.78384876\n",
            "Sequence Activities process\n",
            "entity number 10\n"
          ]
        },
        {
          "output_type": "stream",
          "name": "stderr",
          "text": [
            "\n",
            " 75%|███████▌  | 12/16 [00:00<00:00, 31.61it/s]\u001b[A"
          ]
        },
        {
          "output_type": "stream",
          "name": "stdout",
          "text": [
            "0.72471976\n",
            "relationships project activities Estimate Activity Duration process\n",
            "entity number 11\n",
            "0.7314149\n",
            "number work periods\n",
            "entity number 12\n",
            "0.848776\n",
            "activity sequences duration resource Requirements schedule constraints\n",
            "entity number 13\n",
            "0.7865821\n",
            "activity sequences duration resource Requirements schedule constraints\n",
            "entity number 14\n"
          ]
        },
        {
          "output_type": "stream",
          "name": "stderr",
          "text": [
            "\n",
            "100%|██████████| 16/16 [00:00<00:00, 30.90it/s]\u001b[A"
          ]
        },
        {
          "output_type": "stream",
          "name": "stdout",
          "text": [
            "0.7830931\n",
            "project schedule model project execution monitoring\n",
            "entity number 15\n",
            "0.77833056\n",
            "Control Schedule process\n"
          ]
        },
        {
          "output_type": "stream",
          "name": "stderr",
          "text": [
            "100%|██████████| 16/16 [00:00<00:00, 30.31it/s]\n",
            " 34%|███▍      | 73/216 [00:22<00:57,  2.49it/s]"
          ]
        },
        {
          "output_type": "stream",
          "name": "stdout",
          "text": [
            "this is the size of the synonyms list 73\n",
            "this is the size of the concept_range list 73\n",
            "row number 73\n"
          ]
        },
        {
          "output_type": "stream",
          "name": "stderr",
          "text": [
            "\n",
            "  0%|          | 0/6 [00:00<?, ?it/s]\u001b[A"
          ]
        },
        {
          "output_type": "stream",
          "name": "stdout",
          "text": [
            "entity number 0\n",
            "0.6518611\n",
            "Plan Schedule Management\n",
            "entity number 1\n",
            "0.67903453\n",
            "process\n",
            "entity number 2\n"
          ]
        },
        {
          "output_type": "stream",
          "name": "stderr",
          "text": [
            "\n",
            " 50%|█████     | 3/6 [00:00<00:00, 24.32it/s]\u001b[A"
          ]
        },
        {
          "output_type": "stream",
          "name": "stdout",
          "text": [
            "0.70919013\n",
            "policies procedures documentation\n",
            "entity number 3\n",
            "0.6873194\n",
            "project\n",
            "entity number 4\n",
            "0.6440301\n",
            "benefit process\n",
            "entity number 5\n"
          ]
        },
        {
          "output_type": "stream",
          "name": "stderr",
          "text": [
            "\n",
            "100%|██████████| 6/6 [00:00<00:00, 25.18it/s]\n",
            " 34%|███▍      | 74/216 [00:22<00:51,  2.76it/s]"
          ]
        },
        {
          "output_type": "stream",
          "name": "stdout",
          "text": [
            "0.8627653\n",
            "project process\n",
            "this is the size of the synonyms list 74\n",
            "this is the size of the concept_range list 74\n",
            "row number 74\n"
          ]
        },
        {
          "output_type": "stream",
          "name": "stderr",
          "text": [
            "\n",
            "  0%|          | 0/1 [00:00<?, ?it/s]\u001b[A"
          ]
        },
        {
          "output_type": "stream",
          "name": "stdout",
          "text": [
            "entity number 0\n"
          ]
        },
        {
          "output_type": "stream",
          "name": "stderr",
          "text": [
            "\r100%|██████████| 1/1 [00:00<00:00, 17.78it/s]\n"
          ]
        },
        {
          "output_type": "stream",
          "name": "stdout",
          "text": [
            "0.7444706\n",
            "project charter\n",
            "this is the size of the synonyms list 75\n",
            "this is the size of the concept_range list 75\n",
            "row number 75\n"
          ]
        },
        {
          "output_type": "stream",
          "name": "stderr",
          "text": [
            "\n",
            "  0%|          | 0/8 [00:00<?, ?it/s]\u001b[A"
          ]
        },
        {
          "output_type": "stream",
          "name": "stdout",
          "text": [
            "entity number 0\n",
            "0.7716286\n",
            "Project management plan commons\n",
            "entity number 1\n"
          ]
        },
        {
          "output_type": "stream",
          "name": "stderr",
          "text": [
            "\n"
          ]
        },
        {
          "output_type": "stream",
          "name": "stdout",
          "text": [
            "0.76541424\n",
            "management plan scope management plan\n",
            "entity number 2\n",
            "0.6999331\n",
            "scope\n"
          ]
        },
        {
          "output_type": "stream",
          "name": "stderr",
          "text": [
            "\r 38%|███▊      | 3/8 [00:00<00:00, 27.54it/s]\u001b[A"
          ]
        },
        {
          "output_type": "stream",
          "name": "stdout",
          "text": [
            "entity number 3\n",
            "0.70864964\n",
            "information schedule\n",
            "entity number 4\n",
            "0.7794381\n",
            "Development\n",
            "entity number 5\n"
          ]
        },
        {
          "output_type": "stream",
          "name": "stderr",
          "text": [
            "\n"
          ]
        },
        {
          "output_type": "stream",
          "name": "stdout",
          "text": [
            "0.6919403\n",
            "product development approach\n"
          ]
        },
        {
          "output_type": "stream",
          "name": "stderr",
          "text": [
            "\r 75%|███████▌  | 6/8 [00:00<00:00, 28.24it/s]\u001b[A"
          ]
        },
        {
          "output_type": "stream",
          "name": "stdout",
          "text": [
            "entity number 6\n",
            "0.70809215\n",
            "scheduling approach\n",
            "entity number 7\n"
          ]
        },
        {
          "output_type": "stream",
          "name": "stderr",
          "text": [
            "100%|██████████| 8/8 [00:00<00:00, 27.04it/s]\n",
            " 35%|███▌      | 76/216 [00:22<00:40,  3.50it/s]"
          ]
        },
        {
          "output_type": "stream",
          "name": "stdout",
          "text": [
            "0.7745846\n",
            "techniques\n",
            "this is the size of the synonyms list 76\n",
            "this is the size of the concept_range list 76\n",
            "row number 76\n"
          ]
        },
        {
          "output_type": "stream",
          "name": "stderr",
          "text": [
            "\n",
            "  0%|          | 0/3 [00:00<?, ?it/s]\u001b[A"
          ]
        },
        {
          "output_type": "stream",
          "name": "stdout",
          "text": [
            "entity number 0\n"
          ]
        },
        {
          "output_type": "stream",
          "name": "stderr",
          "text": [
            "100%|██████████| 3/3 [00:00<00:00, 32.40it/s]\n",
            " 36%|███▌      | 77/216 [00:22<00:34,  4.08it/s]"
          ]
        },
        {
          "output_type": "stream",
          "name": "stdout",
          "text": [
            "0.6513655\n",
            "enterprise factors\n",
            "entity number 1\n",
            "0.70317316\n",
            "Plan Schedule Management process include\n",
            "entity number 2\n",
            "0.7534117\n",
            "Organizational culture structure Team resource availability skills resource availability Scheduling software lines criteria\n",
            "this is the size of the synonyms list 77\n",
            "this is the size of the concept_range list 77\n",
            "row number 77\n"
          ]
        },
        {
          "output_type": "stream",
          "name": "stderr",
          "text": [
            "\n",
            "  0%|          | 0/3 [00:00<?, ?it/s]\u001b[A"
          ]
        },
        {
          "output_type": "stream",
          "name": "stdout",
          "text": [
            "entity number 0\n",
            "0.71632254\n",
            "process sets\n",
            "entity number 1\n",
            "0.6480622\n",
            "Plan Schedule Management process include\n",
            "entity number 2\n"
          ]
        },
        {
          "output_type": "stream",
          "name": "stderr",
          "text": [
            "\n",
            "100%|██████████| 3/3 [00:00<00:00, 26.71it/s]\n",
            " 36%|███▌      | 78/216 [00:22<00:29,  4.68it/s]"
          ]
        },
        {
          "output_type": "stream",
          "name": "stdout",
          "text": [
            "0.6372626\n",
            "Historical information lessons\n",
            "this is the size of the synonyms list 78\n",
            "this is the size of the concept_range list 78\n",
            "row number 78\n"
          ]
        },
        {
          "output_type": "stream",
          "name": "stderr",
          "text": [
            "\n",
            "  0%|          | 0/2 [00:00<?, ?it/s]\u001b[A"
          ]
        },
        {
          "output_type": "stream",
          "name": "stdout",
          "text": [
            "entity number 0\n",
            "0.46216506\n",
            "Expertise\n",
            "entity number 1\n"
          ]
        },
        {
          "output_type": "stream",
          "name": "stderr",
          "text": [
            "\r100%|██████████| 2/2 [00:00<00:00, 24.44it/s]\n"
          ]
        },
        {
          "output_type": "stream",
          "name": "stdout",
          "text": [
            "0.8204721\n",
            "life cycle Scheduling software industry project\n",
            "this is the size of the synonyms list 79\n",
            "this is the size of the concept_range list 79\n",
            "row number 79\n"
          ]
        },
        {
          "output_type": "stream",
          "name": "stderr",
          "text": [
            "\n",
            "  0%|          | 0/10 [00:00<?, ?it/s]\u001b[A"
          ]
        },
        {
          "output_type": "stream",
          "name": "stdout",
          "text": [
            "entity number 0\n",
            "0.697045\n",
            "data analysis technique\n",
            "entity number 1\n",
            "0.69880754\n",
            "process\n",
            "entity number 2\n"
          ]
        },
        {
          "output_type": "stream",
          "name": "stderr",
          "text": [
            "\n",
            " 30%|███       | 3/10 [00:00<00:00, 26.88it/s]\u001b[A"
          ]
        },
        {
          "output_type": "stream",
          "name": "stdout",
          "text": [
            "0.69062245\n",
            "alternatives Alternatives analysis\n",
            "entity number 3\n",
            "0.841942\n",
            "methods project\n",
            "entity number 4\n",
            "0.7868745\n",
            "methods project\n",
            "entity number 5\n",
            "0.6634437\n",
            "schedule\n",
            "entity number 6\n"
          ]
        },
        {
          "output_type": "stream",
          "name": "stderr",
          "text": [
            "\n",
            " 70%|███████   | 7/10 [00:00<00:00, 29.31it/s]\u001b[A"
          ]
        },
        {
          "output_type": "stream",
          "name": "stdout",
          "text": [
            "0.8104824\n",
            "wave planning\n",
            "entity number 7\n",
            "0.5096519\n",
            "wave planning\n",
            "entity number 8\n",
            "0.66748726\n",
            "balance level detail\n",
            "entity number 9\n"
          ]
        },
        {
          "output_type": "stream",
          "name": "stderr",
          "text": [
            "100%|██████████| 10/10 [00:00<00:00, 29.64it/s]\n",
            " 37%|███▋      | 80/216 [00:23<00:29,  4.60it/s]"
          ]
        },
        {
          "output_type": "stream",
          "name": "stdout",
          "text": [
            "0.7190419\n",
            "schedule amount time\n",
            "this is the size of the synonyms list 80\n",
            "this is the size of the concept_range list 80\n",
            "row number 80\n"
          ]
        },
        {
          "output_type": "stream",
          "name": "stderr",
          "text": [
            "\n",
            "  0%|          | 0/5 [00:00<?, ?it/s]\u001b[A"
          ]
        },
        {
          "output_type": "stream",
          "name": "stdout",
          "text": [
            "entity number 0\n",
            "0.57501096\n",
            "Project teams\n",
            "entity number 1\n",
            "0.79809445\n",
            "meetings\n",
            "entity number 2\n"
          ]
        },
        {
          "output_type": "stream",
          "name": "stderr",
          "text": [
            "\n",
            " 60%|██████    | 3/5 [00:00<00:00, 28.25it/s]"
          ]
        },
        {
          "output_type": "stream",
          "name": "stdout",
          "text": [
            "0.6241938\n",
            "schedule management plan Participants meetings\n"
          ]
        },
        {
          "output_type": "stream",
          "name": "stderr",
          "text": [
            "100%|██████████| 5/5 [00:00<00:00, 27.81it/s]\n",
            " 38%|███▊      | 81/216 [00:23<00:28,  4.73it/s]"
          ]
        },
        {
          "output_type": "stream",
          "name": "stdout",
          "text": [
            "entity number 3\n",
            "0.8775692\n",
            "project team members\n",
            "entity number 4\n",
            "0.72997034\n",
            "project team members\n",
            "this is the size of the synonyms list 81\n",
            "this is the size of the concept_range list 81\n",
            "row number 81\n"
          ]
        },
        {
          "output_type": "stream",
          "name": "stderr",
          "text": [
            "\n",
            "  0%|          | 0/43 [00:00<?, ?it/s]\u001b[A"
          ]
        },
        {
          "output_type": "stream",
          "name": "stdout",
          "text": [
            "entity number 0\n",
            "0.8892052\n",
            "component project management plan\n",
            "entity number 1\n",
            "0.85649574\n",
            "criteria activities\n",
            "entity number 2\n"
          ]
        },
        {
          "output_type": "stream",
          "name": "stderr",
          "text": [
            "\n",
            "  7%|▋         | 3/43 [00:00<00:01, 28.77it/s]"
          ]
        },
        {
          "output_type": "stream",
          "name": "stdout",
          "text": [
            "0.8395339\n",
            "monitoring\n"
          ]
        },
        {
          "output_type": "stream",
          "name": "stderr",
          "text": [
            "\u001b[A"
          ]
        },
        {
          "output_type": "stream",
          "name": "stdout",
          "text": [
            "entity number 3\n",
            "0.7223791\n",
            "monitoring\n",
            "entity number 4\n",
            "0.68771887\n",
            "schedule schedule management plan\n",
            "entity number 5\n",
            "0.6475147\n",
            "needs project\n",
            "entity number 6\n"
          ]
        },
        {
          "output_type": "stream",
          "name": "stderr",
          "text": [
            "\n",
            " 16%|█▋        | 7/43 [00:00<00:01, 30.60it/s]\u001b[A"
          ]
        },
        {
          "output_type": "stream",
          "name": "stdout",
          "text": [
            "0.66194296\n",
            "control\n",
            "entity number 7\n",
            "0.8559134\n",
            "Project schedule model development scheduling methodology\n",
            "entity number 8\n",
            "0.52825534\n",
            "Project schedule model development scheduling methodology\n",
            "entity number 9\n",
            "0.60030067\n",
            "tool\n",
            "entity number 10\n"
          ]
        },
        {
          "output_type": "stream",
          "name": "stderr",
          "text": [
            "\n",
            " 26%|██▌       | 11/43 [00:00<00:01, 30.71it/s]\u001b[A"
          ]
        },
        {
          "output_type": "stream",
          "name": "stdout",
          "text": [
            "0.67856\n",
            "development project schedule model\n",
            "entity number 11\n",
            "0.73956186\n",
            "Release iteration length\n",
            "entity number 12\n",
            "0.66704285\n",
            "life cycle time periods releases waves iterations\n",
            "entity number 13\n",
            "0.7128891\n",
            "Time boxed periods\n",
            "entity number 14\n"
          ]
        },
        {
          "output_type": "stream",
          "name": "stderr",
          "text": [
            "\n",
            " 35%|███▍      | 15/43 [00:00<00:00, 30.54it/s]\u001b[A"
          ]
        },
        {
          "output_type": "stream",
          "name": "stdout",
          "text": [
            "0.41970587\n",
            "duration team\n",
            "entity number 15\n",
            "0.25264788\n",
            "completion goal Time boxing\n",
            "entity number 16\n"
          ]
        },
        {
          "output_type": "stream",
          "name": "stderr",
          "text": [
            "\n",
            " 44%|████▍     | 19/43 [00:00<00:00, 29.92it/s]\u001b[A"
          ]
        },
        {
          "output_type": "stream",
          "name": "stdout",
          "text": [
            "0.55315816\n",
            "scope creep\n",
            "entity number 17\n",
            "0.671325\n",
            "teams\n",
            "entity number 18\n",
            "0.6180559\n",
            "features features time\n",
            "entity number 19\n",
            "0.70594716\n",
            "Level accuracy level accuracy specifies range\n",
            "entity number 20\n"
          ]
        },
        {
          "output_type": "stream",
          "name": "stderr",
          "text": [
            "\n",
            " 51%|█████     | 22/43 [00:00<00:00, 29.88it/s]\u001b[A"
          ]
        },
        {
          "output_type": "stream",
          "name": "stdout",
          "text": [
            "0.4188241\n",
            "activity duration estimates\n",
            "entity number 21\n",
            "0.33950937\n",
            "amount contingencies Units measure unit measurement staff hours staff days weeks time measures meters liters tons kilometers yards quantity measures\n",
            "entity number 22\n",
            "0.6475159\n",
            "resources Organizational procedures\n",
            "entity number 23\n"
          ]
        },
        {
          "output_type": "stream",
          "name": "stderr",
          "text": [
            "\n",
            " 58%|█████▊    | 25/43 [00:00<00:00, 29.49it/s]\u001b[A"
          ]
        },
        {
          "output_type": "stream",
          "name": "stdout",
          "text": [
            "0.63027287\n",
            "work breakdown structure Section\n",
            "entity number 24\n",
            "0.5166106\n",
            "framework schedule management plan\n",
            "entity number 25\n",
            "0.40571624\n",
            "consistency estimates\n",
            "entity number 26\n"
          ]
        },
        {
          "output_type": "stream",
          "name": "stderr",
          "text": [
            "\n",
            " 65%|██████▌   | 28/43 [00:00<00:00, 29.02it/s]\u001b[A"
          ]
        },
        {
          "output_type": "stream",
          "name": "stdout",
          "text": [
            "0.888937\n",
            "status record progress project schedule model execution project\n",
            "entity number 27\n",
            "0.52150583\n",
            "status record progress project schedule model execution project\n",
            "entity number 28\n",
            "0.54720336\n",
            "Control\n",
            "entity number 29\n"
          ]
        },
        {
          "output_type": "stream",
          "name": "stderr",
          "text": [
            "\n",
            " 72%|███████▏  | 31/43 [00:01<00:00, 28.80it/s]\u001b[A"
          ]
        },
        {
          "output_type": "stream",
          "name": "stdout",
          "text": [
            "0.6625122\n",
            "Variance thresholds monitoring schedule performance\n",
            "entity number 30\n",
            "0.6773194\n",
            "amount variation\n",
            "entity number 31\n",
            "0.69969785\n",
            "action\n",
            "entity number 32\n"
          ]
        },
        {
          "output_type": "stream",
          "name": "stderr",
          "text": [
            "\n",
            " 79%|███████▉  | 34/43 [00:01<00:00, 28.91it/s]\u001b[A"
          ]
        },
        {
          "output_type": "stream",
          "name": "stdout",
          "text": [
            "0.73643136\n",
            "Thresholds\n",
            "entity number 33\n",
            "0.70111096\n",
            "percentage deviations parameters\n",
            "entity number 34\n",
            "0.86762136\n",
            "value management EV rules measurement rules performance measurement\n",
            "entity number 35\n"
          ]
        },
        {
          "output_type": "stream",
          "name": "stderr",
          "text": [
            "\n",
            " 86%|████████▌ | 37/43 [00:01<00:00, 28.35it/s]\u001b[A"
          ]
        },
        {
          "output_type": "stream",
          "name": "stdout",
          "text": [
            "0.7721907\n",
            "value management EV rules measurement rules performance measurement\n",
            "entity number 36\n",
            "0.7073529\n",
            "example schedule management plan\n",
            "entity number 37\n",
            "0.58350354\n",
            "Rules\n",
            "entity number 38\n"
          ]
        },
        {
          "output_type": "stream",
          "name": "stderr",
          "text": [
            "\n",
            " 93%|█████████▎| 40/43 [00:01<00:00, 27.79it/s]\u001b[A"
          ]
        },
        {
          "output_type": "stream",
          "name": "stdout",
          "text": [
            "0.6859213\n",
            "percent EV techniques\n",
            "entity number 39\n",
            "0.8174281\n",
            "percent etc\n",
            "entity number 40\n",
            "0.57055235\n",
            "percent etc\n",
            "entity number 41\n"
          ]
        },
        {
          "output_type": "stream",
          "name": "stderr",
          "text": [
            "\n",
            "100%|██████████| 43/43 [00:01<00:00, 28.52it/s]"
          ]
        },
        {
          "output_type": "stream",
          "name": "stdout",
          "text": [
            "0.7876712\n",
            "information refer Practice Standard Earned Value Management Schedule performance measures schedule variance S schedule performance index SPI\n",
            "entity number 42\n",
            "0.8412917\n",
            "formats frequency schedule reports\n"
          ]
        },
        {
          "output_type": "stream",
          "name": "stderr",
          "text": [
            "\n",
            "\r 38%|███▊      | 82/216 [00:25<01:12,  1.86it/s]"
          ]
        },
        {
          "output_type": "stream",
          "name": "stdout",
          "text": [
            "this is the size of the synonyms list 82\n",
            "this is the size of the concept_range list 82\n",
            "row number 82\n"
          ]
        },
        {
          "output_type": "stream",
          "name": "stderr",
          "text": [
            "\n",
            "  0%|          | 0/8 [00:00<?, ?it/s]\u001b[A"
          ]
        },
        {
          "output_type": "stream",
          "name": "stdout",
          "text": [
            "entity number 0\n",
            "0.80260754\n",
            "process\n",
            "entity number 1\n",
            "0.8677484\n",
            "actions\n",
            "entity number 2\n"
          ]
        },
        {
          "output_type": "stream",
          "name": "stderr",
          "text": [
            "\n",
            " 38%|███▊      | 3/8 [00:00<00:00, 23.85it/s]\u001b[A"
          ]
        },
        {
          "output_type": "stream",
          "name": "stdout",
          "text": [
            "0.83445257\n",
            "project\n",
            "entity number 3\n",
            "0.6873194\n",
            "project\n",
            "entity number 4\n",
            "0.54188806\n",
            "benefit process\n",
            "entity number 5\n"
          ]
        },
        {
          "output_type": "stream",
          "name": "stderr",
          "text": [
            "\n",
            " 75%|███████▌  | 6/8 [00:00<00:00, 25.95it/s]\u001b[A"
          ]
        },
        {
          "output_type": "stream",
          "name": "stdout",
          "text": [
            "0.5428172\n",
            "work packages schedule activities\n",
            "entity number 6\n"
          ]
        },
        {
          "output_type": "stream",
          "name": "stderr",
          "text": [
            "100%|██████████| 8/8 [00:00<00:00, 25.52it/s]\n",
            " 38%|███▊      | 83/216 [00:25<01:04,  2.07it/s]"
          ]
        },
        {
          "output_type": "stream",
          "name": "stdout",
          "text": [
            "0.8523779\n",
            "monitoring\n",
            "entity number 7\n",
            "0.682268\n",
            "monitoring\n",
            "this is the size of the synonyms list 83\n",
            "this is the size of the concept_range list 83\n",
            "row number 83\n"
          ]
        },
        {
          "output_type": "stream",
          "name": "stderr",
          "text": [
            "\n",
            "  0%|          | 0/7 [00:00<?, ?it/s]\u001b[A"
          ]
        },
        {
          "output_type": "stream",
          "name": "stdout",
          "text": [
            "entity number 0\n",
            "0.7302767\n",
            "Project management plan commons\n",
            "entity number 1\n",
            "0.871504\n",
            "schedule\n",
            "entity number 2\n"
          ]
        },
        {
          "output_type": "stream",
          "name": "stderr",
          "text": [
            "\n",
            " 43%|████▎     | 3/7 [00:00<00:00, 26.05it/s]\u001b[A"
          ]
        },
        {
          "output_type": "stream",
          "name": "stdout",
          "text": [
            "0.6634437\n",
            "schedule\n",
            "entity number 3\n",
            "0.8060243\n",
            "wave planning level detail\n",
            "entity number 4\n",
            "0.5579587\n",
            "wave planning level detail\n",
            "entity number 5\n"
          ]
        },
        {
          "output_type": "stream",
          "name": "stderr",
          "text": [
            "\n",
            " 86%|████████▌ | 6/7 [00:00<00:00, 26.59it/s]\u001b[A"
          ]
        },
        {
          "output_type": "stream",
          "name": "stdout",
          "text": [
            "0.725219\n",
            "work Scope\n",
            "entity number 6\n"
          ]
        },
        {
          "output_type": "stream",
          "name": "stderr",
          "text": [
            "100%|██████████| 7/7 [00:00<00:00, 25.24it/s]\n",
            " 39%|███▉      | 84/216 [00:25<00:57,  2.31it/s]"
          ]
        },
        {
          "output_type": "stream",
          "name": "stdout",
          "text": [
            "0.6227789\n",
            "project deliverables constraints assumptions\n",
            "this is the size of the synonyms list 84\n",
            "this is the size of the concept_range list 84\n",
            "row number 84\n"
          ]
        },
        {
          "output_type": "stream",
          "name": "stderr",
          "text": [
            "\n",
            "  0%|          | 0/2 [00:00<?, ?it/s]\u001b[A"
          ]
        },
        {
          "output_type": "stream",
          "name": "stdout",
          "text": [
            "entity number 0\n"
          ]
        },
        {
          "output_type": "stream",
          "name": "stderr",
          "text": [
            "\r100%|██████████| 2/2 [00:00<00:00, 27.02it/s]\n"
          ]
        },
        {
          "output_type": "stream",
          "name": "stdout",
          "text": [
            "0.6853188\n",
            "Enterprise factors\n",
            "entity number 1\n",
            "0.75589216\n",
            "Define Activities process include\n",
            "this is the size of the synonyms list 85\n",
            "this is the size of the concept_range list 85\n",
            "row number 85\n"
          ]
        },
        {
          "output_type": "stream",
          "name": "stderr",
          "text": [
            "\n",
            "  0%|          | 0/8 [00:00<?, ?it/s]\u001b[A"
          ]
        },
        {
          "output_type": "stream",
          "name": "stdout",
          "text": [
            "entity number 0\n",
            "0.7934835\n",
            "process sets\n",
            "entity number 1\n",
            "0.6885041\n",
            "Define Activities process include\n",
            "entity number 2\n"
          ]
        },
        {
          "output_type": "stream",
          "name": "stderr",
          "text": [
            "\n",
            " 38%|███▊      | 3/8 [00:00<00:00, 28.30it/s]\u001b[A"
          ]
        },
        {
          "output_type": "stream",
          "name": "stdout",
          "text": [
            "0.70330155\n",
            "Lessons\n",
            "entity number 3\n",
            "0.82481855\n",
            "information\n",
            "entity number 4\n",
            "0.83263934\n",
            "activity lists\n",
            "entity number 5\n",
            "0.6223761\n",
            "activity lists\n",
            "entity number 6\n"
          ]
        },
        {
          "output_type": "stream",
          "name": "stderr",
          "text": [
            "\n",
            "100%|██████████| 8/8 [00:00<00:00, 29.04it/s]"
          ]
        },
        {
          "output_type": "stream",
          "name": "stdout",
          "text": [
            "0.6149508\n",
            "projects Standardized process\n",
            "entity number 7\n",
            "0.6016168\n",
            "activity list portion activity list project Existing activity planning policies procedures guidelines\n"
          ]
        },
        {
          "output_type": "stream",
          "name": "stderr",
          "text": [
            "\n",
            "\r 40%|███▉      | 86/216 [00:26<00:42,  3.07it/s]"
          ]
        },
        {
          "output_type": "stream",
          "name": "stdout",
          "text": [
            "this is the size of the synonyms list 86\n",
            "this is the size of the concept_range list 86\n",
            "row number 86\n"
          ]
        },
        {
          "output_type": "stream",
          "name": "stderr",
          "text": [
            "\n",
            "  0%|          | 0/1 [00:00<?, ?it/s]\u001b[A"
          ]
        },
        {
          "output_type": "stream",
          "name": "stdout",
          "text": [
            "entity number 0\n"
          ]
        },
        {
          "output_type": "stream",
          "name": "stderr",
          "text": [
            "\r100%|██████████| 1/1 [00:00<00:00, 21.65it/s]\n"
          ]
        },
        {
          "output_type": "stream",
          "name": "stdout",
          "text": [
            "0.6911725\n",
            "Expertise\n",
            "this is the size of the synonyms list 87\n",
            "this is the size of the concept_range list 87\n",
            "row number 87\n"
          ]
        },
        {
          "output_type": "stream",
          "name": "stderr",
          "text": [
            "\n",
            "  0%|          | 0/10 [00:00<?, ?it/s]\u001b[A"
          ]
        },
        {
          "output_type": "stream",
          "name": "stdout",
          "text": [
            "entity number 0\n",
            "0.51474655\n",
            "Decomposition\n",
            "entity number 1\n",
            "0.590078\n",
            "technique\n",
            "entity number 2\n"
          ]
        },
        {
          "output_type": "stream",
          "name": "stderr",
          "text": [
            "\n",
            " 30%|███       | 3/10 [00:00<00:00, 27.29it/s]\u001b[A"
          ]
        },
        {
          "output_type": "stream",
          "name": "stdout",
          "text": [
            "0.5674621\n",
            "project scope project deliverables parts Activities\n",
            "entity number 3\n",
            "0.5449085\n",
            "effort\n",
            "entity number 4\n",
            "0.8496127\n",
            "outputs activities deliverables\n",
            "entity number 5\n"
          ]
        },
        {
          "output_type": "stream",
          "name": "stderr",
          "text": [
            "\n",
            " 60%|██████    | 6/10 [00:00<00:00, 26.17it/s]\u001b[A"
          ]
        },
        {
          "output_type": "stream",
          "name": "stdout",
          "text": [
            "0.7689452\n",
            "outputs activities deliverables\n",
            "entity number 6\n",
            "0.86038196\n",
            "basis development activity list work package\n",
            "entity number 7\n",
            "0.63539445\n",
            "basis development activity list work package\n",
            "entity number 8\n"
          ]
        },
        {
          "output_type": "stream",
          "name": "stderr",
          "text": [
            "\n",
            "100%|██████████| 10/10 [00:00<00:00, 28.67it/s]\u001b[A"
          ]
        },
        {
          "output_type": "stream",
          "name": "stdout",
          "text": [
            "0.6739346\n",
            "activities\n",
            "entity number 9\n",
            "0.5244602\n",
            "work package\n"
          ]
        },
        {
          "output_type": "stream",
          "name": "stderr",
          "text": [
            "100%|██████████| 10/10 [00:00<00:00, 27.36it/s]\n",
            " 41%|████      | 88/216 [00:26<00:36,  3.51it/s]"
          ]
        },
        {
          "output_type": "stream",
          "name": "stdout",
          "text": [
            "this is the size of the synonyms list 88\n",
            "this is the size of the concept_range list 88\n",
            "row number 88\n"
          ]
        },
        {
          "output_type": "stream",
          "name": "stderr",
          "text": [
            "\n",
            "  0%|          | 0/15 [00:00<?, ?it/s]\u001b[A"
          ]
        },
        {
          "output_type": "stream",
          "name": "stdout",
          "text": [
            "entity number 0\n",
            "0.6580325\n",
            "wave planning\n",
            "entity number 1\n",
            "0.6047946\n",
            "planning technique work\n",
            "entity number 2\n"
          ]
        },
        {
          "output_type": "stream",
          "name": "stderr",
          "text": [
            "\n",
            " 20%|██        | 3/15 [00:00<00:00, 26.01it/s]\u001b[A"
          ]
        },
        {
          "output_type": "stream",
          "name": "stdout",
          "text": [
            "0.54700816\n",
            "term\n",
            "entity number 3\n",
            "0.40246043\n",
            "detail work future\n",
            "entity number 4\n",
            "0.70160246\n",
            "level\n",
            "entity number 5\n"
          ]
        },
        {
          "output_type": "stream",
          "name": "stderr",
          "text": [
            "\n",
            " 40%|████      | 6/15 [00:00<00:00, 27.19it/s]\u001b[A"
          ]
        },
        {
          "output_type": "stream",
          "name": "stdout",
          "text": [
            "0.7359421\n",
            "form elaboration\n",
            "entity number 6\n",
            "0.77724284\n",
            "packages\n",
            "entity number 7\n",
            "0.39990073\n",
            "packages release planning\n",
            "entity number 8\n"
          ]
        },
        {
          "output_type": "stream",
          "name": "stderr",
          "text": [
            "\n",
            " 67%|██████▋   | 10/15 [00:00<00:00, 29.45it/s]\u001b[A"
          ]
        },
        {
          "output_type": "stream",
          "name": "stdout",
          "text": [
            "0.5746523\n",
            "agile\n",
            "entity number 9\n",
            "0.8244505\n",
            "levels detail\n",
            "entity number 10\n",
            "0.6224543\n",
            "levels detail\n",
            "entity number 11\n",
            "0.42654622\n",
            "project life cycle planning information\n",
            "entity number 12\n",
            "0.5547329\n",
            "les\n",
            "entity number 13\n"
          ]
        },
        {
          "output_type": "stream",
          "name": "stderr",
          "text": [
            "\n",
            "100%|██████████| 15/15 [00:00<00:00, 28.67it/s]\n",
            " 41%|████      | 89/216 [00:27<00:43,  2.95it/s]"
          ]
        },
        {
          "output_type": "stream",
          "name": "stdout",
          "text": [
            "0.47589535\n",
            "work packages\n",
            "entity number 14\n",
            "0.500557\n",
            "level detail\n",
            "this is the size of the synonyms list 89\n",
            "this is the size of the concept_range list 89\n",
            "row number 89\n"
          ]
        },
        {
          "output_type": "stream",
          "name": "stderr",
          "text": [
            "\n",
            "  0%|          | 0/4 [00:00<?, ?it/s]\u001b[A"
          ]
        },
        {
          "output_type": "stream",
          "name": "stdout",
          "text": [
            "entity number 0\n",
            "0.53508246\n",
            "Meetings\n",
            "entity number 1\n",
            "0.53508246\n",
            "face\n",
            "entity number 2\n",
            "0.524482\n",
            "Meetings\n",
            "entity number 3\n"
          ]
        },
        {
          "output_type": "stream",
          "name": "stderr",
          "text": [
            "\n"
          ]
        },
        {
          "output_type": "stream",
          "name": "stdout",
          "text": [
            "0.61216056\n",
            "team members matter experts\n"
          ]
        },
        {
          "output_type": "stream",
          "name": "stderr",
          "text": [
            "100%|██████████| 4/4 [00:00<00:00, 27.76it/s]\n",
            " 42%|████▏     | 90/216 [00:27<00:37,  3.35it/s]"
          ]
        },
        {
          "output_type": "stream",
          "name": "stdout",
          "text": [
            "this is the size of the synonyms list 90\n",
            "this is the size of the concept_range list 90\n",
            "row number 90\n"
          ]
        },
        {
          "output_type": "stream",
          "name": "stderr",
          "text": [
            "\n",
            "  0%|          | 0/8 [00:00<?, ?it/s]\u001b[A"
          ]
        },
        {
          "output_type": "stream",
          "name": "stdout",
          "text": [
            "entity number 0\n",
            "0.84928477\n",
            "schedule activities\n",
            "entity number 1\n"
          ]
        },
        {
          "output_type": "stream",
          "name": "stderr",
          "text": [
            "\n",
            " 38%|███▊      | 3/8 [00:00<00:00, 26.91it/s]\u001b[A"
          ]
        },
        {
          "output_type": "stream",
          "name": "stdout",
          "text": [
            "0.80230284\n",
            "project projects\n",
            "entity number 2\n",
            "0.612579\n",
            "project projects\n",
            "entity number 3\n",
            "0.5370034\n",
            "wave planning agile techniques activity list\n",
            "entity number 4\n",
            "0.8313962\n",
            "activity list\n",
            "entity number 5\n",
            "0.79262817\n",
            "activity list\n",
            "entity number 6\n"
          ]
        },
        {
          "output_type": "stream",
          "name": "stderr",
          "text": [
            "\n",
            " 88%|████████▊ | 7/8 [00:00<00:00, 29.79it/s]\u001b[A"
          ]
        },
        {
          "output_type": "stream",
          "name": "stdout",
          "text": [
            "0.7678364\n",
            "activity identifier scope work description activity detail\n",
            "entity number 7\n"
          ]
        },
        {
          "output_type": "stream",
          "name": "stderr",
          "text": [
            "\r100%|██████████| 8/8 [00:00<00:00, 28.04it/s]"
          ]
        },
        {
          "output_type": "stream",
          "name": "stdout",
          "text": [
            "0.7162717\n",
            "project team members\n"
          ]
        },
        {
          "output_type": "stream",
          "name": "stderr",
          "text": [
            "\n",
            "\r 42%|████▏     | 91/216 [00:27<00:37,  3.36it/s]"
          ]
        },
        {
          "output_type": "stream",
          "name": "stdout",
          "text": [
            "this is the size of the synonyms list 91\n",
            "this is the size of the concept_range list 91\n",
            "row number 91\n"
          ]
        },
        {
          "output_type": "stream",
          "name": "stderr",
          "text": [
            "\n",
            "  0%|          | 0/14 [00:00<?, ?it/s]\u001b[A"
          ]
        },
        {
          "output_type": "stream",
          "name": "stdout",
          "text": [
            "entity number 0\n",
            "0.83390373\n",
            "description activity\n",
            "entity number 1\n"
          ]
        },
        {
          "output_type": "stream",
          "name": "stderr",
          "text": [
            "\n",
            " 21%|██▏       | 3/14 [00:00<00:00, 28.40it/s]"
          ]
        },
        {
          "output_type": "stream",
          "name": "stdout",
          "text": [
            "0.68623924\n",
            "description activity\n",
            "entity number 2\n",
            "0.822487\n",
            "activity commons activity\n"
          ]
        },
        {
          "output_type": "stream",
          "name": "stderr",
          "text": [
            "\u001b[A"
          ]
        },
        {
          "output_type": "stream",
          "name": "stdout",
          "text": [
            "entity number 3\n",
            "0.5578999\n",
            "activity commons activity\n",
            "entity number 4\n",
            "0.6251924\n",
            "time stages project\n",
            "entity number 5\n"
          ]
        },
        {
          "output_type": "stream",
          "name": "stderr",
          "text": [
            "\n",
            " 43%|████▎     | 6/14 [00:00<00:00, 28.54it/s]\u001b[A"
          ]
        },
        {
          "output_type": "stream",
          "name": "stdout",
          "text": [
            "0.7394397\n",
            "activity identifier activity label name\n",
            "entity number 6\n",
            "0.70377123\n",
            "activity descriptions predecessor activities successor activities relationships leads Section resource Requirements\n",
            "entity number 7\n",
            "0.59793365\n",
            "dates constraints assumptions Activity\n",
            "entity number 8\n",
            "0.74328434\n",
            "place work\n",
            "entity number 9\n"
          ]
        },
        {
          "output_type": "stream",
          "name": "stderr",
          "text": [
            "\n",
            " 71%|███████▏  | 10/14 [00:00<00:00, 30.20it/s]\u001b[A"
          ]
        },
        {
          "output_type": "stream",
          "name": "stdout",
          "text": [
            "0.73985916\n",
            "project\n",
            "entity number 10\n",
            "0.742041\n",
            "activity\n",
            "entity number 11\n",
            "0.8002093\n",
            "Activity attributes\n",
            "entity number 12\n"
          ]
        },
        {
          "output_type": "stream",
          "name": "stderr",
          "text": [
            "\n",
            "100%|██████████| 14/14 [00:00<00:00, 29.38it/s]\n",
            " 43%|████▎     | 92/216 [00:27<00:43,  2.88it/s]"
          ]
        },
        {
          "output_type": "stream",
          "name": "stdout",
          "text": [
            "0.7147867\n",
            "Activity attributes\n",
            "entity number 13\n",
            "0.74410665\n",
            "schedule development\n",
            "this is the size of the synonyms list 92\n",
            "this is the size of the concept_range list 92\n",
            "row number 92\n"
          ]
        },
        {
          "output_type": "stream",
          "name": "stderr",
          "text": [
            "\n",
            "  0%|          | 0/5 [00:00<?, ?it/s]\u001b[A"
          ]
        },
        {
          "output_type": "stream",
          "name": "stdout",
          "text": [
            "entity number 0\n",
            "0.7356405\n",
            "milestone\n",
            "entity number 1\n",
            "0.7356405\n",
            "point event project A milestone list identifies project milestones\n",
            "entity number 2\n"
          ]
        },
        {
          "output_type": "stream",
          "name": "stderr",
          "text": [
            "\n",
            " 60%|██████    | 3/5 [00:00<00:00, 24.32it/s]\u001b[A"
          ]
        },
        {
          "output_type": "stream",
          "name": "stdout",
          "text": [
            "0.71998966\n",
            "milestone\n",
            "entity number 3\n"
          ]
        },
        {
          "output_type": "stream",
          "name": "stderr",
          "text": [
            "100%|██████████| 5/5 [00:00<00:00, 25.43it/s]\n",
            " 43%|████▎     | 93/216 [00:28<00:38,  3.23it/s]"
          ]
        },
        {
          "output_type": "stream",
          "name": "stdout",
          "text": [
            "0.649487\n",
            "contract\n",
            "entity number 4\n",
            "0.68949884\n",
            "information Milestones\n",
            "this is the size of the synonyms list 93\n",
            "this is the size of the concept_range list 93\n",
            "row number 93\n"
          ]
        },
        {
          "output_type": "stream",
          "name": "stderr",
          "text": [
            "\n",
            "  0%|          | 0/4 [00:00<?, ?it/s]\u001b[A"
          ]
        },
        {
          "output_type": "stream",
          "name": "stdout",
          "text": [
            "entity number 0\n",
            "0.8053097\n",
            "elaboration deliverables activities\n",
            "entity number 1\n"
          ]
        },
        {
          "output_type": "stream",
          "name": "stderr",
          "text": [
            "\n"
          ]
        },
        {
          "output_type": "stream",
          "name": "stdout",
          "text": [
            "0.7256379\n",
            "elaboration deliverables activities\n",
            "entity number 2\n",
            "0.68462586\n",
            "work\n"
          ]
        },
        {
          "output_type": "stream",
          "name": "stderr",
          "text": [
            "100%|██████████| 4/4 [00:00<00:00, 26.75it/s]"
          ]
        },
        {
          "output_type": "stream",
          "name": "stdout",
          "text": [
            "entity number 3\n",
            "0.54926455\n",
            "part project baseline\n"
          ]
        },
        {
          "output_type": "stream",
          "name": "stderr",
          "text": [
            "\n",
            "\r 44%|████▎     | 94/216 [00:28<00:32,  3.71it/s]"
          ]
        },
        {
          "output_type": "stream",
          "name": "stdout",
          "text": [
            "this is the size of the synonyms list 94\n",
            "this is the size of the concept_range list 94\n",
            "row number 94\n"
          ]
        },
        {
          "output_type": "stream",
          "name": "stderr",
          "text": [
            "\n",
            "  0%|          | 0/9 [00:00<?, ?it/s]\u001b[A"
          ]
        },
        {
          "output_type": "stream",
          "name": "stdout",
          "text": [
            "entity number 0\n",
            "0.8970264\n",
            "organization change control process change request Components\n",
            "entity number 1\n",
            "0.9287173\n",
            "change request project management plan\n",
            "entity number 2\n"
          ]
        },
        {
          "output_type": "stream",
          "name": "stderr",
          "text": [
            "\n",
            " 33%|███▎      | 3/9 [00:00<00:00, 26.85it/s]\u001b[A"
          ]
        },
        {
          "output_type": "stream",
          "name": "stdout",
          "text": [
            "0.7456875\n",
            "change request project management plan\n",
            "entity number 3\n",
            "0.728245\n",
            "Schedule baseline project work packages\n",
            "entity number 4\n",
            "0.7961894\n",
            "activities process\n",
            "entity number 5\n"
          ]
        },
        {
          "output_type": "stream",
          "name": "stderr",
          "text": [
            "\n",
            " 67%|██████▋   | 6/9 [00:00<00:00, 26.86it/s]\u001b[A"
          ]
        },
        {
          "output_type": "stream",
          "name": "stdout",
          "text": [
            "0.6740526\n",
            "work\n",
            "entity number 6\n",
            "0.7194143\n",
            "part schedule baseline\n",
            "entity number 7\n",
            "0.8135076\n",
            "part schedule baseline Cost baseline Changes cost baseline\n",
            "entity number 8\n"
          ]
        },
        {
          "output_type": "stream",
          "name": "stderr",
          "text": [
            "\n",
            "100%|██████████| 9/9 [00:00<00:00, 26.49it/s]\n",
            " 44%|████▍     | 95/216 [00:28<00:35,  3.39it/s]"
          ]
        },
        {
          "output_type": "stream",
          "name": "stdout",
          "text": [
            "0.6487051\n",
            "part schedule baseline Cost baseline Changes cost baseline\n",
            "this is the size of the synonyms list 95\n",
            "this is the size of the concept_range list 95\n",
            "row number 95\n"
          ]
        },
        {
          "output_type": "stream",
          "name": "stderr",
          "text": [
            "\n",
            "  0%|          | 0/6 [00:00<?, ?it/s]\u001b[A"
          ]
        },
        {
          "output_type": "stream",
          "name": "stdout",
          "text": [
            "entity number 0\n",
            "0.796072\n",
            "Sequence Activities\n",
            "entity number 1\n"
          ]
        },
        {
          "output_type": "stream",
          "name": "stderr",
          "text": [
            "\n",
            " 50%|█████     | 3/6 [00:00<00:00, 27.49it/s]\u001b[A"
          ]
        },
        {
          "output_type": "stream",
          "name": "stdout",
          "text": [
            "0.5594399\n",
            "process\n",
            "entity number 2\n",
            "0.5396377\n",
            "relationships project activities benefit process\n",
            "entity number 3\n",
            "0.517113\n",
            "sequence work\n",
            "entity number 4\n"
          ]
        },
        {
          "output_type": "stream",
          "name": "stderr",
          "text": [
            "100%|██████████| 6/6 [00:00<00:00, 29.34it/s]\n",
            " 44%|████▍     | 96/216 [00:28<00:32,  3.67it/s]"
          ]
        },
        {
          "output_type": "stream",
          "name": "stdout",
          "text": [
            "0.57823\n",
            "efficiency\n",
            "entity number 5\n",
            "0.9164057\n",
            "process\n",
            "this is the size of the synonyms list 96\n",
            "this is the size of the concept_range list 96\n",
            "row number 96\n"
          ]
        },
        {
          "output_type": "stream",
          "name": "stderr",
          "text": [
            "\n",
            "  0%|          | 0/6 [00:00<?, ?it/s]\u001b[A"
          ]
        },
        {
          "output_type": "stream",
          "name": "stdout",
          "text": [
            "entity number 0\n",
            "0.7302767\n",
            "Project management plan commons\n",
            "entity number 1"
          ]
        },
        {
          "output_type": "stream",
          "name": "stderr",
          "text": [
            "\n",
            " 50%|█████     | 3/6 [00:00<00:00, 23.93it/s]"
          ]
        },
        {
          "output_type": "stream",
          "name": "stdout",
          "text": [
            "\n",
            "0.6788305\n",
            "Schedule management plan schedule management plan\n",
            "entity number 2\n",
            "0.6994184\n",
            "method\n"
          ]
        },
        {
          "output_type": "stream",
          "name": "stderr",
          "text": [
            "\u001b[A"
          ]
        },
        {
          "output_type": "stream",
          "name": "stdout",
          "text": [
            "entity number 3\n",
            "0.69593513\n",
            "level accuracy criteria\n",
            "entity number 4\n",
            "0.71359956\n",
            "activities Scope\n",
            "entity number 5\n"
          ]
        },
        {
          "output_type": "stream",
          "name": "stderr",
          "text": [
            "\n",
            "100%|██████████| 6/6 [00:00<00:00, 23.96it/s]\n",
            " 45%|████▍     | 97/216 [00:29<00:32,  3.69it/s]"
          ]
        },
        {
          "output_type": "stream",
          "name": "stdout",
          "text": [
            "0.6227789\n",
            "project deliverables constraints assumptions\n",
            "this is the size of the synonyms list 97\n",
            "this is the size of the concept_range list 97\n",
            "row number 97\n"
          ]
        },
        {
          "output_type": "stream",
          "name": "stderr",
          "text": [
            "\n",
            "  0%|          | 0/18 [00:00<?, ?it/s]\u001b[A"
          ]
        },
        {
          "output_type": "stream",
          "name": "stdout",
          "text": [
            "entity number 0\n",
            "0.75378215\n",
            "Project Document\n",
            "entity number 1\n",
            "0.70956945\n",
            "inputs process\n",
            "entity number 2\n"
          ]
        },
        {
          "output_type": "stream",
          "name": "stderr",
          "text": [
            "\n",
            " 17%|█▋        | 3/18 [00:00<00:00, 22.55it/s]\u001b[A"
          ]
        },
        {
          "output_type": "stream",
          "name": "stdout",
          "text": [
            "1.0\n",
            "Activity\n",
            "entity number 3\n",
            "0.67949355\n",
            "Activity\n",
            "entity number 4\n",
            "0.6132096\n",
            "sequence En\n",
            "entity number 5\n"
          ]
        },
        {
          "output_type": "stream",
          "name": "stderr",
          "text": [
            "\n",
            " 33%|███▎      | 6/18 [00:00<00:00, 25.84it/s]\u001b[A"
          ]
        },
        {
          "output_type": "stream",
          "name": "stdout",
          "text": [
            "0.59800994\n",
            "predecessor successor relationships\n",
            "entity number 6\n",
            "0.65144193\n",
            "lead lag relationships activities Activity\n",
            "entity number 7\n",
            "0.84928477\n",
            "schedule activities\n",
            "entity number 8\n"
          ]
        },
        {
          "output_type": "stream",
          "name": "stderr",
          "text": [
            "\n",
            " 50%|█████     | 9/18 [00:00<00:00, 26.13it/s]\u001b[A"
          ]
        },
        {
          "output_type": "stream",
          "name": "stdout",
          "text": [
            "0.77335244\n",
            "schedule activities\n",
            "entity number 9\n",
            "0.71461946\n",
            "project\n",
            "entity number 10\n",
            "0.79777\n",
            "Dependencies constraints activities\n",
            "entity number 11\n"
          ]
        },
        {
          "output_type": "stream",
          "name": "stderr",
          "text": [
            "\n",
            " 67%|██████▋   | 12/18 [00:00<00:00, 26.66it/s]\u001b[A"
          ]
        },
        {
          "output_type": "stream",
          "name": "stdout",
          "text": [
            "0.8133988\n",
            "assumption log\n",
            "entity number 12\n",
            "0.7099766\n",
            "assumption log\n",
            "entity number 13\n",
            "0.58319825\n",
            "way activities\n",
            "entity number 14\n"
          ]
        },
        {
          "output_type": "stream",
          "name": "stderr",
          "text": [
            "\n",
            " 83%|████████▎ | 15/18 [00:00<00:00, 27.61it/s]\u001b[A"
          ]
        },
        {
          "output_type": "stream",
          "name": "stdout",
          "text": [
            "0.56466436\n",
            "relationship activities need leads tags\n",
            "entity number 15\n"
          ]
        },
        {
          "output_type": "stream",
          "name": "stderr",
          "text": [
            "100%|██████████| 18/18 [00:00<00:00, 27.34it/s]\n",
            " 45%|████▌     | 98/216 [00:29<00:45,  2.57it/s]"
          ]
        },
        {
          "output_type": "stream",
          "name": "stdout",
          "text": [
            "0.6973914\n",
            "rise project risks\n",
            "entity number 16\n",
            "0.7860391\n",
            "project schedule Milestone list milestone list\n",
            "entity number 17\n",
            "0.65646255\n",
            "dates milestones\n",
            "this is the size of the synonyms list 98\n",
            "this is the size of the concept_range list 98\n",
            "row number 98\n"
          ]
        },
        {
          "output_type": "stream",
          "name": "stderr",
          "text": [
            "\n",
            "  0%|          | 0/1 [00:00<?, ?it/s]\u001b[A"
          ]
        },
        {
          "output_type": "stream",
          "name": "stdout",
          "text": [
            "entity number 0\n"
          ]
        },
        {
          "output_type": "stream",
          "name": "stderr",
          "text": [
            "\r100%|██████████| 1/1 [00:00<00:00, 24.76it/s]\n"
          ]
        },
        {
          "output_type": "stream",
          "name": "stdout",
          "text": [
            "0.6756243\n",
            "enterprise factors\n",
            "this is the size of the synonyms list 99\n",
            "this is the size of the concept_range list 99\n",
            "row number 99\n"
          ]
        },
        {
          "output_type": "stream",
          "name": "stderr",
          "text": [
            "\n",
            "  0%|          | 0/12 [00:00<?, ?it/s]\u001b[A"
          ]
        },
        {
          "output_type": "stream",
          "name": "stdout",
          "text": [
            "entity number 0\n",
            "0.7493881\n",
            "process sets\n",
            "entity number 1\n"
          ]
        },
        {
          "output_type": "stream",
          "name": "stderr",
          "text": [
            "\n",
            " 25%|██▌       | 3/12 [00:00<00:00, 24.84it/s]\u001b[A"
          ]
        },
        {
          "output_type": "stream",
          "name": "stdout",
          "text": [
            "0.69318736\n",
            "Sequence Activities process include\n",
            "entity number 2\n",
            "0.837574\n",
            "activity planning policies procedures guidelines\n",
            "entity number 3\n",
            "0.7281014\n",
            "activity planning policies procedures guidelines\n",
            "entity number 4\n",
            "0.60478127\n",
            "methodology\n",
            "entity number 5\n"
          ]
        },
        {
          "output_type": "stream",
          "name": "stderr",
          "text": [
            "\n",
            " 50%|█████     | 6/12 [00:00<00:00, 25.82it/s]\u001b[A"
          ]
        },
        {
          "output_type": "stream",
          "name": "stdout",
          "text": [
            "0.5927465\n",
            "relationships\n",
            "entity number 6\n",
            "0.6848189\n",
            "preparation networks project activities\n",
            "entity number 7\n"
          ]
        },
        {
          "output_type": "stream",
          "name": "stderr",
          "text": [
            "\n",
            " 75%|███████▌  | 9/12 [00:00<00:00, 26.59it/s]\u001b[A"
          ]
        },
        {
          "output_type": "stream",
          "name": "stdout",
          "text": [
            "0.6328666\n",
            "activity\n",
            "entity number 8\n",
            "0.8354217\n",
            "information\n",
            "entity number 9\n",
            "0.64292514\n",
            "information\n",
            "entity number 10\n",
            "0.56171286\n",
            "activities Lessons\n",
            "entity number 11\n"
          ]
        },
        {
          "output_type": "stream",
          "name": "stderr",
          "text": [
            "100%|██████████| 12/12 [00:00<00:00, 27.45it/s]\n",
            " 46%|████▋     | 100/216 [00:30<00:37,  3.07it/s]"
          ]
        },
        {
          "output_type": "stream",
          "name": "stdout",
          "text": [
            "0.82481855\n",
            "information\n",
            "this is the size of the synonyms list 100\n",
            "this is the size of the concept_range list 100\n",
            "row number 100\n"
          ]
        },
        {
          "output_type": "stream",
          "name": "stderr",
          "text": [
            "\n",
            "  0%|          | 0/43 [00:00<?, ?it/s]\u001b[A"
          ]
        },
        {
          "output_type": "stream",
          "name": "stdout",
          "text": [
            "entity number 0\n",
            "0.7525698\n",
            "precedence\n",
            "entity number 1\n"
          ]
        },
        {
          "output_type": "stream",
          "name": "stderr",
          "text": [
            "\n",
            "  7%|▋         | 3/43 [00:00<00:01, 27.91it/s]\u001b[A"
          ]
        },
        {
          "output_type": "stream",
          "name": "stdout",
          "text": [
            "0.79671717\n",
            "method De\n",
            "entity number 2\n",
            "0.67566526\n",
            "technique\n",
            "entity number 3\n",
            "0.71520877\n",
            "schedule model activities\n",
            "entity number 4\n",
            "0.62323165\n",
            "nodes\n",
            "entity number 5\n"
          ]
        },
        {
          "output_type": "stream",
          "name": "stderr",
          "text": [
            "\n",
            " 14%|█▍        | 6/43 [00:00<00:01, 27.46it/s]\u001b[A"
          ]
        },
        {
          "output_type": "stream",
          "name": "stdout",
          "text": [
            "0.58257294\n",
            "relationships\n",
            "entity number 6\n",
            "0.6504366\n",
            "sequence activities\n",
            "entity number 7\n"
          ]
        },
        {
          "output_type": "stream",
          "name": "stderr",
          "text": [
            "\n",
            " 21%|██        | 9/43 [00:00<00:01, 27.44it/s]\u001b[A"
          ]
        },
        {
          "output_type": "stream",
          "name": "stdout",
          "text": [
            "0.58173025\n",
            "De\n",
            "entity number 8\n",
            "0.563328\n",
            "types dependencies relationships predecessor activity\n",
            "entity number 9\n",
            "0.56987435\n",
            "activity\n",
            "entity number 10\n",
            "0.56987435\n",
            "activity schedule A successor activity\n",
            "entity number 11\n"
          ]
        },
        {
          "output_type": "stream",
          "name": "stderr",
          "text": [
            "\n",
            " 28%|██▊       | 12/43 [00:00<00:01, 26.35it/s]\u001b[A"
          ]
        },
        {
          "output_type": "stream",
          "name": "stdout",
          "text": [
            "0.7074542\n",
            "activity\n",
            "entity number 12\n",
            "0.5776337\n",
            "activity schedule relationships\n",
            "entity number 13\n"
          ]
        },
        {
          "output_type": "stream",
          "name": "stderr",
          "text": [
            "\n",
            " 37%|███▋      | 16/43 [00:00<00:00, 28.72it/s]\u001b[A"
          ]
        },
        {
          "output_type": "stream",
          "name": "stdout",
          "text": [
            "0.62404656\n",
            "Figure Finish\n",
            "entity number 14\n",
            "0.7996347\n",
            "F A relationship successor activity\n",
            "entity number 15\n",
            "0.7093515\n",
            "predecessor activity\n",
            "entity number 16\n",
            "0.5330342\n",
            "example\n",
            "entity number 17\n"
          ]
        },
        {
          "output_type": "stream",
          "name": "stderr",
          "text": [
            "\n",
            " 44%|████▍     | 19/43 [00:00<00:00, 28.05it/s]\u001b[A"
          ]
        },
        {
          "output_type": "stream",
          "name": "stdout",
          "text": [
            "0.8382541\n",
            "X hardware\n",
            "entity number 18\n",
            "0.5287021\n",
            "X hardware\n",
            "entity number 19\n"
          ]
        },
        {
          "output_type": "stream",
          "name": "stderr",
          "text": [
            "\n",
            " 51%|█████     | 22/43 [00:00<00:00, 28.27it/s]\u001b[A"
          ]
        },
        {
          "output_type": "stream",
          "name": "stdout",
          "text": [
            "0.7996347\n",
            "F A relationship successor activity\n",
            "entity number 20\n",
            "0.7093515\n",
            "predecessor activity\n",
            "entity number 21\n",
            "0.71240175\n",
            "example\n",
            "entity number 22\n",
            "0.8920153\n",
            "document successor\n",
            "entity number 23\n"
          ]
        },
        {
          "output_type": "stream",
          "name": "stderr",
          "text": [
            "\n",
            " 58%|█████▊    | 25/43 [00:00<00:00, 28.26it/s]\u001b[A"
          ]
        },
        {
          "output_type": "stream",
          "name": "stdout",
          "text": [
            "0.68722343\n",
            "document successor\n",
            "entity number 24\n",
            "0.59061396\n",
            "Start\n",
            "entity number 25\n",
            "0.8168782\n",
            "predecessor activity\n",
            "entity number 26\n"
          ]
        },
        {
          "output_type": "stream",
          "name": "stderr",
          "text": [
            "\n",
            " 67%|██████▋   | 29/43 [00:01<00:00, 29.92it/s]\u001b[A"
          ]
        },
        {
          "output_type": "stream",
          "name": "stdout",
          "text": [
            "0.58501387\n",
            "predecessor activity\n",
            "entity number 27\n",
            "0.5751386\n",
            "example level concrete successor\n",
            "entity number 28\n",
            "0.6586988\n",
            "foundation predecessor\n",
            "entity number 29\n"
          ]
        },
        {
          "output_type": "stream",
          "name": "stderr",
          "text": [
            "\n",
            " 74%|███████▍  | 32/43 [00:01<00:00, 29.46it/s]\u001b[A"
          ]
        },
        {
          "output_type": "stream",
          "name": "stdout",
          "text": [
            "0.59061396\n",
            "Start\n",
            "entity number 30\n",
            "0.8168782\n",
            "predecessor activity\n",
            "entity number 31\n",
            "0.8472961\n",
            "example accounts system successor\n",
            "entity number 32\n",
            "0.6731781\n",
            "example accounts system successor\n",
            "entity number 33\n"
          ]
        },
        {
          "output_type": "stream",
          "name": "stderr",
          "text": [
            "\n",
            " 84%|████████▎ | 36/43 [00:01<00:00, 30.35it/s]\u001b[A"
          ]
        },
        {
          "output_type": "stream",
          "name": "stdout",
          "text": [
            "0.5332155\n",
            "accounts system\n",
            "entity number 34\n",
            "0.7458781\n",
            "predecessor De F\n",
            "entity number 35\n",
            "0.82404757\n",
            "list De relationship types activities\n",
            "entity number 36\n"
          ]
        },
        {
          "output_type": "stream",
          "name": "stderr",
          "text": [
            "\n",
            " 93%|█████████▎| 40/43 [00:01<00:00, 30.57it/s]\u001b[A"
          ]
        },
        {
          "output_type": "stream",
          "name": "stdout",
          "text": [
            "0.77223456\n",
            "list De relationship types activities\n",
            "entity number 37\n",
            "0.6542921\n",
            "relationships time example S F Multiple relationships activities\n",
            "entity number 38\n",
            "0.65349555\n",
            "decision\n",
            "entity number 39\n",
            "0.56667054\n",
            "relationship impact\n",
            "entity number 40\n"
          ]
        },
        {
          "output_type": "stream",
          "name": "stderr",
          "text": [
            "100%|██████████| 43/43 [00:01<00:00, 29.18it/s]\n",
            " 47%|████▋     | 101/216 [00:31<01:10,  1.64it/s]"
          ]
        },
        {
          "output_type": "stream",
          "name": "stdout",
          "text": [
            "0.5892267\n",
            "loops\n",
            "entity number 41\n",
            "0.3342194\n",
            "relationships\n",
            "entity number 42\n",
            "0.9448799\n",
            "F Activity B Activity B Start\n",
            "this is the size of the synonyms list 101\n",
            "this is the size of the concept_range list 101\n",
            "row number 101\n"
          ]
        },
        {
          "output_type": "stream",
          "name": "stderr",
          "text": [
            "\n",
            "  0%|          | 0/45 [00:00<?, ?it/s]\u001b[A"
          ]
        },
        {
          "output_type": "stream",
          "name": "stdout",
          "text": [
            "entity number 0\n"
          ]
        },
        {
          "output_type": "stream",
          "name": "stderr",
          "text": [
            "\n",
            "  9%|▉         | 4/45 [00:00<00:01, 31.48it/s]"
          ]
        },
        {
          "output_type": "stream",
          "name": "stdout",
          "text": [
            "0.77239573\n",
            "Dependencies\n",
            "entity number 1\n",
            "0.65650904\n",
            "Dependency\n",
            "entity number 2\n",
            "0.60244095\n",
            "attributes\n",
            "entity number 3\n",
            "0.54226553\n",
            "time ways dependencies dependencies dependencies dependencies Mandatory dependencies Mandatory dependencies\n"
          ]
        },
        {
          "output_type": "stream",
          "name": "stderr",
          "text": [
            "\u001b[A"
          ]
        },
        {
          "output_type": "stream",
          "name": "stdout",
          "text": [
            "entity number 4\n",
            "0.5103219\n",
            "nature work Mandatory dependencies\n",
            "entity number 5\n",
            "0.69641596\n",
            "limitations construction project\n",
            "entity number 6\n",
            "0.51607394\n",
            "superstructure foundation\n",
            "entity number 7\n"
          ]
        },
        {
          "output_type": "stream",
          "name": "stderr",
          "text": [
            "\n",
            " 18%|█▊        | 8/45 [00:00<00:01, 29.73it/s]\u001b[A"
          ]
        },
        {
          "output_type": "stream",
          "name": "stdout",
          "text": [
            "0.457451\n",
            "electronics project prototype\n",
            "entity number 8\n",
            "0.6806638\n",
            "dependencies\n",
            "entity number 9\n",
            "0.67178404\n",
            "logic dependencies Technical dependencies\n",
            "entity number 10\n"
          ]
        },
        {
          "output_type": "stream",
          "name": "stderr",
          "text": [
            "\n",
            " 24%|██▍       | 11/45 [00:00<00:01, 29.48it/s]\u001b[A"
          ]
        },
        {
          "output_type": "stream",
          "name": "stdout",
          "text": [
            "0.6017554\n",
            "project team determines dependencies\n",
            "entity number 11\n",
            "0.7347797\n",
            "process\n",
            "entity number 12\n",
            "0.7869026\n",
            "activities Mandatory dependencies\n",
            "entity number 13\n"
          ]
        },
        {
          "output_type": "stream",
          "name": "stderr",
          "text": [
            "\n",
            " 31%|███       | 14/45 [00:00<00:01, 28.13it/s]\u001b[A"
          ]
        },
        {
          "output_type": "stream",
          "name": "stdout",
          "text": [
            "0.69727683\n",
            "schedule constraints scheduling tool Discretionary dependencies Discretionary dependencies\n",
            "entity number 14\n",
            "0.5897273\n",
            "logic Discretionary dependencies\n",
            "entity number 15\n",
            "0.7226305\n",
            "knowledge practices application area aspect project sequence\n",
            "entity number 16\n"
          ]
        },
        {
          "output_type": "stream",
          "name": "stderr",
          "text": [
            "\n",
            " 38%|███▊      | 17/45 [00:00<00:00, 28.35it/s]\u001b[A"
          ]
        },
        {
          "output_type": "stream",
          "name": "stdout",
          "text": [
            "0.7507968\n",
            "sequences example\n",
            "entity number 17\n",
            "0.5203164\n",
            "practices\n",
            "entity number 18\n",
            "0.61185604\n",
            "construction work\n",
            "entity number 19\n"
          ]
        },
        {
          "output_type": "stream",
          "name": "stderr",
          "text": [
            "\n",
            " 44%|████▍     | 20/45 [00:00<00:00, 27.72it/s]\u001b[A"
          ]
        },
        {
          "output_type": "stream",
          "name": "stdout",
          "text": [
            "0.44704774\n",
            "plumbing work order\n",
            "entity number 20\n",
            "0.7146355\n",
            "activities\n",
            "entity number 21\n",
            "0.76398194\n",
            "time\n",
            "entity number 22\n"
          ]
        },
        {
          "output_type": "stream",
          "name": "stderr",
          "text": [
            "\n",
            " 53%|█████▎    | 24/45 [00:00<00:00, 29.50it/s]\u001b[A"
          ]
        },
        {
          "output_type": "stream",
          "name": "stdout",
          "text": [
            "0.7472627\n",
            "activities order\n",
            "entity number 23\n",
            "0.65505826\n",
            "project risk Discretionary dependencies\n",
            "entity number 24\n",
            "0.70665956\n",
            "float values\n",
            "entity number 25\n",
            "0.83567286\n",
            "techniques\n",
            "entity number 26\n"
          ]
        },
        {
          "output_type": "stream",
          "name": "stderr",
          "text": [
            "\n",
            " 62%|██████▏   | 28/45 [00:00<00:00, 30.61it/s]\u001b[A"
          ]
        },
        {
          "output_type": "stream",
          "name": "stdout",
          "text": [
            "0.8149667\n",
            "dependencies\n",
            "entity number 27\n",
            "0.7629643\n",
            "dependencies\n",
            "entity number 28\n",
            "0.64628506\n",
            "modification\n",
            "entity number 29\n"
          ]
        },
        {
          "output_type": "stream",
          "name": "stderr",
          "text": [
            "\n",
            " 71%|███████   | 32/45 [00:01<00:00, 31.47it/s]\u001b[A"
          ]
        },
        {
          "output_type": "stream",
          "name": "stdout",
          "text": [
            "0.6017554\n",
            "project team determines dependencies\n",
            "entity number 30\n",
            "0.6577018\n",
            "process\n",
            "entity number 31\n",
            "0.7098758\n",
            "activities External dependencies External dependencies\n",
            "entity number 32\n",
            "0.5943549\n",
            "relationship project activities non project activities dependencies\n",
            "entity number 33\n"
          ]
        },
        {
          "output_type": "stream",
          "name": "stderr",
          "text": [
            "\n",
            " 80%|████████  | 36/45 [00:01<00:00, 30.22it/s]\u001b[A"
          ]
        },
        {
          "output_type": "stream",
          "name": "stdout",
          "text": [
            "0.67205083\n",
            "project team\n",
            "entity number 34\n",
            "0.6609521\n",
            "control example testing activity software project\n",
            "entity number 35\n",
            "0.6023538\n",
            "delivery hardware source hearings\n",
            "entity number 36\n",
            "0.77598196\n",
            "site preparation\n",
            "entity number 37\n",
            "0.50745827\n",
            "construction project project management team determines dependencies\n",
            "entity number 38\n",
            "0.74265563\n",
            "process\n",
            "entity number 39\n"
          ]
        },
        {
          "output_type": "stream",
          "name": "stderr",
          "text": [
            "\n",
            " 89%|████████▉ | 40/45 [00:01<00:00, 29.75it/s]\u001b[A"
          ]
        },
        {
          "output_type": "stream",
          "name": "stdout",
          "text": [
            "0.80285305\n",
            "precedence relationship project activities\n",
            "entity number 40\n",
            "0.81435347\n",
            "project team\n",
            "entity number 41\n",
            "0.7974305\n",
            "project team\n",
            "entity number 42\n"
          ]
        },
        {
          "output_type": "stream",
          "name": "stderr",
          "text": [
            "\n",
            "100%|██████████| 45/45 [00:01<00:00, 29.10it/s]\n",
            " 47%|████▋     | 102/216 [00:33<01:37,  1.16it/s]"
          ]
        },
        {
          "output_type": "stream",
          "name": "stdout",
          "text": [
            "0.72166103\n",
            "control example team\n",
            "entity number 43\n",
            "0.55444926\n",
            "machine\n",
            "entity number 44\n",
            "0.562904\n",
            "mandatory dependency project management team determines dependencies\n",
            "this is the size of the synonyms list 102\n",
            "this is the size of the concept_range list 102\n",
            "row number 102\n"
          ]
        },
        {
          "output_type": "stream",
          "name": "stderr",
          "text": [
            "\n",
            "  0%|          | 0/28 [00:00<?, ?it/s]\u001b[A"
          ]
        },
        {
          "output_type": "stream",
          "name": "stdout",
          "text": [
            "entity number 0\n",
            "0.64725816\n",
            "lead\n",
            "entity number 1\n",
            "0.7160139\n",
            "amount time successor activity\n",
            "entity number 2\n"
          ]
        },
        {
          "output_type": "stream",
          "name": "stderr",
          "text": [
            "\n",
            " 11%|█         | 3/28 [00:00<00:01, 22.00it/s]\u001b[A"
          ]
        },
        {
          "output_type": "stream",
          "name": "stdout",
          "text": [
            "0.5078089\n",
            "respect predecessor activity example project\n",
            "entity number 3\n",
            "0.4513834\n",
            "office\n",
            "entity number 4\n"
          ]
        },
        {
          "output_type": "stream",
          "name": "stderr",
          "text": [
            "\n",
            " 21%|██▏       | 6/28 [00:00<00:00, 25.67it/s]\u001b[A"
          ]
        },
        {
          "output_type": "stream",
          "name": "stdout",
          "text": [
            "0.33184314\n",
            "landscaping\n",
            "entity number 5\n",
            "0.49964043\n",
            "weeks\n",
            "entity number 6\n",
            "0.6965338\n",
            "punch list completion\n",
            "entity number 7\n",
            "0.555586\n",
            "finish\n",
            "entity number 8\n",
            "0.49582005\n",
            "week lead\n",
            "entity number 9\n"
          ]
        },
        {
          "output_type": "stream",
          "name": "stderr",
          "text": [
            "\n",
            " 36%|███▌      | 10/28 [00:00<00:00, 28.30it/s]\u001b[A"
          ]
        },
        {
          "output_type": "stream",
          "name": "stdout",
          "text": [
            "0.53154683\n",
            "Figure Lead\n",
            "entity number 10\n",
            "0.40299016\n",
            "value lag\n",
            "entity number 11\n",
            "0.40476874\n",
            "software Complete Write Punch List Draft F Weeks Lead S Days Lag Landscape Edit Building Lot Draft Figure Examples Lead Lag A lag\n",
            "entity number 12\n",
            "0.62293196\n",
            "amount time successor activity\n",
            "entity number 13\n"
          ]
        },
        {
          "output_type": "stream",
          "name": "stderr",
          "text": [
            "\n",
            " 50%|█████     | 14/28 [00:00<00:00, 29.36it/s]\u001b[A"
          ]
        },
        {
          "output_type": "stream",
          "name": "stdout",
          "text": [
            "0.6023131\n",
            "respect predecessor activity example writing team\n",
            "entity number 14\n",
            "0.6377327\n",
            "draft document days\n",
            "entity number 15\n",
            "0.401683\n",
            "start\n",
            "entity number 16\n"
          ]
        },
        {
          "output_type": "stream",
          "name": "stderr",
          "text": [
            "\n",
            " 64%|██████▍   | 18/28 [00:00<00:00, 30.10it/s]\u001b[A"
          ]
        },
        {
          "output_type": "stream",
          "name": "stdout",
          "text": [
            "0.7832295\n",
            "relationship day lag\n",
            "entity number 17\n",
            "0.3998537\n",
            "Figure Lag\n",
            "entity number 18\n",
            "0.6357773\n",
            "project schedule network diagrams\n",
            "entity number 19\n"
          ]
        },
        {
          "output_type": "stream",
          "name": "stderr",
          "text": [
            "\n",
            " 79%|███████▊  | 22/28 [00:00<00:00, 29.54it/s]\u001b[A"
          ]
        },
        {
          "output_type": "stream",
          "name": "stdout",
          "text": [
            "0.60241234\n",
            "Figure relationship activities H\n",
            "entity number 20\n",
            "0.6531813\n",
            "nomenclature S start\n",
            "entity number 21\n",
            "0.6983741\n",
            "days\n",
            "entity number 22\n"
          ]
        },
        {
          "output_type": "stream",
          "name": "stderr",
          "text": [
            "\n",
            " 89%|████████▉ | 25/28 [00:00<00:00, 29.62it/s]\u001b[A"
          ]
        },
        {
          "output_type": "stream",
          "name": "stdout",
          "text": [
            "0.63140666\n",
            "offset\n",
            "entity number 23\n",
            "0.6745378\n",
            "timescale project management team\n",
            "entity number 24\n",
            "0.6416935\n",
            "dependencies\n",
            "entity number 25\n"
          ]
        },
        {
          "output_type": "stream",
          "name": "stderr",
          "text": [
            "\n",
            "100%|██████████| 28/28 [00:00<00:00, 28.34it/s]\n",
            " 48%|████▊     | 103/216 [00:34<01:41,  1.11it/s]"
          ]
        },
        {
          "output_type": "stream",
          "name": "stdout",
          "text": [
            "0.42385644\n",
            "lead lag\n",
            "entity number 26\n",
            "0.5144691\n",
            "relationship use leads tags\n",
            "entity number 27\n",
            "0.70458686\n",
            "schedule logic duration estimates\n",
            "this is the size of the synonyms list 103\n",
            "this is the size of the concept_range list 103\n",
            "row number 103\n"
          ]
        },
        {
          "output_type": "stream",
          "name": "stderr",
          "text": [
            "\n",
            "  0%|          | 0/5 [00:00<?, ?it/s]\u001b[A"
          ]
        },
        {
          "output_type": "stream",
          "name": "stdout",
          "text": [
            "entity number 0\n"
          ]
        },
        {
          "output_type": "stream",
          "name": "stderr",
          "text": [
            "\n"
          ]
        },
        {
          "output_type": "stream",
          "name": "stdout",
          "text": [
            "0.6785533\n",
            "Project management information systems\n",
            "entity number 1\n",
            "0.74143064\n",
            "software\n",
            "entity number 2\n",
            "0.8414116\n",
            "plan\n"
          ]
        },
        {
          "output_type": "stream",
          "name": "stderr",
          "text": [
            "100%|██████████| 5/5 [00:00<00:00, 25.67it/s]\n",
            " 48%|████▊     | 104/216 [00:34<01:18,  1.42it/s]"
          ]
        },
        {
          "output_type": "stream",
          "name": "stdout",
          "text": [
            "entity number 3\n",
            "0.77736956\n",
            "plan\n",
            "entity number 4\n",
            "0.4563631\n",
            "sequence activities\n",
            "this is the size of the synonyms list 104\n",
            "this is the size of the concept_range list 104\n",
            "row number 104\n"
          ]
        },
        {
          "output_type": "stream",
          "name": "stderr",
          "text": [
            "\n",
            "  0%|          | 0/21 [00:00<?, ?it/s]\u001b[A"
          ]
        },
        {
          "output_type": "stream",
          "name": "stdout",
          "text": [
            "entity number 0\n"
          ]
        },
        {
          "output_type": "stream",
          "name": "stderr",
          "text": [
            "\n",
            " 14%|█▍        | 3/21 [00:00<00:00, 29.23it/s]\u001b[A"
          ]
        },
        {
          "output_type": "stream",
          "name": "stdout",
          "text": [
            "0.66089463\n",
            "project schedule network diagram\n",
            "entity number 1\n",
            "0.7474469\n",
            "representation relationships\n",
            "entity number 2\n",
            "0.91172373\n",
            "project schedule network\n",
            "entity number 3\n",
            "0.92922336\n",
            "A project schedule network diagram\n",
            "entity number 4\n",
            "0.7883633\n",
            "A project schedule network diagram\n",
            "entity number 5\n",
            "0.8255348\n",
            "project details\n",
            "entity number 6\n"
          ]
        },
        {
          "output_type": "stream",
          "name": "stderr",
          "text": [
            "\n",
            " 33%|███▎      | 7/21 [00:00<00:00, 30.11it/s]\u001b[A"
          ]
        },
        {
          "output_type": "stream",
          "name": "stdout",
          "text": [
            "0.7656678\n",
            "project details\n",
            "entity number 7\n",
            "0.7389775\n",
            "activities A narrative\n",
            "entity number 8\n",
            "0.766518\n",
            "diagram\n",
            "entity number 9\n",
            "0.69232875\n",
            "approach\n",
            "entity number 10\n"
          ]
        },
        {
          "output_type": "stream",
          "name": "stderr",
          "text": [
            "\n",
            " 52%|█████▏    | 11/21 [00:00<00:00, 30.69it/s]\u001b[A"
          ]
        },
        {
          "output_type": "stream",
          "name": "stdout",
          "text": [
            "0.72048336\n",
            "activities Any activity sequences network\n",
            "entity number 11\n",
            "0.68187416\n",
            "Activities\n",
            "entity number 12\n",
            "0.75027096\n",
            "predecessor activities\n",
            "entity number 13\n",
            "0.7163093\n",
            "path convergence Activities\n",
            "entity number 14\n"
          ]
        },
        {
          "output_type": "stream",
          "name": "stderr",
          "text": [
            "\n",
            " 71%|███████▏  | 15/21 [00:00<00:00, 29.92it/s]\u001b[A"
          ]
        },
        {
          "output_type": "stream",
          "name": "stdout",
          "text": [
            "0.6668781\n",
            "successor activities\n",
            "entity number 15\n",
            "0.62792593\n",
            "path divergence Activities divergence convergence\n",
            "entity number 16\n"
          ]
        },
        {
          "output_type": "stream",
          "name": "stderr",
          "text": [
            "\n",
            " 86%|████████▌ | 18/21 [00:00<00:00, 29.92it/s]\u001b[A"
          ]
        },
        {
          "output_type": "stream",
          "name": "stdout",
          "text": [
            "0.7171962\n",
            "risk\n",
            "entity number 17\n",
            "0.96747196\n",
            "activities Activity\n",
            "entity number 18\n",
            "0.6662985\n",
            "activities Activity\n",
            "entity number 19\n",
            "0.7127191\n",
            "path convergence\n",
            "entity number 20\n"
          ]
        },
        {
          "output_type": "stream",
          "name": "stderr",
          "text": [
            "\n",
            "100%|██████████| 21/21 [00:00<00:00, 29.33it/s]\n",
            " 49%|████▊     | 105/216 [00:35<01:18,  1.41it/s]"
          ]
        },
        {
          "output_type": "stream",
          "name": "stdout",
          "text": [
            "0.6974853\n",
            "predecessor activity K\n",
            "this is the size of the synonyms list 105\n",
            "this is the size of the concept_range list 105\n",
            "row number 105\n"
          ]
        },
        {
          "output_type": "stream",
          "name": "stderr",
          "text": [
            "\n",
            "  0%|          | 0/13 [00:00<?, ?it/s]\u001b[A"
          ]
        },
        {
          "output_type": "stream",
          "name": "stdout",
          "text": [
            "entity number 0\n",
            "0.6835313"
          ]
        },
        {
          "output_type": "stream",
          "name": "stderr",
          "text": [
            "\n",
            " 23%|██▎       | 3/13 [00:00<00:00, 23.66it/s]\u001b[A"
          ]
        },
        {
          "output_type": "stream",
          "name": "stdout",
          "text": [
            "\n",
            "Project Document\n",
            "entity number 1\n",
            "0.8931931\n",
            "process\n",
            "entity number 2\n",
            "0.749141\n",
            "process\n",
            "entity number 3\n",
            "1.0\n",
            "Activity\n",
            "entity number 4\n",
            "0.67949355\n",
            "Activity\n",
            "entity number 5\n"
          ]
        },
        {
          "output_type": "stream",
          "name": "stderr",
          "text": [
            "\n",
            " 46%|████▌     | 6/13 [00:00<00:00, 25.00it/s]\u001b[A"
          ]
        },
        {
          "output_type": "stream",
          "name": "stdout",
          "text": [
            "0.6132096\n",
            "sequence En\n",
            "entity number 6\n"
          ]
        },
        {
          "output_type": "stream",
          "name": "stderr",
          "text": [
            "\n",
            " 69%|██████▉   | 9/13 [00:00<00:00, 26.96it/s]\u001b[A"
          ]
        },
        {
          "output_type": "stream",
          "name": "stdout",
          "text": [
            "0.59800994\n",
            "predecessor successor relationships\n",
            "entity number 7\n",
            "0.65144193\n",
            "lead lag relationships activities Activity\n",
            "entity number 8\n",
            "0.6819461\n",
            "activity list\n",
            "entity number 9\n",
            "0.80359095\n",
            "assumption log\n",
            "entity number 10\n",
            "0.5709964\n",
            "assumption log\n",
            "entity number 11\n"
          ]
        },
        {
          "output_type": "stream",
          "name": "stderr",
          "text": [
            "\n",
            " 92%|█████████▏| 12/13 [00:00<00:00, 26.83it/s]\u001b[A"
          ]
        },
        {
          "output_type": "stream",
          "name": "stdout",
          "text": [
            "0.43539387\n",
            "sequencing relationship determination leads tags\n",
            "entity number 12\n"
          ]
        },
        {
          "output_type": "stream",
          "name": "stderr",
          "text": [
            "100%|██████████| 13/13 [00:00<00:00, 25.82it/s]\n",
            " 49%|████▉     | 106/216 [00:35<01:11,  1.53it/s]"
          ]
        },
        {
          "output_type": "stream",
          "name": "stdout",
          "text": [
            "0.6659281\n",
            "rise project risks\n",
            "this is the size of the synonyms list 106\n",
            "this is the size of the concept_range list 106\n",
            "row number 106\n"
          ]
        },
        {
          "output_type": "stream",
          "name": "stderr",
          "text": [
            "\n",
            "  0%|          | 0/6 [00:00<?, ?it/s]\u001b[A"
          ]
        },
        {
          "output_type": "stream",
          "name": "stdout",
          "text": [
            "entity number 0\n",
            "0.7045099\n",
            "Estimate Activity Duration\n",
            "entity number 1\n",
            "0.59985447\n",
            "process\n",
            "entity number 2\n"
          ]
        },
        {
          "output_type": "stream",
          "name": "stderr",
          "text": [
            "\n",
            " 50%|█████     | 3/6 [00:00<00:00, 29.90it/s]\u001b[A"
          ]
        },
        {
          "output_type": "stream",
          "name": "stdout",
          "text": [
            "0.6180478\n",
            "number work periods\n",
            "entity number 3\n",
            "0.7087139\n",
            "activities\n",
            "entity number 4\n",
            "0.66370237\n",
            "resources benefit process\n",
            "entity number 5\n"
          ]
        },
        {
          "output_type": "stream",
          "name": "stderr",
          "text": [
            "\n",
            "100%|██████████| 6/6 [00:00<00:00, 28.79it/s]"
          ]
        },
        {
          "output_type": "stream",
          "name": "stdout",
          "text": [
            "0.75636494\n",
            "amount time activity\n"
          ]
        },
        {
          "output_type": "stream",
          "name": "stderr",
          "text": [
            "\n",
            "\r 50%|████▉     | 107/216 [00:36<00:57,  1.89it/s]"
          ]
        },
        {
          "output_type": "stream",
          "name": "stdout",
          "text": [
            "this is the size of the synonyms list 107\n",
            "this is the size of the concept_range list 107\n",
            "row number 107\n"
          ]
        },
        {
          "output_type": "stream",
          "name": "stderr",
          "text": [
            "\n",
            "  0%|          | 0/6 [00:00<?, ?it/s]\u001b[A"
          ]
        },
        {
          "output_type": "stream",
          "name": "stdout",
          "text": [
            "entity number 0\n",
            "0.7302767\n",
            "Project management plan commons\n",
            "entity number 1\n",
            "0.6788305\n",
            "Schedule management plan schedule management plan\n",
            "entity number 2\n"
          ]
        },
        {
          "output_type": "stream",
          "name": "stderr",
          "text": [
            "\n",
            " 50%|█████     | 3/6 [00:00<00:00, 22.88it/s]\u001b[A"
          ]
        },
        {
          "output_type": "stream",
          "name": "stdout",
          "text": [
            "0.6994184\n",
            "method\n",
            "entity number 3\n",
            "0.67885184\n",
            "level accuracy criteria\n",
            "entity number 4\n"
          ]
        },
        {
          "output_type": "stream",
          "name": "stderr",
          "text": [
            "\n",
            "100%|██████████| 6/6 [00:00<00:00, 25.00it/s]\n",
            " 50%|█████     | 108/216 [00:36<00:48,  2.24it/s]"
          ]
        },
        {
          "output_type": "stream",
          "name": "stdout",
          "text": [
            "0.8138961\n",
            "scope baseline\n",
            "entity number 5\n",
            "0.7392103\n",
            "scope baseline\n",
            "this is the size of the synonyms list 108\n",
            "this is the size of the concept_range list 108\n",
            "row number 108\n"
          ]
        },
        {
          "output_type": "stream",
          "name": "stderr",
          "text": [
            "\n",
            "  0%|          | 0/41 [00:00<?, ?it/s]\u001b[A"
          ]
        },
        {
          "output_type": "stream",
          "name": "stdout",
          "text": [
            "entity number 0\n",
            "0.75378215\n",
            "Project Document\n",
            "entity number 1\n"
          ]
        },
        {
          "output_type": "stream",
          "name": "stderr",
          "text": [
            "\n",
            "  7%|▋         | 3/41 [00:00<00:01, 23.00it/s]\u001b[A"
          ]
        },
        {
          "output_type": "stream",
          "name": "stdout",
          "text": [
            "0.70956945\n",
            "inputs process\n",
            "entity number 2\n",
            "1.0\n",
            "Activity\n",
            "entity number 3\n",
            "0.47194988\n",
            "Activity\n",
            "entity number 4\n",
            "0.5915892\n",
            "predecessor successor relationships\n",
            "entity number 5\n"
          ]
        },
        {
          "output_type": "stream",
          "name": "stderr",
          "text": [
            "\n",
            " 15%|█▍        | 6/41 [00:00<00:01, 25.83it/s]\u001b[A"
          ]
        },
        {
          "output_type": "stream",
          "name": "stdout",
          "text": [
            "0.55795085\n",
            "lead lag relationships activities\n",
            "entity number 6\n",
            "0.84001553\n",
            "activity list\n",
            "entity number 7\n"
          ]
        },
        {
          "output_type": "stream",
          "name": "stderr",
          "text": [
            "\n",
            " 22%|██▏       | 9/41 [00:00<00:01, 27.15it/s]\u001b[A"
          ]
        },
        {
          "output_type": "stream",
          "name": "stdout",
          "text": [
            "0.84928477\n",
            "schedule activities\n",
            "entity number 8\n",
            "0.77335244\n",
            "schedule activities\n",
            "entity number 9\n",
            "0.71461946\n",
            "project\n",
            "entity number 10\n",
            "0.65168357\n",
            "Dependencies constraints activities\n",
            "entity number 11\n"
          ]
        },
        {
          "output_type": "stream",
          "name": "stderr",
          "text": [
            "\n",
            " 29%|██▉       | 12/41 [00:00<00:01, 27.91it/s]\u001b[A"
          ]
        },
        {
          "output_type": "stream",
          "name": "stdout",
          "text": [
            "0.5477364\n",
            "duration\n",
            "entity number 12\n",
            "0.8680369\n",
            "assumption log\n",
            "entity number 13\n"
          ]
        },
        {
          "output_type": "stream",
          "name": "stderr",
          "text": [
            "\n",
            " 37%|███▋      | 15/41 [00:00<00:00, 28.40it/s]\u001b[A"
          ]
        },
        {
          "output_type": "stream",
          "name": "stdout",
          "text": [
            "0.59448063\n",
            "assumption log\n",
            "entity number 14\n",
            "0.43909413\n",
            "rise project risks\n",
            "entity number 15\n",
            "0.81545734\n",
            "register Lessons\n",
            "entity number 16\n",
            "0.6122669\n",
            "register Lessons\n",
            "entity number 17\n",
            "0.7957649\n",
            "project regard effort duration estimating\n",
            "entity number 18\n"
          ]
        },
        {
          "output_type": "stream",
          "name": "stderr",
          "text": [
            "\n",
            " 46%|████▋     | 19/41 [00:00<00:00, 29.21it/s]\u001b[A"
          ]
        },
        {
          "output_type": "stream",
          "name": "stdout",
          "text": [
            "0.62705976\n",
            "phases project\n",
            "entity number 19\n"
          ]
        },
        {
          "output_type": "stream",
          "name": "stderr",
          "text": [
            "\n",
            " 54%|█████▎    | 22/41 [00:00<00:00, 28.81it/s]\u001b[A"
          ]
        },
        {
          "output_type": "stream",
          "name": "stdout",
          "text": [
            "0.76237935\n",
            "accuracy precision effort duration estimates Milestone list milestone list\n",
            "entity number 20\n",
            "0.65851754\n",
            "dates milestones\n",
            "entity number 21\n",
            "0.49105498\n",
            "duration\n",
            "entity number 22\n",
            "0.47178373\n",
            "Project team signs project\n",
            "entity number 23\n",
            "0.5599003\n",
            "people\n",
            "entity number 24\n"
          ]
        },
        {
          "output_type": "stream",
          "name": "stderr",
          "text": [
            "\n",
            " 61%|██████    | 25/41 [00:00<00:00, 29.03it/s]\u001b[A"
          ]
        },
        {
          "output_type": "stream",
          "name": "stdout",
          "text": [
            "0.8007879\n",
            "structure resources resource category resource type Resource\n",
            "entity number 25\n",
            "0.7997416"
          ]
        },
        {
          "output_type": "stream",
          "name": "stderr",
          "text": [
            "\n",
            " 68%|██████▊   | 28/41 [00:00<00:00, 29.13it/s]\u001b[A"
          ]
        },
        {
          "output_type": "stream",
          "name": "stdout",
          "text": [
            "\n",
            "structure resources resource category resource type Resource\n",
            "entity number 26\n",
            "0.6159163\n",
            "resource\n",
            "entity number 27\n",
            "0.6833851\n",
            "duration schedule activities availability resources type resources resources attributes Resource calendars\n",
            "entity number 28\n",
            "0.977819\n",
            "project Resource\n",
            "entity number 29\n",
            "0.87877446\n",
            "activity resource Requirements\n",
            "entity number 30\n"
          ]
        },
        {
          "output_type": "stream",
          "name": "stderr",
          "text": [
            "\n",
            " 76%|███████▌  | 31/41 [00:01<00:00, 29.38it/s]\u001b[A"
          ]
        },
        {
          "output_type": "stream",
          "name": "stdout",
          "text": [
            "0.8665372\n",
            "effect duration activity level resources\n",
            "entity number 31\n"
          ]
        },
        {
          "output_type": "stream",
          "name": "stderr",
          "text": [
            "\n",
            " 83%|████████▎ | 34/41 [00:01<00:00, 28.42it/s]\u001b[A"
          ]
        },
        {
          "output_type": "stream",
          "name": "stdout",
          "text": [
            "0.7265328\n",
            "effect duration activity level resources\n",
            "entity number 32\n",
            "0.7442993\n",
            "activity\n",
            "entity number 33\n",
            "0.85055435\n",
            "duration activities example\n",
            "entity number 34\n",
            "0.76881224\n",
            "duration activities example\n",
            "entity number 35\n",
            "0.82130134\n",
            "activity\n",
            "entity number 36\n"
          ]
        },
        {
          "output_type": "stream",
          "name": "stderr",
          "text": [
            "\n",
            " 90%|█████████ | 37/41 [00:01<00:00, 28.66it/s]\u001b[A"
          ]
        },
        {
          "output_type": "stream",
          "name": "stdout",
          "text": [
            "0.5682999\n",
            "activity\n",
            "entity number 37\n"
          ]
        },
        {
          "output_type": "stream",
          "name": "stderr",
          "text": [
            "\n",
            "100%|██████████| 41/41 [00:01<00:00, 28.18it/s]\n",
            " 50%|█████     | 109/216 [00:37<01:20,  1.34it/s]"
          ]
        },
        {
          "output_type": "stream",
          "name": "stdout",
          "text": [
            "0.5156982\n",
            "efficiency productivity\n",
            "entity number 38\n",
            "0.5956682\n",
            "communication training coordination needs\n",
            "entity number 39\n",
            "0.82134664\n",
            "resource selection availability Updates risk register\n",
            "entity number 40\n",
            "0.6550909\n",
            "resource selection availability Updates risk register\n",
            "this is the size of the synonyms list 109\n",
            "this is the size of the concept_range list 109\n",
            "row number 109\n"
          ]
        },
        {
          "output_type": "stream",
          "name": "stderr",
          "text": [
            "\n",
            "  0%|          | 0/2 [00:00<?, ?it/s]\u001b[A"
          ]
        },
        {
          "output_type": "stream",
          "name": "stdout",
          "text": [
            "entity number 0\n"
          ]
        },
        {
          "output_type": "stream",
          "name": "stderr",
          "text": [
            "\r100%|██████████| 2/2 [00:00<00:00, 25.93it/s]"
          ]
        },
        {
          "output_type": "stream",
          "name": "stdout",
          "text": [
            "0.69937223\n",
            "enterprise factors\n",
            "entity number 1\n",
            "0.76980305\n",
            "Estimate Activity Duration process\n",
            "this is the size of the synonyms list 110\n",
            "this is the size of the concept_range list 110\n"
          ]
        },
        {
          "output_type": "stream",
          "name": "stderr",
          "text": [
            "\n",
            "\r 51%|█████     | 110/216 [00:37<00:58,  1.80it/s]"
          ]
        },
        {
          "output_type": "stream",
          "name": "stdout",
          "text": [
            "row number 110\n"
          ]
        },
        {
          "output_type": "stream",
          "name": "stderr",
          "text": [
            "\n",
            "  0%|          | 0/3 [00:00<?, ?it/s]\u001b[A\n",
            "100%|██████████| 3/3 [00:00<00:00, 28.14it/s]"
          ]
        },
        {
          "output_type": "stream",
          "name": "stdout",
          "text": [
            "entity number 0\n",
            "0.7633786\n",
            "process sets\n",
            "entity number 1\n",
            "0.81463206\n",
            "Historical duration information Project\n",
            "entity number 2\n",
            "0.5942346\n",
            "Historical duration information Project\n"
          ]
        },
        {
          "output_type": "stream",
          "name": "stderr",
          "text": [
            "100%|██████████| 3/3 [00:00<00:00, 25.21it/s]\n",
            " 51%|█████▏    | 111/216 [00:38<00:45,  2.33it/s]"
          ]
        },
        {
          "output_type": "stream",
          "name": "stdout",
          "text": [
            "this is the size of the synonyms list 111\n",
            "this is the size of the concept_range list 111\n",
            "row number 111\n"
          ]
        },
        {
          "output_type": "stream",
          "name": "stderr",
          "text": [
            "\n",
            "  0%|          | 0/1 [00:00<?, ?it/s]\u001b[A"
          ]
        },
        {
          "output_type": "stream",
          "name": "stdout",
          "text": [
            "entity number 0\n",
            "0.5311359"
          ]
        },
        {
          "output_type": "stream",
          "name": "stderr",
          "text": [
            "\r100%|██████████| 1/1 [00:00<00:00, 18.55it/s]\n"
          ]
        },
        {
          "output_type": "stream",
          "name": "stdout",
          "text": [
            "\n",
            "Expertise\n",
            "this is the size of the synonyms list 112\n",
            "this is the size of the concept_range list 112\n",
            "row number 112\n"
          ]
        },
        {
          "output_type": "stream",
          "name": "stderr",
          "text": [
            "\n",
            "  0%|          | 0/23 [00:00<?, ?it/s]\u001b[A"
          ]
        },
        {
          "output_type": "stream",
          "name": "stdout",
          "text": [
            "entity number 0\n"
          ]
        },
        {
          "output_type": "stream",
          "name": "stderr",
          "text": [
            "\n"
          ]
        },
        {
          "output_type": "stream",
          "name": "stdout",
          "text": [
            "0.75758624\n",
            "estimating\n",
            "entity number 1\n",
            "0.66742194\n",
            "technique\n",
            "entity number 2\n",
            "0.7602627\n",
            "duration cost activity project\n"
          ]
        },
        {
          "output_type": "stream",
          "name": "stderr",
          "text": [
            "\r 13%|█▎        | 3/23 [00:00<00:00, 25.68it/s]\u001b[A"
          ]
        },
        {
          "output_type": "stream",
          "name": "stdout",
          "text": [
            "entity number 3\n",
            "0.63112736\n",
            "data activity project\n",
            "entity number 4\n",
            "0.5620626\n",
            "uses parameters project duration budget size weight complexity basis\n",
            "entity number 5\n"
          ]
        },
        {
          "output_type": "stream",
          "name": "stderr",
          "text": [
            "\n",
            " 26%|██▌       | 6/23 [00:00<00:00, 25.79it/s]\u001b[A"
          ]
        },
        {
          "output_type": "stream",
          "name": "stdout",
          "text": [
            "0.58852184\n",
            "parameter measure future project\n",
            "entity number 6\n",
            "0.91479456\n",
            "duration projects basis\n",
            "entity number 7\n",
            "0.97329164\n",
            "duration project\n",
            "entity number 8\n",
            "0.7170971\n",
            "duration project\n",
            "entity number 9\n"
          ]
        },
        {
          "output_type": "stream",
          "name": "stderr",
          "text": [
            "\n",
            " 43%|████▎     | 10/23 [00:00<00:00, 27.47it/s]\u001b[A"
          ]
        },
        {
          "output_type": "stream",
          "name": "stdout",
          "text": [
            "0.7998766\n",
            "value\n",
            "entity number 10\n",
            "0.5980381\n",
            "approach\n",
            "entity number 11\n"
          ]
        },
        {
          "output_type": "stream",
          "name": "stderr",
          "text": [
            "\n",
            " 57%|█████▋    | 13/23 [00:00<00:00, 27.86it/s]"
          ]
        },
        {
          "output_type": "stream",
          "name": "stdout",
          "text": [
            "0.65508616\n",
            "differences project complexity Analogous duration estimating\n",
            "entity number 12\n",
            "0.69602126\n",
            "project duration\n"
          ]
        },
        {
          "output_type": "stream",
          "name": "stderr",
          "text": [
            "\u001b[A"
          ]
        },
        {
          "output_type": "stream",
          "name": "stdout",
          "text": [
            "entity number 13\n",
            "0.5926187\n",
            "amount information project Analogous estimating\n",
            "entity number 14\n",
            "0.7690284\n",
            "time\n",
            "entity number 15\n"
          ]
        },
        {
          "output_type": "stream",
          "name": "stderr",
          "text": [
            "\n",
            " 70%|██████▉   | 16/23 [00:00<00:00, 26.56it/s]\u001b[A"
          ]
        },
        {
          "output_type": "stream",
          "name": "stdout",
          "text": [
            "0.7495053\n",
            "techniques\n",
            "entity number 16\n",
            "0.80278766\n",
            "project\n",
            "entity number 17\n",
            "0.99999994\n",
            "project\n",
            "entity number 18\n"
          ]
        },
        {
          "output_type": "stream",
          "name": "stderr",
          "text": [
            "\n",
            " 83%|████████▎ | 19/23 [00:00<00:00, 26.48it/s]\u001b[A"
          ]
        },
        {
          "output_type": "stream",
          "name": "stdout",
          "text": [
            "0.78558576\n",
            "project\n",
            "entity number 19\n",
            "0.7845175\n",
            "conjunction\n",
            "entity number 20\n",
            "0.84350944\n",
            "activities\n",
            "entity number 21\n"
          ]
        },
        {
          "output_type": "stream",
          "name": "stderr",
          "text": [
            "\n",
            "100%|██████████| 23/23 [00:00<00:00, 28.51it/s]\u001b[A"
          ]
        },
        {
          "output_type": "stream",
          "name": "stdout",
          "text": [
            "0.6778027\n",
            "activities\n",
            "entity number 22\n",
            "0.7327436\n",
            "fact appearance project team members\n"
          ]
        },
        {
          "output_type": "stream",
          "name": "stderr",
          "text": [
            "100%|██████████| 23/23 [00:00<00:00, 27.02it/s]\n",
            " 52%|█████▏    | 113/216 [00:38<00:46,  2.23it/s]"
          ]
        },
        {
          "output_type": "stream",
          "name": "stdout",
          "text": [
            "this is the size of the synonyms list 113\n",
            "this is the size of the concept_range list 113\n",
            "row number 113\n"
          ]
        },
        {
          "output_type": "stream",
          "name": "stderr",
          "text": [
            "\n",
            "  0%|          | 0/23 [00:00<?, ?it/s]\u001b[A"
          ]
        },
        {
          "output_type": "stream",
          "name": "stdout",
          "text": [
            "entity number 0\n",
            "0.740569\n",
            "Parametric estimating\n",
            "entity number 1\n"
          ]
        },
        {
          "output_type": "stream",
          "name": "stderr",
          "text": [
            "\n",
            " 13%|█▎        | 3/23 [00:00<00:00, 26.31it/s]\u001b[A"
          ]
        },
        {
          "output_type": "stream",
          "name": "stdout",
          "text": [
            "0.7628619\n",
            "technique algorithm\n",
            "entity number 2\n",
            "0.74259835\n",
            "cost duration\n",
            "entity number 3\n",
            "0.7911298\n",
            "data project parameters Parametric\n",
            "entity number 4\n",
            "0.49857336\n",
            "relationship data variables\n",
            "entity number 5\n"
          ]
        },
        {
          "output_type": "stream",
          "name": "stderr",
          "text": [
            "\n",
            " 26%|██▌       | 6/23 [00:00<00:00, 27.61it/s]\u001b[A"
          ]
        },
        {
          "output_type": "stream",
          "name": "stdout",
          "text": [
            "0.5632819\n",
            "footage construction\n",
            "entity number 6\n",
            "0.57404685\n",
            "estimate activity parameters cost budget duration Duration\n",
            "entity number 7\n"
          ]
        },
        {
          "output_type": "stream",
          "name": "stderr",
          "text": [
            "\n",
            " 39%|███▉      | 9/23 [00:00<00:00, 28.46it/s]\u001b[A"
          ]
        },
        {
          "output_type": "stream",
          "name": "stdout",
          "text": [
            "0.5116895\n",
            "quantity work\n",
            "entity number 8\n",
            "0.6535499\n",
            "number labor hours unit work example duration design project\n",
            "entity number 9\n",
            "0.7658571\n",
            "number drawings\n",
            "entity number 10\n",
            "0.44942454\n",
            "number labor hours\n",
            "entity number 11\n",
            "0.500984\n",
            "cable installation meters cable\n",
            "entity number 12\n"
          ]
        },
        {
          "output_type": "stream",
          "name": "stderr",
          "text": [
            "\n",
            " 57%|█████▋    | 13/23 [00:00<00:00, 29.77it/s]\u001b[A"
          ]
        },
        {
          "output_type": "stream",
          "name": "stdout",
          "text": [
            "0.556441\n",
            "number labor hours meter\n",
            "entity number 13\n",
            "0.4644141\n",
            "resource\n",
            "entity number 14\n"
          ]
        },
        {
          "output_type": "stream",
          "name": "stderr",
          "text": [
            "\n",
            " 70%|██████▉   | 16/23 [00:00<00:00, 29.10it/s]\u001b[A"
          ]
        },
        {
          "output_type": "stream",
          "name": "stdout",
          "text": [
            "0.5921083\n",
            "meters cable hour duration\n",
            "entity number 15\n",
            "0.62873536\n",
            "meters\n",
            "entity number 16\n",
            "0.90148413\n",
            "meters hour technique\n",
            "entity number 17\n",
            "0.4041534\n",
            "meters hour technique\n",
            "entity number 18\n"
          ]
        },
        {
          "output_type": "stream",
          "name": "stderr",
          "text": [
            "\n",
            " 83%|████████▎ | 19/23 [00:00<00:00, 29.29it/s]\u001b[A"
          ]
        },
        {
          "output_type": "stream",
          "name": "stdout",
          "text": [
            "0.81402564\n",
            "sophistication\n",
            "entity number 19\n",
            "0.7211616\n",
            "sophistication\n",
            "entity number 20\n",
            "0.6692895\n",
            "data\n",
            "entity number 21\n"
          ]
        },
        {
          "output_type": "stream",
          "name": "stderr",
          "text": [
            "\n",
            " 96%|█████████▌| 22/23 [00:00<00:00, 29.46it/s]\u001b[A"
          ]
        },
        {
          "output_type": "stream",
          "name": "stdout",
          "text": [
            "0.66309047\n",
            "model Parametric schedule estimates\n",
            "entity number 22\n"
          ]
        },
        {
          "output_type": "stream",
          "name": "stderr",
          "text": [
            "100%|██████████| 23/23 [00:00<00:00, 28.63it/s]\n",
            " 53%|█████▎    | 114/216 [00:39<00:54,  1.86it/s]"
          ]
        },
        {
          "output_type": "stream",
          "name": "stdout",
          "text": [
            "0.86833346\n",
            "project conjunction\n",
            "this is the size of the synonyms list 114\n",
            "this is the size of the concept_range list 114\n",
            "row number 114\n"
          ]
        },
        {
          "output_type": "stream",
          "name": "stderr",
          "text": [
            "\n",
            "  0%|          | 0/15 [00:00<?, ?it/s]\u001b[A"
          ]
        },
        {
          "output_type": "stream",
          "name": "stdout",
          "text": [
            "entity number 0\n"
          ]
        },
        {
          "output_type": "stream",
          "name": "stderr",
          "text": [
            "\n",
            " 20%|██        | 3/15 [00:00<00:00, 25.51it/s]\u001b[A"
          ]
        },
        {
          "output_type": "stream",
          "name": "stdout",
          "text": [
            "0.7294596\n",
            "accuracy point duration estimates\n",
            "entity number 1\n",
            "0.5936287\n",
            "estimation uncertainty risk Using point estimates\n",
            "entity number 2\n",
            "0.72517854\n",
            "range activity s duration Most estimate\n",
            "entity number 3\n",
            "0.8084365\n",
            "resources\n",
            "entity number 4\n"
          ]
        },
        {
          "output_type": "stream",
          "name": "stderr",
          "text": [
            "\n",
            " 40%|████      | 6/15 [00:00<00:00, 26.06it/s]\u001b[A"
          ]
        },
        {
          "output_type": "stream",
          "name": "stdout",
          "text": [
            "0.62509996\n",
            "resources\n",
            "entity number 5\n",
            "0.59813106\n",
            "productivity expectations availability activity dependencies participants interruptions Optimistic activity duration\n",
            "entity number 6\n"
          ]
        },
        {
          "output_type": "stream",
          "name": "stderr",
          "text": [
            "\n",
            " 60%|██████    | 9/15 [00:00<00:00, 26.09it/s]\u001b[A"
          ]
        },
        {
          "output_type": "stream",
          "name": "stdout",
          "text": [
            "0.69770926\n",
            "analysis case scenario activity Pessimistic duration\n",
            "entity number 7\n",
            "0.7452011\n",
            "analysis case scenario activity\n",
            "entity number 8\n",
            "0.77015936\n",
            "distribution values range\n",
            "entity number 9\n",
            "0.74674016\n",
            "duration\n",
            "entity number 10\n",
            "0.56902\n",
            "formula\n",
            "entity number 11\n"
          ]
        },
        {
          "output_type": "stream",
          "name": "stderr",
          "text": [
            "\n",
            " 80%|████████  | 12/15 [00:00<00:00, 26.67it/s]\u001b[A"
          ]
        },
        {
          "output_type": "stream",
          "name": "stdout",
          "text": [
            "0.59281015\n",
            "distribution Triangular distribution\n",
            "entity number 12\n"
          ]
        },
        {
          "output_type": "stream",
          "name": "stderr",
          "text": [
            "100%|██████████| 15/15 [00:00<00:00, 27.08it/s]\n",
            " 53%|█████▎    | 115/216 [00:40<00:54,  1.84it/s]"
          ]
        },
        {
          "output_type": "stream",
          "name": "stdout",
          "text": [
            "0.7164316\n",
            "data\n",
            "entity number 13\n",
            "0.78011745\n",
            "judgment data Duration estimates\n",
            "entity number 14\n",
            "0.76112187\n",
            "points distribution\n",
            "this is the size of the synonyms list 115\n",
            "this is the size of the concept_range list 115\n",
            "row number 115\n"
          ]
        },
        {
          "output_type": "stream",
          "name": "stderr",
          "text": [
            "\n",
            "  0%|          | 0/9 [00:00<?, ?it/s]\u001b[A"
          ]
        },
        {
          "output_type": "stream",
          "name": "stdout",
          "text": [
            "entity number 0\n",
            "0.6219895\n",
            "Bottom estimating\n",
            "entity number 1\n",
            "0.5417073\n",
            "method\n",
            "entity number 2\n"
          ]
        },
        {
          "output_type": "stream",
          "name": "stderr",
          "text": [
            "\n",
            " 33%|███▎      | 3/9 [00:00<00:00, 26.69it/s]\u001b[A"
          ]
        },
        {
          "output_type": "stream",
          "name": "stdout",
          "text": [
            "0.55170757\n",
            "project duration cost aggregation estimates level commons activity s duration\n",
            "entity number 3\n",
            "0.71261215\n",
            "degree confidence work activity\n",
            "entity number 4\n",
            "0.8135758\n",
            "estimates\n",
            "entity number 5\n"
          ]
        },
        {
          "output_type": "stream",
          "name": "stderr",
          "text": [
            "\n",
            " 67%|██████▋   | 6/9 [00:00<00:00, 26.38it/s]\u001b[A"
          ]
        },
        {
          "output_type": "stream",
          "name": "stdout",
          "text": [
            "0.7625387\n",
            "estimates\n",
            "entity number 6\n",
            "0.77841556\n",
            "quantity activity duration Activities\n",
            "entity number 7\n"
          ]
        },
        {
          "output_type": "stream",
          "name": "stderr",
          "text": [
            "\n",
            "100%|██████████| 9/9 [00:00<00:00, 24.86it/s]\n",
            " 54%|█████▎    | 116/216 [00:40<00:49,  2.01it/s]"
          ]
        },
        {
          "output_type": "stream",
          "name": "stdout",
          "text": [
            "0.697236\n",
            "dependencies\n",
            "entity number 8\n",
            "0.8198956\n",
            "dependencies pattern resource usage\n",
            "this is the size of the synonyms list 116\n",
            "this is the size of the concept_range list 116\n",
            "row number 116\n"
          ]
        },
        {
          "output_type": "stream",
          "name": "stderr",
          "text": [
            "\n",
            "  0%|          | 0/37 [00:00<?, ?it/s]\u001b[A"
          ]
        },
        {
          "output_type": "stream",
          "name": "stdout",
          "text": [
            "entity number 0\n",
            "0.68383145\n",
            "Data analysis techniques\n",
            "entity number 1\n"
          ]
        },
        {
          "output_type": "stream",
          "name": "stderr",
          "text": [
            "\n",
            "  8%|▊         | 3/37 [00:00<00:01, 26.97it/s]"
          ]
        },
        {
          "output_type": "stream",
          "name": "stdout",
          "text": [
            "0.69880754\n",
            "process\n",
            "entity number 2\n",
            "0.69077444\n",
            "Alternatives Alternatives analysis\n"
          ]
        },
        {
          "output_type": "stream",
          "name": "stderr",
          "text": [
            "\u001b[A"
          ]
        },
        {
          "output_type": "stream",
          "name": "stdout",
          "text": [
            "entity number 3\n",
            "0.63436353\n",
            "levels resource capability skills\n",
            "entity number 4\n",
            "0.5040575\n",
            "compression techniques\n",
            "entity number 5\n"
          ]
        },
        {
          "output_type": "stream",
          "name": "stderr",
          "text": [
            "\n",
            " 16%|█▌        | 6/37 [00:00<00:01, 27.67it/s]\u001b[A"
          ]
        },
        {
          "output_type": "stream",
          "name": "stdout",
          "text": [
            "0.50614727\n",
            "Section tools versus\n",
            "entity number 6\n",
            "0.66809815\n",
            "rent\n",
            "entity number 7\n",
            "0.8404461\n",
            "resources\n",
            "entity number 8\n"
          ]
        },
        {
          "output_type": "stream",
          "name": "stderr",
          "text": [
            "\n",
            " 24%|██▍       | 9/37 [00:00<00:01, 26.87it/s]\u001b[A"
          ]
        },
        {
          "output_type": "stream",
          "name": "stdout",
          "text": [
            "0.8305855\n",
            "team\n",
            "entity number 9\n",
            "0.6416055\n",
            "team\n",
            "entity number 10\n",
            "0.72054017\n",
            "resource cost duration variables\n",
            "entity number 11\n"
          ]
        },
        {
          "output_type": "stream",
          "name": "stderr",
          "text": [
            "\n",
            " 32%|███▏      | 12/37 [00:00<00:00, 26.86it/s]\u001b[A"
          ]
        },
        {
          "output_type": "stream",
          "name": "stdout",
          "text": [
            "0.56608933\n",
            "approach\n",
            "entity number 12\n",
            "0.82759935\n",
            "amount contingency management reserve\n",
            "entity number 13\n",
            "0.7507696\n",
            "amount contingency management reserve\n",
            "entity number 14\n"
          ]
        },
        {
          "output_type": "stream",
          "name": "stderr",
          "text": [
            "\n",
            " 41%|████      | 15/37 [00:00<00:00, 26.59it/s]\u001b[A"
          ]
        },
        {
          "output_type": "stream",
          "name": "stdout",
          "text": [
            "0.6901034\n",
            "project Duration estimates\n",
            "entity number 15\n",
            "0.83813226\n",
            "schedule reserves\n",
            "entity number 16\n",
            "0.8584646\n",
            "schedule uncertainty Contingency reserves\n",
            "entity number 17\n"
          ]
        },
        {
          "output_type": "stream",
          "name": "stderr",
          "text": [
            "\n",
            " 49%|████▊     | 18/37 [00:00<00:00, 27.57it/s]\u001b[A"
          ]
        },
        {
          "output_type": "stream",
          "name": "stdout",
          "text": [
            "0.73525655\n",
            "schedule uncertainty Contingency reserves\n",
            "entity number 18\n",
            "0.5692247\n",
            "duration schedule baseline\n",
            "entity number 19\n",
            "0.6782962\n",
            "risks\n",
            "entity number 20\n"
          ]
        },
        {
          "output_type": "stream",
          "name": "stderr",
          "text": [
            "\n",
            " 57%|█████▋    | 21/37 [00:00<00:00, 27.92it/s]\u001b[A"
          ]
        },
        {
          "output_type": "stream",
          "name": "stdout",
          "text": [
            "0.47344124\n",
            "Contingency reserves\n",
            "entity number 21\n",
            "0.35114774\n",
            "unknowns\n",
            "entity number 22\n",
            "0.6241157\n",
            "amount rework contingency reserve\n",
            "entity number 23\n"
          ]
        },
        {
          "output_type": "stream",
          "name": "stderr",
          "text": [
            "\n",
            " 65%|██████▍   | 24/37 [00:00<00:00, 26.41it/s]\u001b[A"
          ]
        },
        {
          "output_type": "stream",
          "name": "stdout",
          "text": [
            "0.53498346\n",
            "percentage\n",
            "entity number 24\n",
            "0.57161933\n",
            "activity duration number work periods Contingency reserves\n",
            "entity number 25\n"
          ]
        },
        {
          "output_type": "stream",
          "name": "stderr",
          "text": [
            "\n",
            " 73%|███████▎  | 27/37 [00:01<00:00, 26.24it/s]\u001b[A"
          ]
        },
        {
          "output_type": "stream",
          "name": "stdout",
          "text": [
            "0.7423103\n",
            "activities\n",
            "entity number 26\n",
            "0.67993784\n",
            "information project\n",
            "entity number 27\n",
            "0.9102107\n",
            "Contingency\n",
            "entity number 28\n",
            "0.7787221\n",
            "Contingency\n",
            "entity number 29\n"
          ]
        },
        {
          "output_type": "stream",
          "name": "stderr",
          "text": [
            "\n"
          ]
        },
        {
          "output_type": "stream",
          "name": "stdout",
          "text": [
            "0.8158185\n",
            "amount management reserve schedule project Management reserves\n"
          ]
        },
        {
          "output_type": "stream",
          "name": "stderr",
          "text": [
            "\r 81%|████████  | 30/37 [00:01<00:00, 27.02it/s]\u001b[A"
          ]
        },
        {
          "output_type": "stream",
          "name": "stdout",
          "text": [
            "entity number 30\n",
            "0.69132066\n",
            "amount management reserve schedule project Management reserves\n",
            "entity number 31\n"
          ]
        },
        {
          "output_type": "stream",
          "name": "stderr",
          "text": [
            "\n",
            " 89%|████████▉ | 33/37 [00:01<00:00, 27.35it/s]\u001b[A"
          ]
        },
        {
          "output_type": "stream",
          "name": "stdout",
          "text": [
            "0.41523427\n",
            "amount project budget withheld management control purposes\n",
            "entity number 32\n",
            "0.6070311\n",
            "work\n",
            "entity number 33\n",
            "0.4087985\n",
            "scope project Management reserves\n",
            "entity number 34\n",
            "0.43142718\n",
            "unknowns\n",
            "entity number 35\n"
          ]
        },
        {
          "output_type": "stream",
          "name": "stderr",
          "text": [
            "\n",
            " 97%|█████████▋| 36/37 [00:01<00:00, 26.89it/s]\u001b[A"
          ]
        },
        {
          "output_type": "stream",
          "name": "stdout",
          "text": [
            "0.76884776\n",
            "project Management reserve\n",
            "entity number 36\n"
          ]
        },
        {
          "output_type": "stream",
          "name": "stderr",
          "text": [
            "100%|██████████| 37/37 [00:01<00:00, 26.79it/s]\n",
            " 54%|█████▍    | 117/216 [00:42<01:13,  1.34it/s]"
          ]
        },
        {
          "output_type": "stream",
          "name": "stdout",
          "text": [
            "0.68960255\n",
            "schedule baseline\n",
            "this is the size of the synonyms list 117\n",
            "this is the size of the concept_range list 117\n",
            "row number 117\n"
          ]
        },
        {
          "output_type": "stream",
          "name": "stderr",
          "text": [
            "\n",
            "  0%|          | 0/18 [00:00<?, ?it/s]\u001b[A"
          ]
        },
        {
          "output_type": "stream",
          "name": "stdout",
          "text": [
            "entity number 0\n",
            "0.8218279\n",
            "techniques\n",
            "entity number 1\n",
            "0.8724345\n",
            "process\n",
            "entity number 2\n"
          ]
        },
        {
          "output_type": "stream",
          "name": "stderr",
          "text": [
            "\n",
            " 17%|█▋        | 3/18 [00:00<00:00, 29.66it/s]\u001b[A"
          ]
        },
        {
          "output_type": "stream",
          "name": "stdout",
          "text": [
            "0.66156185\n",
            "process\n",
            "entity number 3\n",
            "0.36227232\n",
            "variation voting method\n",
            "entity number 4\n",
            "0.58588916\n",
            "agile\n",
            "entity number 5\n"
          ]
        },
        {
          "output_type": "stream",
          "name": "stderr",
          "text": [
            "\n",
            " 33%|███▎      | 6/18 [00:00<00:00, 27.84it/s]\u001b[A"
          ]
        },
        {
          "output_type": "stream",
          "name": "stdout",
          "text": [
            "0.7337251\n",
            "projects\n",
            "entity number 6\n",
            "0.6313107\n",
            "fist\n",
            "entity number 7\n",
            "0.351403\n",
            "fist technique project manager\n",
            "entity number 8\n"
          ]
        },
        {
          "output_type": "stream",
          "name": "stderr",
          "text": [
            "\n",
            " 56%|█████▌    | 10/18 [00:00<00:00, 29.41it/s]\u001b[A"
          ]
        },
        {
          "output_type": "stream",
          "name": "stdout",
          "text": [
            "0.77307653\n",
            "team\n",
            "entity number 9\n",
            "0.5854006\n",
            "level support decision\n",
            "entity number 10\n",
            "0.6231162\n",
            "fist\n",
            "entity number 11\n",
            "0.81271887\n",
            "support team member\n",
            "entity number 12\n"
          ]
        },
        {
          "output_type": "stream",
          "name": "stderr",
          "text": [
            "\n",
            " 72%|███████▏  | 13/18 [00:00<00:00, 29.52it/s]\u001b[A"
          ]
        },
        {
          "output_type": "stream",
          "name": "stdout",
          "text": [
            "0.8101403\n",
            "fingers team member\n",
            "entity number 13\n",
            "0.5759405\n",
            "fingers team member\n",
            "entity number 14\n"
          ]
        },
        {
          "output_type": "stream",
          "name": "stderr",
          "text": [
            "\n",
            " 89%|████████▉ | 16/18 [00:00<00:00, 29.24it/s]\u001b[A"
          ]
        },
        {
          "output_type": "stream",
          "name": "stdout",
          "text": [
            "0.49152654\n",
            "opportunity\n",
            "entity number 15\n",
            "0.5607492\n",
            "objections team project manager\n",
            "entity number 16\n"
          ]
        },
        {
          "output_type": "stream",
          "name": "stderr",
          "text": [
            "100%|██████████| 18/18 [00:00<00:00, 28.88it/s]\n",
            " 55%|█████▍    | 118/216 [00:42<01:10,  1.40it/s]"
          ]
        },
        {
          "output_type": "stream",
          "name": "stdout",
          "text": [
            "0.37087208\n",
            "fist process team\n",
            "entity number 17\n",
            "0.59655386\n",
            "everyone\n",
            "this is the size of the synonyms list 118\n",
            "this is the size of the concept_range list 118\n",
            "row number 118\n"
          ]
        },
        {
          "output_type": "stream",
          "name": "stderr",
          "text": [
            "\n",
            "  0%|          | 0/12 [00:00<?, ?it/s]\u001b[A"
          ]
        },
        {
          "output_type": "stream",
          "name": "stdout",
          "text": [
            "entity number 0\n",
            "0.5996053\n",
            "project team\n",
            "entity number 1\n",
            "0.575056\n",
            "meetings\n",
            "entity number 2\n"
          ]
        },
        {
          "output_type": "stream",
          "name": "stderr",
          "text": [
            "\n",
            " 25%|██▌       | 3/12 [00:00<00:00, 28.91it/s]\u001b[A"
          ]
        },
        {
          "output_type": "stream",
          "name": "stdout",
          "text": [
            "0.7719302\n",
            "activity duration\n",
            "entity number 3\n",
            "0.4620426\n",
            "approach\n",
            "entity number 4\n",
            "0.56140196\n",
            "sprint iteration planning meetings\n",
            "entity number 5\n"
          ]
        },
        {
          "output_type": "stream",
          "name": "stderr",
          "text": [
            "\n",
            " 50%|█████     | 6/12 [00:00<00:00, 28.44it/s]\u001b[A"
          ]
        },
        {
          "output_type": "stream",
          "name": "stdout",
          "text": [
            "0.6748457\n",
            "product backlog items stories\n",
            "entity number 6\n",
            "0.762878\n",
            "items team\n",
            "entity number 7\n",
            "0.5511198\n",
            "iteration team\n",
            "entity number 8\n"
          ]
        },
        {
          "output_type": "stream",
          "name": "stderr",
          "text": [
            "\n",
            " 75%|███████▌  | 9/12 [00:00<00:00, 27.79it/s]\u001b[A"
          ]
        },
        {
          "output_type": "stream",
          "name": "stdout",
          "text": [
            "0.6210509\n",
            "stories level tasks estimates hours\n",
            "entity number 9\n",
            "0.60979295\n",
            "estimates\n",
            "entity number 10\n"
          ]
        },
        {
          "output_type": "stream",
          "name": "stderr",
          "text": [
            "\n",
            "100%|██████████| 12/12 [00:00<00:00, 28.22it/s]"
          ]
        },
        {
          "output_type": "stream",
          "name": "stdout",
          "text": [
            "0.59988296\n",
            "team capacity duration iteration meeting\n",
            "entity number 11\n",
            "0.36123812\n",
            "day iteration\n"
          ]
        },
        {
          "output_type": "stream",
          "name": "stderr",
          "text": [
            "100%|██████████| 12/12 [00:00<00:00, 27.74it/s]\n",
            " 55%|█████▌    | 119/216 [00:43<01:01,  1.57it/s]"
          ]
        },
        {
          "output_type": "stream",
          "name": "stdout",
          "text": [
            "this is the size of the synonyms list 119\n",
            "this is the size of the concept_range list 119\n",
            "row number 119\n"
          ]
        },
        {
          "output_type": "stream",
          "name": "stderr",
          "text": [
            "\n",
            "  0%|          | 0/10 [00:00<?, ?it/s]\u001b[A"
          ]
        },
        {
          "output_type": "stream",
          "name": "stdout",
          "text": [
            "entity number 0\n",
            "0.75378776\n",
            "Duration estimates\n",
            "entity number 1\n",
            "0.69532335"
          ]
        },
        {
          "output_type": "stream",
          "name": "stderr",
          "text": [
            "\n",
            " 30%|███       | 3/10 [00:00<00:00, 24.42it/s]\u001b[A"
          ]
        },
        {
          "output_type": "stream",
          "name": "stdout",
          "text": [
            "\n",
            "number time periods\n",
            "entity number 2\n",
            "0.58927083\n",
            "activity phase project Duration estimates\n",
            "entity number 3\n",
            "0.66994107\n",
            "tags\n",
            "entity number 4\n",
            "0.603769\n",
            "Section Duration estimates\n",
            "entity number 5\n"
          ]
        },
        {
          "output_type": "stream",
          "name": "stderr",
          "text": [
            "\n",
            " 60%|██████    | 6/10 [00:00<00:00, 25.84it/s]\u001b[A"
          ]
        },
        {
          "output_type": "stream",
          "name": "stdout",
          "text": [
            "0.3523066\n",
            "indication range results example A range weeks ± days\n",
            "entity number 6\n",
            "0.5888021\n",
            "activity\n",
            "entity number 7\n"
          ]
        },
        {
          "output_type": "stream",
          "name": "stderr",
          "text": [
            "\n",
            " 90%|█████████ | 9/10 [00:00<00:00, 26.34it/s]\u001b[A"
          ]
        },
        {
          "output_type": "stream",
          "name": "stdout",
          "text": [
            "0.73105204\n",
            "days\n",
            "entity number 8\n",
            "0.7822584\n",
            "day work week probability\n",
            "entity number 9\n"
          ]
        },
        {
          "output_type": "stream",
          "name": "stderr",
          "text": [
            "100%|██████████| 10/10 [00:00<00:00, 25.37it/s]\n",
            " 56%|█████▌    | 120/216 [00:43<00:54,  1.75it/s]"
          ]
        },
        {
          "output_type": "stream",
          "name": "stdout",
          "text": [
            "0.43347764\n",
            "weeks\n",
            "this is the size of the synonyms list 120\n",
            "this is the size of the concept_range list 120\n",
            "row number 120\n"
          ]
        },
        {
          "output_type": "stream",
          "name": "stderr",
          "text": [
            "\n",
            "  0%|          | 0/10 [00:00<?, ?it/s]\u001b[A"
          ]
        },
        {
          "output_type": "stream",
          "name": "stdout",
          "text": [
            "entity number 0\n",
            "0.6768983\n",
            "amount type details\n",
            "entity number 1\n",
            "0.5574093\n",
            "duration estimate vary application area Regardless level detail\n",
            "entity number 2\n"
          ]
        },
        {
          "output_type": "stream",
          "name": "stderr",
          "text": [
            "\n",
            " 30%|███       | 3/10 [00:00<00:00, 23.42it/s]\u001b[A"
          ]
        },
        {
          "output_type": "stream",
          "name": "stdout",
          "text": [
            "0.79412335\n",
            "documentation\n",
            "entity number 3\n",
            "0.93341243\n",
            "Supporting detail duration estimates\n",
            "entity number 4\n"
          ]
        },
        {
          "output_type": "stream",
          "name": "stderr",
          "text": [
            "\n",
            " 60%|██████    | 6/10 [00:00<00:00, 25.23it/s]\u001b[A"
          ]
        },
        {
          "output_type": "stream",
          "name": "stdout",
          "text": [
            "0.8421867\n",
            "Documentation basis estimate\n",
            "entity number 5\n",
            "0.87134516\n",
            "Documentation assumptions\n",
            "entity number 6\n",
            "0.86146796\n",
            "Documentation constraints Indication range estimates\n",
            "entity number 7\n",
            "0.6158772\n",
            "Documentation constraints Indication range estimates\n",
            "entity number 8\n"
          ]
        },
        {
          "output_type": "stream",
          "name": "stderr",
          "text": [
            "\n",
            "100%|██████████| 10/10 [00:00<00:00, 24.66it/s]\n",
            " 56%|█████▌    | 121/216 [00:44<00:49,  1.90it/s]"
          ]
        },
        {
          "output_type": "stream",
          "name": "stdout",
          "text": [
            "0.7419753\n",
            "±\n",
            "entity number 9\n",
            "0.64830667\n",
            "duration\n",
            "this is the size of the synonyms list 121\n",
            "this is the size of the concept_range list 121\n",
            "row number 121\n"
          ]
        },
        {
          "output_type": "stream",
          "name": "stderr",
          "text": [
            "\n",
            "  0%|          | 0/14 [00:00<?, ?it/s]\u001b[A"
          ]
        },
        {
          "output_type": "stream",
          "name": "stdout",
          "text": [
            "entity number 0\n",
            "0.6835313\n",
            "Project Document\n",
            "entity number 1\n",
            "0.8931931\n",
            "process\n",
            "entity number 2\n"
          ]
        },
        {
          "output_type": "stream",
          "name": "stderr",
          "text": [
            "\n",
            " 21%|██▏       | 3/14 [00:00<00:00, 27.91it/s]\u001b[A"
          ]
        },
        {
          "output_type": "stream",
          "name": "stdout",
          "text": [
            "0.749141\n",
            "process\n",
            "entity number 3\n"
          ]
        },
        {
          "output_type": "stream",
          "name": "stderr",
          "text": [
            "\n",
            " 43%|████▎     | 6/14 [00:00<00:00, 28.69it/s]\u001b[A"
          ]
        },
        {
          "output_type": "stream",
          "name": "stdout",
          "text": [
            "0.70372224\n",
            "Activity\n",
            "entity number 4\n",
            "0.6933756\n",
            "Activity duration estimates\n",
            "entity number 5\n",
            "0.75512224\n",
            "process\n",
            "entity number 6\n",
            "0.6814409\n",
            "part activity\n",
            "entity number 7\n",
            "0.6697523\n",
            "Assumption log\n",
            "entity number 8\n",
            "0.6486733\n",
            "assumptions\n",
            "entity number 9\n"
          ]
        },
        {
          "output_type": "stream",
          "name": "stderr",
          "text": [
            "\n",
            " 71%|███████▏  | 10/14 [00:00<00:00, 29.66it/s]\u001b[A"
          ]
        },
        {
          "output_type": "stream",
          "name": "stdout",
          "text": [
            "0.7219231\n",
            "duration estimate resource skill levels availability basis estimates duration Additionally constraints\n",
            "entity number 10\n"
          ]
        },
        {
          "output_type": "stream",
          "name": "stderr",
          "text": [
            "\n",
            " 93%|█████████▎| 13/14 [00:00<00:00, 29.18it/s]\u001b[A"
          ]
        },
        {
          "output_type": "stream",
          "name": "stdout",
          "text": [
            "0.5857341\n",
            "scheduling methodology scheduling tool\n",
            "entity number 11\n",
            "1.0\n",
            "lessons\n",
            "entity number 12\n",
            "0.7040371\n",
            "lessons\n",
            "entity number 13\n"
          ]
        },
        {
          "output_type": "stream",
          "name": "stderr",
          "text": [
            "100%|██████████| 14/14 [00:00<00:00, 28.35it/s]\n",
            " 56%|█████▋    | 122/216 [00:44<00:48,  1.92it/s]"
          ]
        },
        {
          "output_type": "stream",
          "name": "stdout",
          "text": [
            "0.8007765\n",
            "techniques\n",
            "this is the size of the synonyms list 122\n",
            "this is the size of the concept_range list 122\n",
            "row number 122\n"
          ]
        },
        {
          "output_type": "stream",
          "name": "stderr",
          "text": [
            "\n",
            "  0%|          | 0/6 [00:00<?, ?it/s]\u001b[A"
          ]
        },
        {
          "output_type": "stream",
          "name": "stdout",
          "text": [
            "entity number 0\n",
            "0.7017194\n",
            "Develop Schedule\n",
            "entity number 1\n",
            "0.60059106\n",
            "process\n",
            "entity number 2\n"
          ]
        },
        {
          "output_type": "stream",
          "name": "stderr",
          "text": [
            "\n",
            " 50%|█████     | 3/6 [00:00<00:00, 26.66it/s]\u001b[A"
          ]
        },
        {
          "output_type": "stream",
          "name": "stdout",
          "text": [
            "0.81474704\n",
            "schedule model project execution monitoring\n",
            "entity number 3\n",
            "0.60316193\n",
            "schedule model project execution monitoring\n",
            "entity number 4\n",
            "0.59674007\n",
            "benefit process\n",
            "entity number 5\n"
          ]
        },
        {
          "output_type": "stream",
          "name": "stderr",
          "text": [
            "\n",
            "100%|██████████| 6/6 [00:00<00:00, 25.65it/s]\n",
            " 57%|█████▋    | 123/216 [00:44<00:40,  2.28it/s]"
          ]
        },
        {
          "output_type": "stream",
          "name": "stdout",
          "text": [
            "0.7238886\n",
            "schedule model dates\n",
            "this is the size of the synonyms list 123\n",
            "this is the size of the concept_range list 123\n",
            "row number 123\n"
          ]
        },
        {
          "output_type": "stream",
          "name": "stderr",
          "text": [
            "\n",
            "  0%|          | 0/6 [00:00<?, ?it/s]\u001b[A"
          ]
        },
        {
          "output_type": "stream",
          "name": "stdout",
          "text": [
            "entity number 0\n",
            "0.7302767\n",
            "Project management plan commons\n",
            "entity number 1\n"
          ]
        },
        {
          "output_type": "stream",
          "name": "stderr",
          "text": [
            "\n",
            " 50%|█████     | 3/6 [00:00<00:00, 24.80it/s]\u001b[A"
          ]
        },
        {
          "output_type": "stream",
          "name": "stdout",
          "text": [
            "0.8528891\n",
            "scheduling method tool\n",
            "entity number 2\n",
            "0.82562304\n",
            "schedule schedule\n",
            "entity number 3\n",
            "0.6819619\n",
            "schedule schedule\n",
            "entity number 4\n"
          ]
        },
        {
          "output_type": "stream",
          "name": "stderr",
          "text": [
            "\n",
            "100%|██████████| 6/6 [00:00<00:00, 25.12it/s]\n",
            " 57%|█████▋    | 124/216 [00:45<00:35,  2.62it/s]"
          ]
        },
        {
          "output_type": "stream",
          "name": "stdout",
          "text": [
            "0.90325814\n",
            "scope statement\n",
            "entity number 5\n",
            "0.7607564\n",
            "scope statement\n",
            "this is the size of the synonyms list 124\n",
            "this is the size of the concept_range list 124\n",
            "row number 124\n"
          ]
        },
        {
          "output_type": "stream",
          "name": "stderr",
          "text": [
            "\n",
            "  0%|          | 0/41 [00:00<?, ?it/s]\u001b[A"
          ]
        },
        {
          "output_type": "stream",
          "name": "stdout",
          "text": [
            "entity number 0\n"
          ]
        },
        {
          "output_type": "stream",
          "name": "stderr",
          "text": [
            "\n",
            "  7%|▋         | 3/41 [00:00<00:01, 25.88it/s]\u001b[A"
          ]
        },
        {
          "output_type": "stream",
          "name": "stdout",
          "text": [
            "0.75378215\n",
            "Project Document\n",
            "entity number 1\n",
            "0.70956945\n",
            "inputs process\n",
            "entity number 2\n",
            "1.0\n",
            "activity\n",
            "entity number 3\n",
            "0.77564955\n",
            "activity\n",
            "entity number 4\n",
            "0.73321146\n",
            "details\n",
            "entity number 5\n"
          ]
        },
        {
          "output_type": "stream",
          "name": "stderr",
          "text": [
            "\n"
          ]
        },
        {
          "output_type": "stream",
          "name": "stdout",
          "text": [
            "0.83562684\n",
            "activity list\n",
            "entity number 6\n",
            "0.84326506\n",
            "activities\n"
          ]
        },
        {
          "output_type": "stream",
          "name": "stderr",
          "text": [
            "\r 17%|█▋        | 7/41 [00:00<00:01, 28.21it/s]\u001b[A"
          ]
        },
        {
          "output_type": "stream",
          "name": "stdout",
          "text": [
            "entity number 7\n",
            "0.4998454\n",
            "activities\n",
            "entity number 8\n"
          ]
        },
        {
          "output_type": "stream",
          "name": "stderr",
          "text": [
            "\n",
            " 24%|██▍       | 10/41 [00:00<00:01, 27.96it/s]"
          ]
        },
        {
          "output_type": "stream",
          "name": "stdout",
          "text": [
            "0.85851055\n",
            "assumption log\n",
            "entity number 9\n",
            "0.59448063\n",
            "assumption log\n"
          ]
        },
        {
          "output_type": "stream",
          "name": "stderr",
          "text": [
            "\u001b[A"
          ]
        },
        {
          "output_type": "stream",
          "name": "stdout",
          "text": [
            "entity number 10\n",
            "0.65841115\n",
            "rise project risks\n",
            "entity number 11\n",
            "0.62054294\n",
            "project Basis estimates amount type details\n",
            "entity number 12\n"
          ]
        },
        {
          "output_type": "stream",
          "name": "stderr",
          "text": [
            "\n",
            " 32%|███▏      | 13/41 [00:00<00:01, 27.30it/s]\u001b[A"
          ]
        },
        {
          "output_type": "stream",
          "name": "stdout",
          "text": [
            "0.5574093\n",
            "duration estimate vary application area Regardless level detail\n",
            "entity number 13\n",
            "0.79412335\n",
            "documentation\n",
            "entity number 14\n",
            "0.8228741\n",
            "Duration\n",
            "entity number 15\n"
          ]
        },
        {
          "output_type": "stream",
          "name": "stderr",
          "text": [
            "\n",
            " 39%|███▉      | 16/41 [00:00<00:00, 27.97it/s]\u001b[A"
          ]
        },
        {
          "output_type": "stream",
          "name": "stdout",
          "text": [
            "1.0000002\n",
            "duration\n",
            "entity number 16\n",
            "0.66736066\n",
            "duration\n",
            "entity number 17\n",
            "0.6037923\n",
            "number work periods\n",
            "entity number 18\n"
          ]
        },
        {
          "output_type": "stream",
          "name": "stderr",
          "text": [
            "\n",
            " 46%|████▋     | 19/41 [00:00<00:00, 27.11it/s]\u001b[A"
          ]
        },
        {
          "output_type": "stream",
          "name": "stdout",
          "text": [
            "0.56570536\n",
            "activity\n",
            "entity number 19\n",
            "0.87969255\n",
            "Lessons\n",
            "entity number 20\n",
            "0.6928455\n",
            "Lessons\n",
            "entity number 21\n"
          ]
        },
        {
          "output_type": "stream",
          "name": "stderr",
          "text": [
            "\n",
            " 54%|█████▎    | 22/41 [00:00<00:00, 26.63it/s]\u001b[A"
          ]
        },
        {
          "output_type": "stream",
          "name": "stdout",
          "text": [
            "0.7967174\n",
            "project regard\n",
            "entity number 22\n",
            "0.78605217\n",
            "schedule model\n",
            "entity number 23\n",
            "0.7335566\n",
            "phases project\n",
            "entity number 24\n"
          ]
        },
        {
          "output_type": "stream",
          "name": "stderr",
          "text": [
            "\n",
            " 61%|██████    | 25/41 [00:00<00:00, 26.87it/s]\u001b[A"
          ]
        },
        {
          "output_type": "stream",
          "name": "stdout",
          "text": [
            "0.831131\n",
            "milestone list\n",
            "entity number 25\n",
            "0.78659326\n",
            "milestone list\n",
            "entity number 26\n",
            "0.8138137\n",
            "project schedule network diagrams\n",
            "entity number 27\n"
          ]
        },
        {
          "output_type": "stream",
          "name": "stderr",
          "text": [
            "\n",
            " 68%|██████▊   | 28/41 [00:01<00:00, 26.96it/s]\u001b[A"
          ]
        },
        {
          "output_type": "stream",
          "name": "stdout",
          "text": [
            "0.5181409\n",
            "project schedule network diagrams\n",
            "entity number 28\n",
            "0.46541968\n",
            "relationships predecessors successors\n",
            "entity number 29\n",
            "0.3656783\n",
            "schedule Project team signs project team signs\n",
            "entity number 30\n"
          ]
        },
        {
          "output_type": "stream",
          "name": "stderr",
          "text": [
            "\n",
            " 76%|███████▌  | 31/41 [00:01<00:00, 27.04it/s]\u001b[A"
          ]
        },
        {
          "output_type": "stream",
          "name": "stdout",
          "text": [
            "0.59644276\n",
            "resources\n",
            "entity number 31\n",
            "0.76071215\n",
            "activity Resource calendars Described Sections resource\n",
            "entity number 32\n",
            "0.8869542\n",
            "activity resource Requirements\n",
            "entity number 33\n"
          ]
        },
        {
          "output_type": "stream",
          "name": "stderr",
          "text": [
            "\n",
            " 83%|████████▎ | 34/41 [00:01<00:00, 26.81it/s]\u001b[A"
          ]
        },
        {
          "output_type": "stream",
          "name": "stdout",
          "text": [
            "0.84541154\n",
            "types quantities resources\n",
            "entity number 34\n",
            "0.68962985\n",
            "types quantities resources\n",
            "entity number 35\n",
            "0.5658325\n",
            "activity\n",
            "entity number 36\n"
          ]
        },
        {
          "output_type": "stream",
          "name": "stderr",
          "text": [
            "\n",
            " 90%|█████████ | 37/41 [00:01<00:00, 27.40it/s]\u001b[A"
          ]
        },
        {
          "output_type": "stream",
          "name": "stdout",
          "text": [
            "0.9249862\n",
            "risk register\n",
            "entity number 37\n",
            "0.6712129\n",
            "risk register\n",
            "entity number 38\n",
            "0.6896104\n",
            "details\n",
            "entity number 39\n"
          ]
        },
        {
          "output_type": "stream",
          "name": "stderr",
          "text": [
            "\n",
            "100%|██████████| 41/41 [00:01<00:00, 27.24it/s]\n",
            " 58%|█████▊    | 125/216 [00:46<01:05,  1.39it/s]"
          ]
        },
        {
          "output_type": "stream",
          "name": "stdout",
          "text": [
            "0.8898778\n",
            "schedule model Risk information relevant schedule\n",
            "entity number 40\n",
            "0.7265554\n",
            "schedule model Risk information relevant schedule\n",
            "this is the size of the synonyms list 125\n",
            "this is the size of the concept_range list 125\n",
            "row number 125\n"
          ]
        },
        {
          "output_type": "stream",
          "name": "stderr",
          "text": [
            "\n",
            "  0%|          | 0/3 [00:00<?, ?it/s]\u001b[A"
          ]
        },
        {
          "output_type": "stream",
          "name": "stdout",
          "text": [
            "entity number 0\n"
          ]
        },
        {
          "output_type": "stream",
          "name": "stderr",
          "text": [
            "\n"
          ]
        },
        {
          "output_type": "stream",
          "name": "stdout",
          "text": [
            "0.60114765\n",
            "Vendors\n",
            "entity number 1\n",
            "0.71174884\n",
            "input project schedule\n",
            "entity number 2\n",
            "0.7528374\n",
            "details\n"
          ]
        },
        {
          "output_type": "stream",
          "name": "stderr",
          "text": [
            "100%|██████████| 3/3 [00:00<00:00, 24.40it/s]\n",
            " 58%|█████▊    | 126/216 [00:46<00:49,  1.83it/s]"
          ]
        },
        {
          "output_type": "stream",
          "name": "stdout",
          "text": [
            "this is the size of the synonyms list 126\n",
            "this is the size of the concept_range list 126\n",
            "row number 126\n"
          ]
        },
        {
          "output_type": "stream",
          "name": "stderr",
          "text": [
            "\n",
            "  0%|          | 0/1 [00:00<?, ?it/s]\u001b[A"
          ]
        },
        {
          "output_type": "stream",
          "name": "stdout",
          "text": [
            "entity number 0\n"
          ]
        },
        {
          "output_type": "stream",
          "name": "stderr",
          "text": [
            "\r100%|██████████| 1/1 [00:00<00:00, 17.88it/s]\n"
          ]
        },
        {
          "output_type": "stream",
          "name": "stdout",
          "text": [
            "0.65440875\n",
            "enterprise factors\n",
            "this is the size of the synonyms list 127\n",
            "this is the size of the concept_range list 127\n",
            "row number 127\n"
          ]
        },
        {
          "output_type": "stream",
          "name": "stderr",
          "text": [
            "\n",
            "  0%|          | 0/3 [00:00<?, ?it/s]\u001b[A"
          ]
        },
        {
          "output_type": "stream",
          "name": "stdout",
          "text": [
            "entity number 0\n",
            "0.7767674\n",
            "process sets\n",
            "entity number 1\n",
            "0.82766724\n",
            "Scheduling methodology\n",
            "entity number 2\n"
          ]
        },
        {
          "output_type": "stream",
          "name": "stderr",
          "text": [
            "\n"
          ]
        },
        {
          "output_type": "stream",
          "name": "stdout",
          "text": [
            "0.7543626\n",
            "Scheduling methodology\n"
          ]
        },
        {
          "output_type": "stream",
          "name": "stderr",
          "text": [
            "100%|██████████| 3/3 [00:00<00:00, 20.29it/s]\n",
            " 59%|█████▉    | 128/216 [00:46<00:30,  2.86it/s]"
          ]
        },
        {
          "output_type": "stream",
          "name": "stdout",
          "text": [
            "this is the size of the synonyms list 128\n",
            "this is the size of the concept_range list 128\n",
            "row number 128\n"
          ]
        },
        {
          "output_type": "stream",
          "name": "stderr",
          "text": [
            "\n",
            "  0%|          | 0/18 [00:00<?, ?it/s]\u001b[A"
          ]
        },
        {
          "output_type": "stream",
          "name": "stdout",
          "text": [
            "entity number 0\n",
            "0.54302496\n",
            "Schedule network analysis\n",
            "entity number 1\n"
          ]
        },
        {
          "output_type": "stream",
          "name": "stderr",
          "text": [
            "\n",
            " 17%|█▋        | 3/18 [00:00<00:00, 22.84it/s]\u001b[A"
          ]
        },
        {
          "output_type": "stream",
          "name": "stdout",
          "text": [
            "0.5981772\n",
            "technique\n",
            "entity number 2\n",
            "0.75055796\n",
            "project schedule model\n",
            "entity number 3\n",
            "0.6959929\n",
            "techniques path method\n",
            "entity number 4\n"
          ]
        },
        {
          "output_type": "stream",
          "name": "stderr",
          "text": [
            "\n",
            " 33%|███▎      | 6/18 [00:00<00:00, 24.11it/s]"
          ]
        },
        {
          "output_type": "stream",
          "name": "stdout",
          "text": [
            "0.67092824\n",
            "Section resource optimization techniques\n",
            "entity number 5\n",
            "0.7743374\n",
            "Section\n"
          ]
        },
        {
          "output_type": "stream",
          "name": "stderr",
          "text": [
            "\u001b[A"
          ]
        },
        {
          "output_type": "stream",
          "name": "stdout",
          "text": [
            "entity number 6\n"
          ]
        },
        {
          "output_type": "stream",
          "name": "stderr",
          "text": [
            "\n",
            " 50%|█████     | 9/18 [00:00<00:00, 26.29it/s]\u001b[A"
          ]
        },
        {
          "output_type": "stream",
          "name": "stdout",
          "text": [
            "0.71452767\n",
            "techniques\n",
            "entity number 7\n",
            "0.6748619\n",
            "Section Additional analysis\n",
            "entity number 8\n",
            "0.66541195\n",
            "need\n",
            "entity number 9\n",
            "0.5928133\n",
            "schedule reserves\n",
            "entity number 10\n"
          ]
        },
        {
          "output_type": "stream",
          "name": "stderr",
          "text": [
            "\n",
            " 67%|██████▋   | 12/18 [00:00<00:00, 26.85it/s]\u001b[A"
          ]
        },
        {
          "output_type": "stream",
          "name": "stdout",
          "text": [
            "0.74606234\n",
            "probability schedule slip paths converge point time paths diverge point time\n",
            "entity number 11\n",
            "0.60755163\n",
            "probability schedule slip\n",
            "entity number 12\n"
          ]
        },
        {
          "output_type": "stream",
          "name": "stderr",
          "text": [
            "\n",
            " 83%|████████▎ | 15/18 [00:00<00:00, 27.12it/s]\u001b[A"
          ]
        },
        {
          "output_type": "stream",
          "name": "stdout",
          "text": [
            "0.8122438\n",
            "path\n",
            "entity number 13\n",
            "0.66215456\n",
            "path\n",
            "entity number 14\n",
            "0.81754947\n",
            "use schedule reserves implementation risk responses\n",
            "entity number 15\n",
            "0.8821684\n",
            "risk path Schedule network analysis\n",
            "entity number 16\n",
            "0.5881395\n",
            "risk path Schedule network analysis\n",
            "entity number 17\n"
          ]
        },
        {
          "output_type": "stream",
          "name": "stderr",
          "text": [
            "\n",
            "100%|██████████| 18/18 [00:00<00:00, 25.91it/s]\n",
            " 60%|█████▉    | 129/216 [00:47<00:38,  2.29it/s]"
          ]
        },
        {
          "output_type": "stream",
          "name": "stdout",
          "text": [
            "0.7308843\n",
            "process\n",
            "this is the size of the synonyms list 129\n",
            "this is the size of the concept_range list 129\n",
            "row number 129\n"
          ]
        },
        {
          "output_type": "stream",
          "name": "stderr",
          "text": [
            "\n",
            "  0%|          | 0/50 [00:00<?, ?it/s]\u001b[A"
          ]
        },
        {
          "output_type": "stream",
          "name": "stdout",
          "text": [
            "entity number 0\n",
            "0.65196496\n",
            "path method\n",
            "entity number 1\n",
            "0.60162663\n",
            "minimum project duration\n",
            "entity number 2\n"
          ]
        },
        {
          "output_type": "stream",
          "name": "stderr",
          "text": [
            "\n",
            "  6%|▌         | 3/50 [00:00<00:02, 22.79it/s]\u001b[A"
          ]
        },
        {
          "output_type": "stream",
          "name": "stdout",
          "text": [
            "0.67870826\n",
            "amount schedule flexibility network paths schedule model schedule network analysis technique\n",
            "entity number 3\n",
            "0.7408314\n",
            "start finish start finish dates activities regard resource limitations\n",
            "entity number 4\n",
            "0.65713817\n",
            "forward backward pas analysis schedule network\n",
            "entity number 5\n"
          ]
        },
        {
          "output_type": "stream",
          "name": "stderr",
          "text": [
            "\n",
            " 12%|█▏        | 6/50 [00:00<00:01, 23.50it/s]\u001b[A"
          ]
        },
        {
          "output_type": "stream",
          "name": "stdout",
          "text": [
            "0.6899915\n",
            "Figure example path\n",
            "entity number 6\n",
            "0.5953082\n",
            "activities A C D sequence A C D\n",
            "entity number 7\n",
            "0.69666725\n",
            "path path\n",
            "entity number 8\n"
          ]
        },
        {
          "output_type": "stream",
          "name": "stderr",
          "text": [
            "\n",
            " 18%|█▊        | 9/50 [00:00<00:01, 25.22it/s]\u001b[A"
          ]
        },
        {
          "output_type": "stream",
          "name": "stdout",
          "text": [
            "0.7073382\n",
            "sequence activities\n",
            "entity number 9\n",
            "0.8377332\n",
            "project duration path\n",
            "entity number 10\n",
            "0.54863787\n",
            "project duration path\n",
            "entity number 11\n"
          ]
        },
        {
          "output_type": "stream",
          "name": "stderr",
          "text": [
            "\n",
            " 24%|██▍       | 12/50 [00:00<00:01, 25.76it/s]\u001b[A"
          ]
        },
        {
          "output_type": "stream",
          "name": "stdout",
          "text": [
            "0.5532603\n",
            "float\n",
            "entity number 12\n",
            "0.7660272\n",
            "start dates\n",
            "entity number 13\n",
            "0.71363384\n",
            "project schedule\n",
            "entity number 14\n"
          ]
        },
        {
          "output_type": "stream",
          "name": "stderr",
          "text": [
            "\n",
            " 32%|███▏      | 16/50 [00:00<00:01, 28.04it/s]\u001b[A"
          ]
        },
        {
          "output_type": "stream",
          "name": "stdout",
          "text": [
            "0.76857567\n",
            "time periods activity\n",
            "entity number 15\n",
            "0.76794654\n",
            "parameters\n",
            "entity number 16\n",
            "0.6130096\n",
            "schedule model activity duration relationships\n",
            "entity number 17\n"
          ]
        },
        {
          "output_type": "stream",
          "name": "stderr",
          "text": [
            "\n",
            " 38%|███▊      | 19/50 [00:00<00:01, 28.11it/s]\u001b[A"
          ]
        },
        {
          "output_type": "stream",
          "name": "stdout",
          "text": [
            "0.7333496\n",
            "tags\n",
            "entity number 18\n",
            "0.7287512\n",
            "constraints path method\n",
            "entity number 19\n",
            "0.6855751\n",
            "path s amount float schedule flexibility network paths schedule model network path float schedule flexibility\n",
            "entity number 20\n"
          ]
        },
        {
          "output_type": "stream",
          "name": "stderr",
          "text": [
            "\n",
            " 46%|████▌     | 23/50 [00:00<00:00, 29.21it/s]\u001b[A"
          ]
        },
        {
          "output_type": "stream",
          "name": "stdout",
          "text": [
            "0.75599647\n",
            "amount time schedule activity\n",
            "entity number 21\n",
            "0.919194\n",
            "project date\n",
            "entity number 22\n",
            "0.77726877\n",
            "project date\n",
            "entity number 23\n",
            "0.53686833\n",
            "schedule constraint A path\n",
            "entity number 24\n"
          ]
        },
        {
          "output_type": "stream",
          "name": "stderr",
          "text": [
            "\n",
            " 52%|█████▏    | 26/50 [00:00<00:00, 28.50it/s]\u001b[A"
          ]
        },
        {
          "output_type": "stream",
          "name": "stdout",
          "text": [
            "0.5705795\n",
            "float path\n",
            "entity number 25\n",
            "0.7863541\n",
            "precedence\n",
            "entity number 26\n",
            "0.8269131\n",
            "paths\n",
            "entity number 27\n"
          ]
        },
        {
          "output_type": "stream",
          "name": "stderr",
          "text": [
            "\n",
            " 58%|█████▊    | 29/50 [00:01<00:00, 28.52it/s]\u001b[A"
          ]
        },
        {
          "output_type": "stream",
          "name": "stdout",
          "text": [
            "0.41308278\n",
            "paths\n",
            "entity number 28\n",
            "0.51577747\n",
            "zero float\n",
            "entity number 29\n",
            "0.32825285\n",
            "constraints\n",
            "entity number 30\n"
          ]
        },
        {
          "output_type": "stream",
          "name": "stderr",
          "text": [
            "\n",
            " 64%|██████▍   | 32/50 [00:01<00:00, 28.43it/s]\u001b[A"
          ]
        },
        {
          "output_type": "stream",
          "name": "stdout",
          "text": [
            "0.39766103\n",
            "Positive float\n",
            "entity number 31\n",
            "0.65222704\n",
            "backward pas\n",
            "entity number 32\n",
            "0.592982\n",
            "schedule constraint\n",
            "entity number 33\n"
          ]
        },
        {
          "output_type": "stream",
          "name": "stderr",
          "text": [
            "\n",
            " 70%|███████   | 35/50 [00:01<00:00, 28.20it/s]\u001b[A"
          ]
        },
        {
          "output_type": "stream",
          "name": "stdout",
          "text": [
            "0.34969288\n",
            "finish date\n",
            "entity number 34\n",
            "0.5386784\n",
            "calculation Negative total float\n",
            "entity number 35\n",
            "0.65429157\n",
            "constraint dates\n",
            "entity number 36\n"
          ]
        },
        {
          "output_type": "stream",
          "name": "stderr",
          "text": [
            "\n",
            " 76%|███████▌  | 38/50 [00:01<00:00, 28.00it/s]\u001b[A"
          ]
        },
        {
          "output_type": "stream",
          "name": "stdout",
          "text": [
            "0.47905552\n",
            "duration Negative float analysis\n",
            "entity number 37\n",
            "0.83523536\n",
            "ways\n",
            "entity number 38\n",
            "0.58505976\n",
            "ways\n",
            "entity number 39\n"
          ]
        },
        {
          "output_type": "stream",
          "name": "stderr",
          "text": [
            "\n",
            " 82%|████████▏ | 41/50 [00:01<00:00, 28.09it/s]\u001b[A"
          ]
        },
        {
          "output_type": "stream",
          "name": "stdout",
          "text": [
            "0.5994879\n",
            "schedule track Schedule networks\n",
            "entity number 40\n",
            "0.7209886\n",
            "multiple paths software packages\n",
            "entity number 41\n",
            "0.8513361\n",
            "parameters\n",
            "entity number 42\n"
          ]
        },
        {
          "output_type": "stream",
          "name": "stderr",
          "text": [
            "\n",
            " 88%|████████▊ | 44/50 [00:01<00:00, 27.73it/s]\u001b[A"
          ]
        },
        {
          "output_type": "stream",
          "name": "stdout",
          "text": [
            "0.7628845\n",
            "parameters\n",
            "entity number 43\n",
            "0.4375042\n",
            "path s Adjustments activity duration resources les\n",
            "entity number 44\n",
            "0.44404358\n",
            "relationships relationships\n",
            "entity number 45\n"
          ]
        },
        {
          "output_type": "stream",
          "name": "stderr",
          "text": [
            "\n",
            " 94%|█████████▍| 47/50 [00:01<00:00, 27.81it/s]\u001b[A"
          ]
        },
        {
          "output_type": "stream",
          "name": "stdout",
          "text": [
            "0.35912627\n",
            "leads tags schedule constraints\n",
            "entity number 46\n",
            "0.5294212\n",
            "network paths zero float float float\n",
            "entity number 47\n",
            "0.47810182\n",
            "float\n",
            "entity number 48\n"
          ]
        },
        {
          "output_type": "stream",
          "name": "stderr",
          "text": [
            "\n",
            "100%|██████████| 50/50 [00:01<00:00, 27.52it/s]\n",
            " 60%|██████    | 130/216 [00:49<01:08,  1.25it/s]"
          ]
        },
        {
          "output_type": "stream",
          "name": "stdout",
          "text": [
            "0.6967818\n",
            "amount time schedule activity\n",
            "entity number 49\n",
            "0.60077834\n",
            "start date successor\n",
            "this is the size of the synonyms list 130\n",
            "this is the size of the concept_range list 130\n",
            "row number 130\n"
          ]
        },
        {
          "output_type": "stream",
          "name": "stderr",
          "text": [
            "\n",
            "  0%|          | 0/31 [00:00<?, ?it/s]\u001b[A"
          ]
        },
        {
          "output_type": "stream",
          "name": "stdout",
          "text": [
            "entity number 0\n",
            "0.54222286\n",
            "Resource optimization\n",
            "entity number 1\n",
            "0.60826814\n",
            "start dates activities\n",
            "entity number 2\n"
          ]
        },
        {
          "output_type": "stream",
          "name": "stderr",
          "text": [
            "\n",
            " 10%|▉         | 3/31 [00:00<00:01, 24.89it/s]\u001b[A"
          ]
        },
        {
          "output_type": "stream",
          "name": "stdout",
          "text": [
            "0.7862707\n",
            "resource use\n",
            "entity number 3\n",
            "0.67121387\n",
            "les resource availability Examples resource optimization techniques\n",
            "entity number 4\n",
            "0.7193072\n",
            "schedule model\n",
            "entity number 5\n"
          ]
        },
        {
          "output_type": "stream",
          "name": "stderr",
          "text": [
            "\n",
            " 19%|█▉        | 6/31 [00:00<00:00, 25.98it/s]\u001b[A"
          ]
        },
        {
          "output_type": "stream",
          "name": "stdout",
          "text": [
            "0.9558476\n",
            "Resource\n",
            "entity number 6\n",
            "0.63558877\n",
            "Resource\n",
            "entity number 7\n",
            "0.5870992\n",
            "A technique start dates\n",
            "entity number 8\n"
          ]
        },
        {
          "output_type": "stream",
          "name": "stderr",
          "text": [
            "\n",
            " 29%|██▉       | 9/31 [00:00<00:00, 25.36it/s]\u001b[A"
          ]
        },
        {
          "output_type": "stream",
          "name": "stdout",
          "text": [
            "0.81338245\n",
            "demand resources supply Resource leveling\n",
            "entity number 9\n",
            "0.75718874\n",
            "demand resources supply Resource leveling\n",
            "entity number 10\n"
          ]
        },
        {
          "output_type": "stream",
          "name": "stderr",
          "text": [
            "\n",
            " 39%|███▊      | 12/31 [00:00<00:00, 25.94it/s]\u001b[A"
          ]
        },
        {
          "output_type": "stream",
          "name": "stdout",
          "text": [
            "0.79134846\n",
            "resources\n",
            "entity number 11\n",
            "0.7736478\n",
            "times quantities\n",
            "entity number 12\n",
            "0.77553993\n",
            "resource\n",
            "entity number 13\n",
            "0.74952126\n",
            "activities time period\n",
            "entity number 14\n"
          ]
        },
        {
          "output_type": "stream",
          "name": "stderr",
          "text": [
            "\n",
            " 48%|████▊     | 15/31 [00:00<00:00, 26.54it/s]\u001b[A"
          ]
        },
        {
          "output_type": "stream",
          "name": "stdout",
          "text": [
            "0.6856946\n",
            "Figure\n",
            "entity number 15\n",
            "0.6141245\n",
            "need\n",
            "entity number 16\n"
          ]
        },
        {
          "output_type": "stream",
          "name": "stderr",
          "text": [
            "\n",
            " 58%|█████▊    | 18/31 [00:00<00:00, 26.53it/s]\u001b[A"
          ]
        },
        {
          "output_type": "stream",
          "name": "stdout",
          "text": [
            "0.6353056\n",
            "resource usage level Resource leveling\n",
            "entity number 17\n",
            "0.64411753\n",
            "path\n",
            "entity number 18\n",
            "0.5677563\n",
            "Available float\n",
            "entity number 19\n",
            "0.7974719\n",
            "resources path project schedule\n",
            "entity number 20\n"
          ]
        },
        {
          "output_type": "stream",
          "name": "stderr",
          "text": [
            "\n",
            " 68%|██████▊   | 21/31 [00:00<00:00, 26.70it/s]\u001b[A"
          ]
        },
        {
          "output_type": "stream",
          "name": "stdout",
          "text": [
            "0.823301\n",
            "A technique\n",
            "entity number 21\n",
            "0.6441418\n",
            "A technique\n",
            "entity number 22\n"
          ]
        },
        {
          "output_type": "stream",
          "name": "stderr",
          "text": [
            "\n",
            " 77%|███████▋  | 24/31 [00:00<00:00, 26.73it/s]\u001b[A"
          ]
        },
        {
          "output_type": "stream",
          "name": "stdout",
          "text": [
            "0.7131953\n",
            "activities schedule model Requirements resources project\n",
            "entity number 23\n",
            "0.6312938\n",
            "resource limits resource smoothing\n",
            "entity number 24\n",
            "0.84686685\n",
            "path\n",
            "entity number 25\n",
            "0.7032286\n",
            "path\n",
            "entity number 26\n"
          ]
        },
        {
          "output_type": "stream",
          "name": "stderr",
          "text": [
            "\n",
            " 87%|████████▋ | 27/31 [00:01<00:00, 26.76it/s]\u001b[A"
          ]
        },
        {
          "output_type": "stream",
          "name": "stdout",
          "text": [
            "0.6038072\n",
            "completion date\n",
            "entity number 27\n",
            "0.55822945\n",
            "words activities\n",
            "entity number 28\n"
          ]
        },
        {
          "output_type": "stream",
          "name": "stderr",
          "text": [
            "\n",
            " 97%|█████████▋| 30/31 [00:01<00:00, 26.92it/s]\u001b[A"
          ]
        },
        {
          "output_type": "stream",
          "name": "stdout",
          "text": [
            "0.32415468\n",
            "float Resource smoothing\n",
            "entity number 29\n",
            "0.98785746\n",
            "Sue hrs Activities Resource Leveling Tom hrs Activity A Sue Start Activity B Sue hrs Activity C Tom Day Day Day Tom\n",
            "entity number 30\n"
          ]
        },
        {
          "output_type": "stream",
          "name": "stderr",
          "text": [
            "100%|██████████| 31/31 [00:01<00:00, 26.16it/s]\n",
            " 61%|██████    | 131/216 [00:50<01:17,  1.10it/s]"
          ]
        },
        {
          "output_type": "stream",
          "name": "stdout",
          "text": [
            "0.6574905\n",
            "Sue hrs Activities Resource Leveling Tom hrs Activity A Sue Start Activity B Sue hrs Activity C Tom Day Day Day Tom\n",
            "this is the size of the synonyms list 131\n",
            "this is the size of the concept_range list 131\n",
            "row number 131\n"
          ]
        },
        {
          "output_type": "stream",
          "name": "stderr",
          "text": [
            "\n",
            "  0%|          | 0/31 [00:00<?, ?it/s]\u001b[A"
          ]
        },
        {
          "output_type": "stream",
          "name": "stdout",
          "text": [
            "entity number 0\n",
            "0.68383145\n",
            "Data analysis techniques\n",
            "entity number 1\n",
            "0.6068003\n",
            "process\n",
            "entity number 2\n"
          ]
        },
        {
          "output_type": "stream",
          "name": "stderr",
          "text": [
            "\n",
            " 10%|▉         | 3/31 [00:00<00:01, 24.64it/s]\u001b[A"
          ]
        },
        {
          "output_type": "stream",
          "name": "stdout",
          "text": [
            "0.6068003\n",
            "scenario analysis scenario analysis\n",
            "entity number 3\n",
            "0.80427414\n",
            "scenarios order\n",
            "entity number 4\n",
            "0.79377925\n",
            "scenarios order\n",
            "entity number 5\n"
          ]
        },
        {
          "output_type": "stream",
          "name": "stderr",
          "text": [
            "\n",
            " 19%|█▉        | 6/31 [00:00<00:01, 24.95it/s]"
          ]
        },
        {
          "output_type": "stream",
          "name": "stdout",
          "text": [
            "0.77209544\n",
            "effect project objectives\n"
          ]
        },
        {
          "output_type": "stream",
          "name": "stderr",
          "text": [
            "\u001b[A"
          ]
        },
        {
          "output_type": "stream",
          "name": "stdout",
          "text": [
            "entity number 6\n",
            "0.67317176\n",
            "analysis question situation\n",
            "entity number 7\n"
          ]
        },
        {
          "output_type": "stream",
          "name": "stderr",
          "text": [
            "\n",
            " 29%|██▉       | 9/31 [00:00<00:00, 24.73it/s]\u001b[A"
          ]
        },
        {
          "output_type": "stream",
          "name": "stdout",
          "text": [
            "0.62163687\n",
            "scenario X\n",
            "entity number 8\n",
            "0.8084133\n",
            "schedule\n",
            "entity number 9\n",
            "0.7041793\n",
            "schedule\n",
            "entity number 10\n",
            "0.73610586\n",
            "scenarios\n",
            "entity number 11\n"
          ]
        },
        {
          "output_type": "stream",
          "name": "stderr",
          "text": [
            "\n",
            " 39%|███▊      | 12/31 [00:00<00:00, 25.07it/s]\u001b[A"
          ]
        },
        {
          "output_type": "stream",
          "name": "stdout",
          "text": [
            "0.5841694\n",
            "component delivery\n",
            "entity number 12\n"
          ]
        },
        {
          "output_type": "stream",
          "name": "stderr",
          "text": [
            "\n",
            " 48%|████▊     | 15/31 [00:00<00:00, 26.13it/s]\u001b[A"
          ]
        },
        {
          "output_type": "stream",
          "name": "stdout",
          "text": [
            "0.6988885\n",
            "engineering duration factors strike change permit process outcome scenario analysis\n",
            "entity number 13\n",
            "0.7463251\n",
            "cases feasibility project schedule conditions\n",
            "entity number 14\n",
            "0.62981486\n",
            "schedule reserves response plans\n",
            "entity number 15\n",
            "0.6658052\n",
            "impact situations Simulation Simulation models effects project risks sources uncertainty\n",
            "entity number 16\n",
            "0.850419\n",
            "project\n",
            "entity number 17\n"
          ]
        },
        {
          "output_type": "stream",
          "name": "stderr",
          "text": [
            "\n",
            " 58%|█████▊    | 18/31 [00:00<00:00, 26.22it/s]\u001b[A"
          ]
        },
        {
          "output_type": "stream",
          "name": "stdout",
          "text": [
            "0.7084202\n",
            "project\n",
            "entity number 18\n"
          ]
        },
        {
          "output_type": "stream",
          "name": "stderr",
          "text": [
            "\n",
            " 68%|██████▊   | 21/31 [00:00<00:00, 27.01it/s]\u001b[A"
          ]
        },
        {
          "output_type": "stream",
          "name": "stdout",
          "text": [
            "0.6108223\n",
            "simulation technique\n",
            "entity number 19\n",
            "0.68894\n",
            "Monte Carlo analysis see Section risks sources uncertainty\n",
            "entity number 20\n",
            "0.8211106\n",
            "work package duration sets activity assumptions constraints risks issues scenarios\n",
            "entity number 21\n",
            "0.63275456\n",
            "work package duration sets activity assumptions constraints risks issues scenarios\n",
            "entity number 22\n",
            "0.48994514\n",
            "probability distributions representations uncertainty\n",
            "entity number 23\n"
          ]
        },
        {
          "output_type": "stream",
          "name": "stderr",
          "text": [
            "\n",
            " 77%|███████▋  | 24/31 [00:00<00:00, 26.77it/s]\u001b[A"
          ]
        },
        {
          "output_type": "stream",
          "name": "stdout",
          "text": [
            "0.54478353\n",
            "Section Figure\n",
            "entity number 24\n"
          ]
        },
        {
          "output_type": "stream",
          "name": "stderr",
          "text": [
            "\n",
            " 87%|████████▋ | 27/31 [00:01<00:00, 27.14it/s]\u001b[A"
          ]
        },
        {
          "output_type": "stream",
          "name": "stdout",
          "text": [
            "0.62444794\n",
            "probability distribution project probability\n",
            "entity number 25\n",
            "0.64010835\n",
            "target date ie project date example\n",
            "entity number 26\n",
            "0.6456133\n",
            "probability project\n",
            "entity number 27\n",
            "0.6819856\n",
            "target date May\n",
            "entity number 28\n",
            "0.57174957\n",
            "probability\n",
            "entity number 29\n"
          ]
        },
        {
          "output_type": "stream",
          "name": "stderr",
          "text": [
            "\n",
            " 97%|█████████▋| 30/31 [00:01<00:00, 26.62it/s]\u001b[A"
          ]
        },
        {
          "output_type": "stream",
          "name": "stdout",
          "text": [
            "0.6530304\n",
            "project May Project Finish Date Figure Example Probability Distribution Target Milestone information Monte Carlo simulation\n",
            "entity number 30\n"
          ]
        },
        {
          "output_type": "stream",
          "name": "stderr",
          "text": [
            "100%|██████████| 31/31 [00:01<00:00, 25.99it/s]\n",
            " 61%|██████    | 132/216 [00:51<01:23,  1.01it/s]"
          ]
        },
        {
          "output_type": "stream",
          "name": "stdout",
          "text": [
            "0.69992185\n",
            "schedule models\n",
            "this is the size of the synonyms list 132\n",
            "this is the size of the concept_range list 132\n",
            "row number 132\n"
          ]
        },
        {
          "output_type": "stream",
          "name": "stderr",
          "text": [
            "\n",
            "  0%|          | 0/8 [00:00<?, ?it/s]\u001b[A"
          ]
        },
        {
          "output_type": "stream",
          "name": "stdout",
          "text": [
            "entity number 0\n",
            "0.6298284\n",
            "Leads tags\n",
            "entity number 1\n",
            "0.64665556\n",
            "network analysis\n",
            "entity number 2\n"
          ]
        },
        {
          "output_type": "stream",
          "name": "stderr",
          "text": [
            "\n",
            " 38%|███▊      | 3/8 [00:00<00:00, 23.36it/s]"
          ]
        },
        {
          "output_type": "stream",
          "name": "stdout",
          "text": [
            "0.7019411\n",
            "schedule\n"
          ]
        },
        {
          "output_type": "stream",
          "name": "stderr",
          "text": [
            "\u001b[A"
          ]
        },
        {
          "output_type": "stream",
          "name": "stdout",
          "text": [
            "entity number 3\n",
            "0.56799656\n",
            "start time successor activities Leads\n",
            "entity number 4\n"
          ]
        },
        {
          "output_type": "stream",
          "name": "stderr",
          "text": [
            "\n",
            " 75%|███████▌  | 6/8 [00:00<00:00, 24.32it/s]\u001b[A"
          ]
        },
        {
          "output_type": "stream",
          "name": "stdout",
          "text": [
            "0.4221965\n",
            "circumstances\n",
            "entity number 5\n",
            "0.46201822\n",
            "successor activity respect predecessor activity tags\n",
            "entity number 6\n",
            "0.7704836\n",
            "circumstances process\n",
            "entity number 7\n"
          ]
        },
        {
          "output_type": "stream",
          "name": "stderr",
          "text": [
            "100%|██████████| 8/8 [00:00<00:00, 24.91it/s]\n",
            " 62%|██████▏   | 133/216 [00:52<01:06,  1.24it/s]"
          ]
        },
        {
          "output_type": "stream",
          "name": "stdout",
          "text": [
            "0.61437476\n",
            "period time\n",
            "this is the size of the synonyms list 133\n",
            "this is the size of the concept_range list 133\n",
            "row number 133\n"
          ]
        },
        {
          "output_type": "stream",
          "name": "stderr",
          "text": [
            "\n",
            "  0%|          | 0/32 [00:00<?, ?it/s]\u001b[A"
          ]
        },
        {
          "output_type": "stream",
          "name": "stdout",
          "text": [
            "entity number 0\n",
            "0.71919405\n",
            "Schedule compression techniques\n",
            "entity number 1\n"
          ]
        },
        {
          "output_type": "stream",
          "name": "stderr",
          "text": [
            "\n",
            "  9%|▉         | 3/32 [00:00<00:01, 25.47it/s]\u001b[A"
          ]
        },
        {
          "output_type": "stream",
          "name": "stdout",
          "text": [
            "0.8493149\n",
            "project scope order\n",
            "entity number 2\n",
            "0.66210496\n",
            "project scope order\n",
            "entity number 3\n",
            "0.591101\n",
            "constraints\n",
            "entity number 4\n",
            "0.58172643\n",
            "dates schedule\n",
            "entity number 5\n"
          ]
        },
        {
          "output_type": "stream",
          "name": "stderr",
          "text": [
            "\n",
            " 19%|█▉        | 6/32 [00:00<00:00, 27.15it/s]\u001b[A"
          ]
        },
        {
          "output_type": "stream",
          "name": "stdout",
          "text": [
            "0.616433\n",
            "technique\n",
            "entity number 6\n",
            "0.59146154\n",
            "float analysis path\n",
            "entity number 7\n"
          ]
        },
        {
          "output_type": "stream",
          "name": "stderr",
          "text": [
            "\n",
            " 28%|██▊       | 9/32 [00:00<00:00, 27.51it/s]\u001b[A"
          ]
        },
        {
          "output_type": "stream",
          "name": "stdout",
          "text": [
            "0.47834268\n",
            "one float Due\n",
            "entity number 8\n",
            "0.30214334\n",
            "constraint\n",
            "entity number 9\n",
            "0.4592855\n",
            "date float\n",
            "entity number 10\n",
            "0.63105\n",
            "Schedule compression techniques\n",
            "entity number 11\n"
          ]
        },
        {
          "output_type": "stream",
          "name": "stderr",
          "text": [
            "\n",
            " 38%|███▊      | 12/32 [00:00<00:00, 27.85it/s]\u001b[A"
          ]
        },
        {
          "output_type": "stream",
          "name": "stdout",
          "text": [
            "0.77292\n",
            "Figure\n",
            "entity number 12\n",
            "0.6653913\n",
            "A technique\n",
            "entity number 13\n"
          ]
        },
        {
          "output_type": "stream",
          "name": "stderr",
          "text": [
            "\n",
            " 47%|████▋     | 15/32 [00:00<00:00, 28.21it/s]\u001b[A"
          ]
        },
        {
          "output_type": "stream",
          "name": "stdout",
          "text": [
            "0.8054653\n",
            "resources Examples\n",
            "entity number 14\n",
            "0.92769283\n",
            "resources\n",
            "entity number 15\n",
            "0.52045053\n",
            "resources\n",
            "entity number 16\n",
            "0.58318317\n",
            "delivery activities path Crashing\n",
            "entity number 17\n"
          ]
        },
        {
          "output_type": "stream",
          "name": "stderr",
          "text": [
            "\n",
            " 56%|█████▋    | 18/32 [00:00<00:00, 27.67it/s]\u001b[A"
          ]
        },
        {
          "output_type": "stream",
          "name": "stdout",
          "text": [
            "0.62077403\n",
            "activities path resources\n",
            "entity number 18\n",
            "0.69715464\n",
            "activity duration Crashing\n",
            "entity number 19\n"
          ]
        },
        {
          "output_type": "stream",
          "name": "stderr",
          "text": [
            "\n",
            " 66%|██████▌   | 21/32 [00:00<00:00, 26.90it/s]\u001b[A"
          ]
        },
        {
          "output_type": "stream",
          "name": "stdout",
          "text": [
            "0.5163926\n",
            "risk cost Fast\n",
            "entity number 20\n",
            "0.7629606\n",
            "A schedule compression technique activities phases\n",
            "entity number 21\n",
            "0.7343103\n",
            "sequence\n",
            "entity number 22\n",
            "0.51358664\n",
            "parallel portion duration example\n",
            "entity number 23\n"
          ]
        },
        {
          "output_type": "stream",
          "name": "stderr",
          "text": [
            "\n",
            " 75%|███████▌  | 24/32 [00:00<00:00, 26.91it/s]\u001b[A"
          ]
        },
        {
          "output_type": "stream",
          "name": "stdout",
          "text": [
            "0.35186332\n",
            "foundation building\n",
            "entity number 24\n",
            "0.5512365\n",
            "drawings Fast tracking\n",
            "entity number 25\n"
          ]
        },
        {
          "output_type": "stream",
          "name": "stderr",
          "text": [
            "\n",
            " 84%|████████▍ | 27/32 [00:00<00:00, 26.99it/s]\u001b[A"
          ]
        },
        {
          "output_type": "stream",
          "name": "stdout",
          "text": [
            "0.5421308\n",
            "rework\n",
            "entity number 26\n",
            "0.59386647\n",
            "risk Fast\n",
            "entity number 27\n",
            "0.68165565\n",
            "activities\n",
            "entity number 28\n",
            "0.7150934\n",
            "project duration path Using\n",
            "entity number 29\n"
          ]
        },
        {
          "output_type": "stream",
          "name": "stderr",
          "text": [
            "\n",
            " 94%|█████████▍| 30/32 [00:01<00:00, 27.53it/s]\u001b[A"
          ]
        },
        {
          "output_type": "stream",
          "name": "stdout",
          "text": [
            "0.6951297\n",
            "case schedule acceleration\n",
            "entity number 30\n",
            "0.59157574\n",
            "coordination efforts activities\n",
            "entity number 31\n"
          ]
        },
        {
          "output_type": "stream",
          "name": "stderr",
          "text": [
            "100%|██████████| 32/32 [00:01<00:00, 27.13it/s]\n",
            " 62%|██████▏   | 134/216 [00:53<01:15,  1.09it/s]"
          ]
        },
        {
          "output_type": "stream",
          "name": "stdout",
          "text": [
            "0.55828273\n",
            "quality risk Fast tracking\n",
            "this is the size of the synonyms list 134\n",
            "this is the size of the concept_range list 134\n",
            "row number 134\n"
          ]
        },
        {
          "output_type": "stream",
          "name": "stderr",
          "text": [
            "\n",
            "  0%|          | 0/4 [00:00<?, ?it/s]\u001b[A"
          ]
        },
        {
          "output_type": "stream",
          "name": "stdout",
          "text": [
            "entity number 0\n",
            "0.6785533\n",
            "Project management information systems\n",
            "entity number 1\n",
            "0.7331246\n",
            "software\n",
            "entity number 2\n"
          ]
        },
        {
          "output_type": "stream",
          "name": "stderr",
          "text": [
            "\n",
            " 75%|███████▌  | 3/4 [00:00<00:00, 26.08it/s]\u001b[A"
          ]
        },
        {
          "output_type": "stream",
          "name": "stdout",
          "text": [
            "0.7308843\n",
            "process\n",
            "entity number 3\n"
          ]
        },
        {
          "output_type": "stream",
          "name": "stderr",
          "text": [
            "100%|██████████| 4/4 [00:00<00:00, 23.74it/s]\n",
            " 62%|██████▎   | 135/216 [00:53<00:57,  1.42it/s]"
          ]
        },
        {
          "output_type": "stream",
          "name": "stdout",
          "text": [
            "0.79643863\n",
            "schedule model\n",
            "this is the size of the synonyms list 135\n",
            "this is the size of the concept_range list 135\n",
            "row number 135\n"
          ]
        },
        {
          "output_type": "stream",
          "name": "stderr",
          "text": [
            "\n",
            "  0%|          | 0/20 [00:00<?, ?it/s]\u001b[A"
          ]
        },
        {
          "output_type": "stream",
          "name": "stdout",
          "text": [
            "entity number 0\n",
            "0.35978687\n",
            "Agile release\n",
            "entity number 1\n",
            "0.444869\n",
            "level timeline release schedule months\n",
            "entity number 2\n"
          ]
        },
        {
          "output_type": "stream",
          "name": "stderr",
          "text": [
            "\n",
            " 15%|█▌        | 3/20 [00:00<00:00, 24.69it/s]\u001b[A"
          ]
        },
        {
          "output_type": "stream",
          "name": "stdout",
          "text": [
            "0.55671376\n",
            "product roadmap product vision product evolution Agile release planning\n",
            "entity number 3\n",
            "0.5042126\n",
            "number iterations sprints release\n",
            "entity number 4\n",
            "0.70619303\n",
            "product owner team\n",
            "entity number 5\n"
          ]
        },
        {
          "output_type": "stream",
          "name": "stderr",
          "text": [
            "\n",
            " 30%|███       | 6/20 [00:00<00:00, 25.06it/s]\u001b[A"
          ]
        },
        {
          "output_type": "stream",
          "name": "stdout",
          "text": [
            "0.592956\n",
            "product\n",
            "entity number 6\n",
            "0.5979097\n",
            "business goals dependencies impediment features\n",
            "entity number 7\n",
            "0.5740163\n",
            "value customer timeline\n",
            "entity number 8\n"
          ]
        },
        {
          "output_type": "stream",
          "name": "stderr",
          "text": [
            "\n",
            " 45%|████▌     | 9/20 [00:00<00:00, 25.88it/s]\u001b[A"
          ]
        },
        {
          "output_type": "stream",
          "name": "stdout",
          "text": [
            "0.6525412\n",
            "project schedule\n",
            "entity number 9\n",
            "0.63800085\n",
            "feature\n",
            "entity number 10\n"
          ]
        },
        {
          "output_type": "stream",
          "name": "stderr",
          "text": [
            "\n",
            " 60%|██████    | 12/20 [00:00<00:00, 25.16it/s]\u001b[A"
          ]
        },
        {
          "output_type": "stream",
          "name": "stdout",
          "text": [
            "0.39114326\n",
            "end iteration\n",
            "entity number 11\n",
            "0.5834239\n",
            "depth information customer\n",
            "entity number 12\n",
            "0.362288\n",
            "Figure\n",
            "entity number 13\n"
          ]
        },
        {
          "output_type": "stream",
          "name": "stderr",
          "text": [
            "\n",
            " 75%|███████▌  | 15/20 [00:00<00:00, 25.60it/s]\u001b[A"
          ]
        },
        {
          "output_type": "stream",
          "name": "stdout",
          "text": [
            "0.70884866\n",
            "relationship product vision product roadmap release planning iteration planning Product vision drives product roadmap Release Release Release Product roadmap drives\n",
            "entity number 14\n",
            "0.72950256\n",
            "plans Release Plan Release plan\n",
            "entity number 15\n"
          ]
        },
        {
          "output_type": "stream",
          "name": "stderr",
          "text": [
            "\n",
            " 90%|█████████ | 18/20 [00:00<00:00, 25.38it/s]\u001b[A"
          ]
        },
        {
          "output_type": "stream",
          "name": "stdout",
          "text": [
            "0.5835137\n",
            "Iteration Iteration Iteration Iteration Iteration iterations Iteration Plan Iteration\n",
            "entity number 16\n",
            "0.6760683\n",
            "schedules feature development Feature A Feature A Feature B Feature C Feature D User Story User Story User Story User Story User Story Prioritized features\n",
            "entity number 17\n",
            "0.46085763\n",
            "user stories\n",
            "entity number 18\n",
            "0.7022358\n",
            "Task A Hours story points Task B Hours Tasks"
          ]
        },
        {
          "output_type": "stream",
          "name": "stderr",
          "text": [
            "100%|██████████| 20/20 [00:00<00:00, 25.12it/s]\n",
            " 63%|██████▎   | 136/216 [00:54<00:58,  1.36it/s]"
          ]
        },
        {
          "output_type": "stream",
          "name": "stdout",
          "text": [
            "\n",
            "entity number 19\n",
            "0.85584694\n",
            "Task C Hours\n",
            "this is the size of the synonyms list 136\n",
            "this is the size of the concept_range list 136\n",
            "row number 136\n"
          ]
        },
        {
          "output_type": "stream",
          "name": "stderr",
          "text": [
            "\n",
            "  0%|          | 0/8 [00:00<?, ?it/s]\u001b[A"
          ]
        },
        {
          "output_type": "stream",
          "name": "stdout",
          "text": [
            "entity number 0\n"
          ]
        },
        {
          "output_type": "stream",
          "name": "stderr",
          "text": [
            "\n",
            " 38%|███▊      | 3/8 [00:00<00:00, 25.54it/s]\u001b[A"
          ]
        },
        {
          "output_type": "stream",
          "name": "stdout",
          "text": [
            "0.8533693\n",
            "version schedule model\n",
            "entity number 1\n",
            "0.72885215\n",
            "version schedule model\n",
            "entity number 2\n",
            "0.63391274\n",
            "change control procedures\n",
            "entity number 3\n",
            "0.6606976\n",
            "basis comparison results\n",
            "entity number 4\n",
            "0.7293074\n",
            "stakeholders schedule baseline start dates dates monitoring\n",
            "entity number 5\n"
          ]
        },
        {
          "output_type": "stream",
          "name": "stderr",
          "text": [
            "\n",
            " 75%|███████▌  | 6/8 [00:00<00:00, 25.73it/s]\u001b[A"
          ]
        },
        {
          "output_type": "stream",
          "name": "stdout",
          "text": [
            "0.84062296\n",
            "start dates\n",
            "entity number 6\n"
          ]
        },
        {
          "output_type": "stream",
          "name": "stderr",
          "text": [
            "100%|██████████| 8/8 [00:00<00:00, 24.99it/s]\n",
            " 63%|██████▎   | 137/216 [00:54<00:48,  1.62it/s]"
          ]
        },
        {
          "output_type": "stream",
          "name": "stdout",
          "text": [
            "0.5178028\n",
            "start dates\n",
            "entity number 7\n",
            "0.6048065\n",
            "variance\n",
            "this is the size of the synonyms list 137\n",
            "this is the size of the concept_range list 137\n",
            "row number 137\n"
          ]
        },
        {
          "output_type": "stream",
          "name": "stderr",
          "text": [
            "\n",
            "  0%|          | 0/59 [00:00<?, ?it/s]\u001b[A"
          ]
        },
        {
          "output_type": "stream",
          "name": "stdout",
          "text": [
            "entity number 0\n",
            "0.78955865\n",
            "project schedule\n",
            "entity number 1\n",
            "0.6715037\n",
            "output schedule model\n",
            "entity number 2\n"
          ]
        },
        {
          "output_type": "stream",
          "name": "stderr",
          "text": [
            "\n",
            "  5%|▌         | 3/59 [00:00<00:02, 25.67it/s]\u001b[A"
          ]
        },
        {
          "output_type": "stream",
          "name": "stdout",
          "text": [
            "0.51711893\n",
            "activities\n",
            "entity number 3\n",
            "0.76663303\n",
            "dates duration milestones resources minimum project schedule\n",
            "entity number 4\n",
            "0.8162695\n",
            "date activity resource planning\n",
            "entity number 5\n"
          ]
        },
        {
          "output_type": "stream",
          "name": "stderr",
          "text": [
            "\n",
            " 10%|█         | 6/59 [00:00<00:01, 26.68it/s]\u001b[A"
          ]
        },
        {
          "output_type": "stream",
          "name": "stdout",
          "text": [
            "0.7246872\n",
            "date activity resource planning\n",
            "entity number 6\n",
            "0.55219245\n",
            "stage project schedule\n",
            "entity number 7\n",
            "0.6282251\n",
            "resource signs\n",
            "entity number 8\n"
          ]
        },
        {
          "output_type": "stream",
          "name": "stderr",
          "text": [
            "\n",
            " 15%|█▌        | 9/59 [00:00<00:01, 25.88it/s]\u001b[A"
          ]
        },
        {
          "output_type": "stream",
          "name": "stdout",
          "text": [
            "0.723166\n",
            "start dates\n",
            "entity number 9\n",
            "0.53298736\n",
            "process\n",
            "entity number 10\n",
            "0.8876636\n",
            "target start target finish activity project schedule\n",
            "entity number 11\n"
          ]
        },
        {
          "output_type": "stream",
          "name": "stderr",
          "text": [
            "\n",
            " 20%|██        | 12/59 [00:00<00:01, 26.33it/s]\u001b[A"
          ]
        },
        {
          "output_type": "stream",
          "name": "stdout",
          "text": [
            "0.5443561\n",
            "target start target finish activity project schedule\n",
            "entity number 12\n",
            "0.5993725\n",
            "form\n",
            "entity number 13\n",
            "0.76528585\n",
            "master schedule milestone schedule\n",
            "entity number 14\n"
          ]
        },
        {
          "output_type": "stream",
          "name": "stderr",
          "text": [
            "\n",
            " 25%|██▌       | 15/59 [00:00<00:01, 26.24it/s]\u001b[A"
          ]
        },
        {
          "output_type": "stream",
          "name": "stdout",
          "text": [
            "0.6624768\n",
            "detail project schedule model\n",
            "entity number 15\n",
            "0.52642703\n",
            "form\n",
            "entity number 16\n",
            "0.44965535\n",
            "formats Bar charts\n",
            "entity number 17\n"
          ]
        },
        {
          "output_type": "stream",
          "name": "stderr",
          "text": [
            "\n",
            " 31%|███       | 18/59 [00:00<00:01, 25.52it/s]\u001b[A"
          ]
        },
        {
          "output_type": "stream",
          "name": "stdout",
          "text": [
            "0.37385297\n",
            "Want\n",
            "entity number 18\n",
            "0.5539922\n",
            "bar charts\n",
            "entity number 19\n"
          ]
        },
        {
          "output_type": "stream",
          "name": "stderr",
          "text": [
            "\n",
            " 36%|███▌      | 21/59 [00:00<00:01, 25.47it/s]\u001b[A"
          ]
        },
        {
          "output_type": "stream",
          "name": "stdout",
          "text": [
            "0.6619929\n",
            "schedule information activities\n",
            "entity number 20\n",
            "0.8679039\n",
            "axis activity duration\n",
            "entity number 21\n",
            "0.6780308\n",
            "axis activity duration\n",
            "entity number 22\n",
            "0.51713455\n",
            "bars\n",
            "entity number 23\n"
          ]
        },
        {
          "output_type": "stream",
          "name": "stderr",
          "text": [
            "\n",
            " 41%|████      | 24/59 [00:00<00:01, 25.63it/s]\u001b[A"
          ]
        },
        {
          "output_type": "stream",
          "name": "stdout",
          "text": [
            "0.38480332\n",
            "dates Bar charts\n",
            "entity number 24\n",
            "0.37822804\n",
            "audience float\n",
            "entity number 25\n"
          ]
        },
        {
          "output_type": "stream",
          "name": "stderr",
          "text": [
            "\n",
            " 46%|████▌     | 27/59 [00:01<00:01, 25.77it/s]\u001b[A"
          ]
        },
        {
          "output_type": "stream",
          "name": "stdout",
          "text": [
            "0.6799507\n",
            "control management communications activity\n",
            "entity number 26\n",
            "0.40657037\n",
            "milestones interdependent work packages\n",
            "entity number 27\n",
            "0.5892617\n",
            "bar chart\n",
            "entity number 28\n"
          ]
        },
        {
          "output_type": "stream",
          "name": "stderr",
          "text": [
            "\n",
            " 51%|█████     | 30/59 [00:01<00:01, 25.24it/s]\u001b[A"
          ]
        },
        {
          "output_type": "stream",
          "name": "stdout",
          "text": [
            "0.75182486\n",
            "example\n",
            "entity number 29\n",
            "0.75076425\n",
            "schedule portion Figure\n",
            "entity number 30\n",
            "0.6894069\n",
            "format Milestone\n",
            "entity number 31\n"
          ]
        },
        {
          "output_type": "stream",
          "name": "stderr",
          "text": [
            "\n",
            " 56%|█████▌    | 33/59 [00:01<00:01, 25.67it/s]\u001b[A"
          ]
        },
        {
          "output_type": "stream",
          "name": "stdout",
          "text": [
            "0.99999976\n",
            "charts\n",
            "entity number 32\n",
            "0.5924869\n",
            "charts\n",
            "entity number 33\n",
            "0.80576825\n",
            "milestone schedule portion Figure Project schedule network\n",
            "entity number 34\n"
          ]
        },
        {
          "output_type": "stream",
          "name": "stderr",
          "text": [
            "\n",
            " 61%|██████    | 36/59 [00:01<00:00, 25.49it/s]\u001b[A"
          ]
        },
        {
          "output_type": "stream",
          "name": "stdout",
          "text": [
            "0.60453224\n",
            "milestone schedule portion Figure Project schedule network\n",
            "entity number 35\n",
            "0.7701588\n",
            "diagrams\n",
            "entity number 36\n",
            "0.72388846\n",
            "activity node diagram format\n",
            "entity number 37\n"
          ]
        },
        {
          "output_type": "stream",
          "name": "stderr",
          "text": [
            "\n",
            " 66%|██████▌   | 39/59 [00:01<00:00, 26.07it/s]\u001b[A"
          ]
        },
        {
          "output_type": "stream",
          "name": "stdout",
          "text": [
            "0.36358184\n",
            "activities relationships time scale\n",
            "entity number 38\n",
            "0.65695703\n",
            "pure diagram\n",
            "entity number 39\n",
            "0.8648836\n",
            "time\n",
            "entity number 40\n"
          ]
        },
        {
          "output_type": "stream",
          "name": "stderr",
          "text": [
            "\n",
            " 71%|███████   | 42/59 [00:01<00:00, 26.25it/s]\u001b[A"
          ]
        },
        {
          "output_type": "stream",
          "name": "stdout",
          "text": [
            "0.5368991\n",
            "time\n",
            "entity number 41\n",
            "0.5285116\n",
            "schedule network diagram format\n",
            "entity number 42\n",
            "0.5533644\n",
            "bar chart\n",
            "entity number 43\n"
          ]
        },
        {
          "output_type": "stream",
          "name": "stderr",
          "text": [
            "\n",
            " 76%|███████▋  | 45/59 [00:01<00:00, 25.45it/s]\u001b[A"
          ]
        },
        {
          "output_type": "stream",
          "name": "stdout",
          "text": [
            "0.63448215\n",
            "schedule Figure diagrams activity date information\n",
            "entity number 44\n",
            "0.71288127\n",
            "project network logic project\n",
            "entity number 45\n"
          ]
        },
        {
          "output_type": "stream",
          "name": "stderr",
          "text": [
            "\n",
            " 81%|████████▏ | 48/59 [00:01<00:00, 25.70it/s]\u001b[A"
          ]
        },
        {
          "output_type": "stream",
          "name": "stdout",
          "text": [
            "0.7251124\n",
            "path schedule activities example\n",
            "entity number 46\n",
            "0.68191993\n",
            "work package\n",
            "entity number 47\n",
            "0.5253434\n",
            "series activities presentation project schedule network diagram\n",
            "entity number 48\n",
            "0.44095138\n",
            "time\n",
            "entity number 49\n"
          ]
        },
        {
          "output_type": "stream",
          "name": "stderr",
          "text": [
            "\n",
            " 86%|████████▋ | 51/59 [00:01<00:00, 26.18it/s]\u001b[A"
          ]
        },
        {
          "output_type": "stream",
          "name": "stdout",
          "text": [
            "0.43120793\n",
            "diagram diagrams\n",
            "entity number 50\n",
            "0.59351325\n",
            "time scale bars\n",
            "entity number 51\n"
          ]
        },
        {
          "output_type": "stream",
          "name": "stderr",
          "text": [
            "\n",
            " 92%|█████████▏| 54/59 [00:02<00:00, 26.43it/s]\u001b[A"
          ]
        },
        {
          "output_type": "stream",
          "name": "stdout",
          "text": [
            "0.7735097\n",
            "duration activities relationships\n",
            "entity number 52\n",
            "0.6231546\n",
            "relationships activities number activities\n",
            "entity number 53\n",
            "0.67385083\n",
            "line diagram sequence Figure\n",
            "entity number 54\n",
            "0.6329782\n",
            "schedule presentations sample project\n",
            "entity number 55\n"
          ]
        },
        {
          "output_type": "stream",
          "name": "stderr",
          "text": [
            "\n",
            " 97%|█████████▋| 57/59 [00:02<00:00, 26.51it/s]\u001b[A"
          ]
        },
        {
          "output_type": "stream",
          "name": "stdout",
          "text": [
            "0.5928252\n",
            "work progress\n",
            "entity number 56\n",
            "0.82968396\n",
            "presentations forms milestone schedule milestone chart schedule bar chart schedule project schedule\n",
            "entity number 57\n"
          ]
        },
        {
          "output_type": "stream",
          "name": "stderr",
          "text": [
            "100%|██████████| 59/59 [00:02<00:00, 25.84it/s]\n",
            " 64%|██████▍   | 138/216 [00:57<01:27,  1.12s/it]"
          ]
        },
        {
          "output_type": "stream",
          "name": "stdout",
          "text": [
            "0.56274664\n",
            "presentations forms milestone schedule milestone chart schedule bar chart schedule project schedule\n",
            "entity number 58\n",
            "0.3000991\n",
            "bar chart diagram Figure\n",
            "this is the size of the synonyms list 138\n",
            "this is the size of the concept_range list 138\n",
            "row number 138\n"
          ]
        },
        {
          "output_type": "stream",
          "name": "stderr",
          "text": [
            "\n",
            "  0%|          | 0/7 [00:00<?, ?it/s]\u001b[A"
          ]
        },
        {
          "output_type": "stream",
          "name": "stdout",
          "text": [
            "entity number 0\n",
            "0.79062945\n",
            "schedule data project schedule model\n",
            "entity number 1\n"
          ]
        },
        {
          "output_type": "stream",
          "name": "stderr",
          "text": [
            "\n",
            " 43%|████▎     | 3/7 [00:00<00:00, 25.39it/s]\u001b[A"
          ]
        },
        {
          "output_type": "stream",
          "name": "stdout",
          "text": [
            "0.7919651\n",
            "collection information describing\n",
            "entity number 2\n",
            "0.87342393\n",
            "schedule milestones schedule activities activity attributes documentation\n",
            "entity number 3\n",
            "0.638826\n",
            "schedule milestones schedule activities activity attributes documentation\n",
            "entity number 4\n",
            "0.51535183\n",
            "assumptions constraints amount data varies application area Information\n",
            "entity number 5\n"
          ]
        },
        {
          "output_type": "stream",
          "name": "stderr",
          "text": [
            "\n",
            " 86%|████████▌ | 6/7 [00:00<00:00, 26.14it/s]\u001b[A"
          ]
        },
        {
          "output_type": "stream",
          "name": "stdout",
          "text": [
            "0.5657117\n",
            "detail\n",
            "entity number 6\n"
          ]
        },
        {
          "output_type": "stream",
          "name": "stderr",
          "text": [
            "\r100%|██████████| 7/7 [00:00<00:00, 24.83it/s]"
          ]
        },
        {
          "output_type": "stream",
          "name": "stdout",
          "text": [
            "0.8453966\n",
            "dates Applied schedule reserves Schedule data\n"
          ]
        },
        {
          "output_type": "stream",
          "name": "stderr",
          "text": [
            "\n",
            "\r 64%|██████▍   | 139/216 [00:57<01:07,  1.15it/s]"
          ]
        },
        {
          "output_type": "stream",
          "name": "stdout",
          "text": [
            "this is the size of the synonyms list 139\n",
            "this is the size of the concept_range list 139\n",
            "row number 139\n"
          ]
        },
        {
          "output_type": "stream",
          "name": "stderr",
          "text": [
            "\n",
            "  0%|          | 0/9 [00:00<?, ?it/s]\u001b[A"
          ]
        },
        {
          "output_type": "stream",
          "name": "stdout",
          "text": [
            "entity number 0\n",
            "0.6112123\n",
            "project calendar identifies\n",
            "entity number 1\n"
          ]
        },
        {
          "output_type": "stream",
          "name": "stderr",
          "text": [
            "\n",
            " 33%|███▎      | 3/9 [00:00<00:00, 26.44it/s]\u001b[A"
          ]
        },
        {
          "output_type": "stream",
          "name": "stdout",
          "text": [
            "0.48044613\n",
            "days shifts\n",
            "entity number 2\n",
            "0.48896244\n",
            "activities\n",
            "entity number 3\n",
            "0.6373133\n",
            "time periods days parts days\n",
            "entity number 4\n",
            "0.70993805\n",
            "activities time periods\n",
            "entity number 5\n"
          ]
        },
        {
          "output_type": "stream",
          "name": "stderr",
          "text": [
            "\n",
            " 67%|██████▋   | 6/9 [00:00<00:00, 25.18it/s]\u001b[A"
          ]
        },
        {
          "output_type": "stream",
          "name": "stdout",
          "text": [
            "0.835292\n",
            "project calendar\n",
            "entity number 6\n",
            "0.71293974\n",
            "project calendar\n",
            "entity number 7\n"
          ]
        },
        {
          "output_type": "stream",
          "name": "stderr",
          "text": [
            "\n",
            "100%|██████████| 9/9 [00:00<00:00, 25.97it/s]\n",
            " 65%|██████▍   | 140/216 [00:57<00:54,  1.39it/s]"
          ]
        },
        {
          "output_type": "stream",
          "name": "stdout",
          "text": [
            "0.63325256\n",
            "work periods activities\n",
            "entity number 8\n",
            "0.99999994\n",
            "project\n",
            "this is the size of the synonyms list 140\n",
            "this is the size of the concept_range list 140\n",
            "row number 140\n"
          ]
        },
        {
          "output_type": "stream",
          "name": "stderr",
          "text": [
            "\n",
            "  0%|          | 0/3 [00:00<?, ?it/s]\u001b[A"
          ]
        },
        {
          "output_type": "stream",
          "name": "stdout",
          "text": [
            "entity number 0\n",
            "0.82870984\n",
            "change requests scope baseline commons project management plan Change requests\n",
            "entity number 1\n",
            "0.8412814\n",
            "review disposition Perform Integrated Change Control process Section Preventive actions\n",
            "entity number 2\n",
            "0.54217327"
          ]
        },
        {
          "output_type": "stream",
          "name": "stderr",
          "text": [
            "\n",
            "100%|██████████| 3/3 [00:00<00:00, 22.02it/s]\n",
            " 65%|██████▌   | 141/216 [00:57<00:41,  1.83it/s]"
          ]
        },
        {
          "output_type": "stream",
          "name": "stdout",
          "text": [
            "\n",
            "review disposition Perform Integrated Change Control process Section Preventive actions\n",
            "this is the size of the synonyms list 141\n",
            "this is the size of the concept_range list 141\n",
            "row number 141\n"
          ]
        },
        {
          "output_type": "stream",
          "name": "stderr",
          "text": [
            "\n",
            "  0%|          | 0/9 [00:00<?, ?it/s]\u001b[A"
          ]
        },
        {
          "output_type": "stream",
          "name": "stdout",
          "text": [
            "entity number 0\n",
            "0.8970264\n",
            "organization change control process change request Components\n",
            "entity number 1\n",
            "0.9287173\n",
            "change request project management plan\n",
            "entity number 2\n"
          ]
        },
        {
          "output_type": "stream",
          "name": "stderr",
          "text": [
            "\n",
            " 33%|███▎      | 3/9 [00:00<00:00, 23.87it/s]\u001b[A"
          ]
        },
        {
          "output_type": "stream",
          "name": "stdout",
          "text": [
            "0.82058036\n",
            "Schedule management plan schedule management plan\n",
            "entity number 3\n",
            "0.7814876\n",
            "Schedule management plan schedule management plan\n",
            "entity number 4\n"
          ]
        },
        {
          "output_type": "stream",
          "name": "stderr",
          "text": [
            "\n",
            " 67%|██████▋   | 6/9 [00:00<00:00, 24.17it/s]\u001b[A"
          ]
        },
        {
          "output_type": "stream",
          "name": "stdout",
          "text": [
            "0.78610736\n",
            "change way schedule\n",
            "entity number 5\n",
            "0.6644887\n",
            "Cost baseline Changes cost baseline\n",
            "entity number 6\n",
            "0.6420039\n",
            "response\n",
            "entity number 7\n",
            "0.6161796\n",
            "changes scope resources cost estimates cases\n",
            "entity number 8\n"
          ]
        },
        {
          "output_type": "stream",
          "name": "stderr",
          "text": [
            "\n",
            "100%|██████████| 9/9 [00:00<00:00, 23.17it/s]\n",
            " 66%|██████▌   | 142/216 [00:58<00:37,  1.99it/s]"
          ]
        },
        {
          "output_type": "stream",
          "name": "stdout",
          "text": [
            "0.7093835\n",
            "variance\n",
            "this is the size of the synonyms list 142\n",
            "this is the size of the concept_range list 142\n",
            "row number 142\n"
          ]
        },
        {
          "output_type": "stream",
          "name": "stderr",
          "text": [
            "\n",
            "  0%|          | 0/25 [00:00<?, ?it/s]\u001b[A"
          ]
        },
        {
          "output_type": "stream",
          "name": "stdout",
          "text": [
            "entity number 0\n",
            "0.6835313\n",
            "Project Document\n",
            "entity number 1\n",
            "0.8931931\n",
            "process\n",
            "entity number 2\n"
          ]
        },
        {
          "output_type": "stream",
          "name": "stderr",
          "text": [
            "\n",
            " 12%|█▏        | 3/25 [00:00<00:00, 23.87it/s]\u001b[A"
          ]
        },
        {
          "output_type": "stream",
          "name": "stdout",
          "text": [
            "0.749141\n",
            "process\n",
            "entity number 3\n",
            "0.89222014\n",
            "Activity attributes\n",
            "entity number 4\n"
          ]
        },
        {
          "output_type": "stream",
          "name": "stderr",
          "text": [
            "\n",
            " 24%|██▍       | 6/25 [00:00<00:00, 24.45it/s]"
          ]
        },
        {
          "output_type": "stream",
          "name": "stdout",
          "text": [
            "0.73037106\n",
            "Activity attributes\n",
            "entity number 5\n",
            "0.8473655\n",
            "Develop Schedule process Assumption\n"
          ]
        },
        {
          "output_type": "stream",
          "name": "stderr",
          "text": [
            "\u001b[A"
          ]
        },
        {
          "output_type": "stream",
          "name": "stdout",
          "text": [
            "entity number 6\n",
            "0.8038006\n",
            "assumption log\n",
            "entity number 7\n"
          ]
        },
        {
          "output_type": "stream",
          "name": "stderr",
          "text": [
            "\n",
            " 36%|███▌      | 9/25 [00:00<00:00, 25.51it/s]\u001b[A"
          ]
        },
        {
          "output_type": "stream",
          "name": "stdout",
          "text": [
            "0.65125567\n",
            "assumption log\n",
            "entity number 8\n",
            "0.528113\n",
            "changes assumptions duration resource utilization sequencing information\n",
            "entity number 9\n",
            "0.6987833\n",
            "result\n",
            "entity number 10\n"
          ]
        },
        {
          "output_type": "stream",
          "name": "stderr",
          "text": [
            "\n",
            " 48%|████▊     | 12/25 [00:00<00:00, 26.53it/s]"
          ]
        },
        {
          "output_type": "stream",
          "name": "stdout",
          "text": [
            "0.7583732\n",
            "schedule model Duration\n",
            "entity number 11\n",
            "0.67498404\n",
            "number availability resources activity dependencies\n"
          ]
        },
        {
          "output_type": "stream",
          "name": "stderr",
          "text": [
            "\u001b[A"
          ]
        },
        {
          "output_type": "stream",
          "name": "stdout",
          "text": [
            "entity number 12\n",
            "0.6600385\n",
            "change duration\n",
            "entity number 13\n"
          ]
        },
        {
          "output_type": "stream",
          "name": "stderr",
          "text": [
            "\n",
            " 60%|██████    | 15/25 [00:00<00:00, 26.48it/s]\u001b[A"
          ]
        },
        {
          "output_type": "stream",
          "name": "stdout",
          "text": [
            "0.8599703\n",
            "resource Requirements duration estimates\n",
            "entity number 14\n",
            "0.60289025\n",
            "resource Requirements duration estimates\n",
            "entity number 15\n",
            "1.0\n",
            "lessons\n",
            "entity number 16\n",
            "0.7040371\n",
            "lessons\n",
            "entity number 17\n"
          ]
        },
        {
          "output_type": "stream",
          "name": "stderr",
          "text": [
            "\n",
            " 72%|███████▏  | 18/25 [00:00<00:00, 26.48it/s]\u001b[A"
          ]
        },
        {
          "output_type": "stream",
          "name": "stdout",
          "text": [
            "0.8007765\n",
            "techniques\n",
            "entity number 18\n",
            "0.6863129\n",
            "techniques\n",
            "entity number 19\n"
          ]
        },
        {
          "output_type": "stream",
          "name": "stderr",
          "text": [
            "\n",
            " 84%|████████▍ | 21/25 [00:00<00:00, 27.02it/s]\u001b[A"
          ]
        },
        {
          "output_type": "stream",
          "name": "stdout",
          "text": [
            "0.8540261\n",
            "effect estimates types quantities resources\n",
            "entity number 20\n",
            "0.847733\n",
            "resource leveling analysis\n",
            "entity number 21\n",
            "0.8920525\n",
            "resource Requirements resource Requirements\n",
            "entity number 22\n",
            "0.70626414\n",
            "resource Requirements resource Requirements\n",
            "entity number 23\n"
          ]
        },
        {
          "output_type": "stream",
          "name": "stderr",
          "text": [
            "\n",
            " 96%|█████████▌| 24/25 [00:00<00:00, 25.50it/s]\u001b[A"
          ]
        },
        {
          "output_type": "stream",
          "name": "stdout",
          "text": [
            "0.8921578\n",
            "risk register\n",
            "entity number 24\n"
          ]
        },
        {
          "output_type": "stream",
          "name": "stderr",
          "text": [
            "100%|██████████| 25/25 [00:00<00:00, 25.55it/s]\n",
            " 66%|██████▌   | 143/216 [00:59<00:47,  1.54it/s]"
          ]
        },
        {
          "output_type": "stream",
          "name": "stdout",
          "text": [
            "0.8100399\n",
            "opportunities threats\n",
            "this is the size of the synonyms list 143\n",
            "this is the size of the concept_range list 143\n",
            "row number 143\n"
          ]
        },
        {
          "output_type": "stream",
          "name": "stderr",
          "text": [
            "\n",
            "  0%|          | 0/5 [00:00<?, ?it/s]\u001b[A"
          ]
        },
        {
          "output_type": "stream",
          "name": "stdout",
          "text": [
            "entity number 0\n",
            "0.75635374\n",
            "Control Schedule\n",
            "entity number 1\n",
            "0.7622487\n",
            "process\n",
            "entity number 2\n"
          ]
        },
        {
          "output_type": "stream",
          "name": "stderr",
          "text": [
            "\n",
            " 60%|██████    | 3/5 [00:00<00:00, 25.53it/s]\u001b[A"
          ]
        },
        {
          "output_type": "stream",
          "name": "stdout",
          "text": [
            "0.7018517\n",
            "status project\n",
            "entity number 3\n",
            "0.7003121\n",
            "project schedule managing changes schedule benefit process\n",
            "entity number 4\n"
          ]
        },
        {
          "output_type": "stream",
          "name": "stderr",
          "text": [
            "100%|██████████| 5/5 [00:00<00:00, 24.64it/s]\n",
            " 67%|██████▋   | 144/216 [00:59<00:37,  1.92it/s]"
          ]
        },
        {
          "output_type": "stream",
          "name": "stdout",
          "text": [
            "0.7645401\n",
            "schedule baseline\n",
            "this is the size of the synonyms list 144\n",
            "this is the size of the concept_range list 144\n",
            "row number 144\n"
          ]
        },
        {
          "output_type": "stream",
          "name": "stderr",
          "text": [
            "\n",
            "  0%|          | 0/15 [00:00<?, ?it/s]\u001b[A"
          ]
        },
        {
          "output_type": "stream",
          "name": "stdout",
          "text": [
            "entity number 0\n",
            "0.7083924\n",
            "Project management plan commons\n",
            "entity number 1\n",
            "0.78630716\n",
            "Schedule management plan schedule management\n",
            "entity number 2\n"
          ]
        },
        {
          "output_type": "stream",
          "name": "stderr",
          "text": [
            "\n",
            " 20%|██        | 3/15 [00:00<00:00, 24.14it/s]\u001b[A"
          ]
        },
        {
          "output_type": "stream",
          "name": "stdout",
          "text": [
            "0.661102\n",
            "frequency schedule\n",
            "entity number 3\n",
            "0.76599944\n",
            "reserve\n",
            "entity number 4\n",
            "0.9999999\n",
            "Schedule\n",
            "entity number 5\n"
          ]
        },
        {
          "output_type": "stream",
          "name": "stderr",
          "text": [
            "\n",
            " 40%|████      | 6/15 [00:00<00:00, 24.82it/s]\u001b[A"
          ]
        },
        {
          "output_type": "stream",
          "name": "stdout",
          "text": [
            "0.9045559\n",
            "schedule baseline\n",
            "entity number 6\n",
            "0.6766164\n",
            "schedule baseline\n",
            "entity number 7\n",
            "0.6571133\n",
            "results\n",
            "entity number 8\n"
          ]
        },
        {
          "output_type": "stream",
          "name": "stderr",
          "text": [
            "\n",
            " 60%|██████    | 9/15 [00:00<00:00, 25.76it/s]\u001b[A"
          ]
        },
        {
          "output_type": "stream",
          "name": "stdout",
          "text": [
            "0.63094306\n",
            "change action action\n",
            "entity number 9\n",
            "0.7307835\n",
            "Scope baseline project deliverables constraints assumptions\n",
            "entity number 10\n",
            "0.8177353\n",
            "monitoring\n",
            "entity number 11\n"
          ]
        },
        {
          "output_type": "stream",
          "name": "stderr",
          "text": [
            "\n",
            " 80%|████████  | 12/15 [00:00<00:00, 25.69it/s]\u001b[A"
          ]
        },
        {
          "output_type": "stream",
          "name": "stdout",
          "text": [
            "0.7192994\n",
            "monitoring\n",
            "entity number 12\n",
            "0.8846127\n",
            "value analysis performance measurement baseline\n",
            "entity number 13\n",
            "0.63439906\n",
            "value analysis performance measurement baseline\n",
            "entity number 14\n"
          ]
        },
        {
          "output_type": "stream",
          "name": "stderr",
          "text": [
            "\n",
            "100%|██████████| 15/15 [00:00<00:00, 25.34it/s]\n",
            " 67%|██████▋   | 145/216 [01:00<00:38,  1.84it/s]"
          ]
        },
        {
          "output_type": "stream",
          "name": "stdout",
          "text": [
            "0.6571133\n",
            "results\n",
            "this is the size of the synonyms list 145\n",
            "this is the size of the concept_range list 145\n",
            "row number 145\n"
          ]
        },
        {
          "output_type": "stream",
          "name": "stderr",
          "text": [
            "\n",
            "  0%|          | 0/15 [00:00<?, ?it/s]\u001b[A"
          ]
        },
        {
          "output_type": "stream",
          "name": "stdout",
          "text": [
            "entity number 0\n",
            "0.75378215\n",
            "Project Document\n",
            "entity number 1\n",
            "0.6976648\n",
            "inputs process\n",
            "entity number 2\n"
          ]
        },
        {
          "output_type": "stream",
          "name": "stderr",
          "text": [
            "\n",
            " 20%|██        | 3/15 [00:00<00:00, 23.99it/s]\u001b[A"
          ]
        },
        {
          "output_type": "stream",
          "name": "stdout",
          "text": [
            "1.0\n",
            "Lessons\n",
            "entity number 3\n",
            "0.7448306\n",
            "Lessons\n",
            "entity number 4\n",
            "0.90221786\n",
            "phases project\n",
            "entity number 5\n"
          ]
        },
        {
          "output_type": "stream",
          "name": "stderr",
          "text": [
            "\n",
            " 40%|████      | 6/15 [00:00<00:00, 22.62it/s]\u001b[A"
          ]
        },
        {
          "output_type": "stream",
          "name": "stdout",
          "text": [
            "0.80210614\n",
            "schedule control Project\n",
            "entity number 6\n",
            "0.9316581\n",
            "schedule model\n",
            "entity number 7\n"
          ]
        },
        {
          "output_type": "stream",
          "name": "stderr",
          "text": [
            "\n",
            " 60%|██████    | 9/15 [00:00<00:00, 24.71it/s]\u001b[A"
          ]
        },
        {
          "output_type": "stream",
          "name": "stdout",
          "text": [
            "0.8670838\n",
            "project calendar\n",
            "entity number 8\n",
            "0.71293974\n",
            "project calendar\n",
            "entity number 9\n",
            "0.66265786\n",
            "work periods activities\n",
            "entity number 10\n",
            "0.5766175\n",
            "schedule forecasts Project schedule Project schedule refers version notations\n",
            "entity number 11\n"
          ]
        },
        {
          "output_type": "stream",
          "name": "stderr",
          "text": [
            "\n",
            " 80%|████████  | 12/15 [00:00<00:00, 25.31it/s]\u001b[A"
          ]
        },
        {
          "output_type": "stream",
          "name": "stdout",
          "text": [
            "0.7683928\n",
            "updates\n",
            "entity number 12\n",
            "0.71199256\n",
            "activities\n",
            "entity number 13\n"
          ]
        },
        {
          "output_type": "stream",
          "name": "stderr",
          "text": [
            "\n",
            "100%|██████████| 15/15 [00:00<00:00, 24.62it/s]\n",
            " 68%|██████▊   | 146/216 [01:00<00:39,  1.76it/s]"
          ]
        },
        {
          "output_type": "stream",
          "name": "stdout",
          "text": [
            "0.7965709\n",
            "activities date Resource\n",
            "entity number 14\n",
            "0.7522949\n",
            "Resource calendars\n",
            "this is the size of the synonyms list 146\n",
            "this is the size of the concept_range list 146\n",
            "row number 146\n"
          ]
        },
        {
          "output_type": "stream",
          "name": "stderr",
          "text": [
            "\n",
            "  0%|          | 0/2 [00:00<?, ?it/s]\u001b[A"
          ]
        },
        {
          "output_type": "stream",
          "name": "stdout",
          "text": [
            "entity number 0\n",
            "0.64398533\n",
            "Work performance data contains data project status activities\n",
            "entity number 1\n"
          ]
        },
        {
          "output_type": "stream",
          "name": "stderr",
          "text": [
            "100%|██████████| 2/2 [00:00<00:00, 21.28it/s]\n",
            " 68%|██████▊   | 147/216 [01:00<00:29,  2.33it/s]"
          ]
        },
        {
          "output_type": "stream",
          "name": "stdout",
          "text": [
            "0.6929437\n",
            "progress duration\n",
            "this is the size of the synonyms list 147\n",
            "this is the size of the concept_range list 147\n",
            "row number 147\n"
          ]
        },
        {
          "output_type": "stream",
          "name": "stderr",
          "text": [
            "\n",
            "  0%|          | 0/3 [00:00<?, ?it/s]\u001b[A"
          ]
        },
        {
          "output_type": "stream",
          "name": "stdout",
          "text": [
            "entity number 0\n",
            "0.7844753\n",
            "process sets\n",
            "entity number 1\n",
            "0.767238\n",
            "Control Schedule process include\n",
            "entity number 2\n"
          ]
        },
        {
          "output_type": "stream",
          "name": "stderr",
          "text": [
            "\n",
            "100%|██████████| 3/3 [00:00<00:00, 23.24it/s]\n",
            " 69%|██████▊   | 148/216 [01:00<00:23,  2.92it/s]"
          ]
        },
        {
          "output_type": "stream",
          "name": "stdout",
          "text": [
            "0.59867156\n",
            "Existing schedule control policies procedures guidelines Schedule control tools Monitoring\n",
            "this is the size of the synonyms list 148\n",
            "this is the size of the concept_range list 148\n",
            "row number 148\n"
          ]
        },
        {
          "output_type": "stream",
          "name": "stderr",
          "text": [
            "\n",
            "  0%|          | 0/18 [00:00<?, ?it/s]\u001b[A"
          ]
        },
        {
          "output_type": "stream",
          "name": "stdout",
          "text": [
            "entity number 0\n",
            "0.68383145\n",
            "Data analysis techniques\n",
            "entity number 1\n",
            "0.4953075\n",
            "process\n",
            "entity number 2\n"
          ]
        },
        {
          "output_type": "stream",
          "name": "stderr",
          "text": [
            "\n",
            " 17%|█▋        | 3/18 [00:00<00:00, 23.17it/s]\u001b[A"
          ]
        },
        {
          "output_type": "stream",
          "name": "stdout",
          "text": [
            "0.7434753\n",
            "Earned value analysis Schedule performance measures schedule variance S schedule performance index SPI\n",
            "entity number 3\n",
            "0.6908541\n",
            "cases magnitude variation schedule baseline Iteration\n",
            "entity number 4\n"
          ]
        },
        {
          "output_type": "stream",
          "name": "stderr",
          "text": [
            "\n"
          ]
        },
        {
          "output_type": "stream",
          "name": "stdout",
          "text": [
            "0.7377963\n",
            "chart\n",
            "entity number 5\n",
            "0.69418865\n",
            "work\n"
          ]
        },
        {
          "output_type": "stream",
          "name": "stderr",
          "text": [
            "\r 33%|███▎      | 6/18 [00:00<00:00, 24.47it/s]\u001b[A"
          ]
        },
        {
          "output_type": "stream",
          "name": "stdout",
          "text": [
            "entity number 6\n",
            "0.4557966\n",
            "iteration backlog\n",
            "entity number 7\n"
          ]
        },
        {
          "output_type": "stream",
          "name": "stderr",
          "text": [
            "\n"
          ]
        },
        {
          "output_type": "stream",
          "name": "stdout",
          "text": [
            "0.48527133\n",
            "variance respect ideal rundown\n",
            "entity number 8\n",
            "0.8219743\n",
            "iteration\n"
          ]
        },
        {
          "output_type": "stream",
          "name": "stderr",
          "text": [
            "\r 50%|█████     | 9/18 [00:00<00:00, 24.18it/s]\u001b[A"
          ]
        },
        {
          "output_type": "stream",
          "name": "stdout",
          "text": [
            "entity number 9\n",
            "0.6359326\n",
            "iteration\n",
            "entity number 10\n",
            "0.68565077\n",
            "Section A forecast trend line\n",
            "entity number 11\n"
          ]
        },
        {
          "output_type": "stream",
          "name": "stderr",
          "text": [
            "\n",
            " 67%|██████▋   | 12/18 [00:00<00:00, 24.24it/s]\u001b[A"
          ]
        },
        {
          "output_type": "stream",
          "name": "stdout",
          "text": [
            "0.6975354\n",
            "variance iteration completion\n",
            "entity number 12\n",
            "0.5673195\n",
            "actions course iteration A line\n",
            "entity number 13\n",
            "0.6287192\n",
            "rundown\n",
            "entity number 14\n"
          ]
        },
        {
          "output_type": "stream",
          "name": "stderr",
          "text": [
            "\n",
            " 83%|████████▎ | 15/18 [00:00<00:00, 23.13it/s]\u001b[A"
          ]
        },
        {
          "output_type": "stream",
          "name": "stdout",
          "text": [
            "0.65224016\n",
            "work\n",
            "entity number 15\n",
            "0.63869554\n",
            "A trend line\n",
            "entity number 16\n",
            "0.6743026\n",
            "completion\n",
            "entity number 17\n",
            "0.6090928\n"
          ]
        },
        {
          "output_type": "stream",
          "name": "stderr",
          "text": [
            "\n",
            "100%|██████████| 18/18 [00:00<00:00, 23.44it/s]\n",
            " 69%|██████▉   | 149/216 [01:01<00:31,  2.12it/s]"
          ]
        },
        {
          "output_type": "stream",
          "name": "stdout",
          "text": [
            "work Figure\n",
            "this is the size of the synonyms list 149\n",
            "this is the size of the concept_range list 149\n",
            "row number 149\n"
          ]
        },
        {
          "output_type": "stream",
          "name": "stderr",
          "text": [
            "\n",
            "  0%|          | 0/3 [00:00<?, ?it/s]\u001b[A"
          ]
        },
        {
          "output_type": "stream",
          "name": "stdout",
          "text": [
            "entity number 0\n",
            "0.7504945\n",
            "progress path\n",
            "entity number 1\n",
            "0.750166\n",
            "schedule status variance path\n",
            "entity number 2\n"
          ]
        },
        {
          "output_type": "stream",
          "name": "stderr",
          "text": [
            "\n",
            "100%|██████████| 3/3 [00:00<00:00, 21.81it/s]\n",
            " 69%|██████▉   | 150/216 [01:01<00:24,  2.67it/s]"
          ]
        },
        {
          "output_type": "stream",
          "name": "stdout",
          "text": [
            "0.6082131\n",
            "impact project end date\n",
            "this is the size of the synonyms list 150\n",
            "this is the size of the concept_range list 150\n",
            "row number 150\n"
          ]
        },
        {
          "output_type": "stream",
          "name": "stderr",
          "text": [
            "\n",
            "  0%|          | 0/6 [00:00<?, ?it/s]\u001b[A"
          ]
        },
        {
          "output_type": "stream",
          "name": "stdout",
          "text": [
            "entity number 0\n",
            "0.6785533\n",
            "Project management information systems\n",
            "entity number 1\n",
            "0.7100377\n",
            "software\n",
            "entity number 2\n"
          ]
        },
        {
          "output_type": "stream",
          "name": "stderr",
          "text": [
            "\n",
            " 50%|█████     | 3/6 [00:00<00:00, 21.68it/s]"
          ]
        },
        {
          "output_type": "stream",
          "name": "stdout",
          "text": [
            "0.67725784\n",
            "ability\n"
          ]
        },
        {
          "output_type": "stream",
          "name": "stderr",
          "text": [
            "\u001b[A"
          ]
        },
        {
          "output_type": "stream",
          "name": "stdout",
          "text": [
            "entity number 3\n",
            "0.9999999\n",
            "dates\n",
            "entity number 4\n",
            "0.5819592\n",
            "dates\n",
            "entity number 5\n"
          ]
        },
        {
          "output_type": "stream",
          "name": "stderr",
          "text": [
            "\n",
            "100%|██████████| 6/6 [00:00<00:00, 21.17it/s]\n",
            " 70%|██████▉   | 151/216 [01:02<00:22,  2.87it/s]"
          ]
        },
        {
          "output_type": "stream",
          "name": "stdout",
          "text": [
            "0.6048065\n",
            "variance\n",
            "this is the size of the synonyms list 151\n",
            "this is the size of the concept_range list 151\n",
            "row number 151\n"
          ]
        },
        {
          "output_type": "stream",
          "name": "stderr",
          "text": [
            "\n",
            "  0%|          | 0/2 [00:00<?, ?it/s]\u001b[A"
          ]
        },
        {
          "output_type": "stream",
          "name": "stdout",
          "text": [
            "entity number 0\n",
            "0.81056124\n",
            "scheduling activities resources\n",
            "entity number 1\n"
          ]
        },
        {
          "output_type": "stream",
          "name": "stderr",
          "text": [
            "100%|██████████| 2/2 [00:00<00:00, 21.28it/s]\n",
            " 70%|███████   | 152/216 [01:02<00:17,  3.61it/s]"
          ]
        },
        {
          "output_type": "stream",
          "name": "stdout",
          "text": [
            "0.74290645\n",
            "scheduling activities resources\n",
            "this is the size of the synonyms list 152\n",
            "this is the size of the concept_range list 152\n",
            "row number 152\n"
          ]
        },
        {
          "output_type": "stream",
          "name": "stderr",
          "text": [
            "\n",
            "  0%|          | 0/10 [00:00<?, ?it/s]\u001b[A"
          ]
        },
        {
          "output_type": "stream",
          "name": "stdout",
          "text": [
            "entity number 0\n",
            "0.6298284\n",
            "leads tags\n",
            "entity number 1\n",
            "0.65649116\n",
            "network analysis\n",
            "entity number 2\n"
          ]
        },
        {
          "output_type": "stream",
          "name": "stderr",
          "text": [
            "\n",
            " 30%|███       | 3/10 [00:00<00:00, 22.84it/s]\u001b[A"
          ]
        },
        {
          "output_type": "stream",
          "name": "stdout",
          "text": [
            "0.69849455\n",
            "ways\n",
            "entity number 3\n",
            "0.7873564\n",
            "project activities\n",
            "entity number 4\n",
            "0.54433227\n",
            "alignment plan example project\n",
            "entity number 5\n"
          ]
        },
        {
          "output_type": "stream",
          "name": "stderr",
          "text": [
            "\n",
            " 60%|██████    | 6/10 [00:00<00:00, 23.16it/s]\u001b[A"
          ]
        },
        {
          "output_type": "stream",
          "name": "stdout",
          "text": [
            "0.4513834\n",
            "office\n",
            "entity number 6\n",
            "0.5751256\n",
            "landscaping\n",
            "entity number 7\n",
            "0.5003493\n",
            "work building\n",
            "entity number 8\n"
          ]
        },
        {
          "output_type": "stream",
          "name": "stderr",
          "text": [
            "\n",
            " 90%|█████████ | 9/10 [00:00<00:00, 23.70it/s]\u001b[A"
          ]
        },
        {
          "output_type": "stream",
          "name": "stdout",
          "text": [
            "0.5067711\n",
            "lead time relationship writing team\n",
            "entity number 9\n"
          ]
        },
        {
          "output_type": "stream",
          "name": "stderr",
          "text": [
            "100%|██████████| 10/10 [00:00<00:00, 23.21it/s]\n",
            " 71%|███████   | 153/216 [01:02<00:20,  3.06it/s]"
          ]
        },
        {
          "output_type": "stream",
          "name": "stdout",
          "text": [
            "0.61519516\n",
            "start\n",
            "this is the size of the synonyms list 153\n",
            "this is the size of the concept_range list 153\n",
            "row number 153\n"
          ]
        },
        {
          "output_type": "stream",
          "name": "stderr",
          "text": [
            "\n",
            "  0%|          | 0/5 [00:00<?, ?it/s]\u001b[A"
          ]
        },
        {
          "output_type": "stream",
          "name": "stdout",
          "text": [
            "entity number 0\n",
            "0.62179303\n",
            "Schedule compression techniques\n",
            "entity number 1\n",
            "0.826312\n",
            "ways\n",
            "entity number 2\n"
          ]
        },
        {
          "output_type": "stream",
          "name": "stderr",
          "text": [
            "\n",
            " 60%|██████    | 3/5 [00:00<00:00, 26.06it/s]\u001b[A"
          ]
        },
        {
          "output_type": "stream",
          "name": "stdout",
          "text": [
            "0.69849455\n",
            "ways\n",
            "entity number 3\n",
            "0.6969688\n",
            "project activities\n",
            "entity number 4\n"
          ]
        },
        {
          "output_type": "stream",
          "name": "stderr",
          "text": [
            "100%|██████████| 5/5 [00:00<00:00, 25.20it/s]\n",
            " 71%|███████▏  | 154/216 [01:02<00:18,  3.42it/s]"
          ]
        },
        {
          "output_type": "stream",
          "name": "stdout",
          "text": [
            "0.7669425\n",
            "alignment plan tracking\n",
            "this is the size of the synonyms list 154\n",
            "this is the size of the concept_range list 154\n",
            "row number 154\n"
          ]
        },
        {
          "output_type": "stream",
          "name": "stderr",
          "text": [
            "\n",
            "  0%|          | 0/6 [00:00<?, ?it/s]\u001b[A"
          ]
        },
        {
          "output_type": "stream",
          "name": "stdout",
          "text": [
            "entity number 0\n",
            "0.8580651\n",
            "information project work\n",
            "entity number 1\n",
            "0.5695766\n",
            "information project work\n",
            "entity number 2\n"
          ]
        },
        {
          "output_type": "stream",
          "name": "stderr",
          "text": [
            "\n",
            " 50%|█████     | 3/6 [00:00<00:00, 24.70it/s]\u001b[A"
          ]
        },
        {
          "output_type": "stream",
          "name": "stdout",
          "text": [
            "0.58479893\n",
            "schedule baseline Variants start dates duration\n",
            "entity number 3\n",
            "0.7333108\n",
            "work package level control\n",
            "entity number 4\n",
            "0.6445081\n",
            "level projects\n",
            "entity number 5\n"
          ]
        },
        {
          "output_type": "stream",
          "name": "stderr",
          "text": [
            "\n",
            "100%|██████████| 6/6 [00:00<00:00, 22.66it/s]\n",
            " 72%|███████▏  | 155/216 [01:03<00:17,  3.48it/s]"
          ]
        },
        {
          "output_type": "stream",
          "name": "stdout",
          "text": [
            "0.6868774\n",
            "value analysis S SPI\n",
            "this is the size of the synonyms list 155\n",
            "this is the size of the concept_range list 155\n",
            "row number 155\n"
          ]
        },
        {
          "output_type": "stream",
          "name": "stderr",
          "text": [
            "\n",
            "  0%|          | 0/10 [00:00<?, ?it/s]\u001b[A"
          ]
        },
        {
          "output_type": "stream",
          "name": "stdout",
          "text": [
            "entity number 0\n",
            "0.67547816\n",
            "Schedule updates\n",
            "entity number 1\n",
            "0.8434881\n",
            "information knowledge time forecast Forecast\n",
            "entity number 2\n"
          ]
        },
        {
          "output_type": "stream",
          "name": "stderr",
          "text": [
            "\n"
          ]
        },
        {
          "output_type": "stream",
          "name": "stdout",
          "text": [
            "0.6568031\n",
            "information knowledge time forecast Forecast\n"
          ]
        },
        {
          "output_type": "stream",
          "name": "stderr",
          "text": [
            "\r 30%|███       | 3/10 [00:00<00:00, 23.86it/s]\u001b[A"
          ]
        },
        {
          "output_type": "stream",
          "name": "stdout",
          "text": [
            "entity number 3\n",
            "0.70430773\n",
            "work performance information\n",
            "entity number 4\n",
            "0.8265037\n",
            "information\n",
            "entity number 5\n"
          ]
        },
        {
          "output_type": "stream",
          "name": "stderr",
          "text": [
            "\n",
            " 60%|██████    | 6/10 [00:00<00:00, 22.57it/s]\u001b[A"
          ]
        },
        {
          "output_type": "stream",
          "name": "stdout",
          "text": [
            "0.8265037\n",
            "project\n",
            "entity number 6\n",
            "0.82634556\n",
            "performance\n",
            "entity number 7\n"
          ]
        },
        {
          "output_type": "stream",
          "name": "stderr",
          "text": [
            "\n",
            " 90%|█████████ | 9/10 [00:00<00:00, 24.03it/s]\u001b[A"
          ]
        },
        {
          "output_type": "stream",
          "name": "stdout",
          "text": [
            "1.0\n",
            "performance\n",
            "entity number 8\n",
            "0.83675444\n",
            "actions\n",
            "entity number 9\n"
          ]
        },
        {
          "output_type": "stream",
          "name": "stderr",
          "text": [
            "100%|██████████| 10/10 [00:00<00:00, 23.03it/s]\n",
            " 72%|███████▏  | 156/216 [01:03<00:20,  2.98it/s]"
          ]
        },
        {
          "output_type": "stream",
          "name": "stdout",
          "text": [
            "0.6316693\n",
            "actions\n",
            "this is the size of the synonyms list 156\n",
            "this is the size of the concept_range list 156\n",
            "row number 156\n"
          ]
        },
        {
          "output_type": "stream",
          "name": "stderr",
          "text": [
            "\n",
            "  0%|          | 0/3 [00:00<?, ?it/s]\u001b[A"
          ]
        },
        {
          "output_type": "stream",
          "name": "stdout",
          "text": [
            "entity number 0\n",
            "0.8260509\n",
            "change requests schedule baseline scope baseline commons project management plan Change requests\n",
            "entity number 1\n",
            "0.82513356\n",
            "review disposition Perform Integrated Change Control process Section Preventive actions\n",
            "entity number 2\n"
          ]
        },
        {
          "output_type": "stream",
          "name": "stderr",
          "text": [
            "\n",
            "100%|██████████| 3/3 [00:00<00:00, 24.33it/s]\n",
            " 73%|███████▎  | 157/216 [01:03<00:16,  3.63it/s]"
          ]
        },
        {
          "output_type": "stream",
          "name": "stdout",
          "text": [
            "0.54217327\n",
            "review disposition Perform Integrated Change Control process Section Preventive actions\n",
            "this is the size of the synonyms list 157\n",
            "this is the size of the concept_range list 157\n",
            "row number 157\n"
          ]
        },
        {
          "output_type": "stream",
          "name": "stderr",
          "text": [
            "\n",
            "  0%|          | 0/17 [00:00<?, ?it/s]\u001b[A"
          ]
        },
        {
          "output_type": "stream",
          "name": "stdout",
          "text": [
            "entity number 0\n",
            "0.8970264\n",
            "organization change control process change request Components\n",
            "entity number 1\n",
            "0.9287173\n",
            "change request project management plan\n",
            "entity number 2\n"
          ]
        },
        {
          "output_type": "stream",
          "name": "stderr",
          "text": [
            "\n",
            " 18%|█▊        | 3/17 [00:00<00:00, 22.39it/s]\u001b[A"
          ]
        },
        {
          "output_type": "stream",
          "name": "stdout",
          "text": [
            "0.82058036\n",
            "Schedule management plan schedule management plan\n",
            "entity number 3\n",
            "0.7814876\n",
            "Schedule management plan schedule management plan\n",
            "entity number 4\n",
            "0.86121356\n",
            "Schedule baseline Changes schedule baseline\n",
            "entity number 5\n"
          ]
        },
        {
          "output_type": "stream",
          "name": "stderr",
          "text": [
            "\n",
            " 35%|███▌      | 6/17 [00:00<00:00, 22.08it/s]\u001b[A"
          ]
        },
        {
          "output_type": "stream",
          "name": "stdout",
          "text": [
            "0.66797227\n",
            "Schedule baseline Changes schedule baseline\n",
            "entity number 6\n",
            "0.7392448\n",
            "response\n",
            "entity number 7\n"
          ]
        },
        {
          "output_type": "stream",
          "name": "stderr",
          "text": [
            "\n",
            " 53%|█████▎    | 9/17 [00:00<00:00, 24.04it/s]\u001b[A"
          ]
        },
        {
          "output_type": "stream",
          "name": "stdout",
          "text": [
            "0.58592254\n",
            "change requests\n",
            "entity number 8\n",
            "0.7768227\n",
            "project scope resources activity duration\n",
            "entity number 9\n",
            "0.59313124\n",
            "schedule baseline\n",
            "entity number 10\n",
            "0.5452135\n",
            "changes\n",
            "entity number 11\n"
          ]
        },
        {
          "output_type": "stream",
          "name": "stderr",
          "text": [
            "\n",
            " 71%|███████   | 12/17 [00:00<00:00, 25.13it/s]\u001b[A"
          ]
        },
        {
          "output_type": "stream",
          "name": "stdout",
          "text": [
            "0.5405158\n",
            "schedule compression techniques performance issues Cost baseline Changes cost baseline\n",
            "entity number 12\n",
            "0.60130024\n",
            "response\n",
            "entity number 13\n"
          ]
        },
        {
          "output_type": "stream",
          "name": "stderr",
          "text": [
            "\n",
            " 88%|████████▊ | 15/17 [00:00<00:00, 24.93it/s]\u001b[A"
          ]
        },
        {
          "output_type": "stream",
          "name": "stdout",
          "text": [
            "0.60130024\n",
            "changes scope resources cost estimates Performance measurement baseline Changes performance measurement baseline\n",
            "entity number 14\n",
            "0.5712273\n",
            "response\n",
            "entity number 15\n",
            "0.7041882\n",
            "changes scope schedule performance cost estimates cases performance variance\n",
            "entity number 16\n"
          ]
        },
        {
          "output_type": "stream",
          "name": "stderr",
          "text": [
            "100%|██████████| 17/17 [00:00<00:00, 24.23it/s]\n",
            " 73%|███████▎  | 158/216 [01:04<00:23,  2.46it/s]"
          ]
        },
        {
          "output_type": "stream",
          "name": "stdout",
          "text": [
            "0.56478554\n",
            "change request\n",
            "this is the size of the synonyms list 158\n",
            "this is the size of the concept_range list 158\n",
            "row number 158\n"
          ]
        },
        {
          "output_type": "stream",
          "name": "stderr",
          "text": [
            "\n",
            "  0%|          | 0/34 [00:00<?, ?it/s]\u001b[A"
          ]
        },
        {
          "output_type": "stream",
          "name": "stdout",
          "text": [
            "entity number 0\n",
            "0.6835313\n",
            "Project Document\n",
            "entity number 1\n"
          ]
        },
        {
          "output_type": "stream",
          "name": "stderr",
          "text": [
            "\n",
            "  9%|▉         | 3/34 [00:00<00:01, 25.71it/s]\u001b[A"
          ]
        },
        {
          "output_type": "stream",
          "name": "stdout",
          "text": [
            "0.8931931\n",
            "process\n",
            "entity number 2\n",
            "0.62866175\n",
            "process\n",
            "entity number 3\n",
            "0.5009147\n",
            "Assumption log Schedule performance\n",
            "entity number 4\n",
            "0.7494663\n",
            "need\n",
            "entity number 5\n"
          ]
        },
        {
          "output_type": "stream",
          "name": "stderr",
          "text": [
            "\n",
            " 18%|█▊        | 6/34 [00:00<00:01, 25.51it/s]\u001b[A"
          ]
        },
        {
          "output_type": "stream",
          "name": "stdout",
          "text": [
            "0.7158268\n",
            "assumptions activity\n",
            "entity number 6\n"
          ]
        },
        {
          "output_type": "stream",
          "name": "stderr",
          "text": [
            "\n",
            " 26%|██▋       | 9/34 [00:00<00:01, 24.86it/s]"
          ]
        },
        {
          "output_type": "stream",
          "name": "stdout",
          "text": [
            "0.5627205\n",
            "duration Basis estimates Schedule performance\n",
            "entity number 7\n",
            "0.64840335\n",
            "need\n",
            "entity number 8\n",
            "0.6503578\n",
            "way duration estimates\n"
          ]
        },
        {
          "output_type": "stream",
          "name": "stderr",
          "text": [
            "\u001b[A"
          ]
        },
        {
          "output_type": "stream",
          "name": "stdout",
          "text": [
            "entity number 9\n",
            "1.0\n",
            "lessons\n",
            "entity number 10\n"
          ]
        },
        {
          "output_type": "stream",
          "name": "stderr",
          "text": [
            "\n",
            " 35%|███▌      | 12/34 [00:00<00:00, 24.60it/s]\u001b[A"
          ]
        },
        {
          "output_type": "stream",
          "name": "stdout",
          "text": [
            "0.7040371\n",
            "lessons\n",
            "entity number 11\n",
            "0.8007765\n",
            "techniques\n",
            "entity number 12\n",
            "0.6541687\n",
            "techniques\n",
            "entity number 13\n",
            "0.85028774\n",
            "variance Project\n",
            "entity number 14\n"
          ]
        },
        {
          "output_type": "stream",
          "name": "stderr",
          "text": [
            "\n",
            " 44%|████▍     | 15/34 [00:00<00:00, 24.81it/s]\u001b[A"
          ]
        },
        {
          "output_type": "stream",
          "name": "stdout",
          "text": [
            "0.59304357\n",
            "variance Project\n",
            "entity number 15\n",
            "0.6607919\n",
            "project schedule\n",
            "entity number 16\n"
          ]
        },
        {
          "output_type": "stream",
          "name": "stderr",
          "text": [
            "\n",
            " 53%|█████▎    | 18/34 [00:00<00:00, 25.55it/s]\u001b[A"
          ]
        },
        {
          "output_type": "stream",
          "name": "stdout",
          "text": [
            "0.68987966\n",
            "Section\n",
            "entity number 17\n",
            "0.93923753\n",
            "schedule data\n",
            "entity number 18\n",
            "0.804072\n",
            "schedule changes\n",
            "entity number 19\n",
            "0.6599717\n",
            "schedule changes\n",
            "entity number 20\n"
          ]
        },
        {
          "output_type": "stream",
          "name": "stderr",
          "text": [
            "\n",
            " 62%|██████▏   | 21/34 [00:00<00:00, 26.25it/s]\u001b[A"
          ]
        },
        {
          "output_type": "stream",
          "name": "stdout",
          "text": [
            "0.70861506\n",
            "project Resource\n",
            "entity number 21\n",
            "0.84873056\n",
            "changes utilization resource calendars\n",
            "entity number 22\n"
          ]
        },
        {
          "output_type": "stream",
          "name": "stderr",
          "text": [
            "\n",
            " 71%|███████   | 24/34 [00:00<00:00, 25.67it/s]\u001b[A"
          ]
        },
        {
          "output_type": "stream",
          "name": "stdout",
          "text": [
            "0.4818666\n",
            "changes utilization resource calendars\n",
            "entity number 23\n",
            "0.6656343\n",
            "result\n",
            "entity number 24\n",
            "0.73350847\n",
            "resources compression corrective actions\n",
            "entity number 25\n"
          ]
        },
        {
          "output_type": "stream",
          "name": "stderr",
          "text": [
            "\n",
            " 79%|███████▉  | 27/34 [00:01<00:00, 25.69it/s]\u001b[A"
          ]
        },
        {
          "output_type": "stream",
          "name": "stdout",
          "text": [
            "0.76449156\n",
            "risk register risk response plans\n",
            "entity number 26\n",
            "0.53994644\n",
            "risks\n",
            "entity number 27\n",
            "0.56578326\n",
            "compression techniques Schedule\n",
            "entity number 28\n"
          ]
        },
        {
          "output_type": "stream",
          "name": "stderr",
          "text": [
            "\n",
            " 88%|████████▊ | 30/34 [00:01<00:00, 25.74it/s]\u001b[A"
          ]
        },
        {
          "output_type": "stream",
          "name": "stdout",
          "text": [
            "0.42423117\n",
            "New project schedule network diagrams\n",
            "entity number 29\n",
            "0.62635225\n",
            "duration\n",
            "entity number 30\n",
            "0.681703\n",
            "modifications schedule cases\n",
            "entity number 31\n",
            "0.5596795\n",
            "schedule delays\n",
            "entity number 32\n"
          ]
        },
        {
          "output_type": "stream",
          "name": "stderr",
          "text": [
            "\n",
            "100%|██████████| 34/34 [00:01<00:00, 25.47it/s]\n",
            " 74%|███████▎  | 159/216 [01:05<00:39,  1.45it/s]"
          ]
        },
        {
          "output_type": "stream",
          "name": "stdout",
          "text": [
            "0.589823\n",
            "target schedule start dates\n",
            "entity number 33\n",
            "0.7557852\n",
            "data\n",
            "this is the size of the synonyms list 159\n",
            "this is the size of the concept_range list 159\n",
            "row number 159\n"
          ]
        },
        {
          "output_type": "stream",
          "name": "stderr",
          "text": [
            "\n",
            "  0%|          | 0/14 [00:00<?, ?it/s]\u001b[A"
          ]
        },
        {
          "output_type": "stream",
          "name": "stdout",
          "text": [
            "entity number 0\n",
            "0.65891933\n",
            "Project Cost Management\n",
            "entity number 1\n",
            "0.6329348\n",
            "process\n",
            "entity number 2\n",
            "0.7527114"
          ]
        },
        {
          "output_type": "stream",
          "name": "stderr",
          "text": [
            "\n",
            " 21%|██▏       | 3/14 [00:00<00:00, 25.94it/s]\u001b[A"
          ]
        },
        {
          "output_type": "stream",
          "name": "stdout",
          "text": [
            "\n",
            "financing funding\n",
            "entity number 3\n",
            "0.8259506\n",
            "budget Project Cost Management process\n",
            "entity number 4\n",
            "0.8901783\n",
            "Plan Cost Management process\n",
            "entity number 5\n"
          ]
        },
        {
          "output_type": "stream",
          "name": "stderr",
          "text": [
            "\n",
            " 43%|████▎     | 6/14 [00:00<00:00, 25.02it/s]\u001b[A"
          ]
        },
        {
          "output_type": "stream",
          "name": "stdout",
          "text": [
            "0.8567238\n",
            "project costs\n",
            "entity number 6\n",
            "0.75145245\n",
            "project costs\n",
            "entity number 7\n"
          ]
        },
        {
          "output_type": "stream",
          "name": "stderr",
          "text": [
            "\n"
          ]
        },
        {
          "output_type": "stream",
          "name": "stdout",
          "text": [
            "0.8509725\n",
            "process\n",
            "entity number 8\n",
            "0.72028\n",
            "process\n"
          ]
        },
        {
          "output_type": "stream",
          "name": "stderr",
          "text": [
            "\r 64%|██████▍   | 9/14 [00:00<00:00, 24.63it/s]\u001b[A"
          ]
        },
        {
          "output_type": "stream",
          "name": "stdout",
          "text": [
            "entity number 9\n",
            "0.53349537\n",
            "approximation resources\n",
            "entity number 10\n"
          ]
        },
        {
          "output_type": "stream",
          "name": "stderr",
          "text": [
            "\n",
            " 86%|████████▌ | 12/14 [00:00<00:00, 25.44it/s]\u001b[A"
          ]
        },
        {
          "output_type": "stream",
          "name": "stdout",
          "text": [
            "0.7583786\n",
            "project work Determine Budget process aggregation\n",
            "entity number 11\n",
            "0.8360975\n",
            "cost baseline Control\n",
            "entity number 12\n",
            "0.7071869\n",
            "cost baseline Control\n",
            "entity number 13\n"
          ]
        },
        {
          "output_type": "stream",
          "name": "stderr",
          "text": [
            "100%|██████████| 14/14 [00:00<00:00, 24.98it/s]\n",
            " 74%|███████▍  | 160/216 [01:06<00:36,  1.52it/s]"
          ]
        },
        {
          "output_type": "stream",
          "name": "stdout",
          "text": [
            "0.7622487\n",
            "process\n",
            "this is the size of the synonyms list 160\n",
            "this is the size of the concept_range list 160\n",
            "row number 160\n"
          ]
        },
        {
          "output_type": "stream",
          "name": "stderr",
          "text": [
            "\n",
            "  0%|          | 0/5 [00:00<?, ?it/s]\u001b[A"
          ]
        },
        {
          "output_type": "stream",
          "name": "stdout",
          "text": [
            "entity number 0\n",
            "0.6811404\n",
            "Plan Cost Management\n",
            "entity number 1\n"
          ]
        },
        {
          "output_type": "stream",
          "name": "stderr",
          "text": [
            "\n",
            " 60%|██████    | 3/5 [00:00<00:00, 24.32it/s]\u001b[A"
          ]
        },
        {
          "output_type": "stream",
          "name": "stdout",
          "text": [
            "0.709201\n",
            "process\n",
            "entity number 2\n",
            "0.69734615\n",
            "project costs\n",
            "entity number 3\n",
            "0.7393961\n",
            "benefit process\n",
            "entity number 4\n"
          ]
        },
        {
          "output_type": "stream",
          "name": "stderr",
          "text": [
            "100%|██████████| 5/5 [00:00<00:00, 24.73it/s]\n",
            " 75%|███████▍  | 161/216 [01:06<00:28,  1.91it/s]"
          ]
        },
        {
          "output_type": "stream",
          "name": "stdout",
          "text": [
            "0.8708532\n",
            "project process\n",
            "this is the size of the synonyms list 161\n",
            "this is the size of the concept_range list 161\n",
            "row number 161\n"
          ]
        },
        {
          "output_type": "stream",
          "name": "stderr",
          "text": [
            "\n",
            "  0%|          | 0/3 [00:00<?, ?it/s]\u001b[A"
          ]
        },
        {
          "output_type": "stream",
          "name": "stdout",
          "text": [
            "entity number 0\n",
            "0.7277947\n",
            "project charter\n",
            "entity number 1\n"
          ]
        },
        {
          "output_type": "stream",
          "name": "stderr",
          "text": [
            "\n",
            "100%|██████████| 3/3 [00:00<00:00, 24.26it/s]\n",
            " 75%|███████▌  | 162/216 [01:06<00:22,  2.44it/s]"
          ]
        },
        {
          "output_type": "stream",
          "name": "stdout",
          "text": [
            "0.7277947\n",
            "resources project costs\n",
            "entity number 2\n",
            "0.80305827\n",
            "project approval Requirements\n",
            "this is the size of the synonyms list 162\n",
            "this is the size of the concept_range list 162\n",
            "row number 162\n"
          ]
        },
        {
          "output_type": "stream",
          "name": "stderr",
          "text": [
            "\n",
            "  0%|          | 0/9 [00:00<?, ?it/s]\u001b[A"
          ]
        },
        {
          "output_type": "stream",
          "name": "stdout",
          "text": [
            "entity number 0\n",
            "0.7302767\n",
            "Project management plan commons\n",
            "entity number 1\n",
            "0.8064412\n",
            "criteria activities\n",
            "entity number 2\n"
          ]
        },
        {
          "output_type": "stream",
          "name": "stderr",
          "text": [
            "\n",
            " 33%|███▎      | 3/9 [00:00<00:00, 23.26it/s]\u001b[A"
          ]
        },
        {
          "output_type": "stream",
          "name": "stdout",
          "text": [
            "0.8395339\n",
            "monitoring\n",
            "entity number 3\n",
            "0.7223791\n",
            "monitoring\n",
            "entity number 4\n",
            "0.73429155\n",
            "schedule schedule management plan\n",
            "entity number 5\n"
          ]
        },
        {
          "output_type": "stream",
          "name": "stderr",
          "text": [
            "\n",
            " 67%|██████▋   | 6/9 [00:00<00:00, 23.27it/s]\u001b[A"
          ]
        },
        {
          "output_type": "stream",
          "name": "stdout",
          "text": [
            "0.71667314\n",
            "process controls\n",
            "entity number 6\n",
            "0.6365771\n",
            "cost estimation management Risk management plan risk management plan\n",
            "entity number 7\n",
            "0.67701256\n",
            "approach\n",
            "entity number 8\n"
          ]
        },
        {
          "output_type": "stream",
          "name": "stderr",
          "text": [
            "\n",
            "100%|██████████| 9/9 [00:00<00:00, 23.03it/s]\n",
            " 75%|███████▌  | 163/216 [01:07<00:21,  2.46it/s]"
          ]
        },
        {
          "output_type": "stream",
          "name": "stdout",
          "text": [
            "0.75649107\n",
            "risks risk management plan\n",
            "this is the size of the synonyms list 163\n",
            "this is the size of the concept_range list 163\n",
            "row number 163\n"
          ]
        },
        {
          "output_type": "stream",
          "name": "stderr",
          "text": [
            "\n",
            "  0%|          | 0/14 [00:00<?, ?it/s]\u001b[A"
          ]
        },
        {
          "output_type": "stream",
          "name": "stdout",
          "text": [
            "entity number 0\n",
            "0.6597389\n",
            "enterprise factors\n",
            "entity number 1\n",
            "0.6735593\n",
            "Plan Cost Management process include\n",
            "entity number 2\n"
          ]
        },
        {
          "output_type": "stream",
          "name": "stderr",
          "text": [
            "\n",
            " 21%|██▏       | 3/14 [00:00<00:00, 23.83it/s]\u001b[A"
          ]
        },
        {
          "output_type": "stream",
          "name": "stdout",
          "text": [
            "0.6635454\n",
            "Organizational culture structure\n",
            "entity number 3\n",
            "0.710269\n",
            "cost management Market conditions\n",
            "entity number 4\n",
            "0.55647445\n",
            "products services results\n",
            "entity number 5\n"
          ]
        },
        {
          "output_type": "stream",
          "name": "stderr",
          "text": [
            "\n",
            " 43%|████▎     | 6/14 [00:00<00:00, 23.43it/s]\u001b[A"
          ]
        },
        {
          "output_type": "stream",
          "name": "stdout",
          "text": [
            "0.4003647\n",
            "markets Currency exchange rates project costs\n",
            "entity number 6\n",
            "0.569675\n",
            "country\n",
            "entity number 7\n",
            "0.6490361\n",
            "information resource cost rate information\n",
            "entity number 8\n"
          ]
        },
        {
          "output_type": "stream",
          "name": "stderr",
          "text": [
            "\n",
            " 64%|██████▍   | 9/14 [00:00<00:00, 22.68it/s]\u001b[A"
          ]
        },
        {
          "output_type": "stream",
          "name": "stdout",
          "text": [
            "0.58193207\n",
            "databases\n",
            "entity number 9\n",
            "0.68218726\n",
            "skills resource costs\n",
            "entity number 10\n",
            "0.5731956\n",
            "standard costs material equipment\n",
            "entity number 11\n",
            "0.60721064\n",
            "price lists"
          ]
        },
        {
          "output_type": "stream",
          "name": "stderr",
          "text": [
            "\n",
            " 86%|████████▌ | 12/14 [00:00<00:00, 23.28it/s]\u001b[A"
          ]
        },
        {
          "output_type": "stream",
          "name": "stdout",
          "text": [
            "\n",
            "entity number 12\n",
            "0.58169234\n",
            "source information Project management information system\n",
            "entity number 13\n"
          ]
        },
        {
          "output_type": "stream",
          "name": "stderr",
          "text": [
            "100%|██████████| 14/14 [00:00<00:00, 23.22it/s]\n",
            " 76%|███████▌  | 164/216 [01:07<00:24,  2.13it/s]"
          ]
        },
        {
          "output_type": "stream",
          "name": "stdout",
          "text": [
            "0.47789526\n",
            "possibilities\n",
            "this is the size of the synonyms list 164\n",
            "this is the size of the concept_range list 164\n",
            "row number 164\n"
          ]
        },
        {
          "output_type": "stream",
          "name": "stderr",
          "text": [
            "\n",
            "  0%|          | 0/5 [00:00<?, ?it/s]\u001b[A"
          ]
        },
        {
          "output_type": "stream",
          "name": "stdout",
          "text": [
            "entity number 0\n",
            "0.6996783\n",
            "process sets\n",
            "entity number 1\n",
            "0.6163995\n",
            "Plan Cost Management process include\n",
            "entity number 2\n"
          ]
        },
        {
          "output_type": "stream",
          "name": "stderr",
          "text": [
            "\n",
            " 60%|██████    | 3/5 [00:00<00:00, 25.15it/s]\u001b[A"
          ]
        },
        {
          "output_type": "stream",
          "name": "stdout",
          "text": [
            "0.62889546\n",
            "Financial\n",
            "entity number 3\n",
            "0.5977244\n",
            "procedures time reporting\n",
            "entity number 4\n",
            "0.488804\n",
            "expenditure disbursements\n"
          ]
        },
        {
          "output_type": "stream",
          "name": "stderr",
          "text": [
            "100%|██████████| 5/5 [00:00<00:00, 24.30it/s]\n",
            " 76%|███████▋  | 165/216 [01:07<00:20,  2.54it/s]"
          ]
        },
        {
          "output_type": "stream",
          "name": "stdout",
          "text": [
            "this is the size of the synonyms list 165\n",
            "this is the size of the concept_range list 165\n",
            "row number 165\n"
          ]
        },
        {
          "output_type": "stream",
          "name": "stderr",
          "text": [
            "\n",
            "  0%|          | 0/1 [00:00<?, ?it/s]\u001b[A"
          ]
        },
        {
          "output_type": "stream",
          "name": "stdout",
          "text": [
            "entity number 0\n"
          ]
        },
        {
          "output_type": "stream",
          "name": "stderr",
          "text": [
            "\r100%|██████████| 1/1 [00:00<00:00, 23.15it/s]\n"
          ]
        },
        {
          "output_type": "stream",
          "name": "stdout",
          "text": [
            "0.37271214\n",
            "Expertise\n",
            "this is the size of the synonyms list 166\n",
            "this is the size of the concept_range list 166\n",
            "row number 166\n"
          ]
        },
        {
          "output_type": "stream",
          "name": "stderr",
          "text": [
            "\n",
            "  0%|          | 0/5 [00:00<?, ?it/s]\u001b[A"
          ]
        },
        {
          "output_type": "stream",
          "name": "stdout",
          "text": [
            "entity number 0\n",
            "0.697045\n",
            "data analysis technique\n",
            "entity number 1\n",
            "0.69880754\n",
            "process\n",
            "entity number 2\n"
          ]
        },
        {
          "output_type": "stream",
          "name": "stderr",
          "text": [
            "\n",
            " 60%|██████    | 3/5 [00:00<00:00, 26.02it/s]\u001b[A"
          ]
        },
        {
          "output_type": "stream",
          "name": "stdout",
          "text": [
            "0.50688964\n",
            "alternatives Alternatives analysis\n",
            "entity number 3\n",
            "0.45295122\n",
            "funding options self funding funding equity funding debt\n",
            "entity number 4\n"
          ]
        },
        {
          "output_type": "stream",
          "name": "stderr",
          "text": [
            "100%|██████████| 5/5 [00:00<00:00, 24.54it/s]\n",
            " 77%|███████▋  | 167/216 [01:08<00:13,  3.64it/s]"
          ]
        },
        {
          "output_type": "stream",
          "name": "stdout",
          "text": [
            "0.7823858\n",
            "consideration ways\n",
            "this is the size of the synonyms list 167\n",
            "this is the size of the concept_range list 167\n",
            "row number 167\n"
          ]
        },
        {
          "output_type": "stream",
          "name": "stderr",
          "text": [
            "\n",
            "  0%|          | 0/5 [00:00<?, ?it/s]\u001b[A"
          ]
        },
        {
          "output_type": "stream",
          "name": "stdout",
          "text": [
            "entity number 0\n",
            "0.57501096\n",
            "Project teams\n",
            "entity number 1\n",
            "0.7038476\n",
            "meetings\n",
            "entity number 2\n"
          ]
        },
        {
          "output_type": "stream",
          "name": "stderr",
          "text": [
            "\n",
            " 60%|██████    | 3/5 [00:00<00:00, 25.08it/s]\u001b[A"
          ]
        },
        {
          "output_type": "stream",
          "name": "stdout",
          "text": [
            "0.7196929\n",
            "cost management plan Attendees\n",
            "entity number 3\n",
            "0.8775692\n",
            "project team members\n",
            "entity number 4\n"
          ]
        },
        {
          "output_type": "stream",
          "name": "stderr",
          "text": [
            "\r100%|██████████| 5/5 [00:00<00:00, 24.25it/s]"
          ]
        },
        {
          "output_type": "stream",
          "name": "stdout",
          "text": [
            "0.66392195\n",
            "project team members\n",
            "this is the size of the synonyms list 168\n",
            "this is the size of the concept_range list 168\n"
          ]
        },
        {
          "output_type": "stream",
          "name": "stderr",
          "text": [
            "\n",
            "\r 78%|███████▊  | 168/216 [01:08<00:12,  3.83it/s]"
          ]
        },
        {
          "output_type": "stream",
          "name": "stdout",
          "text": [
            "row number 168\n"
          ]
        },
        {
          "output_type": "stream",
          "name": "stderr",
          "text": [
            "\n",
            "  0%|          | 0/41 [00:00<?, ?it/s]\u001b[A"
          ]
        },
        {
          "output_type": "stream",
          "name": "stdout",
          "text": [
            "entity number 0\n",
            "0.88714504\n",
            "component project management plan\n",
            "entity number 1\n",
            "0.8453599\n",
            "project costs\n",
            "entity number 2\n"
          ]
        },
        {
          "output_type": "stream",
          "name": "stderr",
          "text": [
            "\n",
            "  7%|▋         | 3/41 [00:00<00:01, 23.33it/s]\u001b[A"
          ]
        },
        {
          "output_type": "stream",
          "name": "stdout",
          "text": [
            "0.8455363\n",
            "cost management process tools techniques\n",
            "entity number 3\n",
            "0.91840374\n",
            "cost management plan example cost management plan\n",
            "entity number 4\n",
            "0.6587713\n",
            "cost management plan example cost management plan\n",
            "entity number 5\n"
          ]
        },
        {
          "output_type": "stream",
          "name": "stderr",
          "text": [
            "\n",
            " 15%|█▍        | 6/41 [00:00<00:01, 22.86it/s]\u001b[A"
          ]
        },
        {
          "output_type": "stream",
          "name": "stdout",
          "text": [
            "0.43023148\n",
            "Units measure unit\n",
            "entity number 6\n",
            "0.26755372\n",
            "measures staff hours staff days weeks time measures meters liters tons kilometers yards quantity measures lump sum currency form\n",
            "entity number 7\n",
            "0.7167016\n",
            "resources Level precision\n",
            "entity number 8\n",
            "0.5534602"
          ]
        },
        {
          "output_type": "stream",
          "name": "stderr",
          "text": [
            "\n",
            " 22%|██▏       | 9/41 [00:00<00:01, 23.68it/s]\u001b[A"
          ]
        },
        {
          "output_type": "stream",
          "name": "stdout",
          "text": [
            "\n",
            "degree cost estimates\n",
            "entity number 9\n",
            "0.6404673\n",
            "Up\n",
            "entity number 10\n"
          ]
        },
        {
          "output_type": "stream",
          "name": "stderr",
          "text": [
            "\n"
          ]
        },
        {
          "output_type": "stream",
          "name": "stdout",
          "text": [
            "0.69454515\n",
            "scope activities magnitude project Level accuracy range eg ±\n",
            "entity number 11\n",
            "0.8302242\n",
            "amount contingencies Organizational procedures\n"
          ]
        },
        {
          "output_type": "stream",
          "name": "stderr",
          "text": [
            "\r 29%|██▉       | 12/41 [00:00<00:01, 24.06it/s]\u001b[A"
          ]
        },
        {
          "output_type": "stream",
          "name": "stdout",
          "text": [
            "entity number 12\n",
            "0.620546\n",
            "amount contingencies Organizational procedures\n",
            "entity number 13\n",
            "0.62819016\n",
            "work breakdown structure Section\n",
            "entity number 14\n"
          ]
        },
        {
          "output_type": "stream",
          "name": "stderr",
          "text": [
            "\n",
            " 37%|███▋      | 15/41 [00:00<00:01, 23.41it/s]\u001b[A"
          ]
        },
        {
          "output_type": "stream",
          "name": "stdout",
          "text": [
            "0.72154623\n",
            "framework cost management plan\n",
            "entity number 15\n",
            "0.7366429\n",
            "consistency estimates budgets control costs component\n",
            "entity number 16\n",
            "0.55380857\n",
            "project cost accounting\n",
            "entity number 17\n"
          ]
        },
        {
          "output_type": "stream",
          "name": "stderr",
          "text": [
            "\n",
            " 44%|████▍     | 18/41 [00:00<00:00, 23.80it/s]\u001b[A"
          ]
        },
        {
          "output_type": "stream",
          "name": "stdout",
          "text": [
            "0.8104439\n",
            "control account\n",
            "entity number 18\n",
            "0.64800584\n",
            "control account\n",
            "entity number 19\n"
          ]
        },
        {
          "output_type": "stream",
          "name": "stderr",
          "text": [
            "\n"
          ]
        },
        {
          "output_type": "stream",
          "name": "stdout",
          "text": [
            "0.60488796\n",
            "code account number s\n",
            "entity number 20\n",
            "0.5826647\n",
            "organization s accounting system Control\n"
          ]
        },
        {
          "output_type": "stream",
          "name": "stderr",
          "text": [
            "\r 51%|█████     | 21/41 [00:00<00:00, 24.01it/s]\u001b[A"
          ]
        },
        {
          "output_type": "stream",
          "name": "stdout",
          "text": [
            "entity number 21\n",
            "0.8007865\n",
            "cost performance\n",
            "entity number 22\n",
            "0.76253414"
          ]
        },
        {
          "output_type": "stream",
          "name": "stderr",
          "text": [
            "\n",
            " 59%|█████▊    | 24/41 [00:01<00:00, 24.50it/s]"
          ]
        },
        {
          "output_type": "stream",
          "name": "stdout",
          "text": [
            "\n",
            "cost performance\n",
            "entity number 23\n",
            "0.6773194\n",
            "amount variation\n"
          ]
        },
        {
          "output_type": "stream",
          "name": "stderr",
          "text": [
            "\u001b[A"
          ]
        },
        {
          "output_type": "stream",
          "name": "stdout",
          "text": [
            "entity number 24\n",
            "0.69969785\n",
            "action\n",
            "entity number 25\n",
            "0.69200385\n",
            "Thresholds\n",
            "entity number 26\n"
          ]
        },
        {
          "output_type": "stream",
          "name": "stderr",
          "text": [
            "\n"
          ]
        },
        {
          "output_type": "stream",
          "name": "stdout",
          "text": [
            "0.7691642\n",
            "percentage deviations baseline plan Rules performance measurement\n"
          ]
        },
        {
          "output_type": "stream",
          "name": "stderr",
          "text": [
            "\r 66%|██████▌   | 27/41 [00:01<00:00, 24.43it/s]\u001b[A"
          ]
        },
        {
          "output_type": "stream",
          "name": "stdout",
          "text": [
            "entity number 27\n",
            "0.84127045\n",
            "example cost management plan\n",
            "entity number 28\n",
            "0.8279108\n",
            "points measurement control accounts\n",
            "entity number 29\n"
          ]
        },
        {
          "output_type": "stream",
          "name": "stderr",
          "text": [
            "\n",
            " 73%|███████▎  | 30/41 [00:01<00:00, 24.38it/s]\u001b[A"
          ]
        },
        {
          "output_type": "stream",
          "name": "stdout",
          "text": [
            "0.6551029\n",
            "points measurement control accounts\n",
            "entity number 30\n",
            "0.6899235\n",
            "EV techniques\n",
            "entity number 31\n",
            "0.72496325\n",
            "milestones\n",
            "entity number 32\n"
          ]
        },
        {
          "output_type": "stream",
          "name": "stderr",
          "text": [
            "\n"
          ]
        },
        {
          "output_type": "stream",
          "name": "stdout",
          "text": [
            "0.79598606\n",
            "percent etc\n"
          ]
        },
        {
          "output_type": "stream",
          "name": "stderr",
          "text": [
            "\r 80%|████████  | 33/41 [00:01<00:00, 24.49it/s]\u001b[A"
          ]
        },
        {
          "output_type": "stream",
          "name": "stdout",
          "text": [
            "entity number 33\n",
            "0.6272559\n",
            "Specify\n",
            "entity number 34\n",
            "0.6414727\n",
            "methodologies EV computation equations\n",
            "entity number 35\n",
            "0.60408986\n"
          ]
        },
        {
          "output_type": "stream",
          "name": "stderr",
          "text": [
            "\n",
            " 88%|████████▊ | 36/41 [00:01<00:00, 24.32it/s]\u001b[A"
          ]
        },
        {
          "output_type": "stream",
          "name": "stdout",
          "text": [
            "estimate completion forecasts\n",
            "entity number 36\n",
            "0.64562565\n",
            "validity check bottom Reporting\n",
            "entity number 37\n"
          ]
        },
        {
          "output_type": "stream",
          "name": "stderr",
          "text": [
            "\n",
            " 95%|█████████▌| 39/41 [00:01<00:00, 24.41it/s]\u001b[A"
          ]
        },
        {
          "output_type": "stream",
          "name": "stdout",
          "text": [
            "0.80560255\n",
            "Additional details Additional details cost management activities\n",
            "entity number 38\n",
            "0.7660857\n",
            "Additional details Additional details cost management activities\n",
            "entity number 39\n",
            "0.6213199\n",
            "Description funding choices Procedure\n",
            "entity number 40\n"
          ]
        },
        {
          "output_type": "stream",
          "name": "stderr",
          "text": [
            "100%|██████████| 41/41 [00:01<00:00, 24.18it/s]\n",
            " 78%|███████▊  | 169/216 [01:10<00:30,  1.56it/s]"
          ]
        },
        {
          "output_type": "stream",
          "name": "stdout",
          "text": [
            "0.37949657\n",
            "fluctuations currency exchange rates Procedure project cost\n",
            "this is the size of the synonyms list 169\n",
            "this is the size of the concept_range list 169\n",
            "row number 169\n"
          ]
        },
        {
          "output_type": "stream",
          "name": "stderr",
          "text": [
            "\n",
            "  0%|          | 0/6 [00:00<?, ?it/s]\u001b[A"
          ]
        },
        {
          "output_type": "stream",
          "name": "stdout",
          "text": [
            "entity number 0\n",
            "0.75548196\n",
            "Estimate Costs\n",
            "entity number 1\n"
          ]
        },
        {
          "output_type": "stream",
          "name": "stderr",
          "text": [
            "\n",
            " 50%|█████     | 3/6 [00:00<00:00, 23.34it/s]\u001b[A"
          ]
        },
        {
          "output_type": "stream",
          "name": "stdout",
          "text": [
            "0.6863939\n",
            "process\n",
            "entity number 2\n",
            "0.68373567\n",
            "approximation cost resources\n",
            "entity number 3\n",
            "0.66777885\n",
            "project work benefit process\n",
            "entity number 4\n"
          ]
        },
        {
          "output_type": "stream",
          "name": "stderr",
          "text": [
            "\n",
            "100%|██████████| 6/6 [00:00<00:00, 24.16it/s]\n",
            " 79%|███████▊  | 170/216 [01:10<00:24,  1.86it/s]"
          ]
        },
        {
          "output_type": "stream",
          "name": "stdout",
          "text": [
            "0.73777974\n",
            "resources\n",
            "entity number 5\n",
            "0.8627622\n",
            "project\n",
            "this is the size of the synonyms list 170\n",
            "this is the size of the concept_range list 170\n",
            "row number 170\n"
          ]
        },
        {
          "output_type": "stream",
          "name": "stderr",
          "text": [
            "\n",
            "  0%|          | 0/14 [00:00<?, ?it/s]\u001b[A"
          ]
        },
        {
          "output_type": "stream",
          "name": "stdout",
          "text": [
            "entity number 0\n",
            "0.7663933\n",
            "Project management plan commons\n",
            "entity number 1\n",
            "0.74325645\n",
            "Cost management plan cost management plan\n",
            "entity number 2\n"
          ]
        },
        {
          "output_type": "stream",
          "name": "stderr",
          "text": [
            "\n",
            " 21%|██▏       | 3/14 [00:00<00:00, 22.01it/s]\u001b[A"
          ]
        },
        {
          "output_type": "stream",
          "name": "stdout",
          "text": [
            "0.5503113\n",
            "methods\n",
            "entity number 3\n",
            "0.46895498\n",
            "level precision accuracy\n",
            "entity number 4\n",
            "0.75114167\n",
            "cost estimate Quality management plan quality management plan\n",
            "entity number 5\n"
          ]
        },
        {
          "output_type": "stream",
          "name": "stderr",
          "text": [
            "\n",
            " 43%|████▎     | 6/14 [00:00<00:00, 22.39it/s]\u001b[A"
          ]
        },
        {
          "output_type": "stream",
          "name": "stdout",
          "text": [
            "0.6221223\n",
            "activities resources project management team\n",
            "entity number 6\n",
            "0.711156\n",
            "quality\n",
            "entity number 7\n"
          ]
        },
        {
          "output_type": "stream",
          "name": "stderr",
          "text": [
            "\n",
            " 64%|██████▍   | 9/14 [00:00<00:00, 25.14it/s]\u001b[A"
          ]
        },
        {
          "output_type": "stream",
          "name": "stdout",
          "text": [
            "0.78255355\n",
            "project Scope\n",
            "entity number 8\n",
            "0.69716644\n",
            "scope baseline\n",
            "entity number 9\n",
            "0.6605811\n",
            "project scope statement Project scope statement scope statement Section\n",
            "entity number 10\n",
            "0.5987222\n",
            "constraints period expenditure project funds assumptions constraints\n",
            "entity number 11\n"
          ]
        },
        {
          "output_type": "stream",
          "name": "stderr",
          "text": [
            "\n",
            " 86%|████████▌ | 12/14 [00:00<00:00, 24.75it/s]\u001b[A"
          ]
        },
        {
          "output_type": "stream",
          "name": "stdout",
          "text": [
            "0.6464815\n",
            "structure Section\n",
            "entity number 12\n",
            "0.5846844\n",
            "relationships project deliverables commons Section\n",
            "entity number 13\n"
          ]
        },
        {
          "output_type": "stream",
          "name": "stderr",
          "text": [
            "100%|██████████| 14/14 [00:00<00:00, 24.30it/s]\n",
            " 79%|███████▉  | 171/216 [01:11<00:24,  1.81it/s]"
          ]
        },
        {
          "output_type": "stream",
          "name": "stdout",
          "text": [
            "0.73029256\n",
            "states work\n",
            "this is the size of the synonyms list 171\n",
            "this is the size of the concept_range list 171\n",
            "row number 171\n"
          ]
        },
        {
          "output_type": "stream",
          "name": "stderr",
          "text": [
            "\n",
            "  0%|          | 0/24 [00:00<?, ?it/s]\u001b[A"
          ]
        },
        {
          "output_type": "stream",
          "name": "stdout",
          "text": [
            "entity number 0\n",
            "0.75378215\n",
            "Project Document\n",
            "entity number 1\n",
            "0.6976648\n",
            "inputs process\n",
            "entity number 2\n"
          ]
        },
        {
          "output_type": "stream",
          "name": "stderr",
          "text": [
            "\n",
            " 12%|█▎        | 3/24 [00:00<00:00, 23.83it/s]\u001b[A"
          ]
        },
        {
          "output_type": "stream",
          "name": "stdout",
          "text": [
            "1.0\n",
            "Lessons\n",
            "entity number 3\n",
            "0.6928455\n",
            "Lessons\n",
            "entity number 4\n",
            "0.8083968\n",
            "cost estimates\n",
            "entity number 5\n"
          ]
        },
        {
          "output_type": "stream",
          "name": "stderr",
          "text": [
            "\n",
            " 25%|██▌       | 6/24 [00:00<00:00, 25.20it/s]\u001b[A"
          ]
        },
        {
          "output_type": "stream",
          "name": "stdout",
          "text": [
            "0.76140875\n",
            "cost estimates\n",
            "entity number 6\n",
            "0.55789435\n",
            "phases project\n",
            "entity number 7\n",
            "0.5687052\n",
            "accuracy precision cost estimates Project\n",
            "entity number 8\n"
          ]
        },
        {
          "output_type": "stream",
          "name": "stderr",
          "text": [
            "\n",
            " 38%|███▊      | 9/24 [00:00<00:00, 25.73it/s]\u001b[A"
          ]
        },
        {
          "output_type": "stream",
          "name": "stdout",
          "text": [
            "0.7303431\n",
            "schedule\n",
            "entity number 9\n",
            "0.7654108\n",
            "type quantity amount time team resources\n",
            "entity number 10\n",
            "0.7076954\n",
            "project duration\n",
            "entity number 11\n"
          ]
        },
        {
          "output_type": "stream",
          "name": "stderr",
          "text": [
            "\n",
            " 50%|█████     | 12/24 [00:00<00:00, 25.93it/s]\u001b[A"
          ]
        },
        {
          "output_type": "stream",
          "name": "stdout",
          "text": [
            "0.60411537\n",
            "Section\n",
            "entity number 12\n",
            "0.6521574\n",
            "cost estimates resources\n",
            "entity number 13\n",
            "0.6523498\n",
            "unit time\n",
            "entity number 14\n"
          ]
        },
        {
          "output_type": "stream",
          "name": "stderr",
          "text": [
            "\n",
            " 62%|██████▎   | 15/24 [00:00<00:00, 25.27it/s]\u001b[A"
          ]
        },
        {
          "output_type": "stream",
          "name": "stdout",
          "text": [
            "0.5841087\n",
            "fluctuations costs schedule\n",
            "entity number 15\n",
            "0.6818327\n",
            "information projects\n",
            "entity number 16\n"
          ]
        },
        {
          "output_type": "stream",
          "name": "stderr",
          "text": [
            "\n",
            " 75%|███████▌  | 18/24 [00:00<00:00, 25.30it/s]\u001b[A"
          ]
        },
        {
          "output_type": "stream",
          "name": "stdout",
          "text": [
            "0.79166114\n",
            "cost\n",
            "entity number 17\n",
            "0.82748425\n",
            "types quantities resources\n",
            "entity number 18\n",
            "0.7545185\n",
            "types quantities resources\n",
            "entity number 19\n"
          ]
        },
        {
          "output_type": "stream",
          "name": "stderr",
          "text": [
            "\n",
            " 88%|████████▊ | 21/24 [00:00<00:00, 25.54it/s]\u001b[A"
          ]
        },
        {
          "output_type": "stream",
          "name": "stdout",
          "text": [
            "0.82724255\n",
            "risk register\n",
            "entity number 20\n",
            "0.82726836\n",
            "details project risks\n",
            "entity number 21\n",
            "0.8658858\n",
            "risk responses\n",
            "entity number 22\n"
          ]
        },
        {
          "output_type": "stream",
          "name": "stderr",
          "text": [
            "\n",
            "100%|██████████| 24/24 [00:00<00:00, 25.46it/s]\n",
            " 80%|███████▉  | 172/216 [01:11<00:29,  1.50it/s]"
          ]
        },
        {
          "output_type": "stream",
          "name": "stdout",
          "text": [
            "0.9444981\n",
            "risk register\n",
            "entity number 23\n",
            "0.67772233\n",
            "risk register\n",
            "this is the size of the synonyms list 172\n",
            "this is the size of the concept_range list 172\n",
            "row number 172\n"
          ]
        },
        {
          "output_type": "stream",
          "name": "stderr",
          "text": [
            "\n",
            "  0%|          | 0/11 [00:00<?, ?it/s]\u001b[A"
          ]
        },
        {
          "output_type": "stream",
          "name": "stdout",
          "text": [
            "entity number 0\n",
            "0.5940912\n",
            "enterprise factors\n",
            "entity number 1\n",
            "0.56213444\n",
            "Estimate\n",
            "entity number 2\n"
          ]
        },
        {
          "output_type": "stream",
          "name": "stderr",
          "text": [
            "\n",
            " 27%|██▋       | 3/11 [00:00<00:00, 21.87it/s]\u001b[A"
          ]
        },
        {
          "output_type": "stream",
          "name": "stdout",
          "text": [
            "0.6449665\n",
            "Market conditions conditions\n",
            "entity number 3\n",
            "0.6415721\n",
            "products services results\n",
            "entity number 4\n",
            "0.67611533\n",
            "market terms conditions Regional supply demand conditions\n",
            "entity number 5\n"
          ]
        },
        {
          "output_type": "stream",
          "name": "stderr",
          "text": [
            "\n",
            " 55%|█████▍    | 6/11 [00:00<00:00, 23.23it/s]\u001b[A"
          ]
        },
        {
          "output_type": "stream",
          "name": "stdout",
          "text": [
            "0.6254654\n",
            "resource costs Published information Resource cost rate information\n",
            "entity number 6\n",
            "0.58193207\n",
            "databases\n",
            "entity number 7\n"
          ]
        },
        {
          "output_type": "stream",
          "name": "stderr",
          "text": [
            "\n",
            " 82%|████████▏ | 9/11 [00:00<00:00, 24.12it/s]"
          ]
        },
        {
          "output_type": "stream",
          "name": "stdout",
          "text": [
            "0.68218726\n",
            "skills resource costs\n",
            "entity number 8\n",
            "0.5731956\n",
            "standard costs material equipment\n"
          ]
        },
        {
          "output_type": "stream",
          "name": "stderr",
          "text": [
            "\u001b[A"
          ]
        },
        {
          "output_type": "stream",
          "name": "stdout",
          "text": [
            "entity number 9\n",
            "0.6735989\n",
            "price lists\n",
            "entity number 10\n"
          ]
        },
        {
          "output_type": "stream",
          "name": "stderr",
          "text": [
            "100%|██████████| 11/11 [00:00<00:00, 23.48it/s]\n",
            " 80%|████████  | 173/216 [01:12<00:26,  1.63it/s]"
          ]
        },
        {
          "output_type": "stream",
          "name": "stdout",
          "text": [
            "0.8172543\n",
            "years currencies fluctuations currencies inflation\n",
            "this is the size of the synonyms list 173\n",
            "this is the size of the concept_range list 173\n",
            "row number 173\n"
          ]
        },
        {
          "output_type": "stream",
          "name": "stderr",
          "text": [
            "\n",
            "  0%|          | 0/4 [00:00<?, ?it/s]\u001b[A"
          ]
        },
        {
          "output_type": "stream",
          "name": "stdout",
          "text": [
            "entity number 0\n",
            "0.8588406\n",
            "Estimate\n",
            "entity number 1\n",
            "0.83598804\n",
            "Cost\n",
            "entity number 2\n"
          ]
        },
        {
          "output_type": "stream",
          "name": "stderr",
          "text": [
            "\n",
            " 75%|███████▌  | 3/4 [00:00<00:00, 23.69it/s]\u001b[A"
          ]
        },
        {
          "output_type": "stream",
          "name": "stdout",
          "text": [
            "0.9152039\n",
            "policies Cost\n",
            "entity number 3\n"
          ]
        },
        {
          "output_type": "stream",
          "name": "stderr",
          "text": [
            "100%|██████████| 4/4 [00:00<00:00, 21.47it/s]\n",
            " 81%|████████  | 174/216 [01:12<00:20,  2.03it/s]"
          ]
        },
        {
          "output_type": "stream",
          "name": "stdout",
          "text": [
            "0.60927224\n",
            "policies Cost\n",
            "this is the size of the synonyms list 174\n",
            "this is the size of the concept_range list 174\n",
            "row number 174\n"
          ]
        },
        {
          "output_type": "stream",
          "name": "stderr",
          "text": [
            "\n",
            "0it [00:00, ?it/s]\n"
          ]
        },
        {
          "output_type": "stream",
          "name": "stdout",
          "text": [
            "this is the size of the synonyms list 175\n",
            "this is the size of the concept_range list 175\n",
            "row number 175\n"
          ]
        },
        {
          "output_type": "stream",
          "name": "stderr",
          "text": [
            "\n",
            "  0%|          | 0/5 [00:00<?, ?it/s]\u001b[A"
          ]
        },
        {
          "output_type": "stream",
          "name": "stdout",
          "text": [
            "entity number 0\n",
            "0.7404234\n",
            "cost\n",
            "entity number 1\n",
            "0.87644595\n",
            "project Values attributes projects\n",
            "entity number 2\n"
          ]
        },
        {
          "output_type": "stream",
          "name": "stderr",
          "text": [
            "\n",
            " 60%|██████    | 3/5 [00:00<00:00, 22.87it/s]\u001b[A"
          ]
        },
        {
          "output_type": "stream",
          "name": "stdout",
          "text": [
            "0.56698227\n",
            "project Values attributes projects\n",
            "entity number 3\n",
            "0.6410743\n",
            "cost budget duration measures scale eg size\n",
            "entity number 4\n"
          ]
        },
        {
          "output_type": "stream",
          "name": "stderr",
          "text": [
            "100%|██████████| 5/5 [00:00<00:00, 22.79it/s]\n",
            " 81%|████████▏ | 176/216 [01:12<00:12,  3.08it/s]"
          ]
        },
        {
          "output_type": "stream",
          "name": "stdout",
          "text": [
            "0.78049695\n",
            "Comparison project\n",
            "this is the size of the synonyms list 176\n",
            "this is the size of the concept_range list 176\n",
            "row number 176\n"
          ]
        },
        {
          "output_type": "stream",
          "name": "stderr",
          "text": [
            "\n",
            "  0%|          | 0/9 [00:00<?, ?it/s]\u001b[A"
          ]
        },
        {
          "output_type": "stream",
          "name": "stdout",
          "text": [
            "entity number 0\n",
            "0.62491965\n",
            "Parametric\n",
            "entity number 1\n"
          ]
        },
        {
          "output_type": "stream",
          "name": "stderr",
          "text": [
            "\n",
            " 22%|██▏       | 2/9 [00:00<00:00, 19.51it/s]\u001b[A"
          ]
        },
        {
          "output_type": "stream",
          "name": "stdout",
          "text": [
            "0.49857336\n",
            "relationship data variables\n",
            "entity number 2\n",
            "0.6203643\n",
            "footage construction\n",
            "entity number 3\n",
            "0.45559114\n",
            "cost estimate project work technique\n",
            "entity number 4\n"
          ]
        },
        {
          "output_type": "stream",
          "name": "stderr",
          "text": [
            "\n",
            " 56%|█████▌    | 5/9 [00:00<00:00, 20.91it/s]\u001b[A"
          ]
        },
        {
          "output_type": "stream",
          "name": "stdout",
          "text": [
            "0.81402564\n",
            "sophistication\n",
            "entity number 5\n",
            "0.7211616\n",
            "sophistication\n",
            "entity number 6\n",
            "0.6541819\n",
            "data\n",
            "entity number 7\n"
          ]
        },
        {
          "output_type": "stream",
          "name": "stderr",
          "text": [
            "\n",
            " 89%|████████▉ | 8/9 [00:00<00:00, 21.67it/s]\u001b[A"
          ]
        },
        {
          "output_type": "stream",
          "name": "stdout",
          "text": [
            "0.6252394\n",
            "model Parametric cost estimates\n",
            "entity number 8\n"
          ]
        },
        {
          "output_type": "stream",
          "name": "stderr",
          "text": [
            "100%|██████████| 9/9 [00:00<00:00, 21.12it/s]\n",
            " 82%|████████▏ | 177/216 [01:13<00:13,  2.84it/s]"
          ]
        },
        {
          "output_type": "stream",
          "name": "stdout",
          "text": [
            "0.86833346\n",
            "project conjunction\n",
            "this is the size of the synonyms list 177\n",
            "this is the size of the concept_range list 177\n",
            "row number 177\n"
          ]
        },
        {
          "output_type": "stream",
          "name": "stderr",
          "text": [
            "\n",
            "  0%|          | 0/4 [00:00<?, ?it/s]\u001b[A"
          ]
        },
        {
          "output_type": "stream",
          "name": "stdout",
          "text": [
            "entity number 0\n",
            "0.6219895\n",
            "Bottom estimating\n",
            "entity number 1\n",
            "0.6184304\n",
            "method\n",
            "entity number 2\n"
          ]
        },
        {
          "output_type": "stream",
          "name": "stderr",
          "text": [
            "\n",
            " 75%|███████▌  | 3/4 [00:00<00:00, 25.24it/s]\u001b[A"
          ]
        },
        {
          "output_type": "stream",
          "name": "stdout",
          "text": [
            "0.64931893\n",
            "component work cost work packages activities\n",
            "entity number 3\n"
          ]
        },
        {
          "output_type": "stream",
          "name": "stderr",
          "text": [
            "100%|██████████| 4/4 [00:00<00:00, 23.91it/s]\n",
            " 82%|████████▏ | 178/216 [01:13<00:11,  3.24it/s]"
          ]
        },
        {
          "output_type": "stream",
          "name": "stdout",
          "text": [
            "0.64686847\n",
            "level detail cost\n",
            "this is the size of the synonyms list 178\n",
            "this is the size of the concept_range list 178\n",
            "row number 178\n"
          ]
        },
        {
          "output_type": "stream",
          "name": "stderr",
          "text": [
            "\n",
            "  0%|          | 0/20 [00:00<?, ?it/s]\u001b[A"
          ]
        },
        {
          "output_type": "stream",
          "name": "stdout",
          "text": [
            "entity number 0\n",
            "0.7511383\n",
            "accuracy point cost estimates\n",
            "entity number 1\n",
            "0.78593755\n",
            "estimation uncertainty risk\n",
            "entity number 2\n"
          ]
        },
        {
          "output_type": "stream",
          "name": "stderr",
          "text": [
            "\n",
            " 15%|█▌        | 3/20 [00:00<00:00, 25.62it/s]\u001b[A"
          ]
        },
        {
          "output_type": "stream",
          "name": "stdout",
          "text": [
            "0.69456065\n",
            "estimates\n",
            "entity number 3\n",
            "0.7787185\n",
            "range activity s cost Most\n",
            "entity number 4\n",
            "0.83831346\n",
            "effort assessment work expenses\n",
            "entity number 5\n"
          ]
        },
        {
          "output_type": "stream",
          "name": "stderr",
          "text": [
            "\n",
            " 30%|███       | 6/20 [00:00<00:00, 23.22it/s]\u001b[A"
          ]
        },
        {
          "output_type": "stream",
          "name": "stdout",
          "text": [
            "0.73361325\n",
            "effort assessment work expenses\n",
            "entity number 6\n",
            "0.668769\n",
            "cost\n",
            "entity number 7\n"
          ]
        },
        {
          "output_type": "stream",
          "name": "stderr",
          "text": [
            "\n",
            " 45%|████▌     | 9/20 [00:00<00:00, 24.48it/s]"
          ]
        },
        {
          "output_type": "stream",
          "name": "stdout",
          "text": [
            "0.668769\n",
            "analysis case scenario activity Pessimistic\n",
            "entity number 8\n",
            "0.7080148\n",
            "cost\n"
          ]
        },
        {
          "output_type": "stream",
          "name": "stderr",
          "text": [
            "\u001b[A"
          ]
        },
        {
          "output_type": "stream",
          "name": "stdout",
          "text": [
            "entity number 9\n",
            "0.7452011\n",
            "analysis case scenario activity\n",
            "entity number 10\n",
            "0.74407\n",
            "distribution values range\n",
            "entity number 11\n"
          ]
        },
        {
          "output_type": "stream",
          "name": "stderr",
          "text": [
            "\n",
            " 60%|██████    | 12/20 [00:00<00:00, 24.68it/s]\u001b[A"
          ]
        },
        {
          "output_type": "stream",
          "name": "stdout",
          "text": [
            "0.753894\n",
            "cost E\n",
            "entity number 12\n",
            "0.88015723\n",
            "formulas\n",
            "entity number 13\n",
            "0.7645835\n",
            "formulas\n",
            "entity number 14\n"
          ]
        },
        {
          "output_type": "stream",
          "name": "stderr",
          "text": [
            "\n",
            " 75%|███████▌  | 15/20 [00:00<00:00, 25.07it/s]\u001b[A"
          ]
        },
        {
          "output_type": "stream",
          "name": "stdout",
          "text": [
            "0.82103574\n",
            "distribution E\n",
            "entity number 15\n",
            "0.7590163\n",
            "distribution E\n",
            "entity number 16\n",
            "0.50137043"
          ]
        },
        {
          "output_type": "stream",
          "name": "stderr",
          "text": [
            "\n",
            " 90%|█████████ | 18/20 [00:00<00:00, 25.03it/s]\u001b[A"
          ]
        },
        {
          "output_type": "stream",
          "name": "stdout",
          "text": [
            "\n",
            "c Beta distribution E\n",
            "entity number 17\n",
            "0.8146726\n",
            "points distribution\n",
            "entity number 18\n",
            "0.8071962"
          ]
        },
        {
          "output_type": "stream",
          "name": "stderr",
          "text": [
            "\r100%|██████████| 20/20 [00:00<00:00, 24.88it/s]"
          ]
        },
        {
          "output_type": "stream",
          "name": "stdout",
          "text": [
            "\n",
            "cost\n",
            "entity number 19\n",
            "0.8056189\n",
            "range uncertainty\n"
          ]
        },
        {
          "output_type": "stream",
          "name": "stderr",
          "text": [
            "\n",
            "\r 83%|████████▎ | 179/216 [01:14<00:16,  2.24it/s]"
          ]
        },
        {
          "output_type": "stream",
          "name": "stdout",
          "text": [
            "this is the size of the synonyms list 179\n",
            "this is the size of the concept_range list 179\n",
            "row number 179\n"
          ]
        },
        {
          "output_type": "stream",
          "name": "stderr",
          "text": [
            "\n",
            "  0%|          | 0/31 [00:00<?, ?it/s]\u001b[A"
          ]
        },
        {
          "output_type": "stream",
          "name": "stdout",
          "text": [
            "entity number 0\n",
            "0.725389\n",
            "Data analysis techniques\n",
            "entity number 1\n"
          ]
        },
        {
          "output_type": "stream",
          "name": "stderr",
          "text": [
            "\n",
            " 10%|▉         | 3/31 [00:00<00:01, 22.76it/s]\u001b[A"
          ]
        },
        {
          "output_type": "stream",
          "name": "stdout",
          "text": [
            "0.7429019\n",
            "Estimate\n",
            "entity number 2\n",
            "0.65009344\n",
            "Alternatives Alternatives analysis\n",
            "entity number 3\n",
            "0.72501874\n",
            "technique\n",
            "entity number 4\n"
          ]
        },
        {
          "output_type": "stream",
          "name": "stderr",
          "text": [
            "\n",
            " 19%|█▉        | 6/31 [00:00<00:01, 24.21it/s]\u001b[A"
          ]
        },
        {
          "output_type": "stream",
          "name": "stdout",
          "text": [
            "0.9453809\n",
            "options approaches\n",
            "entity number 5\n",
            "0.60928154\n",
            "options approaches\n",
            "entity number 6\n",
            "0.6886057\n",
            "work project example\n",
            "entity number 7"
          ]
        },
        {
          "output_type": "stream",
          "name": "stderr",
          "text": [
            "\n",
            " 29%|██▉       | 9/31 [00:00<00:00, 24.83it/s]\u001b[A"
          ]
        },
        {
          "output_type": "stream",
          "name": "stdout",
          "text": [
            "\n",
            "0.5942279\n",
            "cost schedule resource quality impacts\n",
            "entity number 8\n",
            "0.54920995\n",
            "versus\n",
            "entity number 9\n"
          ]
        },
        {
          "output_type": "stream",
          "name": "stderr",
          "text": [
            "\n",
            " 39%|███▊      | 12/31 [00:00<00:00, 24.90it/s]\u001b[A"
          ]
        },
        {
          "output_type": "stream",
          "name": "stdout",
          "text": [
            "0.74108225\n",
            "Reserve analysis Cost estimates\n",
            "entity number 10\n",
            "0.8956633\n",
            "contingency allowances\n",
            "entity number 11\n",
            "0.7868371\n",
            "contingency allowances\n",
            "entity number 12\n"
          ]
        },
        {
          "output_type": "stream",
          "name": "stderr",
          "text": [
            "\n",
            " 48%|████▊     | 15/31 [00:00<00:00, 26.15it/s]\u001b[A"
          ]
        },
        {
          "output_type": "stream",
          "name": "stdout",
          "text": [
            "0.80449396\n",
            "budget cost baseline\n",
            "entity number 13\n",
            "0.69863456\n",
            "budget cost baseline\n",
            "entity number 14\n",
            "0.57856977\n",
            "risks Contingency reserves\n",
            "entity number 15\n"
          ]
        },
        {
          "output_type": "stream",
          "name": "stderr",
          "text": [
            "\n",
            " 58%|█████▊    | 18/31 [00:00<00:00, 26.17it/s]\u001b[A"
          ]
        },
        {
          "output_type": "stream",
          "name": "stdout",
          "text": [
            "0.5444907\n",
            "part budget\n",
            "entity number 16\n",
            "0.27578628\n",
            "unknowns\n",
            "entity number 17\n",
            "0.7733184\n",
            "project example rework project deliverables\n",
            "entity number 18\n"
          ]
        },
        {
          "output_type": "stream",
          "name": "stderr",
          "text": [
            "\n",
            " 68%|██████▊   | 21/31 [00:00<00:00, 26.28it/s]\u001b[A"
          ]
        },
        {
          "output_type": "stream",
          "name": "stdout",
          "text": [
            "0.733685\n",
            "amount rework\n",
            "entity number 19\n",
            "0.8868953\n",
            "amount rework Contingency reserves\n",
            "entity number 20\n",
            "0.82008684\n",
            "level activity project contingency reserve\n",
            "entity number 21\n"
          ]
        },
        {
          "output_type": "stream",
          "name": "stderr",
          "text": [
            "\n",
            " 77%|███████▋  | 24/31 [00:00<00:00, 25.95it/s]\u001b[A"
          ]
        },
        {
          "output_type": "stream",
          "name": "stdout",
          "text": [
            "0.65917367\n",
            "level activity project contingency reserve\n",
            "entity number 22\n",
            "0.8530577\n",
            "cost number\n",
            "entity number 23\n",
            "0.73804665\n",
            "cost number\n",
            "entity number 24\n"
          ]
        },
        {
          "output_type": "stream",
          "name": "stderr",
          "text": [
            "\n",
            " 87%|████████▋ | 27/31 [00:01<00:00, 26.58it/s]\u001b[A"
          ]
        },
        {
          "output_type": "stream",
          "name": "stdout",
          "text": [
            "0.66939336\n",
            "analysis methods information project\n",
            "entity number 25\n",
            "0.9102107\n",
            "Contingency\n",
            "entity number 26\n",
            "0.78858894\n",
            "Contingency\n",
            "entity number 27\n"
          ]
        },
        {
          "output_type": "stream",
          "name": "stderr",
          "text": [
            "\n",
            " 97%|█████████▋| 30/31 [00:01<00:00, 26.73it/s]\u001b[A"
          ]
        },
        {
          "output_type": "stream",
          "name": "stdout",
          "text": [
            "0.8557221\n",
            "part cost baseline funding Requirements project Cost quality Assumptions costs Section\n",
            "entity number 28\n",
            "0.7168809\n",
            "part cost baseline funding Requirements project Cost quality Assumptions costs Section\n",
            "entity number 29\n",
            "0.6723696\n",
            "estimates\n",
            "entity number 30\n"
          ]
        },
        {
          "output_type": "stream",
          "name": "stderr",
          "text": [
            "100%|██████████| 31/31 [00:01<00:00, 25.71it/s]\n",
            " 83%|████████▎ | 180/216 [01:15<00:23,  1.51it/s]"
          ]
        },
        {
          "output_type": "stream",
          "name": "stdout",
          "text": [
            "0.6147177\n",
            "cost impact investment conformance cost nonconformance\n",
            "this is the size of the synonyms list 180\n",
            "this is the size of the concept_range list 180\n",
            "row number 180\n"
          ]
        },
        {
          "output_type": "stream",
          "name": "stderr",
          "text": [
            "\n",
            "  0%|          | 0/5 [00:00<?, ?it/s]\u001b[A"
          ]
        },
        {
          "output_type": "stream",
          "name": "stdout",
          "text": [
            "entity number 0\n",
            "0.6390247\n",
            "project management information system\n",
            "entity number 1\n",
            "0.40663898\n",
            "spreadsheets software analysis tools\n",
            "entity number 2\n"
          ]
        },
        {
          "output_type": "stream",
          "name": "stderr",
          "text": [
            "\n",
            " 60%|██████    | 3/5 [00:00<00:00, 25.39it/s]\u001b[A"
          ]
        },
        {
          "output_type": "stream",
          "name": "stdout",
          "text": [
            "0.61678797\n",
            "cost\n",
            "entity number 3\n",
            "0.60973406\n",
            "tools\n",
            "entity number 4\n"
          ]
        },
        {
          "output_type": "stream",
          "name": "stderr",
          "text": [
            "100%|██████████| 5/5 [00:00<00:00, 25.29it/s]\n",
            " 84%|████████▍ | 181/216 [01:15<00:18,  1.88it/s]"
          ]
        },
        {
          "output_type": "stream",
          "name": "stdout",
          "text": [
            "0.78675956\n",
            "use cost\n",
            "this is the size of the synonyms list 181\n",
            "this is the size of the concept_range list 181\n",
            "row number 181\n"
          ]
        },
        {
          "output_type": "stream",
          "name": "stderr",
          "text": [
            "\n",
            "  0%|          | 0/7 [00:00<?, ?it/s]\u001b[A"
          ]
        },
        {
          "output_type": "stream",
          "name": "stdout",
          "text": [
            "entity number 0\n",
            "0.8218279\n",
            "techniques\n",
            "entity number 1\n",
            "0.79045117\n",
            "techniques\n",
            "entity number 2\n"
          ]
        },
        {
          "output_type": "stream",
          "name": "stderr",
          "text": [
            "\n",
            " 43%|████▎     | 3/7 [00:00<00:00, 25.19it/s]\u001b[A"
          ]
        },
        {
          "output_type": "stream",
          "name": "stdout",
          "text": [
            "0.6315912\n",
            "Estimate\n",
            "entity number 3\n",
            "0.69266945\n",
            "voting\n",
            "entity number 4\n",
            "0.70328563\n",
            "process\n",
            "entity number 5\n"
          ]
        },
        {
          "output_type": "stream",
          "name": "stderr",
          "text": [
            "\n",
            " 86%|████████▌ | 6/7 [00:00<00:00, 24.58it/s]"
          ]
        },
        {
          "output_type": "stream",
          "name": "stdout",
          "text": [
            "0.6275712\n",
            "alternatives outcome form actions techniques\n"
          ]
        },
        {
          "output_type": "stream",
          "name": "stderr",
          "text": [
            "100%|██████████| 7/7 [00:00<00:00, 24.51it/s]\n",
            " 84%|████████▍ | 182/216 [01:16<00:15,  2.15it/s]"
          ]
        },
        {
          "output_type": "stream",
          "name": "stdout",
          "text": [
            "entity number 6\n",
            "0.61536634\n",
            "team members\n",
            "this is the size of the synonyms list 182\n",
            "this is the size of the concept_range list 182\n",
            "row number 182\n"
          ]
        },
        {
          "output_type": "stream",
          "name": "stderr",
          "text": [
            "\n",
            "  0%|          | 0/10 [00:00<?, ?it/s]\u001b[A"
          ]
        },
        {
          "output_type": "stream",
          "name": "stdout",
          "text": [
            "entity number 0\n",
            "0.88521636\n",
            "costs\n",
            "entity number 1\n",
            "0.69400203\n",
            "costs\n",
            "entity number 2\n"
          ]
        },
        {
          "output_type": "stream",
          "name": "stderr",
          "text": [
            "\n",
            " 30%|███       | 3/10 [00:00<00:00, 26.31it/s]\u001b[A"
          ]
        },
        {
          "output_type": "stream",
          "name": "stdout",
          "text": [
            "0.67196715\n",
            "project work contingency amounts\n",
            "entity number 3\n",
            "0.6674144\n",
            "risks management reserve\n",
            "entity number 4\n",
            "0.81385124\n",
            "form detail Costs\n",
            "entity number 5\n"
          ]
        },
        {
          "output_type": "stream",
          "name": "stderr",
          "text": [
            "\n",
            " 60%|██████    | 6/10 [00:00<00:00, 25.50it/s]\u001b[A"
          ]
        },
        {
          "output_type": "stream",
          "name": "stdout",
          "text": [
            "0.8010217\n",
            "resources\n",
            "entity number 6\n",
            "0.7628482\n",
            "resources\n",
            "entity number 7\n",
            "0.80287224"
          ]
        },
        {
          "output_type": "stream",
          "name": "stderr",
          "text": [
            "\n",
            " 90%|█████████ | 9/10 [00:00<00:00, 25.98it/s]\u001b[A"
          ]
        },
        {
          "output_type": "stream",
          "name": "stdout",
          "text": [
            "\n",
            "labor materials equipment services facilities information technology categories cost\n",
            "entity number 8\n",
            "0.54555714\n",
            "labor materials equipment services facilities information technology categories cost\n",
            "entity number 9\n"
          ]
        },
        {
          "output_type": "stream",
          "name": "stderr",
          "text": [
            "100%|██████████| 10/10 [00:00<00:00, 24.96it/s]\n",
            " 85%|████████▍ | 183/216 [01:16<00:14,  2.23it/s]"
          ]
        },
        {
          "output_type": "stream",
          "name": "stdout",
          "text": [
            "0.51681924\n",
            "interest charges inflation allowance exchange rates cost contingency reserve Indirect\n",
            "this is the size of the synonyms list 183\n",
            "this is the size of the concept_range list 183\n",
            "row number 183\n"
          ]
        },
        {
          "output_type": "stream",
          "name": "stderr",
          "text": [
            "\n",
            "  0%|          | 0/10 [00:00<?, ?it/s]\u001b[A"
          ]
        },
        {
          "output_type": "stream",
          "name": "stdout",
          "text": [
            "entity number 0\n",
            "0.6873863\n",
            "amount type details\n",
            "entity number 1\n",
            "0.5337475\n",
            "cost estimate vary application area Regardless level detail\n",
            "entity number 2\n"
          ]
        },
        {
          "output_type": "stream",
          "name": "stderr",
          "text": [
            "\n",
            " 30%|███       | 3/10 [00:00<00:00, 26.16it/s]\u001b[A"
          ]
        },
        {
          "output_type": "stream",
          "name": "stdout",
          "text": [
            "0.70615375\n",
            "documentation\n",
            "entity number 3\n",
            "0.9183411\n",
            "Supporting detail cost estimates\n",
            "entity number 4\n",
            "0.8385159\n",
            "Documentation basis estimate\n",
            "entity number 5\n"
          ]
        },
        {
          "output_type": "stream",
          "name": "stderr",
          "text": [
            "\n",
            " 60%|██████    | 6/10 [00:00<00:00, 25.31it/s]\u001b[A"
          ]
        },
        {
          "output_type": "stream",
          "name": "stdout",
          "text": [
            "0.87134516\n",
            "Documentation assumptions\n",
            "entity number 6\n",
            "0.8608763\n",
            "Documentation constraints Documentation risks\n",
            "entity number 7\n"
          ]
        },
        {
          "output_type": "stream",
          "name": "stderr",
          "text": [
            "\n",
            " 90%|█████████ | 9/10 [00:00<00:00, 24.53it/s]\u001b[A"
          ]
        },
        {
          "output_type": "stream",
          "name": "stdout",
          "text": [
            "0.68547374\n",
            "Documentation constraints Documentation risks\n",
            "entity number 8\n",
            "0.67296076\n",
            "costs Indication range estimates\n",
            "entity number 9\n"
          ]
        },
        {
          "output_type": "stream",
          "name": "stderr",
          "text": [
            "100%|██████████| 10/10 [00:00<00:00, 24.38it/s]\n",
            " 85%|████████▌ | 184/216 [01:16<00:14,  2.27it/s]"
          ]
        },
        {
          "output_type": "stream",
          "name": "stdout",
          "text": [
            "0.7314178\n",
            "Up ±\n",
            "this is the size of the synonyms list 184\n",
            "this is the size of the concept_range list 184\n",
            "row number 184\n"
          ]
        },
        {
          "output_type": "stream",
          "name": "stderr",
          "text": [
            "\n",
            "  0%|          | 0/14 [00:00<?, ?it/s]\u001b[A"
          ]
        },
        {
          "output_type": "stream",
          "name": "stdout",
          "text": [
            "entity number 0\n",
            "0.6835313\n",
            "Project Document\n",
            "entity number 1\n",
            "0.8931931\n",
            "process\n",
            "entity number 2\n"
          ]
        },
        {
          "output_type": "stream",
          "name": "stderr",
          "text": [
            "\n",
            " 21%|██▏       | 3/14 [00:00<00:00, 23.62it/s]\u001b[A"
          ]
        },
        {
          "output_type": "stream",
          "name": "stdout",
          "text": [
            "0.60498774\n",
            "process\n",
            "entity number 3\n",
            "0.5874807\n",
            "Assumption log Cost Estimates\n",
            "entity number 4\n"
          ]
        },
        {
          "output_type": "stream",
          "name": "stderr",
          "text": [
            "\n",
            " 43%|████▎     | 6/14 [00:00<00:00, 24.72it/s]\u001b[A"
          ]
        },
        {
          "output_type": "stream",
          "name": "stdout",
          "text": [
            "0.8487389\n",
            "constraints\n",
            "entity number 5\n",
            "0.93934214\n",
            "assumptions constraints\n",
            "entity number 6\n",
            "0.70504665\n",
            "assumptions constraints\n",
            "entity number 7\n"
          ]
        },
        {
          "output_type": "stream",
          "name": "stderr",
          "text": [
            "\n",
            " 64%|██████▍   | 9/14 [00:00<00:00, 24.89it/s]\u001b[A"
          ]
        },
        {
          "output_type": "stream",
          "name": "stdout",
          "text": [
            "0.67032397\n",
            "assumption log\n",
            "entity number 8\n",
            "0.82130647\n",
            "lessons\n",
            "entity number 9\n"
          ]
        },
        {
          "output_type": "stream",
          "name": "stderr",
          "text": [
            "\n",
            " 86%|████████▌ | 12/14 [00:00<00:00, 26.05it/s]\u001b[A"
          ]
        },
        {
          "output_type": "stream",
          "name": "stdout",
          "text": [
            "0.7040371\n",
            "lessons\n",
            "entity number 10\n",
            "0.8007765\n",
            "techniques\n",
            "entity number 11\n",
            "0.6780672\n",
            "techniques\n",
            "entity number 12\n",
            "0.90073425\n",
            "risk register\n",
            "entity number 13\n"
          ]
        },
        {
          "output_type": "stream",
          "name": "stderr",
          "text": [
            "100%|██████████| 14/14 [00:00<00:00, 25.20it/s]\n",
            " 86%|████████▌ | 185/216 [01:17<00:14,  2.09it/s]"
          ]
        },
        {
          "output_type": "stream",
          "name": "stdout",
          "text": [
            "0.9444981\n",
            "risk responses\n",
            "this is the size of the synonyms list 185\n",
            "this is the size of the concept_range list 185\n",
            "row number 185\n"
          ]
        },
        {
          "output_type": "stream",
          "name": "stderr",
          "text": [
            "\n",
            "  0%|          | 0/6 [00:00<?, ?it/s]\u001b[A"
          ]
        },
        {
          "output_type": "stream",
          "name": "stdout",
          "text": [
            "entity number 0\n",
            "0.6885017\n",
            "Determine Budget\n",
            "entity number 1\n"
          ]
        },
        {
          "output_type": "stream",
          "name": "stderr",
          "text": [
            "\n",
            " 50%|█████     | 3/6 [00:00<00:00, 25.58it/s]\u001b[A"
          ]
        },
        {
          "output_type": "stream",
          "name": "stdout",
          "text": [
            "0.8173648\n",
            "costs activities work packages\n",
            "entity number 2\n",
            "0.7751843\n",
            "costs activities work packages\n",
            "entity number 3\n",
            "0.7424631\n",
            "cost\n",
            "entity number 4\n",
            "0.7687627\n",
            "benefit process\n",
            "entity number 5\n"
          ]
        },
        {
          "output_type": "stream",
          "name": "stderr",
          "text": [
            "\n",
            "100%|██████████| 6/6 [00:00<00:00, 24.83it/s]\n",
            " 86%|████████▌ | 186/216 [01:17<00:12,  2.43it/s]"
          ]
        },
        {
          "output_type": "stream",
          "name": "stdout",
          "text": [
            "0.6314522\n",
            "cost baseline project performance\n",
            "this is the size of the synonyms list 186\n",
            "this is the size of the concept_range list 186\n",
            "row number 186\n"
          ]
        },
        {
          "output_type": "stream",
          "name": "stderr",
          "text": [
            "\n",
            "  0%|          | 0/6 [00:00<?, ?it/s]\u001b[A"
          ]
        },
        {
          "output_type": "stream",
          "name": "stdout",
          "text": [
            "entity number 0\n",
            "0.7663933\n",
            "Project management plan commons\n",
            "entity number 1\n",
            "0.8426644\n",
            "project costs\n",
            "entity number 2\n"
          ]
        },
        {
          "output_type": "stream",
          "name": "stderr",
          "text": [
            "\n",
            " 50%|█████     | 3/6 [00:00<00:00, 23.70it/s]\u001b[A"
          ]
        },
        {
          "output_type": "stream",
          "name": "stdout",
          "text": [
            "0.7911387\n",
            "project costs\n",
            "entity number 3\n",
            "0.7551638\n",
            "project budget Resource management plan resource management plan\n",
            "entity number 4\n",
            "0.74996483\n",
            "information rates personnel resources estimation travel costs foreseen costs\n",
            "entity number 5\n"
          ]
        },
        {
          "output_type": "stream",
          "name": "stderr",
          "text": [
            "\n",
            "100%|██████████| 6/6 [00:00<00:00, 22.55it/s]\n",
            " 87%|████████▋ | 187/216 [01:18<00:10,  2.70it/s]"
          ]
        },
        {
          "output_type": "stream",
          "name": "stdout",
          "text": [
            "0.64524674\n",
            "project budget Scope\n",
            "this is the size of the synonyms list 187\n",
            "this is the size of the concept_range list 187\n",
            "row number 187\n"
          ]
        },
        {
          "output_type": "stream",
          "name": "stderr",
          "text": [
            "\n",
            "  0%|          | 0/17 [00:00<?, ?it/s]\u001b[A"
          ]
        },
        {
          "output_type": "stream",
          "name": "stdout",
          "text": [
            "entity number 0\n",
            "0.7392939\n",
            "Examples project Document\n",
            "entity number 1\n",
            "0.794215\n",
            "inputs process\n",
            "entity number 2\n"
          ]
        },
        {
          "output_type": "stream",
          "name": "stderr",
          "text": [
            "\n",
            " 18%|█▊        | 3/17 [00:00<00:00, 23.81it/s]\u001b[A"
          ]
        },
        {
          "output_type": "stream",
          "name": "stdout",
          "text": [
            "0.85665077\n",
            "detail cost estimates\n",
            "entity number 3\n",
            "0.85665077\n",
            "basis estimates\n",
            "entity number 4\n",
            "0.7284655\n"
          ]
        },
        {
          "output_type": "stream",
          "name": "stderr",
          "text": [
            "\n",
            " 35%|███▌      | 6/17 [00:00<00:00, 24.34it/s]\u001b[A"
          ]
        },
        {
          "output_type": "stream",
          "name": "stdout",
          "text": [
            "basis estimates\n",
            "entity number 5\n",
            "0.6445493\n",
            "assumptions\n",
            "entity number 6\n",
            "0.74934614\n",
            "inclusion exclusion costs project budget Cost\n",
            "entity number 7\n",
            "0.9642851\n",
            "cost estimate work package Project\n",
            "entity number 8\n",
            "0.8578079\n"
          ]
        },
        {
          "output_type": "stream",
          "name": "stderr",
          "text": [
            "\n",
            " 53%|█████▎    | 9/17 [00:00<00:00, 24.36it/s]\u001b[A"
          ]
        },
        {
          "output_type": "stream",
          "name": "stdout",
          "text": [
            "project schedule\n",
            "entity number 9\n"
          ]
        },
        {
          "output_type": "stream",
          "name": "stderr",
          "text": [
            "\n",
            " 71%|███████   | 12/17 [00:00<00:00, 24.66it/s]"
          ]
        },
        {
          "output_type": "stream",
          "name": "stdout",
          "text": [
            "0.83924\n",
            "start dates project s activities milestones work packages control\n",
            "entity number 10\n",
            "0.54335904\n",
            "start dates project s activities milestones work packages control\n",
            "entity number 11\n",
            "0.60078675\n",
            "information\n"
          ]
        },
        {
          "output_type": "stream",
          "name": "stderr",
          "text": [
            "\u001b[A"
          ]
        },
        {
          "output_type": "stream",
          "name": "stdout",
          "text": [
            "entity number 12\n",
            "0.6350807\n",
            "costs calendar periods costs\n",
            "entity number 13\n",
            "0.8921578\n",
            "risk register\n",
            "entity number 14\n"
          ]
        },
        {
          "output_type": "stream",
          "name": "stderr",
          "text": [
            "\n",
            " 88%|████████▊ | 15/17 [00:00<00:00, 25.23it/s]\u001b[A"
          ]
        },
        {
          "output_type": "stream",
          "name": "stdout",
          "text": [
            "0.9370135\n",
            "risk response costs\n",
            "entity number 15\n"
          ]
        },
        {
          "output_type": "stream",
          "name": "stderr",
          "text": [
            "100%|██████████| 17/17 [00:00<00:00, 24.85it/s]\n",
            " 87%|████████▋ | 188/216 [01:18<00:13,  2.14it/s]"
          ]
        },
        {
          "output_type": "stream",
          "name": "stdout",
          "text": [
            "0.9370135\n",
            "risk register\n",
            "entity number 16\n",
            "0.66350335\n",
            "risk register\n",
            "this is the size of the synonyms list 188\n",
            "this is the size of the concept_range list 188\n",
            "row number 188\n"
          ]
        },
        {
          "output_type": "stream",
          "name": "stderr",
          "text": [
            "\n",
            "  0%|          | 0/6 [00:00<?, ?it/s]\u001b[A"
          ]
        },
        {
          "output_type": "stream",
          "name": "stdout",
          "text": [
            "entity number 0\n",
            "0.53353524\n",
            "business Document\n",
            "entity number 1\n",
            "0.43837324\n",
            "inputs process\n",
            "entity number 2\n"
          ]
        },
        {
          "output_type": "stream",
          "name": "stderr",
          "text": [
            "\n",
            " 50%|█████     | 3/6 [00:00<00:00, 27.12it/s]\u001b[A"
          ]
        },
        {
          "output_type": "stream",
          "name": "stdout",
          "text": [
            "0.32997668\n",
            "Business case business case\n",
            "entity number 3\n",
            "0.8886385\n",
            "success factors Benefits management plan benefits management plan\n",
            "entity number 4\n",
            "0.816581\n",
            "target benefits value calculations\n",
            "entity number 5\n"
          ]
        },
        {
          "output_type": "stream",
          "name": "stderr",
          "text": [
            "\n",
            "100%|██████████| 6/6 [00:00<00:00, 25.60it/s]\u001b[A"
          ]
        },
        {
          "output_type": "stream",
          "name": "stdout",
          "text": [
            "0.8722288\n",
            "benefits metrics\n"
          ]
        },
        {
          "output_type": "stream",
          "name": "stderr",
          "text": [
            "100%|██████████| 6/6 [00:00<00:00, 24.77it/s]\n",
            " 88%|████████▊ | 189/216 [01:18<00:10,  2.48it/s]"
          ]
        },
        {
          "output_type": "stream",
          "name": "stdout",
          "text": [
            "this is the size of the synonyms list 189\n",
            "this is the size of the concept_range list 189\n",
            "row number 189\n"
          ]
        },
        {
          "output_type": "stream",
          "name": "stderr",
          "text": [
            "\n",
            "100%|██████████| 1/1 [00:00<00:00, 21.82it/s]\n"
          ]
        },
        {
          "output_type": "stream",
          "name": "stdout",
          "text": [
            "entity number 0\n",
            "0.76859057\n",
            "agreement information\n",
            "this is the size of the synonyms list 190\n",
            "this is the size of the concept_range list 190\n",
            "row number 190\n"
          ]
        },
        {
          "output_type": "stream",
          "name": "stderr",
          "text": [
            "\n",
            "  0%|          | 0/3 [00:00<?, ?it/s]\u001b[A"
          ]
        },
        {
          "output_type": "stream",
          "name": "stdout",
          "text": [
            "entity number 0\n",
            "0.5940912\n",
            "enterprise factors\n",
            "entity number 1\n"
          ]
        },
        {
          "output_type": "stream",
          "name": "stderr",
          "text": [
            "\n",
            "100%|██████████| 3/3 [00:00<00:00, 24.54it/s]\n",
            " 88%|████████▊ | 191/216 [01:19<00:06,  3.84it/s]"
          ]
        },
        {
          "output_type": "stream",
          "name": "stdout",
          "text": [
            "0.7984868\n",
            "Estimate\n",
            "entity number 2\n",
            "0.6222136\n",
            "rates projects\n",
            "this is the size of the synonyms list 191\n",
            "this is the size of the concept_range list 191\n",
            "row number 191\n"
          ]
        },
        {
          "output_type": "stream",
          "name": "stderr",
          "text": [
            "\n",
            "  0%|          | 0/2 [00:00<?, ?it/s]\u001b[A"
          ]
        },
        {
          "output_type": "stream",
          "name": "stdout",
          "text": [
            "entity number 0\n",
            "0.6568076\n",
            "process sets\n",
            "entity number 1\n"
          ]
        },
        {
          "output_type": "stream",
          "name": "stderr",
          "text": [
            "\r100%|██████████| 2/2 [00:00<00:00, 24.00it/s]\n"
          ]
        },
        {
          "output_type": "stream",
          "name": "stdout",
          "text": [
            "0.7876618\n",
            "Determine Budget process\n",
            "this is the size of the synonyms list 192\n",
            "this is the size of the concept_range list 192\n",
            "row number 192\n"
          ]
        },
        {
          "output_type": "stream",
          "name": "stderr",
          "text": [
            "\n",
            "0it [00:00, ?it/s]\n",
            " 89%|████████▉ | 193/216 [01:19<00:04,  5.62it/s]"
          ]
        },
        {
          "output_type": "stream",
          "name": "stdout",
          "text": [
            "this is the size of the synonyms list 193\n",
            "this is the size of the concept_range list 193\n",
            "row number 193\n"
          ]
        },
        {
          "output_type": "stream",
          "name": "stderr",
          "text": [
            "\n",
            "  0%|          | 0/1 [00:00<?, ?it/s]\u001b[A"
          ]
        },
        {
          "output_type": "stream",
          "name": "stdout",
          "text": [
            "entity number 0\n"
          ]
        },
        {
          "output_type": "stream",
          "name": "stderr",
          "text": [
            "\r100%|██████████| 1/1 [00:00<00:00, 19.97it/s]\n"
          ]
        },
        {
          "output_type": "stream",
          "name": "stdout",
          "text": [
            "0.8344406\n",
            "work packages accordance work package cost estimates\n",
            "this is the size of the synonyms list 194\n",
            "this is the size of the concept_range list 194\n",
            "row number 194\n"
          ]
        },
        {
          "output_type": "stream",
          "name": "stderr",
          "text": [
            "\n",
            "  0%|          | 0/12 [00:00<?, ?it/s]\u001b[A"
          ]
        },
        {
          "output_type": "stream",
          "name": "stdout",
          "text": [
            "entity number 0\n",
            "0.63527346\n",
            "data analysis technique\n",
            "entity number 1\n",
            "0.63102716\n",
            "Determine Budget process\n",
            "entity number 2\n"
          ]
        },
        {
          "output_type": "stream",
          "name": "stderr",
          "text": [
            "\n",
            " 25%|██▌       | 3/12 [00:00<00:00, 25.19it/s]\u001b[A"
          ]
        },
        {
          "output_type": "stream",
          "name": "stdout",
          "text": [
            "0.67854273\n",
            "analysis\n",
            "entity number 3\n",
            "0.6544771\n",
            "management reserves project Management reserves\n",
            "entity number 4\n",
            "0.41523427\n"
          ]
        },
        {
          "output_type": "stream",
          "name": "stderr",
          "text": [
            "\n"
          ]
        },
        {
          "output_type": "stream",
          "name": "stdout",
          "text": [
            "amount project budget withheld management control purposes\n",
            "entity number 5\n",
            "0.6070311\n",
            "work\n"
          ]
        },
        {
          "output_type": "stream",
          "name": "stderr",
          "text": [
            "\r 50%|█████     | 6/12 [00:00<00:00, 24.40it/s]\u001b[A"
          ]
        },
        {
          "output_type": "stream",
          "name": "stdout",
          "text": [
            "entity number 6\n",
            "0.4087985\n",
            "scope project Management reserves\n",
            "entity number 7\n",
            "0.43142718\n",
            "unknowns\n",
            "entity number 8\n"
          ]
        },
        {
          "output_type": "stream",
          "name": "stderr",
          "text": [
            "\n",
            " 75%|███████▌  | 9/12 [00:00<00:00, 24.96it/s]\u001b[A"
          ]
        },
        {
          "output_type": "stream",
          "name": "stdout",
          "text": [
            "0.7727415\n",
            "project management reserve\n",
            "entity number 9\n",
            "0.7685317\n",
            "cost baseline\n",
            "entity number 10\n",
            "0.8344071\n",
            "amount management reserve\n",
            "entity number 11\n"
          ]
        },
        {
          "output_type": "stream",
          "name": "stderr",
          "text": [
            "\n",
            "100%|██████████| 12/12 [00:00<00:00, 24.80it/s]\n",
            " 90%|█████████ | 195/216 [01:19<00:04,  4.65it/s]"
          ]
        },
        {
          "output_type": "stream",
          "name": "stdout",
          "text": [
            "0.8426338\n",
            "cost baseline\n",
            "this is the size of the synonyms list 195\n",
            "this is the size of the concept_range list 195\n",
            "row number 195\n"
          ]
        },
        {
          "output_type": "stream",
          "name": "stderr",
          "text": [
            "\n",
            "  0%|          | 0/13 [00:00<?, ?it/s]\u001b[A"
          ]
        },
        {
          "output_type": "stream",
          "name": "stdout",
          "text": [
            "entity number 0\n",
            "0.7262306\n",
            "information\n",
            "entity number 1\n",
            "0.7171781\n",
            "estimates estimates information\n",
            "entity number 2\n"
          ]
        },
        {
          "output_type": "stream",
          "name": "stderr",
          "text": [
            "\n",
            " 23%|██▎       | 3/13 [00:00<00:00, 25.47it/s]\u001b[A"
          ]
        },
        {
          "output_type": "stream",
          "name": "stdout",
          "text": [
            "0.6570115\n",
            "project characteristics parameters\n",
            "entity number 3\n",
            "0.6524096\n",
            "models\n",
            "entity number 4\n",
            "0.4393286\n",
            "project costs models\n",
            "entity number 5\n"
          ]
        },
        {
          "output_type": "stream",
          "name": "stderr",
          "text": [
            "\n",
            " 46%|████▌     | 6/13 [00:00<00:00, 25.27it/s]\u001b[A"
          ]
        },
        {
          "output_type": "stream",
          "name": "stdout",
          "text": [
            "0.46323243\n",
            "home construction\n",
            "entity number 6\n",
            "0.58751374\n",
            "cost foot space eg model software development\n",
            "entity number 7\n",
            "0.7750194\n"
          ]
        },
        {
          "output_type": "stream",
          "name": "stderr",
          "text": [
            "\n",
            " 69%|██████▉   | 9/13 [00:00<00:00, 25.49it/s]\u001b[A"
          ]
        },
        {
          "output_type": "stream",
          "name": "stdout",
          "text": [
            "uses adjustment factors\n",
            "entity number 8\n",
            "0.6552055\n",
            "points cost accuracy models\n",
            "entity number 9\n",
            "0.6604854\n",
            "Historical information\n",
            "entity number 10\n",
            "0.9119352\n",
            "Parameters\n",
            "entity number 11\n"
          ]
        },
        {
          "output_type": "stream",
          "name": "stderr",
          "text": [
            "\n",
            " 92%|█████████▏| 12/13 [00:00<00:00, 25.30it/s]\u001b[A"
          ]
        },
        {
          "output_type": "stream",
          "name": "stdout",
          "text": [
            "0.9119352\n",
            "model\n",
            "entity number 12\n",
            "0.9272723"
          ]
        },
        {
          "output_type": "stream",
          "name": "stderr",
          "text": [
            "100%|██████████| 13/13 [00:00<00:00, 24.95it/s]\n",
            " 91%|█████████ | 196/216 [01:20<00:05,  3.58it/s]"
          ]
        },
        {
          "output_type": "stream",
          "name": "stdout",
          "text": [
            "\n",
            "Models\n",
            "this is the size of the synonyms list 196\n",
            "this is the size of the concept_range list 196\n",
            "row number 196\n"
          ]
        },
        {
          "output_type": "stream",
          "name": "stderr",
          "text": [
            "\n",
            "  0%|          | 0/4 [00:00<?, ?it/s]\u001b[A"
          ]
        },
        {
          "output_type": "stream",
          "name": "stdout",
          "text": [
            "entity number 0\n",
            "0.7045468\n",
            "expenditure funds\n",
            "entity number 1\n",
            "0.6847587\n",
            "funding limits commitment funds project variance funding limits\n",
            "entity number 2\n"
          ]
        },
        {
          "output_type": "stream",
          "name": "stderr",
          "text": [
            "\n",
            " 75%|███████▌  | 3/4 [00:00<00:00, 26.28it/s]\u001b[A"
          ]
        },
        {
          "output_type": "stream",
          "name": "stdout",
          "text": [
            "0.6789725\n",
            "expenditures\n",
            "entity number 3\n"
          ]
        },
        {
          "output_type": "stream",
          "name": "stderr",
          "text": [
            "100%|██████████| 4/4 [00:00<00:00, 24.91it/s]\n",
            " 91%|█████████ | 197/216 [01:20<00:04,  3.92it/s]"
          ]
        },
        {
          "output_type": "stream",
          "name": "stdout",
          "text": [
            "0.7123966\n",
            "scheduling work\n",
            "this is the size of the synonyms list 197\n",
            "this is the size of the concept_range list 197\n",
            "row number 197\n"
          ]
        },
        {
          "output_type": "stream",
          "name": "stderr",
          "text": [
            "\n",
            "  0%|          | 0/5 [00:00<?, ?it/s]\u001b[A"
          ]
        },
        {
          "output_type": "stream",
          "name": "stdout",
          "text": [
            "entity number 0\n"
          ]
        },
        {
          "output_type": "stream",
          "name": "stderr",
          "text": [
            "\n",
            " 60%|██████    | 3/5 [00:00<00:00, 26.01it/s]\u001b[A"
          ]
        },
        {
          "output_type": "stream",
          "name": "stdout",
          "text": [
            "0.6485377\n",
            "entails\n",
            "entity number 1\n",
            "0.7774129\n",
            "funding projects\n",
            "entity number 2\n",
            "0.78283256\n",
            "term infrastructure services projects\n",
            "entity number 3\n",
            "0.8921976\n",
            "funding entity\n",
            "entity number 4\n"
          ]
        },
        {
          "output_type": "stream",
          "name": "stderr",
          "text": [
            "100%|██████████| 5/5 [00:00<00:00, 25.18it/s]\n",
            " 92%|█████████▏| 198/216 [01:20<00:04,  4.10it/s]"
          ]
        },
        {
          "output_type": "stream",
          "name": "stdout",
          "text": [
            "0.7811836\n",
            "funding entity\n",
            "this is the size of the synonyms list 198\n",
            "this is the size of the concept_range list 198\n",
            "row number 198\n"
          ]
        },
        {
          "output_type": "stream",
          "name": "stderr",
          "text": [
            "\n",
            "  0%|          | 0/27 [00:00<?, ?it/s]\u001b[A"
          ]
        },
        {
          "output_type": "stream",
          "name": "stdout",
          "text": [
            "entity number 0\n"
          ]
        },
        {
          "output_type": "stream",
          "name": "stderr",
          "text": [
            "\n",
            " 11%|█         | 3/27 [00:00<00:00, 27.67it/s]\u001b[A"
          ]
        },
        {
          "output_type": "stream",
          "name": "stdout",
          "text": [
            "0.74201405\n",
            "cost baseline\n",
            "entity number 1\n",
            "0.673149\n",
            "version time\n",
            "entity number 2\n",
            "0.73940474\n",
            "project budget\n",
            "entity number 3\n",
            "0.64536697\n",
            "management reserves\n",
            "entity number 4\n",
            "0.53182316\n",
            "change control\n",
            "entity number 5\n"
          ]
        },
        {
          "output_type": "stream",
          "name": "stderr",
          "text": [
            "\n",
            " 22%|██▏       | 6/27 [00:00<00:00, 26.47it/s]\u001b[A"
          ]
        },
        {
          "output_type": "stream",
          "name": "stdout",
          "text": [
            "0.83491206\n",
            "summation budgets schedule activities Figure\n",
            "entity number 6\n"
          ]
        },
        {
          "output_type": "stream",
          "name": "stderr",
          "text": [
            "\n"
          ]
        },
        {
          "output_type": "stream",
          "name": "stdout",
          "text": [
            "0.82707703\n",
            "commons project budget cost baseline Cost estimates project activities contingency reserves\n",
            "entity number 7\n",
            "0.5448176\n",
            "commons project budget cost baseline Cost estimates project activities contingency reserves\n",
            "entity number 8\n",
            "0.7436979\n",
            "Section activities\n"
          ]
        },
        {
          "output_type": "stream",
          "name": "stderr",
          "text": [
            "\r 33%|███▎      | 9/27 [00:00<00:00, 25.39it/s]\u001b[A"
          ]
        },
        {
          "output_type": "stream",
          "name": "stdout",
          "text": [
            "entity number 9\n",
            "0.67255956\n",
            "work package\n",
            "entity number 10\n",
            "0.6770396\n",
            "work package cost estimates contingency reserves\n",
            "entity number 11\n",
            "0.5223729"
          ]
        },
        {
          "output_type": "stream",
          "name": "stderr",
          "text": [
            "\n",
            " 44%|████▍     | 12/27 [00:00<00:00, 25.07it/s]\u001b[A"
          ]
        },
        {
          "output_type": "stream",
          "name": "stdout",
          "text": [
            "\n",
            "work packages\n",
            "entity number 12\n",
            "0.71839345\n",
            "control\n",
            "entity number 13\n",
            "0.7947333\n",
            "summation control accounts\n",
            "entity number 14\n"
          ]
        },
        {
          "output_type": "stream",
          "name": "stderr",
          "text": [
            "\n",
            " 56%|█████▌    | 15/27 [00:00<00:00, 25.26it/s]\u001b[A"
          ]
        },
        {
          "output_type": "stream",
          "name": "stdout",
          "text": [
            "0.9483081\n",
            "cost baseline\n",
            "entity number 15\n",
            "0.6556062\n",
            "cost baseline\n",
            "entity number 16\n",
            "0.66204953\n",
            "schedule activities\n",
            "entity number 17\n"
          ]
        },
        {
          "output_type": "stream",
          "name": "stderr",
          "text": [
            "\n",
            " 67%|██████▋   | 18/27 [00:00<00:00, 25.44it/s]\u001b[A"
          ]
        },
        {
          "output_type": "stream",
          "name": "stdout",
          "text": [
            "0.6503284\n",
            "time view cost baseline\n",
            "entity number 18\n",
            "0.76463807\n",
            "form S curve\n",
            "entity number 19\n",
            "0.68635607\n",
            "Figure projects\n",
            "entity number 20\n"
          ]
        },
        {
          "output_type": "stream",
          "name": "stderr",
          "text": [
            "\n",
            " 78%|███████▊  | 21/27 [00:00<00:00, 25.30it/s]\u001b[A"
          ]
        },
        {
          "output_type": "stream",
          "name": "stdout",
          "text": [
            "0.84423065\n",
            "performance measurement baseline Management reserves Section\n",
            "entity number 21\n",
            "0.8252707\n",
            "cost baseline\n",
            "entity number 22\n",
            "0.6929745\n",
            "cost baseline\n",
            "entity number 23\n"
          ]
        },
        {
          "output_type": "stream",
          "name": "stderr",
          "text": [
            "\n",
            " 89%|████████▉ | 24/27 [00:00<00:00, 25.86it/s]\u001b[A"
          ]
        },
        {
          "output_type": "stream",
          "name": "stdout",
          "text": [
            "0.6550051\n",
            "project budget changes\n",
            "entity number 24\n",
            "0.6964314\n",
            "use management reserves\n",
            "entity number 25\n",
            "0.5511826\n",
            "change control process\n",
            "entity number 26\n"
          ]
        },
        {
          "output_type": "stream",
          "name": "stderr",
          "text": [
            "\n",
            "100%|██████████| 27/27 [00:01<00:00, 25.42it/s]\n",
            " 92%|█████████▏| 199/216 [01:21<00:07,  2.18it/s]"
          ]
        },
        {
          "output_type": "stream",
          "name": "stdout",
          "text": [
            "0.3299175\n",
            "approval\n",
            "this is the size of the synonyms list 199\n",
            "this is the size of the concept_range list 199\n",
            "row number 199\n"
          ]
        },
        {
          "output_type": "stream",
          "name": "stderr",
          "text": [
            "\n",
            "  0%|          | 0/6 [00:00<?, ?it/s]\u001b[A"
          ]
        },
        {
          "output_type": "stream",
          "name": "stdout",
          "text": [
            "entity number 0\n",
            "0.7698474\n",
            "funding Requirements funding Requirements\n",
            "entity number 1\n"
          ]
        },
        {
          "output_type": "stream",
          "name": "stderr",
          "text": [
            "\n",
            " 50%|█████     | 3/6 [00:00<00:00, 26.11it/s]\u001b[A"
          ]
        },
        {
          "output_type": "stream",
          "name": "stdout",
          "text": [
            "0.87933624\n",
            "cost baseline\n",
            "entity number 2\n",
            "0.82904845\n",
            "expenditures liabilities\n",
            "entity number 3\n",
            "0.5996859\n",
            "expenditures liabilities\n",
            "entity number 4\n",
            "0.6494907\n",
            "amounts\n",
            "entity number 5\n"
          ]
        },
        {
          "output_type": "stream",
          "name": "stderr",
          "text": [
            "\n",
            "100%|██████████| 6/6 [00:00<00:00, 24.76it/s]\n",
            " 93%|█████████▎| 200/216 [01:22<00:06,  2.48it/s]"
          ]
        },
        {
          "output_type": "stream",
          "name": "stdout",
          "text": [
            "0.7696358\n",
            "steps Figure funds\n",
            "this is the size of the synonyms list 200\n",
            "this is the size of the concept_range list 200\n",
            "row number 200\n"
          ]
        },
        {
          "output_type": "stream",
          "name": "stderr",
          "text": [
            "\n",
            "  0%|          | 0/9 [00:00<?, ?it/s]\u001b[A"
          ]
        },
        {
          "output_type": "stream",
          "name": "stdout",
          "text": [
            "entity number 0\n"
          ]
        },
        {
          "output_type": "stream",
          "name": "stderr",
          "text": [
            "\n",
            " 33%|███▎      | 3/9 [00:00<00:00, 24.27it/s]\u001b[A"
          ]
        },
        {
          "output_type": "stream",
          "name": "stdout",
          "text": [
            "0.6835313\n",
            "Project Document\n",
            "entity number 1\n",
            "0.8931931\n",
            "process\n",
            "entity number 2\n",
            "0.673236\n",
            "process\n",
            "entity number 3\n",
            "0.78049046\n",
            "estimates Cost estimates\n",
            "entity number 4\n",
            "0.7486422\n",
            "information Project schedule\n",
            "entity number 5\n"
          ]
        },
        {
          "output_type": "stream",
          "name": "stderr",
          "text": [
            "\n"
          ]
        },
        {
          "output_type": "stream",
          "name": "stdout",
          "text": [
            "0.8186156\n",
            "part project schedule Risk\n"
          ]
        },
        {
          "output_type": "stream",
          "name": "stderr",
          "text": [
            " 67%|██████▋   | 6/9 [00:00<00:00, 24.85it/s]\u001b[A\n",
            "100%|██████████| 9/9 [00:00<00:00, 24.74it/s]\n",
            " 93%|█████████▎| 201/216 [01:22<00:05,  2.54it/s]"
          ]
        },
        {
          "output_type": "stream",
          "name": "stdout",
          "text": [
            "entity number 6\n",
            "0.6884822\n",
            "part project schedule Risk\n",
            "entity number 7\n",
            "0.6651862\n",
            "New risks\n",
            "entity number 8\n",
            "0.71377707\n",
            "process\n",
            "this is the size of the synonyms list 201\n",
            "this is the size of the concept_range list 201\n",
            "row number 201\n"
          ]
        },
        {
          "output_type": "stream",
          "name": "stderr",
          "text": [
            "\n",
            "  0%|          | 0/7 [00:00<?, ?it/s]\u001b[A"
          ]
        },
        {
          "output_type": "stream",
          "name": "stdout",
          "text": [
            "entity number 0\n",
            "0.88949794\n",
            "process\n",
            "entity number 1\n"
          ]
        },
        {
          "output_type": "stream",
          "name": "stderr",
          "text": [
            "\n",
            " 43%|████▎     | 3/7 [00:00<00:00, 24.04it/s]\u001b[A"
          ]
        },
        {
          "output_type": "stream",
          "name": "stdout",
          "text": [
            "0.7622487\n",
            "process\n",
            "entity number 2\n",
            "0.76653\n",
            "status project\n",
            "entity number 3\n",
            "0.78460324\n",
            "project costs\n",
            "entity number 4\n",
            "0.65169454\n",
            "changes cost\n",
            "entity number 5\n"
          ]
        },
        {
          "output_type": "stream",
          "name": "stderr",
          "text": [
            "\n",
            " 86%|████████▌ | 6/7 [00:00<00:00, 25.32it/s]\u001b[A"
          ]
        },
        {
          "output_type": "stream",
          "name": "stdout",
          "text": [
            "0.7938981\n",
            "benefit process\n",
            "entity number 6\n"
          ]
        },
        {
          "output_type": "stream",
          "name": "stderr",
          "text": [
            "100%|██████████| 7/7 [00:00<00:00, 24.87it/s]\n",
            " 94%|█████████▎| 202/216 [01:22<00:05,  2.74it/s]"
          ]
        },
        {
          "output_type": "stream",
          "name": "stdout",
          "text": [
            "0.74083257\n",
            "cost baseline\n",
            "this is the size of the synonyms list 202\n",
            "this is the size of the concept_range list 202\n",
            "row number 202\n"
          ]
        },
        {
          "output_type": "stream",
          "name": "stderr",
          "text": [
            "\n",
            "  0%|          | 0/10 [00:00<?, ?it/s]\u001b[A\n",
            " 30%|███       | 3/10 [00:00<00:00, 27.12it/s]\u001b[A"
          ]
        },
        {
          "output_type": "stream",
          "name": "stdout",
          "text": [
            "entity number 0\n",
            "0.7663933\n",
            "Project management plan commons\n",
            "entity number 1\n",
            "0.8426644\n",
            "project costs\n",
            "entity number 2\n",
            "0.8649188\n",
            "Cost\n",
            "entity number 3\n",
            "0.87933624\n",
            "cost baseline\n",
            "entity number 4\n",
            "0.67156667\n",
            "cost baseline\n",
            "entity number 5\n"
          ]
        },
        {
          "output_type": "stream",
          "name": "stderr",
          "text": [
            "\n",
            " 60%|██████    | 6/10 [00:00<00:00, 26.94it/s]\u001b[A\n",
            " 90%|█████████ | 9/10 [00:00<00:00, 26.79it/s]\u001b[A"
          ]
        },
        {
          "output_type": "stream",
          "name": "stdout",
          "text": [
            "0.6571133\n",
            "results\n",
            "entity number 6\n",
            "0.59817624\n",
            "change action action\n",
            "entity number 7\n",
            "0.9457331\n",
            "value analysis performance measurement baseline\n",
            "entity number 8\n",
            "0.63439906\n",
            "value analysis performance measurement baseline\n",
            "entity number 9\n"
          ]
        },
        {
          "output_type": "stream",
          "name": "stderr",
          "text": [
            "100%|██████████| 10/10 [00:00<00:00, 26.37it/s]\n",
            " 94%|█████████▍| 203/216 [01:23<00:04,  2.69it/s]"
          ]
        },
        {
          "output_type": "stream",
          "name": "stdout",
          "text": [
            "0.6571133\n",
            "results\n",
            "this is the size of the synonyms list 203\n",
            "this is the size of the concept_range list 203\n",
            "row number 203\n"
          ]
        },
        {
          "output_type": "stream",
          "name": "stderr",
          "text": [
            "\n",
            "  0%|          | 0/5 [00:00<?, ?it/s]\u001b[A"
          ]
        },
        {
          "output_type": "stream",
          "name": "stdout",
          "text": [
            "entity number 0\n"
          ]
        },
        {
          "output_type": "stream",
          "name": "stderr",
          "text": [
            "\n",
            " 60%|██████    | 3/5 [00:00<00:00, 24.72it/s]\u001b[A"
          ]
        },
        {
          "output_type": "stream",
          "name": "stdout",
          "text": [
            "0.7392939\n",
            "Examples project Document\n",
            "entity number 1\n",
            "0.6976648\n",
            "inputs process\n",
            "entity number 2\n",
            "1.0\n",
            "Lessons\n",
            "entity number 3\n",
            "0.7448306\n",
            "Lessons\n",
            "entity number 4\n"
          ]
        },
        {
          "output_type": "stream",
          "name": "stderr",
          "text": [
            "\r100%|██████████| 5/5 [00:00<00:00, 24.52it/s]"
          ]
        },
        {
          "output_type": "stream",
          "name": "stdout",
          "text": [
            "0.90221786\n",
            "phases project\n"
          ]
        },
        {
          "output_type": "stream",
          "name": "stderr",
          "text": [
            "\n",
            "\r 94%|█████████▍| 204/216 [01:23<00:03,  3.06it/s]"
          ]
        },
        {
          "output_type": "stream",
          "name": "stdout",
          "text": [
            "this is the size of the synonyms list 204\n",
            "this is the size of the concept_range list 204\n",
            "row number 204\n"
          ]
        },
        {
          "output_type": "stream",
          "name": "stderr",
          "text": [
            "\n",
            "0it [00:00, ?it/s]\n"
          ]
        },
        {
          "output_type": "stream",
          "name": "stdout",
          "text": [
            "this is the size of the synonyms list 205\n",
            "this is the size of the concept_range list 205\n",
            "row number 205\n"
          ]
        },
        {
          "output_type": "stream",
          "name": "stderr",
          "text": [
            "\n",
            "0it [00:00, ?it/s]\n"
          ]
        },
        {
          "output_type": "stream",
          "name": "stdout",
          "text": [
            "this is the size of the synonyms list 206\n",
            "this is the size of the concept_range list 206\n",
            "row number 206\n"
          ]
        },
        {
          "output_type": "stream",
          "name": "stderr",
          "text": [
            "\n",
            "  0%|          | 0/3 [00:00<?, ?it/s]\u001b[A"
          ]
        },
        {
          "output_type": "stream",
          "name": "stdout",
          "text": [
            "entity number 0\n"
          ]
        },
        {
          "output_type": "stream",
          "name": "stderr",
          "text": [
            "\n",
            "100%|██████████| 3/3 [00:00<00:00, 21.27it/s]\n",
            " 96%|█████████▌| 207/216 [01:23<00:01,  5.70it/s]"
          ]
        },
        {
          "output_type": "stream",
          "name": "stdout",
          "text": [
            "0.7989076\n",
            "process sets\n",
            "entity number 1\n",
            "0.7678561\n",
            "Control Costs process\n",
            "entity number 2\n",
            "0.63906485\n",
            "Existing cost control policies procedures guidelines Cost control tools Monitoring\n",
            "this is the size of the synonyms list 207\n",
            "this is the size of the concept_range list 207\n",
            "row number 207\n"
          ]
        },
        {
          "output_type": "stream",
          "name": "stderr",
          "text": [
            "\n",
            "0it [00:00, ?it/s]\n"
          ]
        },
        {
          "output_type": "stream",
          "name": "stdout",
          "text": [
            "this is the size of the synonyms list 208\n",
            "this is the size of the concept_range list 208\n",
            "row number 208\n"
          ]
        },
        {
          "output_type": "stream",
          "name": "stderr",
          "text": [
            "\n",
            "  0%|          | 0/132 [00:00<?, ?it/s]\u001b[A"
          ]
        },
        {
          "output_type": "stream",
          "name": "stdout",
          "text": [
            "entity number 0\n",
            "0.6890137\n",
            "Data analysis techniques\n",
            "entity number 1\n",
            "0.6994901\n",
            "costs\n",
            "entity number 2\n"
          ]
        },
        {
          "output_type": "stream",
          "name": "stderr",
          "text": [
            "\n",
            "  2%|▏         | 3/132 [00:00<00:05, 23.52it/s]\u001b[A"
          ]
        },
        {
          "output_type": "stream",
          "name": "stdout",
          "text": [
            "0.80619764\n",
            "performance measurement baseline schedule cost performance EV\n",
            "entity number 3\n",
            "0.875748\n",
            "scope baseline cost baseline schedule baseline\n",
            "entity number 4\n"
          ]
        },
        {
          "output_type": "stream",
          "name": "stderr",
          "text": [
            "\n"
          ]
        },
        {
          "output_type": "stream",
          "name": "stdout",
          "text": [
            "0.73604083\n",
            "scope baseline cost baseline schedule baseline\n",
            "entity number 5\n",
            "0.74855846\n",
            "performance measurement baseline EV\n"
          ]
        },
        {
          "output_type": "stream",
          "name": "stderr",
          "text": [
            "\r  5%|▍         | 6/132 [00:00<00:05, 23.69it/s]\u001b[A"
          ]
        },
        {
          "output_type": "stream",
          "name": "stdout",
          "text": [
            "entity number 6\n",
            "0.5565504\n",
            "monitors dimensions work package control account\n",
            "entity number 7\n"
          ]
        },
        {
          "output_type": "stream",
          "name": "stderr",
          "text": [
            "\n",
            "  7%|▋         | 9/132 [00:00<00:05, 24.30it/s]\u001b[A"
          ]
        },
        {
          "output_type": "stream",
          "name": "stdout",
          "text": [
            "0.788395\n",
            "value\n",
            "entity number 8\n",
            "0.5636625\n",
            "value X\n",
            "entity number 9\n",
            "0.6389545\n",
            "budget\n",
            "entity number 10\n",
            "0.6389545\n",
            "work\n",
            "entity number 11\n"
          ]
        },
        {
          "output_type": "stream",
          "name": "stderr",
          "text": [
            "\n",
            "  9%|▉         | 12/132 [00:00<00:04, 25.15it/s]\u001b[A"
          ]
        },
        {
          "output_type": "stream",
          "name": "stdout",
          "text": [
            "0.6389545\n",
            "budget\n",
            "entity number 12\n",
            "0.7977884\n",
            "work\n",
            "entity number 13\n"
          ]
        },
        {
          "output_type": "stream",
          "name": "stderr",
          "text": [
            "\n",
            " 11%|█▏        | 15/132 [00:00<00:04, 25.52it/s]\u001b[A"
          ]
        },
        {
          "output_type": "stream",
          "name": "stdout",
          "text": [
            "0.5638156\n",
            "activity work structure component\n",
            "entity number 14\n",
            "0.596485\n",
            "management reserve budget\n",
            "entity number 15\n",
            "0.6506297\n",
            "phase life project\n",
            "entity number 16\n",
            "0.7795938\n",
            "point time\n",
            "entity number 17\n"
          ]
        },
        {
          "output_type": "stream",
          "name": "stderr",
          "text": [
            "\n",
            " 14%|█▎        | 18/132 [00:00<00:04, 25.64it/s]\u001b[A"
          ]
        },
        {
          "output_type": "stream",
          "name": "stdout",
          "text": [
            "0.758166\n",
            "value\n",
            "entity number 18\n",
            "0.66767347\n",
            "work\n",
            "entity number 19\n"
          ]
        },
        {
          "output_type": "stream",
          "name": "stderr",
          "text": [
            "\n",
            " 16%|█▌        | 21/132 [00:00<00:04, 25.40it/s]\u001b[A"
          ]
        },
        {
          "output_type": "stream",
          "name": "stdout",
          "text": [
            "0.53342295\n",
            "total X\n",
            "entity number 20\n",
            "0.8100724\n",
            "budget completion A Earned value Earned value EV\n",
            "entity number 21\n",
            "0.61652166\n",
            "budget completion A Earned value Earned value EV\n",
            "entity number 22\n"
          ]
        },
        {
          "output_type": "stream",
          "name": "stderr",
          "text": [
            "\n",
            " 18%|█▊        | 24/132 [00:00<00:04, 25.45it/s]\u001b[A"
          ]
        },
        {
          "output_type": "stream",
          "name": "stdout",
          "text": [
            "0.610901\n",
            "measure work\n",
            "entity number 23\n",
            "0.5757496\n",
            "terms budget\n",
            "entity number 24\n"
          ]
        },
        {
          "output_type": "stream",
          "name": "stderr",
          "text": [
            "\n"
          ]
        },
        {
          "output_type": "stream",
          "name": "stdout",
          "text": [
            "0.6389545\n",
            "work\n",
            "entity number 25\n",
            "0.6389545\n",
            "budget\n",
            "entity number 26\n",
            "0.68660593\n",
            "work\n"
          ]
        },
        {
          "output_type": "stream",
          "name": "stderr",
          "text": [
            "\r 20%|██        | 27/132 [00:01<00:04, 24.96it/s]\u001b[A"
          ]
        },
        {
          "output_type": "stream",
          "name": "stdout",
          "text": [
            "entity number 27\n"
          ]
        },
        {
          "output_type": "stream",
          "name": "stderr",
          "text": [
            "\n",
            " 23%|██▎       | 30/132 [00:01<00:04, 24.96it/s]\u001b[A"
          ]
        },
        {
          "output_type": "stream",
          "name": "stdout",
          "text": [
            "0.6929959\n",
            "EV\n",
            "entity number 28\n",
            "0.62012786\n",
            "needs\n",
            "entity number 29\n",
            "0.82931066\n",
            "X budget component EV\n",
            "entity number 30\n",
            "0.56343675\n",
            "X budget component EV\n",
            "entity number 31\n",
            "0.53618646\n",
            "percent complete project Progress measurement criteria\n",
            "entity number 32\n"
          ]
        },
        {
          "output_type": "stream",
          "name": "stderr",
          "text": [
            "\n",
            " 25%|██▌       | 33/132 [00:01<00:03, 25.08it/s]\u001b[A"
          ]
        },
        {
          "output_type": "stream",
          "name": "stdout",
          "text": [
            "0.5205616\n",
            "component\n",
            "entity number 33\n",
            "0.3838516\n",
            "work progress Project managers\n",
            "entity number 34\n",
            "0.74146914\n",
            "EV\n",
            "entity number 35\n"
          ]
        },
        {
          "output_type": "stream",
          "name": "stderr",
          "text": [
            "\n",
            " 27%|██▋       | 36/132 [00:01<00:03, 25.38it/s]\u001b[A"
          ]
        },
        {
          "output_type": "stream",
          "name": "stdout",
          "text": [
            "0.68902683\n",
            "status cumulative\n",
            "entity number 36\n",
            "0.8091439\n",
            "cost\n",
            "entity number 37\n",
            "0.7535966\n",
            "cost\n",
            "entity number 38\n"
          ]
        },
        {
          "output_type": "stream",
          "name": "stderr",
          "text": [
            "\n",
            " 30%|██▉       | 39/132 [00:01<00:03, 25.56it/s]\u001b[A"
          ]
        },
        {
          "output_type": "stream",
          "name": "stdout",
          "text": [
            "0.74239093\n",
            "work\n",
            "entity number 39\n",
            "0.7459906\n",
            "activity time period\n",
            "entity number 40\n",
            "0.6660229\n",
            "cost\n",
            "entity number 41\n"
          ]
        },
        {
          "output_type": "stream",
          "name": "stderr",
          "text": [
            "\n",
            " 32%|███▏      | 42/132 [00:01<00:03, 25.50it/s]\u001b[A"
          ]
        },
        {
          "output_type": "stream",
          "name": "stdout",
          "text": [
            "0.6826277\n",
            "work EV\n",
            "entity number 42\n",
            "0.8910857\n",
            "definition\n",
            "entity number 43\n",
            "0.8029244\n",
            "X\n"
          ]
        },
        {
          "output_type": "stream",
          "name": "stderr",
          "text": [
            "\n",
            " 34%|███▍      | 45/132 [00:01<00:03, 24.91it/s]\u001b[A"
          ]
        },
        {
          "output_type": "stream",
          "name": "stdout",
          "text": [
            "entity number 44\n",
            "0.5153153\n",
            "X\n",
            "entity number 45\n",
            "0.6995239\n",
            "EV eg direct hours costs costs\n",
            "entity number 46\n"
          ]
        },
        {
          "output_type": "stream",
          "name": "stderr",
          "text": [
            "\n",
            " 36%|███▋      | 48/132 [00:01<00:03, 25.03it/s]\u001b[A"
          ]
        },
        {
          "output_type": "stream",
          "name": "stdout",
          "text": [
            "0.78179735\n",
            "costs A\n",
            "entity number 47\n",
            "0.7432413\n",
            "limit\n",
            "entity number 48\n"
          ]
        },
        {
          "output_type": "stream",
          "name": "stderr",
          "text": [
            "\n",
            " 39%|███▊      | 51/132 [00:02<00:03, 24.82it/s]\u001b[A"
          ]
        },
        {
          "output_type": "stream",
          "name": "stdout",
          "text": [
            "0.47665176\n",
            "EV\n",
            "entity number 49\n",
            "0.47665176\n",
            "Variance analysis Variance analysis\n",
            "entity number 50\n",
            "0.49558127\n",
            "EV\n",
            "entity number 51\n",
            "0.6340077\n",
            "explanation cause impact actions cost C EV A schedule S EV X variance completion A A A variance Cost schedule variance\n",
            "entity number 52\n",
            "0.69322157\n",
            "measures projects\n",
            "entity number 53\n"
          ]
        },
        {
          "output_type": "stream",
          "name": "stderr",
          "text": [
            "\n",
            " 41%|████      | 54/132 [00:02<00:03, 23.93it/s]\u001b[A"
          ]
        },
        {
          "output_type": "stream",
          "name": "stdout",
          "text": [
            "0.7251413\n",
            "value analysis variance analysis\n",
            "entity number 54\n",
            "0.73966527\n",
            "cost cost\n",
            "entity number 55\n",
            "0.81538343\n",
            "cause degree variance relative schedule baseline actions\n",
            "entity number 56\n"
          ]
        },
        {
          "output_type": "stream",
          "name": "stderr",
          "text": [
            "\n",
            " 43%|████▎     | 57/132 [00:02<00:03, 22.86it/s]\u001b[A"
          ]
        },
        {
          "output_type": "stream",
          "name": "stdout",
          "text": [
            "0.77720165\n",
            "cause degree variance relative schedule baseline actions\n",
            "entity number 57\n",
            "0.8339053\n",
            "cases magnitude variation cost baseline aspect project cost control\n",
            "entity number 58\n"
          ]
        },
        {
          "output_type": "stream",
          "name": "stderr",
          "text": [
            "\n",
            " 45%|████▌     | 60/132 [00:02<00:03, 22.90it/s]\u001b[A"
          ]
        },
        {
          "output_type": "stream",
          "name": "stdout",
          "text": [
            "0.85251504\n",
            "cause degree variance relative cost baseline\n",
            "entity number 59\n",
            "0.59552693\n",
            "cause degree variance relative cost baseline\n",
            "entity number 60\n",
            "0.72391206\n",
            "Section\n",
            "entity number 61\n"
          ]
        },
        {
          "output_type": "stream",
          "name": "stderr",
          "text": [
            "\n",
            " 48%|████▊     | 63/132 [00:02<00:02, 23.09it/s]\u001b[A"
          ]
        },
        {
          "output_type": "stream",
          "name": "stdout",
          "text": [
            "0.5503234\n",
            "action\n",
            "entity number 62\n",
            "0.54542637\n",
            "percentage range variance\n",
            "entity number 63\n"
          ]
        },
        {
          "output_type": "stream",
          "name": "stderr",
          "text": [
            "\n",
            " 50%|█████     | 66/132 [00:02<00:02, 23.04it/s]\u001b[A"
          ]
        },
        {
          "output_type": "stream",
          "name": "stdout",
          "text": [
            "0.5598771\n",
            "work\n",
            "entity number 64\n",
            "0.8231158\n",
            "Schedule variance Schedule variance S\n",
            "entity number 65\n",
            "0.75555485\n",
            "Schedule variance Schedule variance S\n",
            "entity number 66\n",
            "0.5449117\n",
            "measure schedule performance\n",
            "entity number 67\n",
            "0.7211259\n",
            "difference\n",
            "entity number 68\n"
          ]
        },
        {
          "output_type": "stream",
          "name": "stderr",
          "text": [
            "\n",
            " 52%|█████▏    | 69/132 [00:02<00:02, 22.23it/s]\u001b[A"
          ]
        },
        {
          "output_type": "stream",
          "name": "stdout",
          "text": [
            "1.0\n",
            "value\n",
            "entity number 69\n",
            "0.7785842\n",
            "value\n",
            "entity number 70\n",
            "0.7194191\n",
            "amount project\n",
            "entity number 71\n"
          ]
        },
        {
          "output_type": "stream",
          "name": "stderr",
          "text": [
            "\n",
            " 55%|█████▍    | 72/132 [00:02<00:02, 22.29it/s]\u001b[A"
          ]
        },
        {
          "output_type": "stream",
          "name": "stdout",
          "text": [
            "0.7819598\n",
            "delivery date\n",
            "entity number 72\n",
            "0.72810996\n",
            "point time\n",
            "entity number 73\n"
          ]
        },
        {
          "output_type": "stream",
          "name": "stderr",
          "text": [
            "\n",
            " 57%|█████▋    | 75/132 [00:03<00:02, 22.68it/s]\u001b[A"
          ]
        },
        {
          "output_type": "stream",
          "name": "stdout",
          "text": [
            "0.65089774\n",
            "measure schedule performance project\n",
            "entity number 74\n",
            "0.87551475\n",
            "value\n",
            "entity number 75\n",
            "0.64999855\n",
            "value\n",
            "entity number 76\n"
          ]
        },
        {
          "output_type": "stream",
          "name": "stderr",
          "text": [
            "\n",
            " 59%|█████▉    | 78/132 [00:03<00:02, 23.12it/s]\u001b[A"
          ]
        },
        {
          "output_type": "stream",
          "name": "stdout",
          "text": [
            "0.7531527\n",
            "A schedule variance\n",
            "entity number 77\n",
            "0.6677166\n",
            "project\n",
            "entity number 78\n"
          ]
        },
        {
          "output_type": "stream",
          "name": "stderr",
          "text": [
            "\n",
            " 61%|██████▏   | 81/132 [00:03<00:02, 23.36it/s]\u001b[A"
          ]
        },
        {
          "output_type": "stream",
          "name": "stdout",
          "text": [
            "0.43015692\n",
            "baseline schedule A schedule variance\n",
            "entity number 79\n",
            "0.5053907\n",
            "zero project\n",
            "entity number 80\n",
            "0.68100566\n",
            "values\n",
            "entity number 81\n",
            "0.6932014\n",
            "Schedule variance\n",
            "entity number 82\n",
            "0.56942916\n",
            "conjunction path method X scheduling risk management Equation S EV X Cost variance Cost variance C\n",
            "entity number 83\n"
          ]
        },
        {
          "output_type": "stream",
          "name": "stderr",
          "text": [
            "\n",
            " 64%|██████▎   | 84/132 [00:03<00:02, 23.24it/s]\u001b[A\n",
            " 66%|██████▌   | 87/132 [00:03<00:01, 24.10it/s]\u001b[A"
          ]
        },
        {
          "output_type": "stream",
          "name": "stdout",
          "text": [
            "0.48375577\n",
            "amount budget deficit surplus\n",
            "entity number 84\n",
            "0.70390105\n",
            "point time\n",
            "entity number 85\n",
            "0.69075084\n",
            "difference\n",
            "entity number 86\n",
            "0.8419202\n",
            "measure cost performance project\n",
            "entity number 87\n",
            "0.8234822\n",
            "value EV cost A cost variance end project\n",
            "entity number 88\n"
          ]
        },
        {
          "output_type": "stream",
          "name": "stderr",
          "text": [
            "\n",
            " 68%|██████▊   | 90/132 [00:03<00:01, 23.99it/s]\u001b[A\n"
          ]
        },
        {
          "output_type": "stream",
          "name": "stdout",
          "text": [
            "0.7473227\n",
            "value EV cost A cost variance end project\n",
            "entity number 89\n",
            "0.60954714\n",
            "difference budget completion amount\n",
            "entity number 90\n",
            "0.5846369\n",
            "C\n",
            "entity number 91\n",
            "0.47025955\n",
            "relationship performance costs\n",
            "entity number 92\n",
            "0.5769626\n",
            "Negative C\n"
          ]
        },
        {
          "output_type": "stream",
          "name": "stderr",
          "text": [
            "\r 70%|███████   | 93/132 [00:03<00:01, 24.29it/s]\u001b[A"
          ]
        },
        {
          "output_type": "stream",
          "name": "stdout",
          "text": [
            "entity number 93\n"
          ]
        },
        {
          "output_type": "stream",
          "name": "stderr",
          "text": [
            "\n",
            " 73%|███████▎  | 96/132 [00:03<00:01, 23.96it/s]\u001b[A"
          ]
        },
        {
          "output_type": "stream",
          "name": "stdout",
          "text": [
            "0.64088255\n",
            "project\n",
            "entity number 94\n",
            "0.66737586\n",
            "Equation C EV A Schedule performance index schedule performance index SPI\n",
            "entity number 95\n",
            "0.636449\n",
            "measure schedule efficiency\n",
            "entity number 96\n",
            "0.8390354\n",
            "value\n",
            "entity number 97\n",
            "1.0\n",
            "value\n",
            "entity number 98\n"
          ]
        },
        {
          "output_type": "stream",
          "name": "stderr",
          "text": [
            "\n",
            " 75%|███████▌  | 99/132 [00:04<00:01, 24.53it/s]\u001b[A"
          ]
        },
        {
          "output_type": "stream",
          "name": "stdout",
          "text": [
            "0.6963122\n",
            "value\n",
            "entity number 99\n"
          ]
        },
        {
          "output_type": "stream",
          "name": "stderr",
          "text": [
            "\n",
            " 77%|███████▋  | 102/132 [00:04<00:01, 24.28it/s]\u001b[A"
          ]
        },
        {
          "output_type": "stream",
          "name": "stdout",
          "text": [
            "0.8075468\n",
            "work\n",
            "entity number 100\n",
            "0.5822509\n",
            "work\n",
            "entity number 101\n",
            "0.55378705\n",
            "conjunction cost performance index\n",
            "entity number 102\n",
            "0.5586701\n",
            "project completion\n",
            "entity number 103\n"
          ]
        },
        {
          "output_type": "stream",
          "name": "stderr",
          "text": [
            "\n"
          ]
        },
        {
          "output_type": "stream",
          "name": "stdout",
          "text": [
            "0.58453834\n",
            "SPI value\n",
            "entity number 104\n",
            "0.5416145\n",
            "indicates work\n"
          ]
        },
        {
          "output_type": "stream",
          "name": "stderr",
          "text": [
            " 80%|███████▉  | 105/132 [00:04<00:01, 24.34it/s]\u001b[A\n",
            " 82%|████████▏ | 108/132 [00:04<00:00, 24.93it/s]\u001b[A"
          ]
        },
        {
          "output_type": "stream",
          "name": "stdout",
          "text": [
            "entity number 105\n",
            "0.6373799\n",
            "SPI\n",
            "entity number 106\n",
            "0.6373799\n",
            "work\n",
            "entity number 107\n",
            "0.7301132\n",
            "SPI\n",
            "entity number 108\n",
            "0.8250228\n",
            "performance path\n",
            "entity number 109\n",
            "0.8250228\n",
            "project\n",
            "entity number 110\n"
          ]
        },
        {
          "output_type": "stream",
          "name": "stderr",
          "text": [
            "\n",
            " 84%|████████▍ | 111/132 [00:04<00:00, 23.48it/s]\u001b[A\n",
            " 86%|████████▋ | 114/132 [00:04<00:00, 23.56it/s]\u001b[A"
          ]
        },
        {
          "output_type": "stream",
          "name": "stdout",
          "text": [
            "0.64734393\n",
            "project\n",
            "entity number 111\n",
            "0.5004636\n",
            "finish date SPI\n",
            "entity number 112\n",
            "0.7487997\n",
            "ratio EV X Equation SPI EV X Cost performance index cost performance index\n",
            "entity number 113\n",
            "0.67794776\n",
            "measure cost efficiency resources\n",
            "entity number 114\n",
            "0.7901352\n",
            "ratio\n",
            "entity number 115\n"
          ]
        },
        {
          "output_type": "stream",
          "name": "stderr",
          "text": [
            "\n",
            " 89%|████████▊ | 117/132 [00:04<00:00, 23.87it/s]\u001b[A\n",
            " 91%|█████████ | 120/132 [00:04<00:00, 24.91it/s]\u001b[A"
          ]
        },
        {
          "output_type": "stream",
          "name": "stdout",
          "text": [
            "0.6943593\n",
            "value cost\n",
            "entity number 116\n",
            "0.5414487\n",
            "A\n",
            "entity number 117\n",
            "0.76393914\n",
            "cost efficiency work\n",
            "entity number 118\n",
            "0.6218761\n",
            "value les\n",
            "entity number 119\n",
            "0.6271063\n",
            "cost overrun work\n",
            "entity number 120\n",
            "0.5495385\n",
            "value\n",
            "entity number 121\n"
          ]
        },
        {
          "output_type": "stream",
          "name": "stderr",
          "text": [
            "\n",
            " 93%|█████████▎| 123/132 [00:05<00:00, 24.93it/s]\u001b[A\n",
            " 96%|█████████▌| 127/132 [00:05<00:00, 27.01it/s]"
          ]
        },
        {
          "output_type": "stream",
          "name": "stdout",
          "text": [
            "0.55085754\n",
            "cost undercut performance date\n",
            "entity number 122\n",
            "0.5647813\n",
            "ratio EV A Equation\n",
            "entity number 123\n",
            "0.5418091\n",
            "Trend analysis Trend analysis examines project performance time\n",
            "entity number 124\n",
            "0.79061055\n",
            "performance\n",
            "entity number 125\n",
            "0.5855029\n",
            "analysis techniques\n",
            "entity number 126\n",
            "0.71096313\n",
            "performance date comparison performance goals form A versus estimate completion A completion dates Examples trend analysis techniques\n"
          ]
        },
        {
          "output_type": "stream",
          "name": "stderr",
          "text": [
            "\u001b[A"
          ]
        },
        {
          "output_type": "stream",
          "name": "stdout",
          "text": [
            "entity number 127\n"
          ]
        },
        {
          "output_type": "stream",
          "name": "stderr",
          "text": [
            "\n",
            "100%|██████████| 132/132 [00:05<00:00, 24.48it/s]\n",
            " 97%|█████████▋| 209/216 [01:28<00:07,  1.05s/it]"
          ]
        },
        {
          "output_type": "stream",
          "name": "stdout",
          "text": [
            "0.73347425\n",
            "Charts value analysis parameters\n",
            "entity number 128\n",
            "0.91894764\n",
            "value cost\n",
            "entity number 129\n",
            "0.6965842\n",
            "value cost\n",
            "entity number 130\n",
            "0.570101\n",
            "period period basis basis Figure\n",
            "entity number 131\n",
            "0.47720325\n",
            "S curves\n",
            "this is the size of the synonyms list 209\n",
            "this is the size of the concept_range list 209\n",
            "row number 209\n"
          ]
        },
        {
          "output_type": "stream",
          "name": "stderr",
          "text": [
            "\n",
            "  0%|          | 0/16 [00:00<?, ?it/s]\u001b[A"
          ]
        },
        {
          "output_type": "stream",
          "name": "stdout",
          "text": [
            "entity number 0\n",
            "0.8757637\n",
            "measure cost performance\n",
            "entity number 1\n"
          ]
        },
        {
          "output_type": "stream",
          "name": "stderr",
          "text": [
            "\n",
            " 19%|█▉        | 3/16 [00:00<00:00, 25.57it/s]\u001b[A"
          ]
        },
        {
          "output_type": "stream",
          "name": "stdout",
          "text": [
            "0.7996905\n",
            "measure cost performance\n",
            "entity number 2\n",
            "0.79482996\n",
            "resources order\n",
            "entity number 3\n",
            "0.6970223\n",
            "management goal\n",
            "entity number 4\n",
            "0.6909372\n",
            "ratio cost\n",
            "entity number 5\n"
          ]
        },
        {
          "output_type": "stream",
          "name": "stderr",
          "text": [
            "\n",
            " 38%|███▊      | 6/16 [00:00<00:00, 26.93it/s]\u001b[A"
          ]
        },
        {
          "output_type": "stream",
          "name": "stdout",
          "text": [
            "0.6389545\n",
            "work\n",
            "entity number 6\n",
            "0.7881881\n",
            "budget\n",
            "entity number 7\n"
          ]
        },
        {
          "output_type": "stream",
          "name": "stderr",
          "text": [
            "\n",
            " 56%|█████▋    | 9/16 [00:00<00:00, 26.83it/s]\u001b[A"
          ]
        },
        {
          "output_type": "stream",
          "name": "stdout",
          "text": [
            "0.6043477\n",
            "cost performance index\n",
            "entity number 8\n",
            "0.6984164\n",
            "work\n",
            "entity number 9\n",
            "0.6561945\n",
            "management goal A A\n",
            "entity number 10\n",
            "0.57878554\n",
            "A\n",
            "entity number 11\n"
          ]
        },
        {
          "output_type": "stream",
          "name": "stderr",
          "text": [
            "\n",
            " 75%|███████▌  | 12/16 [00:00<00:00, 27.44it/s]\u001b[A"
          ]
        },
        {
          "output_type": "stream",
          "name": "stdout",
          "text": [
            "0.70987463\n",
            "project manager\n",
            "entity number 12\n",
            "0.82752264\n",
            "A\n",
            "entity number 13\n"
          ]
        },
        {
          "output_type": "stream",
          "name": "stderr",
          "text": [
            "\n",
            "100%|██████████| 16/16 [00:00<00:00, 26.05it/s]\n",
            " 97%|█████████▋| 210/216 [01:29<00:05,  1.03it/s]"
          ]
        },
        {
          "output_type": "stream",
          "name": "stdout",
          "text": [
            "0.99999994\n",
            "A\n",
            "entity number 14\n",
            "0.8038548\n",
            "equation\n",
            "entity number 15\n",
            "0.72330666\n",
            "equation\n",
            "this is the size of the synonyms list 210\n",
            "this is the size of the concept_range list 210\n",
            "row number 210\n"
          ]
        },
        {
          "output_type": "stream",
          "name": "stderr",
          "text": [
            "\n",
            "  0%|          | 0/2 [00:00<?, ?it/s]\u001b[A"
          ]
        },
        {
          "output_type": "stream",
          "name": "stdout",
          "text": [
            "entity number 0\n",
            "0.42083204\n",
            "Project management information systems\n",
            "entity number 1\n"
          ]
        },
        {
          "output_type": "stream",
          "name": "stderr",
          "text": [
            "\r100%|██████████| 2/2 [00:00<00:00, 23.34it/s]\n"
          ]
        },
        {
          "output_type": "stream",
          "name": "stdout",
          "text": [
            "0.51174486\n",
            "EV dimensions X EV A\n",
            "this is the size of the synonyms list 211\n",
            "this is the size of the concept_range list 211\n",
            "row number 211\n"
          ]
        },
        {
          "output_type": "stream",
          "name": "stderr",
          "text": [
            "\n",
            "  0%|          | 0/6 [00:00<?, ?it/s]\u001b[A"
          ]
        },
        {
          "output_type": "stream",
          "name": "stdout",
          "text": [
            "entity number 0\n",
            "0.8580651\n",
            "information project work\n",
            "entity number 1\n",
            "0.67530495\n",
            "information project work\n",
            "entity number 2\n"
          ]
        },
        {
          "output_type": "stream",
          "name": "stderr",
          "text": [
            "\n",
            " 50%|█████     | 3/6 [00:00<00:00, 25.29it/s]\u001b[A"
          ]
        },
        {
          "output_type": "stream",
          "name": "stdout",
          "text": [
            "0.8205632\n",
            "cost work\n",
            "entity number 3\n",
            "0.7614426\n",
            "cost work\n",
            "entity number 4\n",
            "0.7333108\n",
            "work package level control\n",
            "entity number 5\n"
          ]
        },
        {
          "output_type": "stream",
          "name": "stderr",
          "text": [
            "\n",
            "100%|██████████| 6/6 [00:00<00:00, 25.26it/s]"
          ]
        },
        {
          "output_type": "stream",
          "name": "stdout",
          "text": [
            "0.6977475\n",
            "level projects\n"
          ]
        },
        {
          "output_type": "stream",
          "name": "stderr",
          "text": [
            "100%|██████████| 6/6 [00:00<00:00, 24.53it/s]\n",
            " 98%|█████████▊| 212/216 [01:29<00:02,  1.47it/s]"
          ]
        },
        {
          "output_type": "stream",
          "name": "stdout",
          "text": [
            "this is the size of the synonyms list 212\n",
            "this is the size of the concept_range list 212\n",
            "row number 212\n"
          ]
        },
        {
          "output_type": "stream",
          "name": "stderr",
          "text": [
            "\n",
            "0it [00:00, ?it/s]\n"
          ]
        },
        {
          "output_type": "stream",
          "name": "stdout",
          "text": [
            "this is the size of the synonyms list 213\n",
            "this is the size of the concept_range list 213\n",
            "row number 213\n"
          ]
        },
        {
          "output_type": "stream",
          "name": "stderr",
          "text": [
            "\n",
            "100%|██████████| 1/1 [00:00<00:00, 18.35it/s]"
          ]
        },
        {
          "output_type": "stream",
          "name": "stdout",
          "text": [
            "entity number 0\n",
            "0.76000935\n",
            "Analysis project performance\n",
            "this is the size of the synonyms list 214\n",
            "this is the size of the concept_range list 214"
          ]
        },
        {
          "output_type": "stream",
          "name": "stderr",
          "text": [
            "\n"
          ]
        },
        {
          "output_type": "stream",
          "name": "stdout",
          "text": [
            "\n",
            "row number 214\n"
          ]
        },
        {
          "output_type": "stream",
          "name": "stderr",
          "text": [
            "\n",
            "  0%|          | 0/19 [00:00<?, ?it/s]\u001b[A"
          ]
        },
        {
          "output_type": "stream",
          "name": "stdout",
          "text": [
            "entity number 0\n",
            "0.8970264\n",
            "organization change control process change request Components\n",
            "entity number 1\n",
            "0.9287173\n",
            "change request project management plan\n",
            "entity number 2\n"
          ]
        },
        {
          "output_type": "stream",
          "name": "stderr",
          "text": [
            "\n",
            " 16%|█▌        | 3/19 [00:00<00:00, 25.31it/s]"
          ]
        },
        {
          "output_type": "stream",
          "name": "stdout",
          "text": [
            "0.77594495\n",
            "change request project management plan\n"
          ]
        },
        {
          "output_type": "stream",
          "name": "stderr",
          "text": [
            "\u001b[A"
          ]
        },
        {
          "output_type": "stream",
          "name": "stdout",
          "text": [
            "entity number 3\n",
            "0.8730667\n",
            "cost management plan changes\n",
            "entity number 4\n",
            "0.67299724\n",
            "cost management plan changes\n",
            "entity number 5\n",
            "0.60234046\n"
          ]
        },
        {
          "output_type": "stream",
          "name": "stderr",
          "text": [
            "\n",
            " 32%|███▏      | 6/19 [00:00<00:00, 24.55it/s]\u001b[A"
          ]
        },
        {
          "output_type": "stream",
          "name": "stdout",
          "text": [
            "thresholds\n",
            "entity number 6\n",
            "0.620808\n",
            "levels accuracy\n",
            "entity number 7\n",
            "0.8335563\n",
            "cost\n",
            "entity number 8\n",
            "0.7530659\n",
            "cost\n"
          ]
        },
        {
          "output_type": "stream",
          "name": "stderr",
          "text": [
            "\n",
            " 47%|████▋     | 9/19 [00:00<00:00, 24.66it/s]\u001b[A"
          ]
        },
        {
          "output_type": "stream",
          "name": "stdout",
          "text": [
            "entity number 9\n",
            "0.66448545\n",
            "response\n",
            "entity number 10\n"
          ]
        },
        {
          "output_type": "stream",
          "name": "stderr",
          "text": [
            "\n",
            " 63%|██████▎   | 12/19 [00:00<00:00, 24.86it/s]"
          ]
        },
        {
          "output_type": "stream",
          "name": "stdout",
          "text": [
            "0.66448545\n",
            "stakeholders Cost baseline Changes cost baseline\n",
            "entity number 11\n",
            "0.6420039\n",
            "response\n"
          ]
        },
        {
          "output_type": "stream",
          "name": "stderr",
          "text": [
            "\u001b[A"
          ]
        },
        {
          "output_type": "stream",
          "name": "stdout",
          "text": [
            "entity number 12\n",
            "0.6161796\n",
            "changes scope resources cost estimates cases\n",
            "entity number 13\n",
            "0.7093835\n",
            "variance\n",
            "entity number 14\n"
          ]
        },
        {
          "output_type": "stream",
          "name": "stderr",
          "text": [
            "\n",
            " 79%|███████▉  | 15/19 [00:00<00:00, 23.74it/s]\u001b[A"
          ]
        },
        {
          "output_type": "stream",
          "name": "stdout",
          "text": [
            "0.75960433\n",
            "cost baseline\n",
            "entity number 15\n",
            "0.66599345\n",
            "basis performance measurement Performance measurement baseline Changes performance measurement baseline\n",
            "entity number 16\n",
            "0.5712273\n",
            "response\n",
            "entity number 17\n"
          ]
        },
        {
          "output_type": "stream",
          "name": "stderr",
          "text": [
            "\n",
            " 95%|█████████▍| 18/19 [00:00<00:00, 23.71it/s]\u001b[A"
          ]
        },
        {
          "output_type": "stream",
          "name": "stdout",
          "text": [
            "0.7041882\n",
            "changes scope schedule performance cost estimates cases performance variance\n",
            "entity number 18\n"
          ]
        },
        {
          "output_type": "stream",
          "name": "stderr",
          "text": [
            "100%|██████████| 19/19 [00:00<00:00, 23.86it/s]\n",
            "100%|█████████▉| 215/216 [01:30<00:00,  1.95it/s]"
          ]
        },
        {
          "output_type": "stream",
          "name": "stdout",
          "text": [
            "0.56478554\n",
            "change request\n",
            "this is the size of the synonyms list 215\n",
            "this is the size of the concept_range list 215\n",
            "row number 215\n"
          ]
        },
        {
          "output_type": "stream",
          "name": "stderr",
          "text": [
            "\n",
            "  0%|          | 0/17 [00:00<?, ?it/s]\u001b[A"
          ]
        },
        {
          "output_type": "stream",
          "name": "stdout",
          "text": [
            "entity number 0\n",
            "0.6835313\n",
            "Project Document\n",
            "entity number 1\n",
            "0.8931931\n",
            "process\n",
            "entity number 2\n"
          ]
        },
        {
          "output_type": "stream",
          "name": "stderr",
          "text": [
            "\n",
            " 18%|█▊        | 3/17 [00:00<00:00, 23.25it/s]\u001b[A"
          ]
        },
        {
          "output_type": "stream",
          "name": "stdout",
          "text": [
            "0.6294559\n",
            "process\n",
            "entity number 3\n",
            "0.50328493\n",
            "Assumption log Cost performance\n",
            "entity number 4\n",
            "0.5930203\n",
            "need\n",
            "entity number 5\n"
          ]
        },
        {
          "output_type": "stream",
          "name": "stderr",
          "text": [
            "\n",
            " 35%|███▌      | 6/17 [00:00<00:00, 23.68it/s]\u001b[A"
          ]
        },
        {
          "output_type": "stream",
          "name": "stdout",
          "text": [
            "0.84758407\n",
            "cost performance Basis estimates Cost performance\n",
            "entity number 6\n",
            "0.54991984\n",
            "cost performance Basis estimates Cost performance\n",
            "entity number 7\n",
            "0.5583849\n",
            "need\n",
            "entity number 8\n"
          ]
        },
        {
          "output_type": "stream",
          "name": "stderr",
          "text": [
            "\n",
            " 53%|█████▎    | 9/17 [00:00<00:00, 23.47it/s]\u001b[A"
          ]
        },
        {
          "output_type": "stream",
          "name": "stdout",
          "text": [
            "0.7453624\n",
            "basis estimates Cost estimates Cost estimates\n",
            "entity number 9\n",
            "0.6649947\n",
            "cost efficiency project Lessons\n",
            "entity number 10\n",
            "0.7040371\n",
            "lessons\n",
            "entity number 11\n"
          ]
        },
        {
          "output_type": "stream",
          "name": "stderr",
          "text": [
            "\n",
            " 71%|███████   | 12/17 [00:00<00:00, 23.97it/s]\u001b[A"
          ]
        },
        {
          "output_type": "stream",
          "name": "stdout",
          "text": [
            "0.8007765\n",
            "techniques\n",
            "entity number 12\n",
            "0.44906646\n",
            "techniques\n",
            "entity number 13\n"
          ]
        },
        {
          "output_type": "stream",
          "name": "stderr",
          "text": [
            "\n",
            " 88%|████████▊ | 15/17 [00:00<00:00, 24.36it/s]\u001b[A"
          ]
        },
        {
          "output_type": "stream",
          "name": "stdout",
          "text": [
            "0.7012553\n",
            "budget variance analysis\n",
            "entity number 14\n",
            "0.67014754\n",
            "value analysis forecasting actions\n",
            "entity number 15\n",
            "0.8971592\n",
            "risk register\n",
            "entity number 16\n"
          ]
        },
        {
          "output_type": "stream",
          "name": "stderr",
          "text": [
            "100%|██████████| 17/17 [00:00<00:00, 24.02it/s]\n",
            "100%|██████████| 216/216 [01:31<00:00,  2.36it/s]"
          ]
        },
        {
          "output_type": "stream",
          "name": "stdout",
          "text": [
            "0.8456116\n",
            "cost variance\n",
            "this is the size of the synonyms list 216\n",
            "this is the size of the concept_range list 216\n"
          ]
        },
        {
          "output_type": "stream",
          "name": "stderr",
          "text": [
            "\n"
          ]
        }
      ]
    },
    {
      "cell_type": "code",
      "source": [
        "a = [55]\n",
        "b = [1,2,3]\n",
        "a.append(b)\n",
        "a"
      ],
      "metadata": {
        "colab": {
          "base_uri": "https://localhost:8080/"
        },
        "id": "MfB3IDM7QrzC",
        "outputId": "7eba5059-8e4e-4413-d157-d2e762194df7"
      },
      "id": "MfB3IDM7QrzC",
      "execution_count": 128,
      "outputs": [
        {
          "output_type": "execute_result",
          "data": {
            "text/plain": [
              "[55, [1, 2, 3]]"
            ]
          },
          "metadata": {},
          "execution_count": 128
        }
      ]
    },
    {
      "cell_type": "code",
      "execution_count": 129,
      "id": "5e2ebe68",
      "metadata": {
        "colab": {
          "base_uri": "https://localhost:8080/"
        },
        "id": "5e2ebe68",
        "outputId": "18919e76-2d54-414a-8418-eb5130f0dd36"
      },
      "outputs": [
        {
          "output_type": "execute_result",
          "data": {
            "text/plain": [
              "216"
            ]
          },
          "metadata": {},
          "execution_count": 129
        }
      ],
      "source": [
        "len(Concept_range)"
      ]
    },
    {
      "cell_type": "code",
      "source": [
        "len(Concept_range)"
      ],
      "metadata": {
        "colab": {
          "base_uri": "https://localhost:8080/"
        },
        "id": "4a2V_Jp021ra",
        "outputId": "6511196a-1b08-474d-cc2b-4150be12dfb3"
      },
      "id": "4a2V_Jp021ra",
      "execution_count": 130,
      "outputs": [
        {
          "output_type": "execute_result",
          "data": {
            "text/plain": [
              "216"
            ]
          },
          "metadata": {},
          "execution_count": 130
        }
      ]
    },
    {
      "cell_type": "code",
      "execution_count": 131,
      "id": "dc796b4e",
      "metadata": {
        "id": "dc796b4e"
      },
      "outputs": [],
      "source": [
        "df['Concept_range'] = Concept_range"
      ]
    },
    {
      "cell_type": "code",
      "source": [
        "df['Synonyms'] = Synonyms"
      ],
      "metadata": {
        "id": "Cp2nImaC6s5q"
      },
      "id": "Cp2nImaC6s5q",
      "execution_count": 132,
      "outputs": []
    },
    {
      "cell_type": "code",
      "source": [
        "df['Relation_Non_Taxonomique'] = verbs_ts"
      ],
      "metadata": {
        "id": "NhaIEbsjA6m7"
      },
      "id": "NhaIEbsjA6m7",
      "execution_count": 134,
      "outputs": []
    },
    {
      "cell_type": "code",
      "source": [
        "df"
      ],
      "metadata": {
        "colab": {
          "base_uri": "https://localhost:8080/",
          "height": 1000
        },
        "id": "sGZTmAecADDm",
        "outputId": "e17fa077-b543-4e89-c6ad-4d62afab31cc"
      },
      "id": "sGZTmAecADDm",
      "execution_count": 137,
      "outputs": [
        {
          "output_type": "execute_result",
          "data": {
            "text/plain": [
              "     Section                             Title Relation_type  \\\n",
              "0    1.0.0.0          Project scope management                 \n",
              "1    1.1.0.0             Plan scope management                 \n",
              "2    1.1.1.1                   Project charter        Inputs   \n",
              "3    1.1.1.2           Project management plan        Inputs   \n",
              "4    1.1.1.3  Enterprise environmental factors        Inputs   \n",
              "..       ...                               ...           ...   \n",
              "211  3.4.3.1      Work performance information       Outputs   \n",
              "212  3.4.3.2                    Cost forecasts       Outputs   \n",
              "213  3.4.3.3                   Change requests       Outputs   \n",
              "214  3.4.3.4   Project management plan updates       Outputs   \n",
              "215  3.4.3.5         Project documents updates       Outputs   \n",
              "\n",
              "                                                Corpus  \\\n",
              "0    Project Scope Management includes the process ...   \n",
              "1    Plan Scope Management is the process of creati...   \n",
              "2    Described in Section The project charter Docum...   \n",
              "3    Described in Section Project management plan c...   \n",
              "4    The enterprise environmental factors that can ...   \n",
              "..                                                 ...   \n",
              "211  Described in Section Work performance informat...   \n",
              "212  Either a calculated A value or a bottom up A v...   \n",
              "213  Described in Section Analysis of project perfo...   \n",
              "214  Any change to the project management plan goes...   \n",
              "215  Project Document that may be updated as a resu...   \n",
              "\n",
              "                                            Similarity  \\\n",
              "0    [[scope, 0.4459], [objectives, 0.3474000000000...   \n",
              "1    [[planning, 0.4174], [management, 0.3726000000...   \n",
              "2    [[requirements, 0.5642], [charter, 0.4068], [p...   \n",
              "3    [[scope, 0.5049], [scheduling, 0.3523], [devel...   \n",
              "4    [[enterprise, 0.3937], [requirements, 0.3749],...   \n",
              "..                                                 ...   \n",
              "211  [[duration, 0.376], [performance, 0.3265], [sp...   \n",
              "212  [[estimating, 0.5118], [estimates, 0.450800000...   \n",
              "213  [[scope, 0.3556], [section, 0.322], [managemen...   \n",
              "214  [[changes, 0.3584], [management, 0.2652], [sch...   \n",
              "215  [[scheduling, 0.4611], [utilization, 0.4096], ...   \n",
              "\n",
              "                                              Keywords  \\\n",
              "0    [[scope, 0.48860000000000003], [management, 0....   \n",
              "1    [[scope, 0.48], [management, 0.313200000000000...   \n",
              "2    [[requirements, 0.5116], [constraints, 0.37260...   \n",
              "3    [[agile, 0.4672], [development, 0.409000000000...   \n",
              "4    [[scope, 0.4032], [enterprise, 0.3999000000000...   \n",
              "..                                                 ...   \n",
              "211  [[performance, 0.3573], [evaluated, 0.323], [r...   \n",
              "212  [[stakeholders, 0.5412], [value, 0.4718], [cal...   \n",
              "213  [[management, 0.3029], [section, 0.28700000000...   \n",
              "214  [[changes, 0.3351], [scope, 0.2891], [performa...   \n",
              "215  [[budget, 0.3386], [estimates, 0.3142000000000...   \n",
              "\n",
              "                                              Entities  \\\n",
              "0    [[[Project, Scope, Management]], [[process]], ...   \n",
              "1    [[[Plan, Scope, Management]], [[process]], [[s...   \n",
              "2    [[[Section]], [[project, charter, Document]], ...   \n",
              "3    [[[Section, Project, management, plan, commons...   \n",
              "4    [[[enterprise]], [[factors]], [[Plan, Scope, M...   \n",
              "..                                                 ...   \n",
              "211  [[[Section, Work, performance, information]], ...   \n",
              "212                          [[[A, value]], [[value]]]   \n",
              "213  [[[Section, Analysis]], [[project, performance...   \n",
              "214  [[[change]], [[project, management, plan]], [[...   \n",
              "215  [[[Project, Document]], [[result]], [[process]...   \n",
              "\n",
              "                                                   Ref  \\\n",
              "0               [[[[['Figure 5-1'], []], []], []], []]   \n",
              "1    [[[[['Figure 5-3', 'Figure 5-2'], []], ['Secti...   \n",
              "2    [[[[[], []], ['Section 4.1.3.1']], ['Section 4...   \n",
              "3    [[[[[], []], ['Section 8.1.3.1', 'Section 4.2....   \n",
              "4                           [[[[[], []], []], []], []]   \n",
              "..                                                 ...   \n",
              "211  [[[[[], []], ['Section 4.5.1.3', 'Section 4.5....   \n",
              "212                         [[[[[], []], []], []], []]   \n",
              "213  [[[[[], []], ['Section 4.3.3.4', 'Section 4.6'...   \n",
              "214  [[[[[], []], ['Section 7.3.3.1', 'Section 7.1....   \n",
              "215  [[[[[], []], ['Section 4.1.3.2', 'Section 4.4....   \n",
              "\n",
              "                                            Definition  \\\n",
              "0    Project Scope Management includes the process ...   \n",
              "1    Plan Scope Management is the process of creati...   \n",
              "2    The project charter Document the project purpo...   \n",
              "3    Project management plan commons include but ar...   \n",
              "4    The enterprise environmental factors that can ...   \n",
              "..                                                 ...   \n",
              "211  Work performance information includes informat...   \n",
              "212  Either a calculated A value or a bottom up A v...   \n",
              "213  Analysis of project performance may result in ...   \n",
              "214  Any change to the project management plan goes...   \n",
              "215  Project Document that may be updated as a resu...   \n",
              "\n",
              "                                         Concept_range  \\\n",
              "0    [Project Scope Management, defining, Collect R...   \n",
              "1    [Plan Scope Management, process, scope managem...   \n",
              "2                                                   []   \n",
              "3    [Project management plan commons, organization...   \n",
              "4                                 [enterprise factors]   \n",
              "..                                                 ...   \n",
              "211  [information project work, cost work, work pac...   \n",
              "212                                                 []   \n",
              "213                     [Analysis project performance]   \n",
              "214  [change request project management plan, cost ...   \n",
              "215  [Project Document, process, Assumption log Cos...   \n",
              "\n",
              "                                              Synonyms  \\\n",
              "0    [project, work, work, project, project scope, ...   \n",
              "1                                                   []   \n",
              "2                                                   []   \n",
              "3    [organization quality policy methodologies sta...   \n",
              "4                                                   []   \n",
              "..                                                 ...   \n",
              "211              [information project work, cost work]   \n",
              "212                                                 []   \n",
              "213                                                 []   \n",
              "214  [organization change control process change re...   \n",
              "215  [process, cost performance Basis estimates Cos...   \n",
              "\n",
              "                              Relation_Non_Taxonomique  \n",
              "0    [includes, required ensure, includes, required...  \n",
              "1    [is, creating, will be defined controlled, is ...  \n",
              "2                                                   []  \n",
              "3    [include are limited, will be managed can be i...  \n",
              "4                         [can influence, are limited]  \n",
              "..                                                 ...  \n",
              "211  [includes, is performing compared, performed, ...  \n",
              "212           [calculated, is documented communicated]  \n",
              "213                          [may result, are proceed]  \n",
              "214  [goes, may require, include are limited, Chang...  \n",
              "215  [may be updated, carrying, include are limited...  \n",
              "\n",
              "[216 rows x 12 columns]"
            ],
            "text/html": [
              "\n",
              "  <div id=\"df-0c93586a-0899-467d-ab48-809ce84b9c85\">\n",
              "    <div class=\"colab-df-container\">\n",
              "      <div>\n",
              "<style scoped>\n",
              "    .dataframe tbody tr th:only-of-type {\n",
              "        vertical-align: middle;\n",
              "    }\n",
              "\n",
              "    .dataframe tbody tr th {\n",
              "        vertical-align: top;\n",
              "    }\n",
              "\n",
              "    .dataframe thead th {\n",
              "        text-align: right;\n",
              "    }\n",
              "</style>\n",
              "<table border=\"1\" class=\"dataframe\">\n",
              "  <thead>\n",
              "    <tr style=\"text-align: right;\">\n",
              "      <th></th>\n",
              "      <th>Section</th>\n",
              "      <th>Title</th>\n",
              "      <th>Relation_type</th>\n",
              "      <th>Corpus</th>\n",
              "      <th>Similarity</th>\n",
              "      <th>Keywords</th>\n",
              "      <th>Entities</th>\n",
              "      <th>Ref</th>\n",
              "      <th>Definition</th>\n",
              "      <th>Concept_range</th>\n",
              "      <th>Synonyms</th>\n",
              "      <th>Relation_Non_Taxonomique</th>\n",
              "    </tr>\n",
              "  </thead>\n",
              "  <tbody>\n",
              "    <tr>\n",
              "      <th>0</th>\n",
              "      <td>1.0.0.0</td>\n",
              "      <td>Project scope management</td>\n",
              "      <td></td>\n",
              "      <td>Project Scope Management includes the process ...</td>\n",
              "      <td>[[scope, 0.4459], [objectives, 0.3474000000000...</td>\n",
              "      <td>[[scope, 0.48860000000000003], [management, 0....</td>\n",
              "      <td>[[[Project, Scope, Management]], [[process]], ...</td>\n",
              "      <td>[[[[['Figure 5-1'], []], []], []], []]</td>\n",
              "      <td>Project Scope Management includes the process ...</td>\n",
              "      <td>[Project Scope Management, defining, Collect R...</td>\n",
              "      <td>[project, work, work, project, project scope, ...</td>\n",
              "      <td>[includes, required ensure, includes, required...</td>\n",
              "    </tr>\n",
              "    <tr>\n",
              "      <th>1</th>\n",
              "      <td>1.1.0.0</td>\n",
              "      <td>Plan scope management</td>\n",
              "      <td></td>\n",
              "      <td>Plan Scope Management is the process of creati...</td>\n",
              "      <td>[[planning, 0.4174], [management, 0.3726000000...</td>\n",
              "      <td>[[scope, 0.48], [management, 0.313200000000000...</td>\n",
              "      <td>[[[Plan, Scope, Management]], [[process]], [[s...</td>\n",
              "      <td>[[[[['Figure 5-3', 'Figure 5-2'], []], ['Secti...</td>\n",
              "      <td>Plan Scope Management is the process of creati...</td>\n",
              "      <td>[Plan Scope Management, process, scope managem...</td>\n",
              "      <td>[]</td>\n",
              "      <td>[is, creating, will be defined controlled, is ...</td>\n",
              "    </tr>\n",
              "    <tr>\n",
              "      <th>2</th>\n",
              "      <td>1.1.1.1</td>\n",
              "      <td>Project charter</td>\n",
              "      <td>Inputs</td>\n",
              "      <td>Described in Section The project charter Docum...</td>\n",
              "      <td>[[requirements, 0.5642], [charter, 0.4068], [p...</td>\n",
              "      <td>[[requirements, 0.5116], [constraints, 0.37260...</td>\n",
              "      <td>[[[Section]], [[project, charter, Document]], ...</td>\n",
              "      <td>[[[[[], []], ['Section 4.1.3.1']], ['Section 4...</td>\n",
              "      <td>The project charter Document the project purpo...</td>\n",
              "      <td>[]</td>\n",
              "      <td>[]</td>\n",
              "      <td>[]</td>\n",
              "    </tr>\n",
              "    <tr>\n",
              "      <th>3</th>\n",
              "      <td>1.1.1.2</td>\n",
              "      <td>Project management plan</td>\n",
              "      <td>Inputs</td>\n",
              "      <td>Described in Section Project management plan c...</td>\n",
              "      <td>[[scope, 0.5049], [scheduling, 0.3523], [devel...</td>\n",
              "      <td>[[agile, 0.4672], [development, 0.409000000000...</td>\n",
              "      <td>[[[Section, Project, management, plan, commons...</td>\n",
              "      <td>[[[[[], []], ['Section 8.1.3.1', 'Section 4.2....</td>\n",
              "      <td>Project management plan commons include but ar...</td>\n",
              "      <td>[Project management plan commons, organization...</td>\n",
              "      <td>[organization quality policy methodologies sta...</td>\n",
              "      <td>[include are limited, will be managed can be i...</td>\n",
              "    </tr>\n",
              "    <tr>\n",
              "      <th>4</th>\n",
              "      <td>1.1.1.3</td>\n",
              "      <td>Enterprise environmental factors</td>\n",
              "      <td>Inputs</td>\n",
              "      <td>The enterprise environmental factors that can ...</td>\n",
              "      <td>[[enterprise, 0.3937], [requirements, 0.3749],...</td>\n",
              "      <td>[[scope, 0.4032], [enterprise, 0.3999000000000...</td>\n",
              "      <td>[[[enterprise]], [[factors]], [[Plan, Scope, M...</td>\n",
              "      <td>[[[[[], []], []], []], []]</td>\n",
              "      <td>The enterprise environmental factors that can ...</td>\n",
              "      <td>[enterprise factors]</td>\n",
              "      <td>[]</td>\n",
              "      <td>[can influence, are limited]</td>\n",
              "    </tr>\n",
              "    <tr>\n",
              "      <th>...</th>\n",
              "      <td>...</td>\n",
              "      <td>...</td>\n",
              "      <td>...</td>\n",
              "      <td>...</td>\n",
              "      <td>...</td>\n",
              "      <td>...</td>\n",
              "      <td>...</td>\n",
              "      <td>...</td>\n",
              "      <td>...</td>\n",
              "      <td>...</td>\n",
              "      <td>...</td>\n",
              "      <td>...</td>\n",
              "    </tr>\n",
              "    <tr>\n",
              "      <th>211</th>\n",
              "      <td>3.4.3.1</td>\n",
              "      <td>Work performance information</td>\n",
              "      <td>Outputs</td>\n",
              "      <td>Described in Section Work performance informat...</td>\n",
              "      <td>[[duration, 0.376], [performance, 0.3265], [sp...</td>\n",
              "      <td>[[performance, 0.3573], [evaluated, 0.323], [r...</td>\n",
              "      <td>[[[Section, Work, performance, information]], ...</td>\n",
              "      <td>[[[[[], []], ['Section 4.5.1.3', 'Section 4.5....</td>\n",
              "      <td>Work performance information includes informat...</td>\n",
              "      <td>[information project work, cost work, work pac...</td>\n",
              "      <td>[information project work, cost work]</td>\n",
              "      <td>[includes, is performing compared, performed, ...</td>\n",
              "    </tr>\n",
              "    <tr>\n",
              "      <th>212</th>\n",
              "      <td>3.4.3.2</td>\n",
              "      <td>Cost forecasts</td>\n",
              "      <td>Outputs</td>\n",
              "      <td>Either a calculated A value or a bottom up A v...</td>\n",
              "      <td>[[estimating, 0.5118], [estimates, 0.450800000...</td>\n",
              "      <td>[[stakeholders, 0.5412], [value, 0.4718], [cal...</td>\n",
              "      <td>[[[A, value]], [[value]]]</td>\n",
              "      <td>[[[[[], []], []], []], []]</td>\n",
              "      <td>Either a calculated A value or a bottom up A v...</td>\n",
              "      <td>[]</td>\n",
              "      <td>[]</td>\n",
              "      <td>[calculated, is documented communicated]</td>\n",
              "    </tr>\n",
              "    <tr>\n",
              "      <th>213</th>\n",
              "      <td>3.4.3.3</td>\n",
              "      <td>Change requests</td>\n",
              "      <td>Outputs</td>\n",
              "      <td>Described in Section Analysis of project perfo...</td>\n",
              "      <td>[[scope, 0.3556], [section, 0.322], [managemen...</td>\n",
              "      <td>[[management, 0.3029], [section, 0.28700000000...</td>\n",
              "      <td>[[[Section, Analysis]], [[project, performance...</td>\n",
              "      <td>[[[[[], []], ['Section 4.3.3.4', 'Section 4.6'...</td>\n",
              "      <td>Analysis of project performance may result in ...</td>\n",
              "      <td>[Analysis project performance]</td>\n",
              "      <td>[]</td>\n",
              "      <td>[may result, are proceed]</td>\n",
              "    </tr>\n",
              "    <tr>\n",
              "      <th>214</th>\n",
              "      <td>3.4.3.4</td>\n",
              "      <td>Project management plan updates</td>\n",
              "      <td>Outputs</td>\n",
              "      <td>Any change to the project management plan goes...</td>\n",
              "      <td>[[changes, 0.3584], [management, 0.2652], [sch...</td>\n",
              "      <td>[[changes, 0.3351], [scope, 0.2891], [performa...</td>\n",
              "      <td>[[[change]], [[project, management, plan]], [[...</td>\n",
              "      <td>[[[[[], []], ['Section 7.3.3.1', 'Section 7.1....</td>\n",
              "      <td>Any change to the project management plan goes...</td>\n",
              "      <td>[change request project management plan, cost ...</td>\n",
              "      <td>[organization change control process change re...</td>\n",
              "      <td>[goes, may require, include are limited, Chang...</td>\n",
              "    </tr>\n",
              "    <tr>\n",
              "      <th>215</th>\n",
              "      <td>3.4.3.5</td>\n",
              "      <td>Project documents updates</td>\n",
              "      <td>Outputs</td>\n",
              "      <td>Project Document that may be updated as a resu...</td>\n",
              "      <td>[[scheduling, 0.4611], [utilization, 0.4096], ...</td>\n",
              "      <td>[[budget, 0.3386], [estimates, 0.3142000000000...</td>\n",
              "      <td>[[[Project, Document]], [[result]], [[process]...</td>\n",
              "      <td>[[[[[], []], ['Section 4.1.3.2', 'Section 4.4....</td>\n",
              "      <td>Project Document that may be updated as a resu...</td>\n",
              "      <td>[Project Document, process, Assumption log Cos...</td>\n",
              "      <td>[process, cost performance Basis estimates Cos...</td>\n",
              "      <td>[may be updated, carrying, include are limited...</td>\n",
              "    </tr>\n",
              "  </tbody>\n",
              "</table>\n",
              "<p>216 rows × 12 columns</p>\n",
              "</div>\n",
              "      <button class=\"colab-df-convert\" onclick=\"convertToInteractive('df-0c93586a-0899-467d-ab48-809ce84b9c85')\"\n",
              "              title=\"Convert this dataframe to an interactive table.\"\n",
              "              style=\"display:none;\">\n",
              "        \n",
              "  <svg xmlns=\"http://www.w3.org/2000/svg\" height=\"24px\"viewBox=\"0 0 24 24\"\n",
              "       width=\"24px\">\n",
              "    <path d=\"M0 0h24v24H0V0z\" fill=\"none\"/>\n",
              "    <path d=\"M18.56 5.44l.94 2.06.94-2.06 2.06-.94-2.06-.94-.94-2.06-.94 2.06-2.06.94zm-11 1L8.5 8.5l.94-2.06 2.06-.94-2.06-.94L8.5 2.5l-.94 2.06-2.06.94zm10 10l.94 2.06.94-2.06 2.06-.94-2.06-.94-.94-2.06-.94 2.06-2.06.94z\"/><path d=\"M17.41 7.96l-1.37-1.37c-.4-.4-.92-.59-1.43-.59-.52 0-1.04.2-1.43.59L10.3 9.45l-7.72 7.72c-.78.78-.78 2.05 0 2.83L4 21.41c.39.39.9.59 1.41.59.51 0 1.02-.2 1.41-.59l7.78-7.78 2.81-2.81c.8-.78.8-2.07 0-2.86zM5.41 20L4 18.59l7.72-7.72 1.47 1.35L5.41 20z\"/>\n",
              "  </svg>\n",
              "      </button>\n",
              "      \n",
              "  <style>\n",
              "    .colab-df-container {\n",
              "      display:flex;\n",
              "      flex-wrap:wrap;\n",
              "      gap: 12px;\n",
              "    }\n",
              "\n",
              "    .colab-df-convert {\n",
              "      background-color: #E8F0FE;\n",
              "      border: none;\n",
              "      border-radius: 50%;\n",
              "      cursor: pointer;\n",
              "      display: none;\n",
              "      fill: #1967D2;\n",
              "      height: 32px;\n",
              "      padding: 0 0 0 0;\n",
              "      width: 32px;\n",
              "    }\n",
              "\n",
              "    .colab-df-convert:hover {\n",
              "      background-color: #E2EBFA;\n",
              "      box-shadow: 0px 1px 2px rgba(60, 64, 67, 0.3), 0px 1px 3px 1px rgba(60, 64, 67, 0.15);\n",
              "      fill: #174EA6;\n",
              "    }\n",
              "\n",
              "    [theme=dark] .colab-df-convert {\n",
              "      background-color: #3B4455;\n",
              "      fill: #D2E3FC;\n",
              "    }\n",
              "\n",
              "    [theme=dark] .colab-df-convert:hover {\n",
              "      background-color: #434B5C;\n",
              "      box-shadow: 0px 1px 3px 1px rgba(0, 0, 0, 0.15);\n",
              "      filter: drop-shadow(0px 1px 2px rgba(0, 0, 0, 0.3));\n",
              "      fill: #FFFFFF;\n",
              "    }\n",
              "  </style>\n",
              "\n",
              "      <script>\n",
              "        const buttonEl =\n",
              "          document.querySelector('#df-0c93586a-0899-467d-ab48-809ce84b9c85 button.colab-df-convert');\n",
              "        buttonEl.style.display =\n",
              "          google.colab.kernel.accessAllowed ? 'block' : 'none';\n",
              "\n",
              "        async function convertToInteractive(key) {\n",
              "          const element = document.querySelector('#df-0c93586a-0899-467d-ab48-809ce84b9c85');\n",
              "          const dataTable =\n",
              "            await google.colab.kernel.invokeFunction('convertToInteractive',\n",
              "                                                     [key], {});\n",
              "          if (!dataTable) return;\n",
              "\n",
              "          const docLinkHtml = 'Like what you see? Visit the ' +\n",
              "            '<a target=\"_blank\" href=https://colab.research.google.com/notebooks/data_table.ipynb>data table notebook</a>'\n",
              "            + ' to learn more about interactive tables.';\n",
              "          element.innerHTML = '';\n",
              "          dataTable['output_type'] = 'display_data';\n",
              "          await google.colab.output.renderOutput(dataTable, element);\n",
              "          const docLink = document.createElement('div');\n",
              "          docLink.innerHTML = docLinkHtml;\n",
              "          element.appendChild(docLink);\n",
              "        }\n",
              "      </script>\n",
              "    </div>\n",
              "  </div>\n",
              "  "
            ]
          },
          "metadata": {},
          "execution_count": 137
        }
      ]
    },
    {
      "cell_type": "code",
      "source": [],
      "metadata": {
        "id": "qip7JVI4BquX"
      },
      "id": "qip7JVI4BquX",
      "execution_count": null,
      "outputs": []
    }
  ],
  "metadata": {
    "kernelspec": {
      "display_name": "Python 3 (ipykernel)",
      "language": "python",
      "name": "python3"
    },
    "language_info": {
      "codemirror_mode": {
        "name": "ipython",
        "version": 3
      },
      "file_extension": ".py",
      "mimetype": "text/x-python",
      "name": "python",
      "nbconvert_exporter": "python",
      "pygments_lexer": "ipython3",
      "version": "3.9.13"
    },
    "colab": {
      "provenance": []
    },
    "accelerator": "GPU",
    "gpuClass": "standard"
  },
  "nbformat": 4,
  "nbformat_minor": 5
}