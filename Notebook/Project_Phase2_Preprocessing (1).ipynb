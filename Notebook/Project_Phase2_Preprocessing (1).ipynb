{
  "cells": [
    {
      "cell_type": "code",
      "execution_count": null,
      "id": "4e333127-f2d5-404f-b2aa-47c0b3512a4f",
      "metadata": {
        "id": "4e333127-f2d5-404f-b2aa-47c0b3512a4f",
        "outputId": "9ab22505-e3d9-49c9-81ed-2f8a0f47edf2"
      },
      "outputs": [
        {
          "name": "stderr",
          "output_type": "stream",
          "text": [
            "[nltk_data] Downloading package tagsets to\n",
            "[nltk_data]     C:\\Users\\Occurence\\AppData\\Roaming\\nltk_data...\n",
            "[nltk_data]   Package tagsets is already up-to-date!\n"
          ]
        },
        {
          "data": {
            "text/plain": [
              "True"
            ]
          },
          "execution_count": 1690,
          "metadata": {},
          "output_type": "execute_result"
        }
      ],
      "source": [
        "import pandas as pd\n",
        "import numpy as np\n",
        "import plotly.express as px\n",
        "import matplotlib.pyplot as plt\n",
        "from matplotlib.pyplot import figure\n",
        "import seaborn as sns\n",
        "import regex\n",
        "import string\n",
        "import spacy\n",
        "from spacy import displacy\n",
        "from tqdm import tqdm\n",
        "from textblob import TextBlob\n",
        "from autocorrect import Speller\n",
        "import nltk\n",
        "from nltk.metrics import distance\n",
        "from nltk.tokenize import word_tokenize\n",
        "import gensim\n",
        "import gensim.downloader as api\n",
        "nltk.download('tagsets')"
      ]
    },
    {
      "cell_type": "code",
      "execution_count": null,
      "id": "70ab41e7-8771-453f-9c95-014b4b833ffa",
      "metadata": {
        "id": "70ab41e7-8771-453f-9c95-014b4b833ffa",
        "outputId": "45ce0f89-e35f-4df9-988b-4240445b0ee4"
      },
      "outputs": [
        {
          "data": {
            "text/html": [
              "<div>\n",
              "<style scoped>\n",
              "    .dataframe tbody tr th:only-of-type {\n",
              "        vertical-align: middle;\n",
              "    }\n",
              "\n",
              "    .dataframe tbody tr th {\n",
              "        vertical-align: top;\n",
              "    }\n",
              "\n",
              "    .dataframe thead th {\n",
              "        text-align: right;\n",
              "    }\n",
              "</style>\n",
              "<table border=\"1\" class=\"dataframe\">\n",
              "  <thead>\n",
              "    <tr style=\"text-align: right;\">\n",
              "      <th></th>\n",
              "      <th>Title_1</th>\n",
              "      <th>Title_2</th>\n",
              "      <th>Title_3</th>\n",
              "      <th>Title_4</th>\n",
              "      <th>Corpus</th>\n",
              "    </tr>\n",
              "  </thead>\n",
              "  <tbody>\n",
              "    <tr>\n",
              "      <th>0</th>\n",
              "      <td>PROJECT SCOPE MANAGEMENT</td>\n",
              "      <td></td>\n",
              "      <td></td>\n",
              "      <td></td>\n",
              "      <td>Project Scope Management includes the process...</td>\n",
              "    </tr>\n",
              "    <tr>\n",
              "      <th>1</th>\n",
              "      <td>PROJECT SCOPE MANAGEMENT</td>\n",
              "      <td>Plan Scope Management</td>\n",
              "      <td></td>\n",
              "      <td></td>\n",
              "      <td>Plan Scope Management is the process of creat...</td>\n",
              "    </tr>\n",
              "    <tr>\n",
              "      <th>2</th>\n",
              "      <td>PROJECT SCOPE MANAGEMENT</td>\n",
              "      <td>Plan Scope Management</td>\n",
              "      <td>Inputs</td>\n",
              "      <td>Project charter</td>\n",
              "      <td>Described in Section 4.1.3.1. The project cha...</td>\n",
              "    </tr>\n",
              "    <tr>\n",
              "      <th>3</th>\n",
              "      <td>PROJECT SCOPE MANAGEMENT</td>\n",
              "      <td>Plan Scope Management</td>\n",
              "      <td>Inputs</td>\n",
              "      <td>Project management plan</td>\n",
              "      <td>Described in Section 4.2.3.1. Project managem...</td>\n",
              "    </tr>\n",
              "    <tr>\n",
              "      <th>4</th>\n",
              "      <td>PROJECT SCOPE MANAGEMENT</td>\n",
              "      <td>Plan Scope Management</td>\n",
              "      <td>Inputs</td>\n",
              "      <td>Enterprise environmental factors</td>\n",
              "      <td>The enterprise environmental factors that can...</td>\n",
              "    </tr>\n",
              "  </tbody>\n",
              "</table>\n",
              "</div>"
            ],
            "text/plain": [
              "                      Title_1                  Title_2   Title_3  \\\n",
              "0   PROJECT SCOPE MANAGEMENT                                       \n",
              "1   PROJECT SCOPE MANAGEMENT    Plan Scope Management              \n",
              "2   PROJECT SCOPE MANAGEMENT    Plan Scope Management    Inputs    \n",
              "3   PROJECT SCOPE MANAGEMENT    Plan Scope Management    Inputs    \n",
              "4   PROJECT SCOPE MANAGEMENT    Plan Scope Management    Inputs    \n",
              "\n",
              "                            Title_4  \\\n",
              "0                                     \n",
              "1                                     \n",
              "2                   Project charter   \n",
              "3           Project management plan   \n",
              "4  Enterprise environmental factors   \n",
              "\n",
              "                                              Corpus  \n",
              "0   Project Scope Management includes the process...  \n",
              "1   Plan Scope Management is the process of creat...  \n",
              "2   Described in Section 4.1.3.1. The project cha...  \n",
              "3   Described in Section 4.2.3.1. Project managem...  \n",
              "4   The enterprise environmental factors that can...  "
            ]
          },
          "execution_count": 2693,
          "metadata": {},
          "output_type": "execute_result"
        }
      ],
      "source": [
        "##Importing the dataset\n",
        "df = pd.read_json(\"Data/Clean_Database.json\")\n",
        "df.head()"
      ]
    },
    {
      "cell_type": "code",
      "execution_count": null,
      "id": "dd7754fa-3add-40f6-812b-6f3279c05626",
      "metadata": {
        "id": "dd7754fa-3add-40f6-812b-6f3279c05626"
      },
      "outputs": [],
      "source": [
        "df[\"Title_1\"] = df[\"Title_1\"].astype(str)\n",
        "df[\"Title_2\"] = df[\"Title_2\"].astype(str)\n",
        "df[\"Title_3\"] = df[\"Title_3\"].astype(str)\n",
        "df[\"Title_4\"] = df[\"Title_4\"].astype(str)\n",
        "df[\"Corpus\"] = df[\"Corpus\"].astype(str)"
      ]
    },
    {
      "cell_type": "code",
      "execution_count": null,
      "id": "9578ffab-5fda-4d78-850c-6012a237c978",
      "metadata": {
        "id": "9578ffab-5fda-4d78-850c-6012a237c978",
        "outputId": "2d2a5240-74d4-48a4-8877-b8b0f821be07"
      },
      "outputs": [
        {
          "data": {
            "text/plain": [
              "(216, 5)"
            ]
          },
          "execution_count": 2695,
          "metadata": {},
          "output_type": "execute_result"
        }
      ],
      "source": [
        "df.shape"
      ]
    },
    {
      "cell_type": "code",
      "execution_count": null,
      "id": "18787d73-b861-4bcd-a711-b4867ea8081c",
      "metadata": {
        "id": "18787d73-b861-4bcd-a711-b4867ea8081c",
        "outputId": "5d7d3c0d-0503-49c3-f9b8-12f5ad633e38"
      },
      "outputs": [
        {
          "data": {
            "text/plain": [
              "array([' PROJECT SCOPE MANAGEMENT ', ' PROJECT SCHEDULE MANAGEMENT',\n",
              "       ' PROJECT COST MANAGEMENT '], dtype=object)"
            ]
          },
          "execution_count": 2696,
          "metadata": {},
          "output_type": "execute_result"
        }
      ],
      "source": [
        "df[\"Title_1\"].unique()"
      ]
    },
    {
      "cell_type": "code",
      "execution_count": null,
      "id": "650b1c0a-6576-4d87-a078-dab20b97abd1",
      "metadata": {
        "id": "650b1c0a-6576-4d87-a078-dab20b97abd1",
        "outputId": "fba65293-b486-4190-a93b-f9925c05fa60"
      },
      "outputs": [
        {
          "data": {
            "text/plain": [
              "' Plan Scope Management is the process of creating a scope management plan that documents how the project and  product scope will be deﬁned, validated, and controlled. The key beneﬁt of this process is that it provides guidance and  direction on how scope will be managed throughout the project. This process is performed once or at predeﬁned points  in the project. The inputs, tools and techniques, and outputs of this process are depicted in Figure 5-2. Figure 5-3 depicts  the data ﬂow diagram of the process. Plan Scope Management Inputs Tools & Techniques Outputs .1 Project charter .1 Expert judgment .1 Scope management plan .2 Project management plan .2 Data analysis .2 Requirements management   • Quality management plan • Alternatives analysis   plan • Project life cycle description .3 Meetings • Development approach .3 Enterprise environmental      factors .4 Organizational process assets Figure 5-2. Plan Scope Management: Inputs, Tools & Techniques, and Outputs 4.1 Develop Project Charter • Project charter Project 5.1 Project Management Plan Scope Management Plan Manage•m Peronjetct • Scope management plan Plan    charter • Requirements  management plan • Quality management plan • Project life cycle description • Development approach Enterprise/ Organization • Enterprise environmental factors • Organizational process assets Figure 5-3. Plan Scope Management: Data Flow Diagram       The scope management plan is a component of the project or program management plan that describes how the  scope will be deﬁned, developed, monitored, controlled, and validated. The development of the scope management plan  and the detailing of the project scope begin with the analysis of information contained in the project charter (Section  4.1.3.1), the latest approved subsidiary plans of the project management plan (Section 4.2.3.1), historical information  contained in the organizational process assets (Section 2.3), and any other relevant enterprise environmental factors  (Section 2.2).'"
            ]
          },
          "execution_count": 2697,
          "metadata": {},
          "output_type": "execute_result"
        }
      ],
      "source": [
        "df.iloc[1,4]"
      ]
    },
    {
      "cell_type": "markdown",
      "id": "74166d1a-3e84-4a29-b920-7df78d4de518",
      "metadata": {
        "id": "74166d1a-3e84-4a29-b920-7df78d4de518"
      },
      "source": [
        "### Data cleaning"
      ]
    },
    {
      "cell_type": "code",
      "execution_count": null,
      "id": "1304c259-9929-49f8-94af-5de0d2b64fb0",
      "metadata": {
        "id": "1304c259-9929-49f8-94af-5de0d2b64fb0"
      },
      "outputs": [],
      "source": [
        "def cleaning_corpus(text):\n",
        "    text = regex.sub(r\"PMBOK®\", \"PMBOK guide\", text)\n",
        "    text = regex.sub(r\"[\\d.]\",\"\",text)\n",
        "    text = regex.sub(r\"[\"+string.punctuation+\"]\", \" \", text)\n",
        "    text = regex.sub(r\"•\", \"\", text)\n",
        "    text = regex.sub(r\"–|’|“|”|−\", \" \", text)\n",
        "    text = regex.sub(r\"—\", \" \", text)\n",
        "    text = regex.sub(r\"ﬂow\", \"Flow\", text)\n",
        "    text = regex.sub(r\"Peronjetct|Psroject|PRreosjoeucrt|Pleroject|PPrroojjeecctt|Ptroject|ePrnotjesct\", \"Project\", text)\n",
        "    text = regex.sub(r\"Conﬁguration\", \"configuration\", text)\n",
        "    text = regex.sub(r\"Managemententent|Managementent\", \"Management\", text)\n",
        "    text = regex.sub(r\"Multicriteria\", \"Multiple criteria\", text)\n",
        "    text = regex.sub(r\"(ents){1,}\", \"s\", text)\n",
        "    text = regex.sub(r\"(s){1,}\", \"s\", text)\n",
        "    text = regex.sub(r\"Requirem|Requirementents|Requiremsents|Requirementss\", \"Requirements\", text)\n",
        "    text = regex.sub(r\"Requirementss|requirems\", \"Requirements\", text)\n",
        "    text = regex.sub(r\"requirems\", \"requires\", text)\n",
        "    text = regex.sub(r\"Agreems\", \"Agreements\", text)\n",
        "    text = regex.sub(r\"Compons\", \"Components\", text)\n",
        "    text = regex.sub(r\"Asumption\", \"Assumption\", text)\n",
        "    text = regex.sub(r\"Asuming\", \"Assuming\", text)\n",
        "    text = regex.sub(r\"Lesons\", \"Lessons\", text)\n",
        "    text = regex.sub(r\"docums|Docum|Documentent\", \"Document\", text)\n",
        "    text = regex.sub(r\"Docum(ent){1,}\", \"Document\", text)\n",
        "    text = regex.sub(r\"Elems\", \"Elements\", text)\n",
        "    text = regex.sub(r\"Procurems\", \"Procurements\", text)\n",
        "    text = regex.sub(r\"Asociate\", \"Associate\", text)\n",
        "    text = regex.sub(r\"Asigned\", \"Assigned\", text)\n",
        "    text = regex.sub(r\"Asesment\", \"Assesment\", text)\n",
        "    text = regex.sub(r\"Activitie\", \"Activities\", text)\n",
        "    text = regex.sub(r\"Activities(s){1,}\", \"Activities\", text)\n",
        "    text = regex.sub(r\"Preapproved\", \"Accepted\", text)\n",
        "    text = regex.sub(r\"Duratio|Duratio(n){1,}s|Durations(n){1,}s\", \"Durations\", text)\n",
        "    text = regex.sub(r\"Duration(sn){1,}(n){0,}(s){0,}\", \"Durations\", text)\n",
        "    text = regex.sub(r\"Pesimistic\", \"Pessimistic\", text)\n",
        "    text = regex.sub(r\"Regardles\", \"Regardless\", text)\n",
        "    text = regex.sub(r\"Schedu\", \"Schedule\", text)\n",
        "    text = regex.sub(r\"Schedu(le){1,}\", \"Schedule\", text)\n",
        "    text = regex.sub(r\"Scheduleling\", \"Scheduling\", text)\n",
        "    text = regex.sub(r\"ctee acmal eansdsaigrnsms|ChIanntegegr Caotendtrol\", \"\", text)\n",
        "    text = regex.sub(r\"Adjustms\", \"Adjustments\", text)\n",
        "    text = regex.sub(r\"Compresion\", \"Compression\", text)\n",
        "    text = regex.sub(r\"Reestimate\", \"estimate again\", text)\n",
        "    text = regex.sub(r\"nuUnanimity\", \"Unanimity\", text)\n",
        "    text = regex.sub(r\"nuPlurality\", \"Plurality\", text)\n",
        "    text = regex.sub(r\"nuEVM\", \"EVM\", text)\n",
        "    text = regex.sub(r\"nuWBS\", \"WBS\", text)\n",
        "    text = regex.sub(r\"evs\", \"EVS\", text)\n",
        "    text = regex.sub(r\"metres\", \"meters\", text)\n",
        "    text = regex.sub(r\"cscahleenddualers\", \"schedulers\", text)\n",
        "    text = regex.sub(r\"disbursems\", \"disbursement\", text)\n",
        "    text = regex.sub(r\"multicriteria\", \"multi-criteria\", text)\n",
        "    text = regex.sub(r\"managementplan\", \"management plan\", text)\n",
        "    text = regex.sub(r\"Reprioritizing\", \"prioritizing again\", text)\n",
        "    text = regex.sub(r\"nuNonfunctional|Nonfunctional\",\"Non functional\", text)\n",
        "    text = regex.sub(r\"cancelled\", \"canceled\", text)\n",
        "    text = regex.sub(r\"subcompons\", \"subcomponents\", text)\n",
        "    text = regex.sub(r\"nuAssumptions\", \"Assumptions\", text)\n",
        "    text = regex.sub(r\"impedims\", \"impediment\", text)\n",
        "    text = regex.sub(r\"analyses\", \"analysis\", text)\n",
        "    text = regex.sub(r\"ﬂ\", \"fl\", text)\n",
        "    text = regex.sub(r\"ﬁ\", \"fi\", text)\n",
        "    text = regex.sub(r\"\\n\", \"\", text)\n",
        "    text = regex.sub(r\"\\s{2,}\", \" \", text)\n",
        "    text = regex.sub(r\"^\\s\",\"\",text)\n",
        "    text = Speller()(text)\n",
        "    return text\n",
        "clean_corpus = lambda x:cleaning_corpus(x)\n",
        "\n",
        "def cleaning_titles(text):\n",
        "    text = text.capitalize()\n",
        "    text = regex.sub(r\"[\\d.]\",\"\",text)\n",
        "    text = regex.sub(r\"[\"+string.punctuation+\"]\", \" \", text)\n",
        "    text = regex.sub(r\"^\\s{1,}\",\"\",text)\n",
        "    text = regex.sub(r\"\\s{1,}$\",\"\",text)\n",
        "    return text\n",
        "clean_titles = lambda x:cleaning_titles(x)"
      ]
    },
    {
      "cell_type": "code",
      "execution_count": null,
      "id": "721d4bc8-9bdd-410a-828b-37f0fd22e803",
      "metadata": {
        "id": "721d4bc8-9bdd-410a-828b-37f0fd22e803"
      },
      "outputs": [],
      "source": [
        "df[\"Corpus\"] = df[\"Corpus\"].apply(clean_corpus)\n",
        "df[\"Title_1\"] = df[\"Title_1\"].apply(clean_titles)\n",
        "df[\"Title_2\"] = df[\"Title_2\"].apply(clean_titles)\n",
        "df[\"Title_3\"] = df[\"Title_3\"].apply(clean_titles)\n",
        "df[\"Title_4\"] = df[\"Title_4\"].apply(clean_titles)"
      ]
    },
    {
      "cell_type": "code",
      "execution_count": null,
      "id": "41432266-13b9-41c2-8e95-7d000ddc9222",
      "metadata": {
        "id": "41432266-13b9-41c2-8e95-7d000ddc9222",
        "outputId": "bd2a1987-671a-4de6-e762-f8c6d3641659"
      },
      "outputs": [
        {
          "data": {
            "text/html": [
              "<div>\n",
              "<style scoped>\n",
              "    .dataframe tbody tr th:only-of-type {\n",
              "        vertical-align: middle;\n",
              "    }\n",
              "\n",
              "    .dataframe tbody tr th {\n",
              "        vertical-align: top;\n",
              "    }\n",
              "\n",
              "    .dataframe thead th {\n",
              "        text-align: right;\n",
              "    }\n",
              "</style>\n",
              "<table border=\"1\" class=\"dataframe\">\n",
              "  <thead>\n",
              "    <tr style=\"text-align: right;\">\n",
              "      <th></th>\n",
              "      <th>Title_1</th>\n",
              "      <th>Title_2</th>\n",
              "      <th>Title_3</th>\n",
              "      <th>Title_4</th>\n",
              "      <th>Corpus</th>\n",
              "    </tr>\n",
              "  </thead>\n",
              "  <tbody>\n",
              "    <tr>\n",
              "      <th>0</th>\n",
              "      <td>Project scope management</td>\n",
              "      <td></td>\n",
              "      <td></td>\n",
              "      <td></td>\n",
              "      <td>Project Scope Management includes the process ...</td>\n",
              "    </tr>\n",
              "    <tr>\n",
              "      <th>1</th>\n",
              "      <td>Project scope management</td>\n",
              "      <td>Plan scope management</td>\n",
              "      <td></td>\n",
              "      <td></td>\n",
              "      <td>Plan Scope Management is the process of creati...</td>\n",
              "    </tr>\n",
              "    <tr>\n",
              "      <th>2</th>\n",
              "      <td>Project scope management</td>\n",
              "      <td>Plan scope management</td>\n",
              "      <td>Inputs</td>\n",
              "      <td>Project charter</td>\n",
              "      <td>Described in Section The project charter Docum...</td>\n",
              "    </tr>\n",
              "    <tr>\n",
              "      <th>3</th>\n",
              "      <td>Project scope management</td>\n",
              "      <td>Plan scope management</td>\n",
              "      <td>Inputs</td>\n",
              "      <td>Project management plan</td>\n",
              "      <td>Described in Section Project management plan c...</td>\n",
              "    </tr>\n",
              "    <tr>\n",
              "      <th>4</th>\n",
              "      <td>Project scope management</td>\n",
              "      <td>Plan scope management</td>\n",
              "      <td>Inputs</td>\n",
              "      <td>Enterprise environmental factors</td>\n",
              "      <td>The enterprise environmental factors that can ...</td>\n",
              "    </tr>\n",
              "  </tbody>\n",
              "</table>\n",
              "</div>"
            ],
            "text/plain": [
              "                    Title_1                Title_2 Title_3  \\\n",
              "0  Project scope management                                  \n",
              "1  Project scope management  Plan scope management           \n",
              "2  Project scope management  Plan scope management  Inputs   \n",
              "3  Project scope management  Plan scope management  Inputs   \n",
              "4  Project scope management  Plan scope management  Inputs   \n",
              "\n",
              "                            Title_4  \\\n",
              "0                                     \n",
              "1                                     \n",
              "2                   Project charter   \n",
              "3           Project management plan   \n",
              "4  Enterprise environmental factors   \n",
              "\n",
              "                                              Corpus  \n",
              "0  Project Scope Management includes the process ...  \n",
              "1  Plan Scope Management is the process of creati...  \n",
              "2  Described in Section The project charter Docum...  \n",
              "3  Described in Section Project management plan c...  \n",
              "4  The enterprise environmental factors that can ...  "
            ]
          },
          "execution_count": 2933,
          "metadata": {},
          "output_type": "execute_result"
        }
      ],
      "source": [
        "df.head()"
      ]
    },
    {
      "cell_type": "markdown",
      "id": "3194c5fc-18c1-4147-81a7-29964dafb7df",
      "metadata": {
        "id": "3194c5fc-18c1-4147-81a7-29964dafb7df"
      },
      "source": [
        "### Tokanization"
      ]
    },
    {
      "cell_type": "code",
      "execution_count": null,
      "id": "fcd30734-0258-456e-af8f-a92559cdc7ea",
      "metadata": {
        "id": "fcd30734-0258-456e-af8f-a92559cdc7ea"
      },
      "outputs": [],
      "source": [
        "##Initiate instances\n",
        "Title1_token = []\n",
        "Title2_token = []\n",
        "Title3_token = []\n",
        "Title4_token = []\n",
        "Corpus_token = []"
      ]
    },
    {
      "cell_type": "code",
      "execution_count": null,
      "id": "bbd5e9af-befb-4033-9782-980587624011",
      "metadata": {
        "id": "bbd5e9af-befb-4033-9782-980587624011"
      },
      "outputs": [],
      "source": [
        "# ##We start by tokanizing\n",
        "# nlp = spacy.load(\"en_core_web_sm\")"
      ]
    },
    {
      "cell_type": "code",
      "execution_count": null,
      "id": "16f07c86-5b6d-4e9b-be52-ed47eb9f5085",
      "metadata": {
        "id": "16f07c86-5b6d-4e9b-be52-ed47eb9f5085"
      },
      "outputs": [],
      "source": [
        "def tokenize(text):\n",
        "    tokens = word_tokenize(text)\n",
        "    return tokens"
      ]
    },
    {
      "cell_type": "code",
      "execution_count": null,
      "id": "473b0e5b-0e6b-446e-9a44-37be915c3489",
      "metadata": {
        "id": "473b0e5b-0e6b-446e-9a44-37be915c3489",
        "outputId": "a40bfa74-1671-4849-dfb7-9e37017585f8"
      },
      "outputs": [
        {
          "name": "stderr",
          "output_type": "stream",
          "text": [
            "100%|█████████████████████████████████████████████████████████████████████████████| 216/216 [00:00<00:00, 16108.70it/s]\n",
            "100%|█████████████████████████████████████████████████████████████████████████████| 216/216 [00:00<00:00, 15425.49it/s]\n",
            "100%|█████████████████████████████████████████████████████████████████████████████| 216/216 [00:00<00:00, 17661.60it/s]\n",
            "100%|█████████████████████████████████████████████████████████████████████████████| 216/216 [00:00<00:00, 14578.08it/s]\n",
            "100%|██████████████████████████████████████████████████████████████████████████████| 216/216 [00:00<00:00, 2488.93it/s]\n"
          ]
        }
      ],
      "source": [
        "##Tokenize title 1\n",
        "for text in tqdm(df[\"Title_1\"].values):\n",
        "    Title1_token.append(tokenize(text))\n",
        "\n",
        "##Tokenize title 2\n",
        "for text in tqdm(df[\"Title_2\"].values):\n",
        "    Title2_token.append(tokenize(text))\n",
        "    \n",
        "##tokenize title 3\n",
        "for text in tqdm(df[\"Title_3\"].values):\n",
        "    Title3_token.append(tokenize(text))\n",
        "    \n",
        "##Tokenize title 4\n",
        "for text in tqdm(df[\"Title_4\"].values):\n",
        "    Title4_token.append(tokenize(text))\n",
        "    \n",
        "##Tokenize corpus\n",
        "for text in tqdm(df[\"Corpus\"].values):\n",
        "    Corpus_token.append(tokenize(text))"
      ]
    },
    {
      "cell_type": "code",
      "execution_count": null,
      "id": "1567fd57-742a-4ae4-b897-82f95c2ac8d8",
      "metadata": {
        "id": "1567fd57-742a-4ae4-b897-82f95c2ac8d8"
      },
      "outputs": [],
      "source": [
        "##Covert to pands series\n",
        "Title1_token = pd.Series(Title1_token)\n",
        "Title2_token = pd.Series(Title2_token)\n",
        "Title3_token = pd.Series(Title3_token)\n",
        "Title4_token = pd.Series(Title4_token)"
      ]
    },
    {
      "cell_type": "markdown",
      "id": "5f743d6f-a635-4352-b51f-18eeee76e057",
      "metadata": {
        "id": "5f743d6f-a635-4352-b51f-18eeee76e057"
      },
      "source": [
        "### POS-Tagging"
      ]
    },
    {
      "cell_type": "code",
      "execution_count": null,
      "id": "c298f3eb-3e55-47d3-a49d-7c6a68a7d0e9",
      "metadata": {
        "id": "c298f3eb-3e55-47d3-a49d-7c6a68a7d0e9",
        "outputId": "1e9b23af-cf9f-4d0e-eb23-644270497e1d"
      },
      "outputs": [
        {
          "name": "stdout",
          "output_type": "stream",
          "text": [
            "$: dollar\n",
            "    $ -$ --$ A$ C$ HK$ M$ NZ$ S$ U.S.$ US$\n",
            "'': closing quotation mark\n",
            "    ' ''\n",
            "(: opening parenthesis\n",
            "    ( [ {\n",
            "): closing parenthesis\n",
            "    ) ] }\n",
            ",: comma\n",
            "    ,\n",
            "--: dash\n",
            "    --\n",
            ".: sentence terminator\n",
            "    . ! ?\n",
            ":: colon or ellipsis\n",
            "    : ; ...\n",
            "CC: conjunction, coordinating\n",
            "    & 'n and both but either et for less minus neither nor or plus so\n",
            "    therefore times v. versus vs. whether yet\n",
            "CD: numeral, cardinal\n",
            "    mid-1890 nine-thirty forty-two one-tenth ten million 0.5 one forty-\n",
            "    seven 1987 twenty '79 zero two 78-degrees eighty-four IX '60s .025\n",
            "    fifteen 271,124 dozen quintillion DM2,000 ...\n",
            "DT: determiner\n",
            "    all an another any both del each either every half la many much nary\n",
            "    neither no some such that the them these this those\n",
            "EX: existential there\n",
            "    there\n",
            "FW: foreign word\n",
            "    gemeinschaft hund ich jeux habeas Haementeria Herr K'ang-si vous\n",
            "    lutihaw alai je jour objets salutaris fille quibusdam pas trop Monte\n",
            "    terram fiche oui corporis ...\n",
            "IN: preposition or conjunction, subordinating\n",
            "    astride among uppon whether out inside pro despite on by throughout\n",
            "    below within for towards near behind atop around if like until below\n",
            "    next into if beside ...\n",
            "JJ: adjective or numeral, ordinal\n",
            "    third ill-mannered pre-war regrettable oiled calamitous first separable\n",
            "    ectoplasmic battery-powered participatory fourth still-to-be-named\n",
            "    multilingual multi-disciplinary ...\n",
            "JJR: adjective, comparative\n",
            "    bleaker braver breezier briefer brighter brisker broader bumper busier\n",
            "    calmer cheaper choosier cleaner clearer closer colder commoner costlier\n",
            "    cozier creamier crunchier cuter ...\n",
            "JJS: adjective, superlative\n",
            "    calmest cheapest choicest classiest cleanest clearest closest commonest\n",
            "    corniest costliest crassest creepiest crudest cutest darkest deadliest\n",
            "    dearest deepest densest dinkiest ...\n",
            "LS: list item marker\n",
            "    A A. B B. C C. D E F First G H I J K One SP-44001 SP-44002 SP-44005\n",
            "    SP-44007 Second Third Three Two * a b c d first five four one six three\n",
            "    two\n",
            "MD: modal auxiliary\n",
            "    can cannot could couldn't dare may might must need ought shall should\n",
            "    shouldn't will would\n",
            "NN: noun, common, singular or mass\n",
            "    common-carrier cabbage knuckle-duster Casino afghan shed thermostat\n",
            "    investment slide humour falloff slick wind hyena override subhumanity\n",
            "    machinist ...\n",
            "NNP: noun, proper, singular\n",
            "    Motown Venneboerger Czestochwa Ranzer Conchita Trumplane Christos\n",
            "    Oceanside Escobar Kreisler Sawyer Cougar Yvette Ervin ODI Darryl CTCA\n",
            "    Shannon A.K.C. Meltex Liverpool ...\n",
            "NNPS: noun, proper, plural\n",
            "    Americans Americas Amharas Amityvilles Amusements Anarcho-Syndicalists\n",
            "    Andalusians Andes Andruses Angels Animals Anthony Antilles Antiques\n",
            "    Apache Apaches Apocrypha ...\n",
            "NNS: noun, common, plural\n",
            "    undergraduates scotches bric-a-brac products bodyguards facets coasts\n",
            "    divestitures storehouses designs clubs fragrances averages\n",
            "    subjectivists apprehensions muses factory-jobs ...\n",
            "PDT: pre-determiner\n",
            "    all both half many quite such sure this\n",
            "POS: genitive marker\n",
            "    ' 's\n",
            "PRP: pronoun, personal\n",
            "    hers herself him himself hisself it itself me myself one oneself ours\n",
            "    ourselves ownself self she thee theirs them themselves they thou thy us\n",
            "PRP$: pronoun, possessive\n",
            "    her his mine my our ours their thy your\n",
            "RB: adverb\n",
            "    occasionally unabatingly maddeningly adventurously professedly\n",
            "    stirringly prominently technologically magisterially predominately\n",
            "    swiftly fiscally pitilessly ...\n",
            "RBR: adverb, comparative\n",
            "    further gloomier grander graver greater grimmer harder harsher\n",
            "    healthier heavier higher however larger later leaner lengthier less-\n",
            "    perfectly lesser lonelier longer louder lower more ...\n",
            "RBS: adverb, superlative\n",
            "    best biggest bluntest earliest farthest first furthest hardest\n",
            "    heartiest highest largest least less most nearest second tightest worst\n",
            "RP: particle\n",
            "    aboard about across along apart around aside at away back before behind\n",
            "    by crop down ever fast for forth from go high i.e. in into just later\n",
            "    low more off on open out over per pie raising start teeth that through\n",
            "    under unto up up-pp upon whole with you\n",
            "SYM: symbol\n",
            "    % & ' '' ''. ) ). * + ,. < = > @ A[fj] U.S U.S.S.R * ** ***\n",
            "TO: \"to\" as preposition or infinitive marker\n",
            "    to\n",
            "UH: interjection\n",
            "    Goodbye Goody Gosh Wow Jeepers Jee-sus Hubba Hey Kee-reist Oops amen\n",
            "    huh howdy uh dammit whammo shucks heck anyways whodunnit honey golly\n",
            "    man baby diddle hush sonuvabitch ...\n",
            "VB: verb, base form\n",
            "    ask assemble assess assign assume atone attention avoid bake balkanize\n",
            "    bank begin behold believe bend benefit bevel beware bless boil bomb\n",
            "    boost brace break bring broil brush build ...\n",
            "VBD: verb, past tense\n",
            "    dipped pleaded swiped regummed soaked tidied convened halted registered\n",
            "    cushioned exacted snubbed strode aimed adopted belied figgered\n",
            "    speculated wore appreciated contemplated ...\n",
            "VBG: verb, present participle or gerund\n",
            "    telegraphing stirring focusing angering judging stalling lactating\n",
            "    hankerin' alleging veering capping approaching traveling besieging\n",
            "    encrypting interrupting erasing wincing ...\n",
            "VBN: verb, past participle\n",
            "    multihulled dilapidated aerosolized chaired languished panelized used\n",
            "    experimented flourished imitated reunifed factored condensed sheared\n",
            "    unsettled primed dubbed desired ...\n",
            "VBP: verb, present tense, not 3rd person singular\n",
            "    predominate wrap resort sue twist spill cure lengthen brush terminate\n",
            "    appear tend stray glisten obtain comprise detest tease attract\n",
            "    emphasize mold postpone sever return wag ...\n",
            "VBZ: verb, present tense, 3rd person singular\n",
            "    bases reconstructs marks mixes displeases seals carps weaves snatches\n",
            "    slumps stretches authorizes smolders pictures emerges stockpiles\n",
            "    seduces fizzes uses bolsters slaps speaks pleads ...\n",
            "WDT: WH-determiner\n",
            "    that what whatever which whichever\n",
            "WP: WH-pronoun\n",
            "    that what whatever whatsoever which who whom whosoever\n",
            "WP$: WH-pronoun, possessive\n",
            "    whose\n",
            "WRB: Wh-adverb\n",
            "    how however whence whenever where whereby whereever wherein whereof why\n",
            "``: opening quotation mark\n",
            "    ` ``\n"
          ]
        }
      ],
      "source": [
        "nltk.help.upenn_tagset()"
      ]
    },
    {
      "cell_type": "code",
      "execution_count": null,
      "id": "6412c713-b23e-4959-9822-78e9a8e2ec24",
      "metadata": {
        "id": "6412c713-b23e-4959-9822-78e9a8e2ec24",
        "outputId": "8797bb65-da7b-481d-8e56-c816bd9d2cd2"
      },
      "outputs": [
        {
          "name": "stdout",
          "output_type": "stream",
          "text": [
            "[('Project', 'NNP'), ('scope', 'NN'), ('management', 'NN')]\n",
            "[('Project', 'NN'), ('schedule', 'NN'), ('management', 'NN')]\n",
            "[('Project', 'NN'), ('cost', 'NN'), ('management', 'NN')]\n"
          ]
        }
      ],
      "source": [
        "##POS Tags for titles\n",
        "curr_title = \"\"\n",
        "for title in Title1_token:\n",
        "    if title != curr_title:\n",
        "        # print(title)\n",
        "        print(nltk.pos_tag(title))\n",
        "        curr_title = title"
      ]
    },
    {
      "cell_type": "code",
      "execution_count": null,
      "id": "d4139197-d95e-4626-8d0a-53484d4580f9",
      "metadata": {
        "id": "d4139197-d95e-4626-8d0a-53484d4580f9",
        "outputId": "052874d8-2b4e-4f3a-bb5b-84d0ed81318e"
      },
      "outputs": [
        {
          "name": "stdout",
          "output_type": "stream",
          "text": [
            "[('Plan', 'NNP'), ('scope', 'VBP'), ('management', 'NN')]\n",
            "[('Collect', 'NN'), ('requirements', 'NNS')]\n",
            "[('Define', 'NNP'), ('scope', 'NN')]\n",
            "[('Create', 'NNP'), ('wbs', 'NN')]\n",
            "[('Validate', 'NNP'), ('scope', 'NN')]\n",
            "[('Control', 'NNP'), ('scope', 'NN')]\n",
            "[('Plan', 'NN'), ('schedule', 'NN'), ('management', 'NN')]\n",
            "[('Define', 'NNP'), ('activities', 'NNS')]\n",
            "[('Sequence', 'NN'), ('activities', 'NNS')]\n",
            "[('Estimate', 'NN'), ('activity', 'NN'), ('durations', 'NNS')]\n",
            "[('Develop', 'NNP'), ('schedule', 'NN')]\n",
            "[('Control', 'NNP'), ('schedule', 'NN')]\n",
            "[('Plan', 'NN'), ('cost', 'NN'), ('management', 'NN')]\n",
            "[('Estimate', 'NN'), ('costs', 'NNS')]\n",
            "[('Determine', 'NNP'), ('budget', 'NN')]\n",
            "[('Control', 'NN'), ('costs', 'NNS')]\n"
          ]
        }
      ],
      "source": [
        "curr_title = \"\"\n",
        "for title in Title2_token:\n",
        "   if title != curr_title:\n",
        "        # print(title)\n",
        "        if title != []:\n",
        "            print(nltk.pos_tag(title))\n",
        "            curr_title = title"
      ]
    },
    {
      "cell_type": "code",
      "execution_count": null,
      "id": "423a94c1-6c77-4b2f-aa0c-598d91aa4de9",
      "metadata": {
        "id": "423a94c1-6c77-4b2f-aa0c-598d91aa4de9",
        "outputId": "7e8426b9-2ae3-4648-e535-581af9629a11"
      },
      "outputs": [
        {
          "name": "stdout",
          "output_type": "stream",
          "text": [
            "[('Inputs', 'NNS')]\n",
            "[('Tools', 'NNS'), ('and', 'CC'), ('techniques', 'NNS')]\n",
            "[('Outputs', 'NNS')]\n",
            "[('Inputs', 'NNS')]\n",
            "[('Tools', 'NNS'), ('and', 'CC'), ('techniques', 'NNS')]\n",
            "[('Outputs', 'NNS')]\n",
            "[('Inputs', 'NNS')]\n",
            "[('Tools', 'NNS'), ('and', 'CC'), ('techniques', 'NNS')]\n",
            "[('Outputs', 'NNS')]\n",
            "[('Inputs', 'NNS')]\n",
            "[('Tools', 'NNS'), ('and', 'CC'), ('techniques', 'NNS')]\n",
            "[('Outputs', 'NNS')]\n",
            "[('Inputs', 'NNS')]\n",
            "[('Tools', 'NNS'), ('and', 'CC'), ('techniques', 'NNS')]\n",
            "[('Outputs', 'NNS')]\n",
            "[('Inputs', 'NNS')]\n",
            "[('Tools', 'NNS'), ('and', 'CC'), ('techniques', 'NNS')]\n",
            "[('Outputs', 'NNS')]\n",
            "[('Inputs', 'NNS')]\n",
            "[('Tools', 'NNS'), ('and', 'CC'), ('techniques', 'NNS')]\n",
            "[('Outputs', 'NNS')]\n",
            "[('Inputs', 'NNS')]\n",
            "[('Tools', 'NNS'), ('and', 'CC'), ('techniques', 'NNS')]\n",
            "[('Outputs', 'NNS')]\n",
            "[('Inputs', 'NNS')]\n",
            "[('Tools', 'NNS'), ('and', 'CC'), ('techniques', 'NNS')]\n",
            "[('Outputs', 'NNS')]\n",
            "[('Inputs', 'NNS')]\n",
            "[('Tools', 'NNS'), ('and', 'CC'), ('techniques', 'NNS')]\n",
            "[('Outputs', 'NNS')]\n",
            "[('Inputs', 'NNS')]\n",
            "[('Tools', 'NNS'), ('and', 'CC'), ('techniques', 'NNS')]\n",
            "[('Outputs', 'NNS')]\n",
            "[('Inputs', 'NNS')]\n",
            "[('Tools', 'NNS'), ('and', 'CC'), ('techniques', 'NNS')]\n",
            "[('Outputs', 'NNS')]\n",
            "[('Inputs', 'NNS')]\n",
            "[('Tools', 'NNS'), ('and', 'CC'), ('techniques', 'NNS')]\n",
            "[('Outputs', 'NNS')]\n",
            "[('Inputs', 'NNS')]\n",
            "[('Tools', 'NNS'), ('and', 'CC'), ('techniques', 'NNS')]\n",
            "[('Outputs', 'NNS')]\n",
            "[('Inputs', 'NNS')]\n",
            "[('Tools', 'NNS'), ('and', 'CC'), ('techniques', 'NNS')]\n",
            "[('Inputs', 'NNS')]\n",
            "[('Tools', 'NNS'), ('and', 'CC'), ('techniques', 'NNS')]\n",
            "[('Outputs', 'NNS')]\n"
          ]
        }
      ],
      "source": [
        "curr_title = \"\"\n",
        "for title in Title3_token:\n",
        "    if title != curr_title:\n",
        "        if title != []:\n",
        "            print(nltk.pos_tag(title))\n",
        "            curr_title = title"
      ]
    },
    {
      "cell_type": "code",
      "execution_count": null,
      "id": "5a2353c6-4342-4288-bd6f-a27bcefe02e1",
      "metadata": {
        "id": "5a2353c6-4342-4288-bd6f-a27bcefe02e1",
        "outputId": "d0062416-1816-4a0c-fd0e-a76884dccfb4"
      },
      "outputs": [
        {
          "name": "stdout",
          "output_type": "stream",
          "text": [
            "[('Project', 'NN'), ('charter', 'NN')]\n",
            "[('Project', 'NNP'), ('management', 'NN'), ('plan', 'NN')]\n",
            "[('Enterprise', 'NNP'), ('environmental', 'JJ'), ('factors', 'NNS')]\n",
            "[('Organizational', 'NNP'), ('process', 'NN'), ('assets', 'NNS')]\n",
            "[('Expert', 'NNP'), ('judgment', 'NN')]\n",
            "[('Data', 'NNS'), ('analysis', 'NN')]\n",
            "[('Meetings', 'NNS')]\n",
            "[('Scope', 'NNP'), ('management', 'NN'), ('plan', 'NN')]\n",
            "[('Requirements', 'NNS'), ('management', 'NN'), ('plan', 'NN')]\n",
            "[('Project', 'NN'), ('charter', 'NN')]\n",
            "[('Project', 'NNP'), ('management', 'NN'), ('plan', 'NN')]\n",
            "[('Project', 'NN'), ('documents', 'NNS')]\n",
            "[('Business', 'NN'), ('documents', 'NNS')]\n",
            "[('Agreements', 'NNS')]\n",
            "[('Enterprise', 'NNP'), ('environmental', 'JJ'), ('factors', 'NNS')]\n",
            "[('Organizational', 'NNP'), ('process', 'NN'), ('assets', 'NNS')]\n",
            "[('Expert', 'NNP'), ('judgment', 'NN')]\n",
            "[('Data', 'NNS'), ('gathering', 'NN')]\n",
            "[('Data', 'NNS'), ('analysis', 'NN')]\n",
            "[('Decision', 'NN'), ('making', 'NN')]\n",
            "[('Data', 'NNP'), ('representation', 'NN')]\n",
            "[('Interpersonal', 'NNP'), ('and', 'CC'), ('team', 'NN'), ('skills', 'NNS')]\n",
            "[('Context', 'NNP'), ('diagram', 'NN')]\n",
            "[('Prototypes', 'NNS')]\n",
            "[('Requirements', 'NNS'), ('documentation', 'NN')]\n",
            "[('Requirements', 'NNS'), ('traceability', 'NN'), ('matrix', 'NN')]\n",
            "[('Project', 'NN'), ('charter', 'NN')]\n",
            "[('Project', 'NNP'), ('management', 'NN'), ('plan', 'NN')]\n",
            "[('Project', 'NN'), ('documents', 'NNS')]\n",
            "[('Enterprise', 'NNP'), ('environmental', 'JJ'), ('factors', 'NNS')]\n",
            "[('Organizational', 'NNP'), ('process', 'NN'), ('assets', 'NNS')]\n",
            "[('Expert', 'NNP'), ('judgment', 'NN')]\n",
            "[('Data', 'NNS'), ('analysis', 'NN')]\n",
            "[('Decision', 'NN'), ('making', 'NN')]\n",
            "[('Interpersonal', 'NNP'), ('and', 'CC'), ('team', 'NN'), ('skills', 'NNS')]\n",
            "[('Product', 'NN'), ('analysis', 'NN')]\n",
            "[('Project', 'NNP'), ('scope', 'NN'), ('statement', 'NN')]\n",
            "[('Project', 'NN'), ('documents', 'NNS'), ('updates', 'NNS')]\n",
            "[('Project', 'NNP'), ('management', 'NN'), ('plan', 'NN')]\n",
            "[('Project', 'NN'), ('documents', 'NNS')]\n",
            "[('Enterprise', 'NNP'), ('environmental', 'JJ'), ('factors', 'NNS')]\n",
            "[('Organizational', 'NNP'), ('process', 'NN'), ('assets', 'NNS')]\n",
            "[('Expert', 'NNP'), ('judgment', 'NN')]\n",
            "[('Decomposition', 'NN')]\n",
            "[('Scope', 'NNP'), ('baseline', 'NN')]\n",
            "[('Project', 'NN'), ('documents', 'NNS'), ('updates', 'NNS')]\n",
            "[('Project', 'NNP'), ('management', 'NN'), ('plan', 'NN')]\n",
            "[('Project', 'NN'), ('documents', 'NNS')]\n",
            "[('Verified', 'VBN'), ('deliverables', 'NNS')]\n",
            "[('Work', 'NN'), ('performance', 'NN'), ('data', 'NNS')]\n",
            "[('Inspection', 'NN')]\n",
            "[('Decision', 'NN'), ('making', 'NN')]\n",
            "[('Accepted', 'JJ'), ('deliverables', 'NNS')]\n",
            "[('Work', 'NNP'), ('performance', 'NN'), ('information', 'NN')]\n",
            "[('Change', 'NN'), ('requests', 'NNS')]\n",
            "[('Project', 'NN'), ('documents', 'NNS'), ('updates', 'NNS')]\n",
            "[('Project', 'NNP'), ('management', 'NN'), ('plan', 'NN')]\n",
            "[('Project', 'NN'), ('documents', 'NNS')]\n",
            "[('Work', 'NN'), ('performance', 'NN'), ('data', 'NNS')]\n",
            "[('Organizational', 'NNP'), ('process', 'NN'), ('assets', 'NNS')]\n",
            "[('Data', 'NNS'), ('analysis', 'NN')]\n",
            "[('Work', 'NNP'), ('performance', 'NN'), ('information', 'NN')]\n",
            "[('Change', 'NN'), ('requests', 'NNS')]\n",
            "[('Project', 'NNP'), ('management', 'NN'), ('plan', 'NN'), ('updates', 'VBZ')]\n",
            "[('Project', 'NN'), ('documents', 'NNS'), ('updates', 'NNS')]\n",
            "[('Project', 'NN'), ('charter', 'NN')]\n",
            "[('Project', 'NNP'), ('management', 'NN'), ('plan', 'NN')]\n",
            "[('Enterprise', 'NNP'), ('environmental', 'JJ'), ('factors', 'NNS')]\n",
            "[('Organizational', 'NNP'), ('process', 'NN'), ('assets', 'NNS')]\n",
            "[('Expert', 'NNP'), ('judgment', 'NN')]\n",
            "[('Data', 'NNS'), ('analysis', 'NN')]\n",
            "[('Meetings', 'NNS')]\n",
            "[('Schedule', 'NNP'), ('management', 'NN'), ('plan', 'NN')]\n",
            "[('Project', 'NNP'), ('management', 'NN'), ('plan', 'NN')]\n",
            "[('Enterprise', 'NNP'), ('environmental', 'JJ'), ('factors', 'NNS')]\n",
            "[('Organizational', 'NNP'), ('process', 'NN'), ('assets', 'NNS')]\n",
            "[('Expert', 'NNP'), ('judgment', 'NN')]\n",
            "[('Decomposition', 'NN')]\n",
            "[('Rolling', 'VBG'), ('wave', 'NN'), ('planning', 'NN')]\n",
            "[('Meetings', 'NNS')]\n",
            "[('Activity', 'NN'), ('list', 'NN')]\n",
            "[('Activity', 'NN'), ('attributes', 'NNS')]\n",
            "[('Milestone', 'CD'), ('list', 'NN')]\n",
            "[('Change', 'NN'), ('requests', 'NNS')]\n",
            "[('Project', 'NNP'), ('management', 'NN'), ('plan', 'NN'), ('updates', 'VBZ')]\n",
            "[('Project', 'NNP'), ('management', 'NN'), ('plan', 'NN')]\n",
            "[('Project', 'NN'), ('documents', 'NNS')]\n",
            "[('Enterprise', 'NNP'), ('environmental', 'JJ'), ('factors', 'NNS')]\n",
            "[('Organizational', 'NNP'), ('process', 'NN'), ('assets', 'NNS')]\n",
            "[('Precedence', 'NN'), ('diagramming', 'VBG'), ('method', 'NN')]\n",
            "[('Dependency', 'NNP'), ('determination', 'NN'), ('and', 'CC'), ('integration', 'NN')]\n",
            "[('Leads', 'NNS'), ('and', 'CC'), ('lags', 'NNS')]\n",
            "[('Project', 'NNP'), ('management', 'NN'), ('information', 'NN'), ('system', 'NN'), ('pmis', 'NN')]\n",
            "[('Project', 'NN'), ('schedule', 'NN'), ('network', 'NN'), ('diagrams', 'NNS')]\n",
            "[('Project', 'NN'), ('documents', 'NNS'), ('updates', 'NNS')]\n",
            "[('Project', 'NNP'), ('management', 'NN'), ('plan', 'NN')]\n",
            "[('Project', 'NN'), ('documents', 'NNS')]\n",
            "[('Enterprise', 'NNP'), ('environmental', 'JJ'), ('factors', 'NNS')]\n",
            "[('Organizational', 'NNP'), ('process', 'NN'), ('assets', 'NNS')]\n",
            "[('Expert', 'NNP'), ('judgment', 'NN')]\n",
            "[('Analogous', 'JJ'), ('estimating', 'VBG')]\n",
            "[('Parametric', 'NNP'), ('estimating', 'VBG')]\n",
            "[('Three', 'CD'), ('point', 'NN'), ('estimating', 'VBG')]\n",
            "[('Bottom', 'NNP'), ('up', 'RP'), ('estimating', 'VBG')]\n",
            "[('Data', 'NNS'), ('analysis', 'NN')]\n",
            "[('Decision', 'NN'), ('making', 'NN')]\n",
            "[('Meetings', 'NNS')]\n",
            "[('Duration', 'NN'), ('estimates', 'NNS')]\n",
            "[('Basis', 'NN'), ('of', 'IN'), ('estimates', 'NNS')]\n",
            "[('Project', 'NN'), ('documents', 'NNS'), ('updates', 'NNS')]\n",
            "[('Project', 'NNP'), ('management', 'NN'), ('plan', 'NN')]\n",
            "[('Project', 'NN'), ('documents', 'NNS')]\n",
            "[('Agreements', 'NNS')]\n",
            "[('Enterprise', 'NNP'), ('environmental', 'JJ'), ('factors', 'NNS')]\n",
            "[('Organizational', 'NNP'), ('process', 'NN'), ('assets', 'NNS')]\n",
            "[('Schedule', 'NNP'), ('network', 'NN'), ('analysis', 'NN')]\n",
            "[('Critical', 'JJ'), ('path', 'NN'), ('method', 'NN')]\n",
            "[('Resource', 'NNP'), ('optimization', 'NN')]\n",
            "[('Data', 'NNS'), ('analysis', 'NN')]\n",
            "[('Leads', 'NNS'), ('and', 'CC'), ('lags', 'NNS')]\n",
            "[('Schedule', 'NN'), ('compression', 'NN')]\n",
            "[('Project', 'NNP'), ('management', 'NN'), ('information', 'NN'), ('system', 'NN'), ('pmis', 'NN')]\n",
            "[('Agile', 'NNP'), ('release', 'NN'), ('planning', 'NN')]\n",
            "[('Schedule', 'NNP'), ('baseline', 'NN')]\n",
            "[('Project', 'NN'), ('schedule', 'NN')]\n",
            "[('Schedule', 'NNP'), ('data', 'NNS')]\n",
            "[('Project', 'NN'), ('calendars', 'NNS')]\n",
            "[('Change', 'NN'), ('requests', 'NNS')]\n",
            "[('Project', 'NNP'), ('management', 'NN'), ('plan', 'NN'), ('updates', 'VBZ')]\n",
            "[('Project', 'NN'), ('documents', 'NNS'), ('updates', 'NNS')]\n",
            "[('Project', 'NNP'), ('management', 'NN'), ('plan', 'NN')]\n",
            "[('Project', 'NN'), ('documents', 'NNS')]\n",
            "[('Work', 'NN'), ('performance', 'NN'), ('data', 'NNS')]\n",
            "[('Organizational', 'NNP'), ('process', 'NN'), ('assets', 'NNS')]\n",
            "[('Data', 'NNS'), ('analysis', 'NN')]\n",
            "[('Critical', 'JJ'), ('path', 'NN'), ('method', 'NN')]\n",
            "[('Project', 'NNP'), ('management', 'NN'), ('information', 'NN'), ('system', 'NN'), ('pmis', 'NN')]\n",
            "[('Resource', 'NNP'), ('optimization', 'NN')]\n",
            "[('Leads', 'NNS'), ('and', 'CC'), ('lags', 'NNS')]\n",
            "[('Schedule', 'NN'), ('compression', 'NN')]\n",
            "[('Work', 'NNP'), ('performance', 'NN'), ('information', 'NN')]\n",
            "[('Schedule', 'NN'), ('forecasts', 'NNS')]\n",
            "[('Change', 'NN'), ('requests', 'NNS')]\n",
            "[('Project', 'NNP'), ('management', 'NN'), ('plan', 'NN'), ('updates', 'VBZ')]\n",
            "[('Project', 'NN'), ('documents', 'NNS'), ('updates', 'NNS')]\n",
            "[('Project', 'NN'), ('charter', 'NN')]\n",
            "[('Project', 'NNP'), ('management', 'NN'), ('plan', 'NN')]\n",
            "[('Enterprise', 'NNP'), ('environmental', 'JJ'), ('factors', 'NNS')]\n",
            "[('Organizational', 'NNP'), ('process', 'NN'), ('assets', 'NNS')]\n",
            "[('Expert', 'NNP'), ('judgment', 'NN')]\n",
            "[('Data', 'NNS'), ('analysis', 'NN')]\n",
            "[('Meetings', 'NNS')]\n",
            "[('Cost', 'NN'), ('management', 'NN'), ('plan', 'NN')]\n",
            "[('Project', 'NNP'), ('management', 'NN'), ('plan', 'NN')]\n",
            "[('Project', 'NN'), ('documents', 'NNS')]\n",
            "[('Enterprise', 'NNP'), ('environmental', 'JJ'), ('factors', 'NNS')]\n",
            "[('Organizational', 'NNP'), ('process', 'NN'), ('assets', 'NNS')]\n",
            "[('Expert', 'NNP'), ('judgment', 'NN')]\n",
            "[('Analogous', 'JJ'), ('estimating', 'VBG')]\n",
            "[('Parametric', 'NNP'), ('estimating', 'VBG')]\n",
            "[('Bottom', 'NNP'), ('up', 'RP'), ('estimating', 'VBG')]\n",
            "[('Three', 'CD'), ('point', 'NN'), ('estimating', 'VBG')]\n",
            "[('Data', 'NNS'), ('analysis', 'NN')]\n",
            "[('Project', 'NNP'), ('management', 'NN'), ('information', 'NN'), ('system', 'NN'), ('pmis', 'NN')]\n",
            "[('Decision', 'NN'), ('making', 'NN')]\n",
            "[('Cost', 'NN'), ('estimates', 'NNS')]\n",
            "[('Basis', 'NN'), ('of', 'IN'), ('estimates', 'NNS')]\n",
            "[('Project', 'NN'), ('documents', 'NNS'), ('updates', 'NNS')]\n",
            "[('Project', 'NNP'), ('management', 'NN'), ('plan', 'NN')]\n",
            "[('Project', 'NN'), ('documents', 'NNS')]\n",
            "[('Business', 'NN'), ('documents', 'NNS')]\n",
            "[('Agreements', 'NNS')]\n",
            "[('Enterprise', 'NNP'), ('environmental', 'JJ'), ('factors', 'NNS')]\n",
            "[('Organizational', 'NNP'), ('process', 'NN'), ('assets', 'NNS')]\n",
            "[('Expert', 'NNP'), ('judgment', 'NN')]\n",
            "[('Cost', 'NN'), ('aggregation', 'NN')]\n",
            "[('Data', 'NNS'), ('analysis', 'NN')]\n",
            "[('Historical', 'JJ'), ('information', 'NN'), ('review', 'NN')]\n",
            "[('Funding', 'VBG'), ('limit', 'NN'), ('reconciliation', 'NN')]\n",
            "[('Financing', 'NN')]\n",
            "[('Cost', 'NN'), ('baseline', 'NN')]\n",
            "[('Project', 'NN'), ('funding', 'NN'), ('requirements', 'NNS')]\n",
            "[('Project', 'NN'), ('documents', 'NNS'), ('updates', 'NNS')]\n",
            "[('Project', 'NNP'), ('management', 'NN'), ('plan', 'NN')]\n",
            "[('Project', 'NN'), ('documents', 'NNS')]\n",
            "[('Project', 'NN'), ('funding', 'NN'), ('requirements', 'NNS')]\n",
            "[('Work', 'NN'), ('performance', 'NN'), ('data', 'NNS')]\n",
            "[('Organizational', 'NNP'), ('process', 'NN'), ('assets', 'NNS')]\n",
            "[('Expert', 'NNP'), ('judgment', 'NN')]\n",
            "[('Data', 'NNS'), ('analysis', 'NN')]\n",
            "[('To', 'TO'), ('complete', 'VB'), ('performance', 'NN'), ('index', 'NN')]\n",
            "[('Project', 'NNP'), ('management', 'NN'), ('information', 'NN'), ('system', 'NN'), ('pmis', 'NN')]\n",
            "[('Work', 'NNP'), ('performance', 'NN'), ('information', 'NN')]\n",
            "[('Cost', 'NN'), ('forecasts', 'NNS')]\n",
            "[('Change', 'NN'), ('requests', 'NNS')]\n",
            "[('Project', 'NNP'), ('management', 'NN'), ('plan', 'NN'), ('updates', 'VBZ')]\n",
            "[('Project', 'NN'), ('documents', 'NNS'), ('updates', 'NNS')]\n"
          ]
        }
      ],
      "source": [
        "curr_title = \"\"\n",
        "for title in Title4_token:\n",
        "    if title != curr_title:\n",
        "        if title != []:\n",
        "            print(nltk.pos_tag(title))\n",
        "            curr_title = title"
      ]
    },
    {
      "cell_type": "markdown",
      "id": "c2762c5f-f349-43af-858e-e4be4f9bed58",
      "metadata": {
        "id": "c2762c5f-f349-43af-858e-e4be4f9bed58"
      },
      "source": [
        "### Similarity"
      ]
    },
    {
      "cell_type": "code",
      "execution_count": null,
      "id": "640a6b83-d0b4-43c6-ae6e-e1607859d3fb",
      "metadata": {
        "id": "640a6b83-d0b4-43c6-ae6e-e1607859d3fb",
        "outputId": "d997f4b6-76ef-49b5-88d8-7fd0398591d4"
      },
      "outputs": [
        {
          "name": "stderr",
          "output_type": "stream",
          "text": [
            "100%|███████████████████████████████████████████████████████████████████████████████| 216/216 [00:01<00:00, 167.39it/s]\n"
          ]
        }
      ],
      "source": [
        "df_posTag = {}\n",
        "for text in tqdm(Corpus_token):\n",
        "    for tup in  nltk.pos_tag(text):\n",
        "        if tup[1] not in df_posTag.keys():\n",
        "            df_posTag[tup[1]] = []\n",
        "        df_posTag[tup[1]].append(tup[0])"
      ]
    },
    {
      "cell_type": "code",
      "execution_count": null,
      "id": "26d18018-fb64-4bfb-99a5-5fc33f8d897e",
      "metadata": {
        "id": "26d18018-fb64-4bfb-99a5-5fc33f8d897e",
        "outputId": "6e54ab57-50d7-4b1b-e4f3-a118132c01c4"
      },
      "outputs": [
        {
          "name": "stderr",
          "output_type": "stream",
          "text": [
            "100%|████████████████████████████████████████████████████████████████████████████████| 32/32 [00:00<00:00, 8105.42it/s]\n"
          ]
        }
      ],
      "source": [
        "##Drop duplicates\n",
        "for key in tqdm(df_posTag.keys()):\n",
        "    if key == \"VB\" or key == \"NNS\":\n",
        "        mylist = df_posTag[key]\n",
        "        mylist = [word.lower() for word in mylist]\n",
        "        df_posTag[key] = list(dict.fromkeys(mylist))\n",
        "    else:\n",
        "        mylist = df_posTag[key]\n",
        "        df_posTag[key] = list(dict.fromkeys(mylist))"
      ]
    },
    {
      "cell_type": "code",
      "execution_count": null,
      "id": "da3f9d3d-30c2-4838-b543-0739d750f320",
      "metadata": {
        "id": "da3f9d3d-30c2-4838-b543-0739d750f320",
        "outputId": "97408a0d-b350-4bbf-8e94-0e985792df3d"
      },
      "outputs": [
        {
          "data": {
            "image/png": "[encoded data removed]",
            "text/plain": [
              "<Figure size 1440x480 with 1 Axes>"
            ]
          },
          "metadata": {
            "needs_background": "light"
          },
          "output_type": "display_data"
        }
      ],
      "source": [
        "##Most Common tag\n",
        "figure(figsize=(18,6), dpi=80)\n",
        "plt.grid()\n",
        "plt.bar(list(df_posTag.keys()), [len(df_posTag[key]) for key in df_posTag.keys()])\n",
        "plt.xlabel(\"Tag\")\n",
        "plt.ylabel(\"Count\")\n",
        "plt.title(\"Most common tags\")\n",
        "plt.show()"
      ]
    },
    {
      "cell_type": "code",
      "execution_count": null,
      "id": "827f44a0-abe1-439e-8990-16ac987235d1",
      "metadata": {
        "id": "827f44a0-abe1-439e-8990-16ac987235d1",
        "outputId": "37ac7269-9bdc-4347-ace8-b52d1cf207a7"
      },
      "outputs": [
        {
          "name": "stdout",
          "output_type": "stream",
          "text": [
            "__testing_word2vec-matrix-synopsis (-1 records): [THIS IS ONLY FOR TESTING] Word vecrors of the mov...\n",
            "conceptnet-numberbatch-17-06-300 (1917247 records): ConceptNet Numberbatch consists of state-of-the-ar...\n",
            "fasttext-wiki-news-subwords-300 (999999 records): 1 million word vectors trained on Wikipedia 2017, ...\n",
            "glove-twitter-100 (1193514 records): Pre-trained vectors based on  2B tweets, 27B token...\n",
            "glove-twitter-200 (1193514 records): Pre-trained vectors based on 2B tweets, 27B tokens...\n",
            "glove-twitter-25 (1193514 records): Pre-trained vectors based on 2B tweets, 27B tokens...\n",
            "glove-twitter-50 (1193514 records): Pre-trained vectors based on 2B tweets, 27B tokens...\n",
            "glove-wiki-gigaword-100 (400000 records): Pre-trained vectors based on Wikipedia 2014 + Giga...\n",
            "glove-wiki-gigaword-200 (400000 records): Pre-trained vectors based on Wikipedia 2014 + Giga...\n",
            "glove-wiki-gigaword-300 (400000 records): Pre-trained vectors based on Wikipedia 2014 + Giga...\n",
            "glove-wiki-gigaword-50 (400000 records): Pre-trained vectors based on Wikipedia 2014 + Giga...\n",
            "word2vec-google-news-300 (3000000 records): Pre-trained vectors trained on a part of the Googl...\n",
            "word2vec-ruscorpora-300 (184973 records): Word2vec Continuous Skipgram vectors trained on fu...\n"
          ]
        }
      ],
      "source": [
        "#Embeddings\n",
        "info = api.info()\n",
        "for model_name, model_data in sorted(info['models'].items()):\n",
        "    print(\n",
        "        \"%s (%d records): %s\"%(\n",
        "            model_name,\n",
        "            model_data.get('num_records', -1),\n",
        "            model_data['description'][:50] + '...'\n",
        "        )\n",
        "    )"
      ]
    },
    {
      "cell_type": "code",
      "execution_count": null,
      "id": "463bbbd0-0d37-4625-844b-57eef7901fc6",
      "metadata": {
        "id": "463bbbd0-0d37-4625-844b-57eef7901fc6"
      },
      "outputs": [],
      "source": [
        "wv = api.load(\"word2vec-google-news-300\")\n",
        "glove = api.load(\"glove-wiki-gigaword-50\")"
      ]
    },
    {
      "cell_type": "code",
      "execution_count": null,
      "id": "70ba9842-a9d3-468b-a443-6f5b61853b88",
      "metadata": {
        "id": "70ba9842-a9d3-468b-a443-6f5b61853b88",
        "outputId": "f558c0d2-6b12-47ac-ce07-7ffaa2973d4b"
      },
      "outputs": [
        {
          "name": "stderr",
          "output_type": "stream",
          "text": [
            "100%|███████████████████████████████████████████████████████████████████████████████| 434/434 [00:02<00:00, 172.30it/s]\n",
            "100%|███████████████████████████████████████████████████████████████████████████████| 138/138 [00:00<00:00, 550.14it/s]\n",
            "100%|███████████████████████████████████████████████████████████████████████████████| 659/659 [00:05<00:00, 112.37it/s]\n",
            "100%|███████████████████████████████████████████████████████████████████████████████| 230/230 [00:00<00:00, 317.77it/s]\n",
            "100%|███████████████████████████████████████████████████████████████████████████████| 217/217 [00:00<00:00, 403.24it/s]\n",
            "100%|████████████████████████████████████████████████████████████████████████████████████████████| 1/1 [00:00<?, ?it/s]\n",
            "100%|███████████████████████████████████████████████████████████████████████████████| 193/193 [00:00<00:00, 393.41it/s]\n",
            "100%|██████████████████████████████████████████████████████████████████████████████████| 5/5 [00:00<00:00, 2488.91it/s]\n",
            "100%|█████████████████████████████████████████████████████████████████████████████████| 94/94 [00:00<00:00, 806.01it/s]\n",
            "100%|██████████████████████████████████████████████████████████████████████████████████| 4/4 [00:00<00:00, 3998.38it/s]\n",
            "100%|██████████████████████████████████████████████████████████████████████████████████| 5/5 [00:00<00:00, 2498.39it/s]\n",
            "100%|██████████████████████████████████████████████████████████████████████████████████| 8/8 [00:00<00:00, 4016.57it/s]\n",
            "100%|███████████████████████████████████████████████████████████████████████████████| 446/446 [00:02<00:00, 166.41it/s]\n",
            "100%|█████████████████████████████████████████████████████████████████████████████████| 89/89 [00:00<00:00, 851.88it/s]\n",
            "100%|████████████████████████████████████████████████████████████████████████████████| 15/15 [00:00<00:00, 3750.27it/s]\n",
            "100%|███████████████████████████████████████████████████████████████████████████████| 314/314 [00:01<00:00, 241.06it/s]\n",
            "100%|████████████████████████████████████████████████████████████████████████████████| 11/11 [00:00<00:00, 3014.53it/s]\n",
            "100%|██████████████████████████████████████████████████████████████████████████████████| 9/9 [00:00<00:00, 4503.55it/s]\n",
            "100%|████████████████████████████████████████████████████████████████████████████████| 12/12 [00:00<00:00, 3997.75it/s]\n",
            "100%|████████████████████████████████████████████████████████████████████████████████████████████| 2/2 [00:00<?, ?it/s]\n",
            "100%|████████████████████████████████████████████████████████████████████████████████| 10/10 [00:00<00:00, 4996.79it/s]\n",
            "100%|████████████████████████████████████████████████████████████████████████████████████████████| 2/2 [00:00<?, ?it/s]\n",
            "100%|████████████████████████████████████████████████████████████████████████████████| 10/10 [00:00<00:00, 2584.77it/s]\n",
            "100%|████████████████████████████████████████████████████████████████████████████████████████████| 3/3 [00:00<?, ?it/s]\n",
            "100%|████████████████████████████████████████████████████████████████████████████████████████████| 1/1 [00:00<?, ?it/s]\n"
          ]
        }
      ],
      "source": [
        "mtx_tags = {}\n",
        "for key in df_posTag.keys():\n",
        "    if key != \"DT\" and key != \"TO\" and (key not in [\"VB\"]) and key != \"IN\" and key != \"CC\" and (key not in [\"RB\", \"RBR\", \"RBS\"]):\n",
        "        sim_mtx = []\n",
        "        for i in tqdm(range(len(df_posTag[key]))):\n",
        "            line = []\n",
        "            for j in range(len(df_posTag[key])):\n",
        "                line.append(wv.similarity(df_posTag[key][i], df_posTag[key][j]))\n",
        "            sim_mtx.append(line)\n",
        "        sim_mtx = np.array(sim_mtx)\n",
        "        mtx_tags[key]=sim_mtx\n",
        "    elif key == \"VB\":\n",
        "        sim_mtx = []\n",
        "        for i in tqdm(range(len(df_posTag[key]))):\n",
        "            line = []\n",
        "            for j in range(len(df_posTag[key])):\n",
        "                line.append(glove.similarity(df_posTag[key][i], df_posTag[key][j]))\n",
        "            sim_mtx.append(line)\n",
        "        sim_mtx = np.array(sim_mtx)\n",
        "        mtx_tags[key]=sim_mtx"
      ]
    },
    {
      "cell_type": "code",
      "execution_count": null,
      "id": "d9a3294c-92bf-4545-8d71-422fee7b1041",
      "metadata": {
        "id": "d9a3294c-92bf-4545-8d71-422fee7b1041"
      },
      "outputs": [],
      "source": [
        "# df.to_json(\"Data/Clean_Database.json\")"
      ]
    },
    {
      "cell_type": "code",
      "execution_count": null,
      "id": "f1347a75-caaf-4beb-add5-a0ace178b0c6",
      "metadata": {
        "id": "f1347a75-caaf-4beb-add5-a0ace178b0c6"
      },
      "outputs": [],
      "source": [
        "##Heatmap for synonyms\n",
        "# pd.set_option('display.max_rows', None)\n",
        "# pd.set_option('display.max_columns', None)\n",
        "dfs_sim = {}\n",
        "for key in mtx_tags.keys():\n",
        "    dfs_sim[key] = pd.DataFrame(mtx_tags[key], index=df_posTag[key], columns=df_posTag[key])"
      ]
    },
    {
      "cell_type": "code",
      "execution_count": null,
      "id": "d1976874-3d0a-446f-9c61-3127c4bd3f1e",
      "metadata": {
        "id": "d1976874-3d0a-446f-9c61-3127c4bd3f1e",
        "outputId": "aaf166b6-3a70-43dd-9658-ed6da2499903"
      },
      "outputs": [
        {
          "data": {
            "text/plain": [
              "dict_keys(['NNP', 'VBZ', 'NN', 'VBN', 'VB', 'PDT', 'VBG', 'WP', 'VBP', 'WDT', 'WRB', 'MD', 'JJ', 'VBD', 'NNPS', 'NNS', 'JJR', 'PRP', 'JJS', 'PRP$', 'CD', 'EX', 'RP', 'FW', 'POS'])"
            ]
          },
          "execution_count": 2965,
          "metadata": {},
          "output_type": "execute_result"
        }
      ],
      "source": [
        "dfs_sim.keys()"
      ]
    }
  ],
  "metadata": {
    "kernelspec": {
      "display_name": "Python 3 (ipykernel)",
      "language": "python",
      "name": "python3"
    },
    "language_info": {
      "codemirror_mode": {
        "name": "ipython",
        "version": 3
      },
      "file_extension": ".py",
      "mimetype": "text/x-python",
      "name": "python",
      "nbconvert_exporter": "python",
      "pygments_lexer": "ipython3",
      "version": "3.9.7"
    },
    "vscode": {
      "interpreter": {
        "hash": "dcb18a8e18d21f5be2e7df580463c35d0ec1a140ef76cd95c9d7f67667023d9d"
      }
    },
    "colab": {
      "provenance": []
    }
  },
  "nbformat": 4,
  "nbformat_minor": 5
}